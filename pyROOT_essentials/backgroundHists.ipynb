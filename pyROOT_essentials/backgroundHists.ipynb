{
 "cells": [
  {
   "cell_type": "markdown",
   "metadata": {},
   "source": [
    "Now that we have our hatsTrees that have the interesting physical variables calculated, let's do some analysis with them. To combine our MC background samples, we will need to compute weights for them. Fortunately, we have these defined in python `.ini` files.\n",
    "\n",
    "`.ini` files are a standard format for python configuration files. They have a simple syntax and are quite flexible -- this is another example of where python can help us from falling in the trap of re-inventing the wheel by writing custom code for every simple task, like parsing text files.\n",
    "\n",
    "Let's take a look at `hatsConfig.ini`."
   ]
  },
  {
   "cell_type": "code",
   "execution_count": 1,
   "metadata": {
    "collapsed": false
   },
   "outputs": [
    {
     "name": "stdout",
     "output_type": "stream",
     "text": [
      "[hatsXsects]       #      (pb)\r\n",
      "QCD_HT300to500     :   347700.00     \r\n",
      "QCD_HT500to700     :    32100.00      \r\n",
      "QCD_HT700to1000    :     6831.00       \r\n",
      "QCD_HT1000to1500   :     1207.00       \r\n",
      "QCD_HT1500to2000   :      119.90      \r\n",
      "QCD_HT2000toInf    :       25.24      \r\n",
      "\r\n",
      "[hatsNprocessed]   #  (# processed)\r\n",
      "QCD_HT300to500     :     4920846\r\n",
      "QCD_HT500to700     :     3845821\r\n",
      "QCD_HT700to1000    :     1959216\r\n",
      "QCD_HT1000to1500   :    16813667\r\n",
      "QCD_HT1500to2000   :    19186048\r\n",
      "QCD_HT2000toInf    :    15486719\r\n"
     ]
    }
   ],
   "source": [
    "!cat hatsConfig.ini"
   ]
  },
  {
   "cell_type": "code",
   "execution_count": 2,
   "metadata": {
    "collapsed": false
   },
   "outputs": [
    {
     "data": {
      "text/plain": [
       "['hatsConfig.ini']"
      ]
     },
     "execution_count": 2,
     "metadata": {},
     "output_type": "execute_result"
    }
   ],
   "source": [
    "from ConfigParser import RawConfigParser\n",
    "config = RawConfigParser()   \n",
    "config.optionxform = str       # Last two lines are done because ConfigParser will not preserve case\n",
    "config.read(\"hatsConfig.ini\")"
   ]
  },
  {
   "cell_type": "markdown",
   "metadata": {},
   "source": [
    "Here is a nifty way to create a dict of the cross sections and number of events:"
   ]
  },
  {
   "cell_type": "code",
   "execution_count": 3,
   "metadata": {
    "collapsed": false,
    "scrolled": true
   },
   "outputs": [
    {
     "name": "stdout",
     "output_type": "stream",
     "text": [
      "cross sections:\n",
      "{'QCD_HT1000to1500': 1207.0,\n",
      " 'QCD_HT1500to2000': 119.9,\n",
      " 'QCD_HT2000toInf': 25.24,\n",
      " 'QCD_HT300to500': 347700.0,\n",
      " 'QCD_HT500to700': 32100.0,\n",
      " 'QCD_HT700to1000': 6831.0}\n",
      "number of events processed:\n",
      "{'QCD_HT1000to1500': 16813667,\n",
      " 'QCD_HT1500to2000': 19186048,\n",
      " 'QCD_HT2000toInf': 15486719,\n",
      " 'QCD_HT300to500': 4920846,\n",
      " 'QCD_HT500to700': 3845821,\n",
      " 'QCD_HT700to1000': 1959216}\n"
     ]
    }
   ],
   "source": [
    "crossSections = dict([sample, float(xsec)] for sample, xsec in config.items('hatsXsects'))\n",
    "nProcessed    = dict([sample, int(nPro)] for sample, nPro in config.items('hatsNprocessed'))\n",
    "\n",
    "from pprint import pprint\n",
    "print \"cross sections:\" \n",
    "pprint(crossSections)\n",
    "print \"number of events processed:\"\n",
    "pprint(nProcessed)"
   ]
  },
  {
   "cell_type": "markdown",
   "metadata": {},
   "source": [
    "python `dict`s are extremely useful, because we can give descriptive names to the data they hold. Let's use our dicts to calculate the weights for our MC background samples."
   ]
  },
  {
   "cell_type": "code",
   "execution_count": 4,
   "metadata": {
    "collapsed": false
   },
   "outputs": [
    {
     "name": "stdout",
     "output_type": "stream",
     "text": [
      "{'QCD_HT1000to1500': 0.00010193731087929836,\n",
      " 'QCD_HT1500to2000': 8.874052644921978e-06,\n",
      " 'QCD_HT2000toInf': 2.314292652949924e-06,\n",
      " 'QCD_HT300to500': 0.1003351862667517,\n",
      " 'QCD_HT500to700': 0.011852345701997051,\n",
      " 'QCD_HT700to1000': 0.004950970183991963}\n"
     ]
    }
   ],
   "source": [
    "weights = {}\n",
    "luminosity = 1.42    # This is just an example value\n",
    "for sample in crossSections.keys():\n",
    "    weights[sample] = luminosity * crossSections[sample]/nProcessed[sample]\n",
    "pprint(weights)"
   ]
  },
  {
   "cell_type": "markdown",
   "metadata": {
    "collapsed": true
   },
   "source": [
    "We can make dicts to hold TChains of all our data, and then draw them with weights:"
   ]
  },
  {
   "cell_type": "code",
   "execution_count": 5,
   "metadata": {
    "collapsed": false
   },
   "outputs": [
    {
     "data": {
      "application/javascript": [
       "\n",
       "require(['notebook'],\n",
       "  function() {\n",
       "    IPython.CodeCell.config_defaults.highlight_modes['magic_text/x-c++src'] = {'reg':[/^%%cpp/]};\n",
       "    console.log(\"JupyROOT - %%cpp magic configured\");\n",
       "  }\n",
       ");\n"
      ]
     },
     "metadata": {},
     "output_type": "display_data"
    },
    {
     "name": "stdout",
     "output_type": "stream",
     "text": [
      "Welcome to JupyROOT 6.08/05\n",
      "{'QCD_HT1000to1500': <ROOT.TChain object (\"hatsDijets\") at 0x4e774f0>,\n",
      " 'QCD_HT1500to2000': <ROOT.TChain object (\"hatsDijets\") at 0x4e5baf0>,\n",
      " 'QCD_HT2000toInf': <ROOT.TChain object (\"hatsDijets\") at 0x4e681c0>,\n",
      " 'QCD_HT300to500': <ROOT.TChain object (\"hatsDijets\") at 0x4e74470>,\n",
      " 'QCD_HT500to700': <ROOT.TChain object (\"hatsDijets\") at 0x2496a30>,\n",
      " 'QCD_HT700to1000': <ROOT.TChain object (\"hatsDijets\") at 0x4e63150>}\n"
     ]
    }
   ],
   "source": [
    "import ROOT as r\n",
    "from os import listdir, path\n",
    "hatsTreesDir = \"/eos/uscms/store/user/hats/PyRoot/2017/hatsDijetTrees\"\n",
    "hatsChains = {}\n",
    "for sample in crossSections.keys():\n",
    "    sampleDir = path.join(hatsTreesDir, \"hatsTrees_\" + sample)\n",
    "    chain = r.TChain('hatsDijets')\n",
    "    for hatsFile in listdir(sampleDir):\n",
    "        chain.Add(path.join(sampleDir, hatsFile))\n",
    "    hatsChains[sample] = chain\n",
    "pprint(hatsChains)"
   ]
  },
  {
   "cell_type": "markdown",
   "metadata": {},
   "source": [
    "Now we can try to make weighted histograms of all the MC backgrounds using TChain.Draw(), and put them into a stackplot. Here we run into a classic pyROOT gotcha: it's not easy to prevent root from garbage collecting your histograms. It's best to keep them in an array that isn't within the scope of a loop."
   ]
  },
  {
   "cell_type": "code",
   "execution_count": 13,
   "metadata": {
    "collapsed": false
   },
   "outputs": [],
   "source": [
    "hists = []\n",
    "for sample in crossSections.keys():\n",
    "    varNames=[]\n",
    "    for var in hatsChains[sample].GetListOfBranches():\n",
    "        varNames.append(var.GetName())\n",
    "    for varName in varNames:\n",
    "        histLabel = \"%s_%s\" % (varName, sample)\n",
    "        hists.append(r.TH1F(histLabel, histLabel, 100, 0, 0))\n",
    "        hatsChains[sample].Draw(\"%s>>%s\" % (varName, histLabel))\n",
    "\n",
    "pprint(hists)"
   ]
  },
  {
   "cell_type": "markdown",
   "metadata": {},
   "source": [
    "Now that we've made histograms of all our variables in all our samples, we can put together stack plots of them all. (TODO: this.)"
   ]
  },
  {
   "cell_type": "code",
   "execution_count": 14,
   "metadata": {
    "collapsed": false
   },
   "outputs": [
    {
     "data": {
      "image/png": "[encoded data removed]",
      "text/plain": [
       "<IPython.core.display.Image object>"
      ]
     },
     "metadata": {},
     "output_type": "display_data"
    }
   ],
   "source": [
    "canvas = r.TCanvas()\n",
    "hists[7].Draw()\n",
    "canvas.Draw()"
   ]
  },
  {
   "cell_type": "code",
   "execution_count": null,
   "metadata": {
    "collapsed": true
   },
   "outputs": [],
   "source": []
  }
 ],
 "metadata": {
  "kernelspec": {
   "display_name": "Python 2",
   "language": "python",
   "name": "python2"
  },
  "language_info": {
   "codemirror_mode": {
    "name": "ipython",
    "version": 2
   },
   "file_extension": ".py",
   "mimetype": "text/x-python",
   "name": "python",
   "nbconvert_exporter": "python",
   "pygments_lexer": "ipython2",
   "version": "2.7.11"
  }
 },
 "nbformat": 4,
 "nbformat_minor": 2
}
