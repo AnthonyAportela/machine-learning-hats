{
 "cells": [
  {
   "cell_type": "code",
   "execution_count": 1,
   "metadata": {
    "collapsed": false
   },
   "outputs": [
    {
     "data": {
      "application/javascript": [
       "\n",
       "require(['notebook'],\n",
       "  function() {\n",
       "    IPython.CodeCell.config_defaults.highlight_modes['magic_text/x-c++src'] = {'reg':[/^%%cpp/]};\n",
       "    console.log(\"JupyROOT - %%cpp magic configured\");\n",
       "  }\n",
       ");\n"
      ]
     },
     "metadata": {},
     "output_type": "display_data"
    },
    {
     "name": "stdout",
     "output_type": "stream",
     "text": [
      "Welcome to JupyROOT 6.08/05\n"
     ]
    }
   ],
   "source": [
    "import time\n",
    "\n",
    "# Your choice of plotting front-end.\n",
    "%matplotlib inline\n",
    "\n",
    "import ROOT\n",
    "tcanvas = ROOT.TCanvas(\"TCanvasName\", \"TCanvasTitle\", 800, 300)"
   ]
  },
  {
   "cell_type": "code",
   "execution_count": 2,
   "metadata": {
    "collapsed": false
   },
   "outputs": [
    {
     "data": {
      "text/plain": [
       "[<ROOT.TBranch object (\"ph_N\") at 0x71df580>,\n",
       " <ROOT.TBranchElement object (\"ph_pdgId\") at 0x71e9b40>,\n",
       " <ROOT.TBranchElement object (\"ph_charge\") at 0x71f2150>,\n",
       " <ROOT.TBranchElement object (\"ph_e\") at 0x71f2860>,\n",
       " <ROOT.TBranchElement object (\"ph_eta\") at 0x71f2f70>,\n",
       " <ROOT.TBranchElement object (\"ph_phi\") at 0x71f3680>,\n",
       " <ROOT.TBranchElement object (\"ph_mass\") at 0x71f3d90>,\n",
       " <ROOT.TBranchElement object (\"ph_pt\") at 0x71f44a0>,\n",
       " <ROOT.TBranchElement object (\"ph_et\") at 0x71f4bb0>,\n",
       " <ROOT.TBranchElement object (\"ph_rho\") at 0x71f52c0>,\n",
       " <ROOT.TBranchElement object (\"ph_superCluster_eta\") at 0x71f59d0>,\n",
       " <ROOT.TBranchElement object (\"ph_superCluster_phi\") at 0x71f6170>,\n",
       " <ROOT.TBranchElement object (\"ph_sigmaIetaIeta\") at 0x71f6940>,\n",
       " <ROOT.TBranchElement object (\"ph_hOverE\") at 0x71f7110>,\n",
       " <ROOT.TBranchElement object (\"ph_isoGamma\") at 0x71f7820>,\n",
       " <ROOT.TBranchElement object (\"ph_isoCh\") at 0x71f7f30>,\n",
       " <ROOT.TBranchElement object (\"ph_passEleVeto\") at 0x71f8640>,\n",
       " <ROOT.TBranchElement object (\"ph_passLooseId\") at 0x71f8cc0>,\n",
       " <ROOT.TBranchElement object (\"ph_passMediumId\") at 0x71f9430>,\n",
       " <ROOT.TBranchElement object (\"ph_passTightId\") at 0x71f9b60>,\n",
       " <ROOT.TBranchElement object (\"ph_mvaVal\") at 0x71fa270>,\n",
       " <ROOT.TBranchElement object (\"ph_mvaCat\") at 0x71fa980>,\n",
       " <ROOT.TBranch object (\"rho\") at 0x71fb090>,\n",
       " <ROOT.TBranch object (\"jetAK4_N\") at 0x71fcf10>,\n",
       " <ROOT.TBranchElement object (\"jetAK4_pt\") at 0x71fd450>,\n",
       " <ROOT.TBranchElement object (\"jetAK4_eta\") at 0x71fdc40>,\n",
       " <ROOT.TBranchElement object (\"jetAK4_mass\") at 0x71fe430>,\n",
       " <ROOT.TBranchElement object (\"jetAK4_phi\") at 0x71fec20>,\n",
       " <ROOT.TBranchElement object (\"jetAK4_e\") at 0x71ff410>,\n",
       " <ROOT.TBranchElement object (\"jetAK4_jec\") at 0x71ffc00>,\n",
       " <ROOT.TBranchElement object (\"jetAK4_jecUp\") at 0x72003f0>,\n",
       " <ROOT.TBranchElement object (\"jetAK4_jecDown\") at 0x7200be0>,\n",
       " <ROOT.TBranchElement object (\"jetAK4_IDLoose\") at 0x72013d0>,\n",
       " <ROOT.TBranchElement object (\"jetAK4_IDTight\") at 0x7201b40>,\n",
       " <ROOT.TBranchElement object (\"jetAK4_IDTightLepVeto\") at 0x7202250>,\n",
       " <ROOT.TBranchElement object (\"jetAK4_charge\") at 0x7202a20>,\n",
       " <ROOT.TBranchElement object (\"jetAK4_csv\") at 0x72031b0>,\n",
       " <ROOT.TBranchElement object (\"jetAK4_vtxMass\") at 0x72039a0>,\n",
       " <ROOT.TBranchElement object (\"jetAK4_vtxNtracks\") at 0x7204190>,\n",
       " <ROOT.TBranchElement object (\"jetAK4_vtx3DVal\") at 0x7204a40>,\n",
       " <ROOT.TBranchElement object (\"jetAK4_vtx3DSig\") at 0x72052b0>,\n",
       " <ROOT.TBranchElement object (\"jetAK4_partonFlavour\") at 0x7205b20>,\n",
       " <ROOT.TBranchElement object (\"jetAK4_hadronFlavour\") at 0x72063d0>,\n",
       " <ROOT.TBranchElement object (\"jetAK4_genParton_pdgID\") at 0x7206c80>,\n",
       " <ROOT.TBranchElement object (\"jetAK4_nbHadrons\") at 0x7207530>,\n",
       " <ROOT.TBranchElement object (\"jetAK4_ncHadrons\") at 0x7207de0>,\n",
       " <ROOT.TBranchElement object (\"jetAK4_jer_sf\") at 0x7208690>,\n",
       " <ROOT.TBranchElement object (\"jetAK4_jer_sf_up\") at 0x7208e80>,\n",
       " <ROOT.TBranchElement object (\"jetAK4_jer_sf_down\") at 0x7209730>,\n",
       " <ROOT.TBranchElement object (\"jetAK4_jer_sigma_pt\") at 0x7209fe0>,\n",
       " <ROOT.TBranch object (\"jetAK8_N\") at 0x720a890>,\n",
       " <ROOT.TBranchElement object (\"jetAK8_pt\") at 0x720add0>,\n",
       " <ROOT.TBranchElement object (\"jetAK8_eta\") at 0x720b530>,\n",
       " <ROOT.TBranchElement object (\"jetAK8_mass\") at 0x720bc80>,\n",
       " <ROOT.TBranchElement object (\"jetAK8_phi\") at 0x720c3d0>,\n",
       " <ROOT.TBranchElement object (\"jetAK8_e\") at 0x720cb20>,\n",
       " <ROOT.TBranchElement object (\"jetAK8_jec\") at 0x720d270>,\n",
       " <ROOT.TBranchElement object (\"jetAK8_jecUp\") at 0x720d9c0>,\n",
       " <ROOT.TBranchElement object (\"jetAK8_jecDown\") at 0x720e110>,\n",
       " <ROOT.TBranchElement object (\"jetAK8_IDLoose\") at 0x720e860>,\n",
       " <ROOT.TBranchElement object (\"jetAK8_IDTight\") at 0x720ef70>,\n",
       " <ROOT.TBranchElement object (\"jetAK8_IDTightLepVeto\") at 0x720f680>,\n",
       " <ROOT.TBranchElement object (\"jetAK8_charge\") at 0x720fe50>,\n",
       " <ROOT.TBranchElement object (\"jetAK8_partonFlavour\") at 0x72105a0>,\n",
       " <ROOT.TBranchElement object (\"jetAK8_hadronFlavour\") at 0x7210db0>,\n",
       " <ROOT.TBranchElement object (\"jetAK8_genParton_pdgID\") at 0x72115c0>,\n",
       " <ROOT.TBranchElement object (\"jetAK8_nbHadrons\") at 0x7211dd0>,\n",
       " <ROOT.TBranchElement object (\"jetAK8_ncHadrons\") at 0x72125e0>,\n",
       " <ROOT.TBranchElement object (\"jetAK8_jer_sf\") at 0x7212df0>,\n",
       " <ROOT.TBranchElement object (\"jetAK8_jer_sf_up\") at 0x7213540>,\n",
       " <ROOT.TBranchElement object (\"jetAK8_jer_sf_down\") at 0x7213d50>,\n",
       " <ROOT.TBranchElement object (\"jetAK8_jer_sigma_pt\") at 0x7214560>,\n",
       " <ROOT.TBranchElement object (\"jetAK8Puppi_jer_sf\") at 0x7214d70>,\n",
       " <ROOT.TBranchElement object (\"jetAK8Puppi_jer_sf_up\") at 0x7215580>,\n",
       " <ROOT.TBranchElement object (\"jetAK8Puppi_jer_sf_down\") at 0x7215d90>,\n",
       " <ROOT.TBranchElement object (\"jetAK8Puppi_jer_sigma_pt\") at 0x72165a0>,\n",
       " <ROOT.TBranchElement object (\"jetAK8_Hbbtag\") at 0x7216db0>,\n",
       " <ROOT.TBranchElement object (\"jetAK8_csv\") at 0x7217500>,\n",
       " <ROOT.TBranchElement object (\"jetAK8_tau1\") at 0x7217c50>,\n",
       " <ROOT.TBranchElement object (\"jetAK8_tau2\") at 0x72183a0>,\n",
       " <ROOT.TBranchElement object (\"jetAK8_tau3\") at 0x7218af0>,\n",
       " <ROOT.TBranchElement object (\"jetAK8_pruned_mass\") at 0x7219240>,\n",
       " <ROOT.TBranchElement object (\"jetAK8_pruned_massCorr\") at 0x7219a50>,\n",
       " <ROOT.TBranchElement object (\"jetAK8_pruned_jec\") at 0x721a260>,\n",
       " <ROOT.TBranchElement object (\"jetAK8_pruned_jecUp\") at 0x721aa70>,\n",
       " <ROOT.TBranchElement object (\"jetAK8_pruned_jecDown\") at 0x721b280>,\n",
       " <ROOT.TBranchElement object (\"jetAK8_softdrop_mass\") at 0x721ba90>,\n",
       " <ROOT.TBranchElement object (\"jetAK8_softdrop_massCorr\") at 0x721c2a0>,\n",
       " <ROOT.TBranchElement object (\"jetAK8_softdrop_jec\") at 0x721cab0>,\n",
       " <ROOT.TBranchElement object (\"jetAK8_softdrop_jecUp\") at 0x721d2c0>,\n",
       " <ROOT.TBranchElement object (\"jetAK8_softdrop_jecDown\") at 0x721db10>,\n",
       " <ROOT.TBranchElement object (\"jetAK8_subjet_softdrop_N\") at 0x721e3c0>,\n",
       " <ROOT.TBranchElement object (\"jetAK8_subjet_softdrop_pt\") at 0x721ec30>,\n",
       " <ROOT.TBranchElement object (\"jetAK8_subjet_softdrop_eta\") at 0x721f5e0>,\n",
       " <ROOT.TBranchElement object (\"jetAK8_subjet_softdrop_mass\") at 0x721ff90>,\n",
       " <ROOT.TBranchElement object (\"jetAK8_subjet_softdrop_phi\") at 0x7220940>,\n",
       " <ROOT.TBranchElement object (\"jetAK8_subjet_softdrop_e\") at 0x72212f0>,\n",
       " <ROOT.TBranchElement object (\"jetAK8_subjet_softdrop_charge\") at 0x7221ca0>,\n",
       " <ROOT.TBranchElement object (\"jetAK8_subjet_softdrop_genParton_pdgID\") at 0x7222650>,\n",
       " <ROOT.TBranchElement object (\"jetAK8_subjet_softdrop_nbHadrons\") at 0x7223040>,\n",
       " <ROOT.TBranchElement object (\"jetAK8_subjet_softdrop_ncHadrons\") at 0x7223a30>,\n",
       " <ROOT.TBranchElement object (\"jetAK8_subjet_softdrop_partonFlavour\") at 0x7224420>,\n",
       " <ROOT.TBranchElement object (\"jetAK8_subjet_softdrop_hadronFlavour\") at 0x7224ef0>,\n",
       " <ROOT.TBranchElement object (\"jetAK8_subjet_softdrop_csv\") at 0x72259c0>,\n",
       " <ROOT.TBranchElement object (\"jetAK8_puppi_pt\") at 0x7226370>,\n",
       " <ROOT.TBranchElement object (\"jetAK8_puppi_eta\") at 0x7226b40>,\n",
       " <ROOT.TBranchElement object (\"jetAK8_puppi_mass\") at 0x7227350>,\n",
       " <ROOT.TBranchElement object (\"jetAK8_puppi_phi\") at 0x7227b60>,\n",
       " <ROOT.TBranchElement object (\"jetAK8_puppi_e\") at 0x7228370>,\n",
       " <ROOT.TBranchElement object (\"jetAK8_puppi_pruned_mass\") at 0x7228ac0>,\n",
       " <ROOT.TBranchElement object (\"jetAK8_puppi_pruned_massCorr\") at 0x7229200>,\n",
       " <ROOT.TBranchElement object (\"jetAK8_puppi_pruned_jec\") at 0x72299a0>,\n",
       " <ROOT.TBranchElement object (\"jetAK8_puppi_softdrop_mass\") at 0x722a140>,\n",
       " <ROOT.TBranchElement object (\"jetAK8_puppi_softdrop_massCorr\") at 0x722a9b0>,\n",
       " <ROOT.TBranchElement object (\"jetAK8_puppi_softdrop_jec\") at 0x722b1c0>,\n",
       " <ROOT.TBranchElement object (\"jetAK8_puppi_tau1\") at 0x722b9d0>,\n",
       " <ROOT.TBranchElement object (\"jetAK8_puppi_tau2\") at 0x722c1e0>,\n",
       " <ROOT.TBranchElement object (\"jetAK8_puppi_tau3\") at 0x722c9f0>,\n",
       " <ROOT.TBranchElement object (\"jetAK8_subjet_puppi_softdrop_N\") at 0x722d200>,\n",
       " <ROOT.TBranchElement object (\"jetAK8_subjet_puppi_softdrop_pt\") at 0x722d940>,\n",
       " <ROOT.TBranchElement object (\"jetAK8_subjet_puppi_softdrop_eta\") at 0x722e170>,\n",
       " <ROOT.TBranchElement object (\"jetAK8_subjet_puppi_softdrop_mass\") at 0x722e9e0>,\n",
       " <ROOT.TBranchElement object (\"jetAK8_subjet_puppi_softdrop_phi\") at 0x722f250>,\n",
       " <ROOT.TBranchElement object (\"jetAK8_subjet_puppi_softdrop_e\") at 0x722fac0>,\n",
       " <ROOT.TBranchElement object (\"jetAK8_subjet_puppi_softdrop_charge\") at 0x72302f0>,\n",
       " <ROOT.TBranchElement object (\"jetAK8_subjet_puppi_softdrop_genParton_pdgID\") at 0x7230b60>,\n",
       " <ROOT.TBranchElement object (\"jetAK8_subjet_puppi_softdrop_nbHadrons\") at 0x72313d0>,\n",
       " <ROOT.TBranchElement object (\"jetAK8_subjet_puppi_softdrop_ncHadrons\") at 0x7231c40>,\n",
       " <ROOT.TBranchElement object (\"jetAK8_subjet_puppi_softdrop_partonFlavour\") at 0x72324b0>,\n",
       " <ROOT.TBranchElement object (\"jetAK8_subjet_puppi_softdrop_hadronFlavour\") at 0x7232d20>,\n",
       " <ROOT.TBranchElement object (\"jetAK8_subjet_puppi_softdrop_csv\") at 0x7233590>,\n",
       " <ROOT.TBranchElement object (\"jetAK8_subjet_pruned_N\") at 0x7233e00>,\n",
       " <ROOT.TBranchElement object (\"jetAK8_subjet_pruned_pt\") at 0x7234670>,\n",
       " <ROOT.TBranchElement object (\"jetAK8_subjet_pruned_eta\") at 0x7235020>,\n",
       " <ROOT.TBranchElement object (\"jetAK8_subjet_pruned_mass\") at 0x72359d0>,\n",
       " <ROOT.TBranchElement object (\"jetAK8_subjet_pruned_phi\") at 0x7236380>,\n",
       " <ROOT.TBranchElement object (\"jetAK8_subjet_pruned_e\") at 0x7236d30>,\n",
       " <ROOT.TBranchElement object (\"jetAK8_subjet_pruned_charge\") at 0x72376e0>,\n",
       " <ROOT.TBranchElement object (\"jetAK8_subjet_pruned_genParton_pdgID\") at 0x7238090>,\n",
       " <ROOT.TBranchElement object (\"jetAK8_subjet_pruned_nbHadrons\") at 0x7238a80>,\n",
       " <ROOT.TBranchElement object (\"jetAK8_subjet_pruned_ncHadrons\") at 0x7239430>,\n",
       " <ROOT.TBranchElement object (\"jetAK8_subjet_pruned_partonFlavour\") at 0x7239de0>,\n",
       " <ROOT.TBranchElement object (\"jetAK8_subjet_pruned_hadronFlavour\") at 0x723a7d0>,\n",
       " <ROOT.TBranchElement object (\"jetAK8_subjet_pruned_csv\") at 0x723b1c0>,\n",
       " <ROOT.TBranchElement object (\"HLT_isFired\") at 0x723bb70>,\n",
       " <ROOT.TBranch object (\"passFilter_HBHE\") at 0x7240ea0>,\n",
       " <ROOT.TBranch object (\"passFilter_HBHELoose\") at 0x7242ed0>,\n",
       " <ROOT.TBranch object (\"passFilter_HBHETight\") at 0x72434d0>,\n",
       " <ROOT.TBranch object (\"passFilter_HBHEIso\") at 0x7243ad0>,\n",
       " <ROOT.TBranch object (\"passFilter_CSCHalo\") at 0x72440d0>,\n",
       " <ROOT.TBranch object (\"passFilter_CSCTightHalo2015\") at 0x72446d0>,\n",
       " <ROOT.TBranch object (\"passFilter_HCALlaser\") at 0x7244cd0>,\n",
       " <ROOT.TBranch object (\"passFilter_ECALDeadCell\") at 0x72452d0>,\n",
       " <ROOT.TBranch object (\"passFilter_GoodVtx\") at 0x72458d0>,\n",
       " <ROOT.TBranch object (\"passFilter_TrkFailure\") at 0x7245ed0>,\n",
       " <ROOT.TBranch object (\"passFilter_EEBadSc\") at 0x72464d0>,\n",
       " <ROOT.TBranch object (\"passFilter_ECALlaser\") at 0x7246ad0>,\n",
       " <ROOT.TBranch object (\"passFilter_TrkPOG\") at 0x72470d0>,\n",
       " <ROOT.TBranch object (\"passFilter_TrkPOG_manystrip\") at 0x72476d0>,\n",
       " <ROOT.TBranch object (\"passFilter_TrkPOG_toomanystrip\") at 0x7247cd0>,\n",
       " <ROOT.TBranch object (\"passFilter_TrkPOG_logError\") at 0x72482e0>,\n",
       " <ROOT.TBranch object (\"passFilter_METFilters\") at 0x72488e0>,\n",
       " <ROOT.TBranch object (\"passFilter_CSCTightHaloTrkMuUnvetoFilter\") at 0x7248ee0>,\n",
       " <ROOT.TBranch object (\"passFilter_globalTightHalo2016\") at 0x7249520>,\n",
       " <ROOT.TBranch object (\"passFilter_HcalStripHalo\") at 0x7249b30>,\n",
       " <ROOT.TBranch object (\"passFilter_chargedHadronTrackResolution\") at 0x724a130>,\n",
       " <ROOT.TBranch object (\"passFilter_muonBadTrack\") at 0x724a770>,\n",
       " <ROOT.TBranch object (\"EVENT_event\") at 0x724ad70>,\n",
       " <ROOT.TBranch object (\"EVENT_run\") at 0x724b2b0>,\n",
       " <ROOT.TBranch object (\"EVENT_lumiBlock\") at 0x724b7f0>,\n",
       " <ROOT.TBranch object (\"PV_N\") at 0x724bdc0>,\n",
       " <ROOT.TBranch object (\"PV_filter\") at 0x724c300>,\n",
       " <ROOT.TBranchElement object (\"PV_chi2\") at 0x724c840>,\n",
       " <ROOT.TBranchElement object (\"PV_ndof\") at 0x724cfb0>,\n",
       " <ROOT.TBranchElement object (\"PV_rho\") at 0x724d6c0>,\n",
       " <ROOT.TBranchElement object (\"PV_z\") at 0x724ddd0>]"
      ]
     },
     "execution_count": 2,
     "metadata": {},
     "output_type": "execute_result"
    }
   ],
   "source": [
    "firstLookFile = ROOT.TFile.Open(\"root://cmseos.fnal.gov//store/user/hats/PyRoot/2017/qcd_samples/shuffled_sig/sig_shuffled_0.root\")\n",
    "firstLookTree = firstLookFile.Get(\"tree\")\n",
    "list(firstLookTree.GetListOfBranches())"
   ]
  },
  {
   "cell_type": "code",
   "execution_count": 3,
   "metadata": {
    "collapsed": true
   },
   "outputs": [],
   "source": [
    "firstLookTree.SetBranchStatus(\"*\", 0)\n",
    "for branch in [\"jetAK4_N\",\n",
    "               \"jetAK4_pt\",\n",
    "               \"jetAK4_eta\",\n",
    "               \"jetAK4_mass\",\n",
    "               \"jetAK4_phi\",\n",
    "               \"jetAK4_e\",\n",
    "               \"jetAK4_jec\",\n",
    "               \"jetAK4_IDLoose\"]:\n",
    "    firstLookTree.SetBranchStatus(branch, 1)"
   ]
  },
  {
   "cell_type": "code",
   "execution_count": 4,
   "metadata": {
    "collapsed": false
   },
   "outputs": [
    {
     "name": "stdout",
     "output_type": "stream",
     "text": [
      "This took 3.27019906044 seconds.\n"
     ]
    }
   ],
   "source": [
    "dijetMass_hist = ROOT.TH1D(\"dijetMass_hist\", \"dijet mass [GeV]\", 100, 0, 1000)\n",
    "dijetEtBalance_hist = ROOT.TH1D(\"dijetEtBalance_hist\", \"dijet ET balance\", 100, 0, 1)\n",
    "cosThetaStar_hist = ROOT.TH1D(\"cosThetaStar_hist\", \"cos(theta*)\", 100, -1, 1)\n",
    "\n",
    "leadingJet = ROOT.TLorentzVector()\n",
    "subleadingJet = ROOT.TLorentzVector()\n",
    "\n",
    "startTime = time.time()\n",
    "for index, event in enumerate(firstLookTree):\n",
    "    if event.jetAK4_N < 2:\n",
    "        continue\n",
    "    \n",
    "    leadingJet.SetPtEtaPhiE(event.jetAK4_pt.at(0),\n",
    "                            event.jetAK4_eta.at(0),\n",
    "                            event.jetAK4_phi.at(0),\n",
    "                            event.jetAK4_e.at(0))\n",
    "    \n",
    "    subleadingJet.SetPtEtaPhiE(event.jetAK4_pt.at(1),\n",
    "                               event.jetAK4_eta.at(1),\n",
    "                               event.jetAK4_phi.at(1),\n",
    "                               event.jetAK4_e.at(1))\n",
    "    \n",
    "    dijet = leadingJet + subleadingJet\n",
    "    dijetMass = dijet.M()\n",
    "    dijetEtBalance = subleadingJet.Et() / leadingJet.Et()\n",
    "    \n",
    "    boostedLeading = leadingJet\n",
    "    boostedLeading.Boost(-dijet.BoostVector())\n",
    "    cosThetaStar = boostedLeading.Pz() / boostedLeading.P()\n",
    "    \n",
    "    dijetMass_hist.Fill(dijetMass)\n",
    "    dijetEtBalance_hist.Fill(dijetEtBalance)\n",
    "    cosThetaStar_hist.Fill(cosThetaStar)\n",
    "\n",
    "endTime = time.time()\n",
    "\n",
    "print \"This took\", endTime - startTime, \"seconds.\""
   ]
  },
  {
   "cell_type": "code",
   "execution_count": 5,
   "metadata": {
    "collapsed": false
   },
   "outputs": [
    {
     "data": {
      "image/png": "[encoded data removed]",
      "text/plain": [
       "<IPython.core.display.Image object>"
      ]
     },
     "metadata": {},
     "output_type": "display_data"
    }
   ],
   "source": [
    "tcanvas.Clear()\n",
    "tcanvas.Divide(3, 1)\n",
    "\n",
    "tcanvas.cd(1); dijetMass_hist.Draw()\n",
    "tcanvas.cd(2); dijetEtBalance_hist.Draw()\n",
    "tcanvas.cd(3); cosThetaStar_hist.Draw()\n",
    "tcanvas.Draw()"
   ]
  },
  {
   "cell_type": "code",
   "execution_count": 6,
   "metadata": {
    "collapsed": false
   },
   "outputs": [
    {
     "name": "stdout",
     "output_type": "stream",
     "text": [
      "This took 3.43960285187 seconds.\n"
     ]
    }
   ],
   "source": [
    "from histogrammar import *\n",
    "\n",
    "Bundle = UntypedLabel    # a naming convention we'll be changing to in Histogrammar 2.0\n",
    "\n",
    "def cosThetaStar(jets):\n",
    "    boostedLeading = jets[0]\n",
    "    boostedLeading.Boost(-(jets[0] + jets[1]).BoostVector())\n",
    "    return boostedLeading.Pz() / boostedLeading.P()\n",
    "\n",
    "histograms = Bundle(\n",
    "    dijetMass      = Bin(100, 0, 1000, lambda jets: (jets[0] + jets[1]).M()),\n",
    "    dijetEtBalance = Bin(100, 0, 1, lambda jets: jets[1].Et() / jets[0].Et()),\n",
    "    cosThetaStar   = Bin(100, -1, 1, cosThetaStar))\n",
    "\n",
    "leadingJet = ROOT.TLorentzVector()\n",
    "subleadingJet = ROOT.TLorentzVector()\n",
    "\n",
    "startTime = time.time()\n",
    "for index, event in enumerate(firstLookTree):\n",
    "    if event.jetAK4_N < 2:\n",
    "        continue\n",
    "    \n",
    "    leadingJet.SetPtEtaPhiE(event.jetAK4_pt.at(0),\n",
    "                            event.jetAK4_eta.at(0),\n",
    "                            event.jetAK4_phi.at(0),\n",
    "                            event.jetAK4_e.at(0))\n",
    "    \n",
    "    subleadingJet.SetPtEtaPhiE(event.jetAK4_pt.at(1),\n",
    "                               event.jetAK4_eta.at(1),\n",
    "                               event.jetAK4_phi.at(1),\n",
    "                               event.jetAK4_e.at(1))\n",
    "    \n",
    "    histograms.fill([leadingJet, subleadingJet])\n",
    "\n",
    "endTime = time.time()\n",
    "\n",
    "print \"This took\", endTime - startTime, \"seconds.\""
   ]
  },
  {
   "cell_type": "code",
   "execution_count": 7,
   "metadata": {
    "collapsed": false
   },
   "outputs": [
    {
     "name": "stderr",
     "output_type": "stream",
     "text": [
      "Warning in <TNetXNGFile::Append>: Replacing existing TH1: dijetMass_hist (Potential memory leak).\n",
      "Warning in <TNetXNGFile::Append>: Replacing existing TH1: dijetEtBalance_hist (Potential memory leak).\n",
      "Warning in <TNetXNGFile::Append>: Replacing existing TH1: cosThetaStar_hist (Potential memory leak).\n"
     ]
    },
    {
     "data": {
      "image/png": "[encoded data removed]",
      "text/plain": [
       "<IPython.core.display.Image object>"
      ]
     },
     "metadata": {},
     "output_type": "display_data"
    }
   ],
   "source": [
    "dijetMass_hist = histograms.get(\"dijetMass\").plot.root(\"dijetMass_hist\", \"dijet mass [GeV]\")\n",
    "dijetEtBalance_hist = histograms.get(\"dijetEtBalance\").plot.root(\"dijetEtBalance_hist\", \"dijet ET balance\")\n",
    "cosThetaStar_hist = histograms.get(\"cosThetaStar\").plot.root(\"cosThetaStar_hist\", \"cos(theta*)\")\n",
    "\n",
    "tcanvas.Clear()\n",
    "tcanvas.Divide(3, 1)\n",
    "\n",
    "tcanvas.cd(1); dijetMass_hist.Draw()\n",
    "tcanvas.cd(2); dijetEtBalance_hist.Draw()\n",
    "tcanvas.cd(3); cosThetaStar_hist.Draw()\n",
    "tcanvas.Draw()"
   ]
  },
  {
   "cell_type": "code",
   "execution_count": 8,
   "metadata": {
    "collapsed": false
   },
   "outputs": [
    {
     "data": {
      "text/plain": [
       "True"
      ]
     },
     "execution_count": 8,
     "metadata": {},
     "output_type": "execute_result"
    }
   ],
   "source": [
    "# yes, we're creating new TLorentzVectors, but we're creating them on the stack (no \"new\" operator), which is fast\n",
    "ROOT.gInterpreter.Declare(\"\"\"\n",
    "TLorentzVector lorentzVector(int which,\n",
    "                             vector<float>& pt,\n",
    "                             vector<float>& eta,\n",
    "                             vector<float>& phi,\n",
    "                             vector<float>& e) {\n",
    "    TLorentzVector out;\n",
    "    out.SetPtEtaPhiE(pt.at(which), eta.at(which), phi.at(which), e.at(which));\n",
    "    return out;\n",
    "}\n",
    "\"\"\")\n",
    "\n",
    "ROOT.gInterpreter.Declare(\"\"\"\n",
    "double cosThetaStar(TLorentzVector leadingJet, TLorentzVector subleadingJet) {\n",
    "    leadingJet.Boost(-(leadingJet + subleadingJet).BoostVector());\n",
    "    return leadingJet.Pz() / leadingJet.P();\n",
    "}\n",
    "\"\"\")"
   ]
  },
  {
   "cell_type": "code",
   "execution_count": 9,
   "metadata": {
    "collapsed": false
   },
   "outputs": [
    {
     "name": "stdout",
     "output_type": "stream",
     "text": [
      "This took 0.324657917023 seconds.\n"
     ]
    }
   ],
   "source": [
    "histograms = Select(\"jetAK4_N >= 2\", Bundle(\n",
    "    dijetMass = Bin(100, 0, 1000, \"\"\"\n",
    "        (lorentzVector(0, jetAK4_pt, jetAK4_eta, jetAK4_phi, jetAK4_e) +\n",
    "         lorentzVector(1, jetAK4_pt, jetAK4_eta, jetAK4_phi, jetAK4_e)\n",
    "        ).M()\n",
    "    \"\"\"),\n",
    "    dijetEtBalance = Bin(100, 0, 1, \"\"\"\n",
    "        lorentzVector(1, jetAK4_pt, jetAK4_eta, jetAK4_phi, jetAK4_e).Et() /\n",
    "        lorentzVector(0, jetAK4_pt, jetAK4_eta, jetAK4_phi, jetAK4_e).Et()\n",
    "    \"\"\"),\n",
    "    cosThetaStar   = Bin(100, -1, 1, \"\"\"cosThetaStar(\n",
    "        lorentzVector(0, jetAK4_pt, jetAK4_eta, jetAK4_phi, jetAK4_e),\n",
    "        lorentzVector(1, jetAK4_pt, jetAK4_eta, jetAK4_phi, jetAK4_e))\"\"\")\n",
    "))\n",
    "\n",
    "startTime = time.time()\n",
    "histograms.fill.root(firstLookTree)\n",
    "endTime = time.time()\n",
    "\n",
    "print \"This took\", endTime - startTime, \"seconds.\""
   ]
  },
  {
   "cell_type": "code",
   "execution_count": 10,
   "metadata": {
    "collapsed": false
   },
   "outputs": [
    {
     "name": "stderr",
     "output_type": "stream",
     "text": [
      "Warning in <TNetXNGFile::Append>: Replacing existing TH1: dijetMass_hist (Potential memory leak).\n",
      "Warning in <TNetXNGFile::Append>: Replacing existing TH1: dijetEtBalance_hist (Potential memory leak).\n",
      "Warning in <TNetXNGFile::Append>: Replacing existing TH1: cosThetaStar_hist (Potential memory leak).\n"
     ]
    },
    {
     "data": {
      "image/png": "[encoded data removed]",
      "text/plain": [
       "<IPython.core.display.Image object>"
      ]
     },
     "metadata": {},
     "output_type": "display_data"
    }
   ],
   "source": [
    "dijetMass_hist = histograms.get(\"dijetMass\").plot.root(\"dijetMass_hist\", \"dijet mass [GeV]\")\n",
    "dijetEtBalance_hist = histograms.get(\"dijetEtBalance\").plot.root(\"dijetEtBalance_hist\", \"dijet ET balance\")\n",
    "cosThetaStar_hist = histograms.get(\"cosThetaStar\").plot.root(\"cosThetaStar_hist\", \"cos(theta*)\")\n",
    "\n",
    "tcanvas.Clear()\n",
    "tcanvas.Divide(3, 1)\n",
    "\n",
    "tcanvas.cd(1); dijetMass_hist.Draw()\n",
    "tcanvas.cd(2); dijetEtBalance_hist.Draw()\n",
    "tcanvas.cd(3); cosThetaStar_hist.Draw()\n",
    "tcanvas.Draw()"
   ]
  },
  {
   "cell_type": "code",
   "execution_count": null,
   "metadata": {
    "collapsed": true
   },
   "outputs": [],
   "source": []
  },
  {
   "cell_type": "code",
   "execution_count": null,
   "metadata": {
    "collapsed": true
   },
   "outputs": [],
   "source": []
  }
 ],
 "metadata": {
  "kernelspec": {
   "display_name": "Python 2",
   "language": "python",
   "name": "python2"
  },
  "language_info": {
   "codemirror_mode": {
    "name": "ipython",
    "version": 2
   },
   "file_extension": ".py",
   "mimetype": "text/x-python",
   "name": "python",
   "nbconvert_exporter": "python",
   "pygments_lexer": "ipython2",
   "version": "2.7.11"
  }
 },
 "nbformat": 4,
 "nbformat_minor": 1
}
