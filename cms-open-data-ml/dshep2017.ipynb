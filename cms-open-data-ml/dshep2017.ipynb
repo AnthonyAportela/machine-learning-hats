{
 "cells": [
  {
   "cell_type": "markdown",
   "metadata": {
    "collapsed": false
   },
   "source": [
    "# CMS Open Data + Machine Learning\n",
    "This notebook will take simulated and reconstructed proton-proton collision events from the 2011 CMS Open Data release and build a classifier for differentiating boosted, merged W boson jets from QCD jets. \n",
    "## Loading libraries\n",
    "First we load the relevant libraries."
   ]
  },
  {
   "cell_type": "code",
   "execution_count": 2,
   "metadata": {
    "collapsed": false
   },
   "outputs": [
    {
     "name": "stderr",
     "output_type": "stream",
     "text": [
      "Using Theano backend.\n"
     ]
    }
   ],
   "source": [
    "from sklearn.preprocessing import LabelEncoder\n",
    "from sklearn.model_selection import train_test_split\n",
    "from sklearn.model_selection import cross_val_score\n",
    "from sklearn.model_selection import StratifiedKFold\n",
    "from sklearn.preprocessing import StandardScaler\n",
    "from sklearn.pipeline import Pipeline\n",
    "from keras.models import Sequential\n",
    "from keras.layers import Activation\n",
    "from keras.layers import Dense\n",
    "from keras.optimizers import SGD\n",
    "from keras.layers import Dense\n",
    "from keras.utils import np_utils\n",
    "from keras.wrappers.scikit_learn import KerasClassifier\n",
    "import numpy as np\n",
    "import pandas as pd\n",
    "import sys\n",
    "import glob\n",
    "import matplotlib.pyplot as plt\n",
    "# fix random seed for reproducibility\n",
    "seed = 7\n",
    "np.random.seed(seed)"
   ]
  },
  {
   "cell_type": "markdown",
   "metadata": {},
   "source": [
    "## Loading numpy arrays\n",
    "Now we load two different numpy outputs. One corresponding to a sample of boosted, merged W->qq jets reconstructed from ttbar+jets simulation and one corresponding to QCD jets."
   ]
  },
  {
   "cell_type": "code",
   "execution_count": 4,
   "metadata": {
    "collapsed": true
   },
   "outputs": [],
   "source": [
    "!cp -r /uscms_data/d3/jduarte1/DSHEP2017/CMSSW_5_3_32/src/2011-jet-inclusivecrosssection-ntupleproduction-optimized/AnalysisFW/python/output_* ."
   ]
  },
  {
   "cell_type": "code",
   "execution_count": 5,
   "metadata": {
    "collapsed": false
   },
   "outputs": [],
   "source": [
    "# get input numpy arrays\n",
    "input_TT = glob.glob('output_TT/*.npy')\n",
    "input_QCD = glob.glob('output_QCD170/*.npy')\n",
    "\n",
    "list_params_TT = []\n",
    "for in_file in input_TT:\n",
    "    list_params_TT.append(np.load(in_file))\n",
    "params_TT = np.concatenate(list_params_TT)\n",
    "    \n",
    "list_params_QCD = []\n",
    "for in_file in input_QCD:\n",
    "    list_params_QCD.append(np.load(in_file))\n",
    "params_QCD = np.concatenate(list_params_QCD)"
   ]
  },
  {
   "cell_type": "markdown",
   "metadata": {},
   "source": [
    "## Convert to Pandas DataFrame\n",
    "Now we can convert the numpy arrays to data frames. First we can look at the features that are available. We can see that we have event-level information (`run`, `lumi`, `event`, `njet_ak7`), jet-level information (`jet_pt_ak7`, `jet_eta_ak7`, `jet_phi_ak7`, `jet_E_ak7`, `jet_msd_ak7`, `jet_area_ak7`, `jet_jes_ak7`, `jet_tau21_ak7`, `jet_isW_ak7`), and finally PF-candidate-level information (`ak7pfcand_pt`, `ak7pfcand_eta`, `ak7pfcand_phi`, `ak7pfcand_id`, `ak7pfcand_charge`, `ak7pfcand_ijet`). \n",
    "\n",
    "To start with, we'll just take the most relevant jet-level information as inputs (`jet_pt_ak7`, `jet_tau21_ak7`, `jet_msd_ak7`, `jet_ncand_ak7`) to try to predict whether the jet is a real boosted, merged W boson, which is given by the boolean `jet_isW_ak7` (The generator-level matching criteria is that a generated W boson which decays to qq is within the jet cone of 0.7 and the deltaR between the daughters is less than 0.7)."
   ]
  },
  {
   "cell_type": "code",
   "execution_count": 32,
   "metadata": {
    "collapsed": false
   },
   "outputs": [
    {
     "name": "stdout",
     "output_type": "stream",
     "text": [
      "('run', 'lumi', 'event', 'njet_ak7', 'jet_pt_ak7', 'jet_eta_ak7', 'jet_phi_ak7', 'jet_E_ak7', 'jet_msd_ak7', 'jet_area_ak7', 'jet_jes_ak7', 'jet_tau21_ak7', 'jet_isW_ak7', 'jet_ncand_ak7', 'ak7pfcand_pt', 'ak7pfcand_eta', 'ak7pfcand_phi', 'ak7pfcand_id', 'ak7pfcand_charge', 'ak7pfcand_ijet')\n",
      "       jet_pt_ak7  jet_tau21_ak7  jet_msd_ak7  jet_ncand_ak7  jet_isW_ak7\n",
      "5686   383.039639       0.534750   105.270651            147            1\n",
      "9408   266.859226       0.260437    84.983585             49            1\n",
      "21721  299.589020       0.224062    92.450708             40            1\n",
      "      jet_pt_ak7  jet_tau21_ak7  jet_msd_ak7  jet_ncand_ak7  jet_isW_ak7\n",
      "219   242.214637       0.613920    46.280751             58            0\n",
      "3168  208.003269       0.709101    36.922355             54            0\n",
      "7625  201.391454       0.699930    16.072006             37            0\n"
     ]
    }
   ],
   "source": [
    "# convert to pandas dataframe\n",
    "print params_TT.dtype.names\n",
    "df_TT = pd.DataFrame(params_TT,columns=['jet_pt_ak7','jet_tau21_ak7','jet_msd_ak7','jet_ncand_ak7','jet_isW_ak7'])\n",
    "df_QCD = pd.DataFrame(params_QCD,columns=['jet_pt_ak7','jet_tau21_ak7','jet_msd_ak7','jet_ncand_ak7','jet_isW_ak7'])\n",
    "\n",
    "df_TT = df_TT.drop_duplicates()\n",
    "df_TT =  df_TT[(df_TT.jet_pt_ak7 > 200) & (df_TT.jet_isW_ak7==1)]\n",
    "    \n",
    "df_QCD = df_QCD.drop_duplicates()\n",
    "df_QCD =  df_QCD[(df_QCD.jet_pt_ak7 > 200) & (df_QCD.jet_isW_ak7==0)]\n",
    "\n",
    "# take every 30th row just to make the training faster\n",
    "df_QCD = df_QCD.iloc[::30, :]\n",
    "\n",
    "df = pd.concat([df_TT,df_QCD])\n",
    "\n",
    "print df_TT.iloc[:3]\n",
    "print df_QCD.iloc[:3]"
   ]
  },
  {
   "cell_type": "markdown",
   "metadata": {},
   "source": [
    "## Plotting inputs\n",
    "Let's make some plots of the inputs for both W and QCD jets, specifically the soft-drop mass `jet_msd_ak7` and the n-subjettiness substructure variable`jet_tau21_ak7`."
   ]
  },
  {
   "cell_type": "code",
   "execution_count": 10,
   "metadata": {
    "collapsed": false
   },
   "outputs": [
    {
     "data": {
      "text/plain": [
       "<matplotlib.legend.Legend at 0x7fccc98b77d0>"
      ]
     },
     "execution_count": 10,
     "metadata": {},
     "output_type": "execute_result"
    },
    {
     "data": {
      "image/png": "[encoded data removed]",
      "text/plain": [
       "<matplotlib.figure.Figure at 0x7fccfcc61e10>"
      ]
     },
     "metadata": {},
     "output_type": "display_data"
    },
    {
     "data": {
      "image/png": "[encoded data removed]",
      "text/plain": [
       "<matplotlib.figure.Figure at 0x7fccc9dba1d0>"
      ]
     },
     "metadata": {},
     "output_type": "display_data"
    }
   ],
   "source": [
    "%matplotlib inline\n",
    "plt.figure()\n",
    "plt.xlabel('mSD')\n",
    "bins = np.linspace(0, 250, 100)\n",
    "df_QCD['jet_msd_ak7'].plot.hist(bins, alpha=0.5, label='QCD',normed=True)\n",
    "df_TT['jet_msd_ak7'].plot.hist(bins, alpha=0.5, label='W',normed=True)\n",
    "plt.legend(loc='upper right')\n",
    "plt.figure()\n",
    "plt.xlabel('tau21')\n",
    "bins = np.linspace(0, 1, 100)\n",
    "df_QCD['jet_tau21_ak7'].plot.hist(bins, alpha=0.5, label='QCD',normed=True)\n",
    "df_TT['jet_tau21_ak7'].plot.hist(bins, alpha=0.5, label='W',normed=True)\n",
    "plt.legend(loc='upper left')"
   ]
  },
  {
   "cell_type": "markdown",
   "metadata": {},
   "source": [
    "## Defining our model (neural net topology)\n",
    "We'll start with the classic densely-connected NN layer. Our model will have a single fully connected hidden layer with the same number of neurons as input variables. The weights are initialized using a small Gaussian random number. The Rectifier activation function is used. The output layer contains a single neuron in order to make predictions. It uses the sigmoid activation function in order to produce a probability output in the range of 0 to 1 that can easily and automatically be converted to class values (0 or 1).\n",
    "\n",
    "Finally, we are using the logarithmic loss function (`binary_crossentropy`) during training, the preferred loss function for binary classification problems. The model also uses the efficient Adam optimization algorithm for gradient descent and accuracy metrics will be collected when the model is trained."
   ]
  },
  {
   "cell_type": "code",
   "execution_count": 49,
   "metadata": {
    "collapsed": false
   },
   "outputs": [
    {
     "name": "stdout",
     "output_type": "stream",
     "text": [
      "____________________________________________________________________________________________________\n",
      "Layer (type)                     Output Shape          Param #     Connected to                     \n",
      "====================================================================================================\n",
      "dense_53 (Dense)                 (None, 4)             20          dense_input_27[0][0]             \n",
      "____________________________________________________________________________________________________\n",
      "dense_54 (Dense)                 (None, 1)             5           dense_53[0][0]                   \n",
      "====================================================================================================\n",
      "Total params: 25\n",
      "Trainable params: 25\n",
      "Non-trainable params: 0\n",
      "____________________________________________________________________________________________________\n"
     ]
    }
   ],
   "source": [
    "# baseline model\n",
    "NDIM = 4\n",
    "def create_baseline():\n",
    "    # create model\n",
    "    model = Sequential()\n",
    "    # this works for keras 2.0.3\n",
    "    #model.add(Dense(NDIM, input_dim=NDIM, kernel_initializer='normal', activation='relu'))\n",
    "    #model.add(Dense(1, kernel_initializer='normal', activation='sigmoid'))\n",
    "    # this works for keras 1.2.2 (CMSSW_9_0_1)\n",
    "    model.add(Dense(NDIM, init='normal', input_dim=NDIM, activation='relu'))\n",
    "    model.add(Dense(1, init='normal', activation='sigmoid'))\n",
    "    # Compile model\n",
    "    model.compile(loss='binary_crossentropy', optimizer='adam', metrics=['accuracy'])\n",
    "    return model\n",
    "model = create_baseline()\n",
    "model.summary()\n",
    "# visalize model\n",
    "#from keras.utils.visualize_util import plot\n",
    "#plot(model)"
   ]
  },
  {
   "cell_type": "markdown",
   "metadata": {},
   "source": [
    "## Cross validation\n",
    "Now we can evaluate this model using stratified cross validation in the scikit-learn framework.\n",
    "\n",
    "We pass the number of training epochs to the KerasClassifier, again using reasonable default values. Verbose output is also turned off given that the model will be created 3 times for the 3-fold cross validation being performed.\n",
    "\n",
    "Running this code produces the following output showing the mean and standard deviation of the estimated accuracy of the model on unseen data."
   ]
  },
  {
   "cell_type": "code",
   "execution_count": 50,
   "metadata": {
    "collapsed": false
   },
   "outputs": [
    {
     "name": "stdout",
     "output_type": "stream",
     "text": [
      "Results: 92.65% (0.48%)\n"
     ]
    }
   ],
   "source": [
    "dataset = df.values\n",
    "X = dataset[:,0:NDIM].astype(float)\n",
    "Y = dataset[:,NDIM]\n",
    "encoder = LabelEncoder()\n",
    "encoder.fit(Y)\n",
    "encoded_Y = encoder.transform(Y)\n",
    "# evaluate baseline model\n",
    "# this works for keras 2.0.3\n",
    "#estimator = KerasClassifier(build_fn=create_baseline, epochs=100, batch_size=5, verbose=0)\n",
    "# this works for keras 1.2.2 (CMSSW_9_0_1)\n",
    "estimator = KerasClassifier(build_fn=create_baseline, nb_epoch=100, batch_size=5, verbose=0)\n",
    "kfold = StratifiedKFold(n_splits=3, shuffle=True, random_state=seed)\n",
    "results = cross_val_score(estimator, X, encoded_Y, cv=kfold)\n",
    "print \"Results: %.2f%% (%.2f%%)\" % (results.mean()*100, results.std()*100)"
   ]
  },
  {
   "cell_type": "markdown",
   "metadata": {},
   "source": [
    "## Visualize performance with ROC curves\n",
    "Here, we visualize the performance of our model with a ROC curve for each cross validation sample."
   ]
  },
  {
   "cell_type": "code",
   "execution_count": 52,
   "metadata": {
    "collapsed": false
   },
   "outputs": [
    {
     "data": {
      "image/png": "[encoded data removed]",
      "text/plain": [
       "<matplotlib.figure.Figure at 0x7fccc82cc410>"
      ]
     },
     "metadata": {},
     "output_type": "display_data"
    }
   ],
   "source": [
    "# Run classifier with cross-validation and plot ROC curves\n",
    "from itertools import cycle\n",
    "from sklearn.metrics import roc_curve, auc\n",
    "from sklearn.model_selection import StratifiedKFold\n",
    "from scipy import interp\n",
    "\n",
    "mean_tpr = 0.0\n",
    "mean_fpr = np.linspace(0, 1, 100)\n",
    "\n",
    "colors = cycle(['cyan', 'indigo', 'seagreen', 'yellow', 'blue', 'darkorange', 'red', 'black', 'green', 'brown'])\n",
    "lw = 2\n",
    "\n",
    "i = 0\n",
    "for (train, test), color in zip(kfold.split(X, encoded_Y), colors):\n",
    "    history = model.fit(X[train], encoded_Y[train], nb_epoch=100, batch_size=5, verbose=0)\n",
    "    Y_score = model.predict(X[test])\n",
    "    # Compute ROC curve and area the curve\n",
    "    fpr, tpr, thresholds = roc_curve(encoded_Y[test], Y_score)\n",
    "    mean_tpr += interp(mean_fpr, fpr, tpr)\n",
    "    mean_tpr[0] = 0.0\n",
    "    roc_auc = auc(fpr, tpr)\n",
    "    plt.plot(fpr, tpr, lw=lw, color=color, label='ROC fold %d (area = %0.2f)' % (i, roc_auc))\n",
    "    i += 1\n",
    "plt.plot([0, 1], [0, 1], linestyle='--', lw=lw, color='k', label='Luck')\n",
    "\n",
    "mean_tpr /= kfold.get_n_splits(X, encoded_Y)\n",
    "mean_tpr[-1] = 1.0\n",
    "mean_auc = auc(mean_fpr, mean_tpr)\n",
    "plt.plot(mean_fpr, mean_tpr, color='g', linestyle='--',label='Mean ROC (area = %0.2f)' % mean_auc, lw=lw)\n",
    "plt.xlim([0, 1.0])\n",
    "plt.ylim([0, 1.0])\n",
    "plt.xlabel('False Positive Rate')\n",
    "plt.ylabel('True Positive Rate')\n",
    "plt.title('Receiver operating characteristic example')\n",
    "plt.legend(loc=\"lower right\")\n",
    "plt.show()"
   ]
  },
  {
   "cell_type": "code",
   "execution_count": null,
   "metadata": {
    "collapsed": true
   },
   "outputs": [],
   "source": []
  }
 ],
 "metadata": {
  "kernelspec": {
   "display_name": "Python 2",
   "language": "python",
   "name": "python2"
  },
  "language_info": {
   "codemirror_mode": {
    "name": "ipython",
    "version": 2
   },
   "file_extension": ".py",
   "mimetype": "text/x-python",
   "name": "python",
   "nbconvert_exporter": "python",
   "pygments_lexer": "ipython2",
   "version": "2.7.11"
  }
 },
 "nbformat": 4,
 "nbformat_minor": 0
}
