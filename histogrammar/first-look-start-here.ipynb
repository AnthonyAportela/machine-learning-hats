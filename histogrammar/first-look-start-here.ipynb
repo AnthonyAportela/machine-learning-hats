{
 "cells": [
  {
   "cell_type": "code",
   "execution_count": 1,
   "metadata": {
    "collapsed": false
   },
   "outputs": [
    {
     "data": {
      "application/javascript": [
       "\n",
       "require(['notebook'],\n",
       "  function() {\n",
       "    IPython.CodeCell.config_defaults.highlight_modes['magic_text/x-c++src'] = {'reg':[/^%%cpp/]};\n",
       "    console.log(\"JupyROOT - %%cpp magic configured\");\n",
       "  }\n",
       ");\n"
      ]
     },
     "metadata": {},
     "output_type": "display_data"
    },
    {
     "name": "stdout",
     "output_type": "stream",
     "text": [
      "Welcome to JupyROOT 6.08/05\n"
     ]
    }
   ],
   "source": [
    "import time\n",
    "\n",
    "# Your choice of plotting front-end.\n",
    "%matplotlib inline\n",
    "\n",
    "import ROOT\n",
    "tcanvas = ROOT.TCanvas(\"TCanvasName\", \"TCanvasTitle\", 800, 300)"
   ]
  },
  {
   "cell_type": "code",
   "execution_count": 2,
   "metadata": {
    "collapsed": false
   },
   "outputs": [
    {
     "name": "stdout",
     "output_type": "stream",
     "text": [
      "\r",
      "[0B/0B][100%][==================================================][0B/s]  \r\n",
      "Run: [ERROR] OS Error: File exists\r\n",
      "\r",
      "[0B/0B][100%][==================================================][0B/s]  \r\n",
      "Run: [ERROR] OS Error: File exists\r\n",
      "\r",
      "[0B/0B][100%][==================================================][0B/s]  \r\n",
      "Run: [ERROR] OS Error: File exists\r\n",
      "\r",
      "[0B/0B][100%][==================================================][0B/s]  \r\n",
      "Run: [ERROR] OS Error: File exists\r\n",
      "\r",
      "[0B/0B][100%][==================================================][0B/s]  \r\n",
      "Run: [ERROR] OS Error: File exists\r\n"
     ]
    }
   ],
   "source": [
    "!xrdcp root://cmseos.fnal.gov//store/user/hats/PyRoot/2017/qcd_samples/shuffled_sig/sig_shuffled_0.root .\n",
    "!xrdcp root://cmseos.fnal.gov//store/user/hats/PyRoot/2017/qcd_samples/shuffled_sig/sig_shuffled_1.root .\n",
    "!xrdcp root://cmseos.fnal.gov//store/user/hats/PyRoot/2017/qcd_samples/shuffled_sig/sig_shuffled_2.root .\n",
    "!xrdcp root://cmseos.fnal.gov//store/user/hats/PyRoot/2017/qcd_samples/shuffled_sig/sig_shuffled_3.root .\n",
    "!xrdcp root://cmseos.fnal.gov//store/user/hats/PyRoot/2017/qcd_samples/shuffled_sig/sig_shuffled_4.root ."
   ]
  },
  {
   "cell_type": "code",
   "execution_count": 3,
   "metadata": {
    "collapsed": false
   },
   "outputs": [
    {
     "data": {
      "text/plain": [
       "[<ROOT.TBranch object (\"ph_N\") at 0x7691510>,\n",
       " <ROOT.TBranchElement object (\"ph_pdgId\") at 0x769bad0>,\n",
       " <ROOT.TBranchElement object (\"ph_charge\") at 0x76a40e0>,\n",
       " <ROOT.TBranchElement object (\"ph_e\") at 0x76a47f0>,\n",
       " <ROOT.TBranchElement object (\"ph_eta\") at 0x76a4f00>,\n",
       " <ROOT.TBranchElement object (\"ph_phi\") at 0x76a5610>,\n",
       " <ROOT.TBranchElement object (\"ph_mass\") at 0x76a5d20>,\n",
       " <ROOT.TBranchElement object (\"ph_pt\") at 0x76a6430>,\n",
       " <ROOT.TBranchElement object (\"ph_et\") at 0x76a6b40>,\n",
       " <ROOT.TBranchElement object (\"ph_rho\") at 0x76a7250>,\n",
       " <ROOT.TBranchElement object (\"ph_superCluster_eta\") at 0x76a7960>,\n",
       " <ROOT.TBranchElement object (\"ph_superCluster_phi\") at 0x76a8100>,\n",
       " <ROOT.TBranchElement object (\"ph_sigmaIetaIeta\") at 0x76a88d0>,\n",
       " <ROOT.TBranchElement object (\"ph_hOverE\") at 0x76a90a0>,\n",
       " <ROOT.TBranchElement object (\"ph_isoGamma\") at 0x76a97b0>,\n",
       " <ROOT.TBranchElement object (\"ph_isoCh\") at 0x76a9ec0>,\n",
       " <ROOT.TBranchElement object (\"ph_passEleVeto\") at 0x76aa5d0>,\n",
       " <ROOT.TBranchElement object (\"ph_passLooseId\") at 0x76aac50>,\n",
       " <ROOT.TBranchElement object (\"ph_passMediumId\") at 0x76ab3c0>,\n",
       " <ROOT.TBranchElement object (\"ph_passTightId\") at 0x76abaf0>,\n",
       " <ROOT.TBranchElement object (\"ph_mvaVal\") at 0x76ac200>,\n",
       " <ROOT.TBranchElement object (\"ph_mvaCat\") at 0x76ac910>,\n",
       " <ROOT.TBranch object (\"rho\") at 0x76ad020>,\n",
       " <ROOT.TBranch object (\"jetAK4_N\") at 0x76aeea0>,\n",
       " <ROOT.TBranchElement object (\"jetAK4_pt\") at 0x76af3e0>,\n",
       " <ROOT.TBranchElement object (\"jetAK4_eta\") at 0x76afbd0>,\n",
       " <ROOT.TBranchElement object (\"jetAK4_mass\") at 0x76b03c0>,\n",
       " <ROOT.TBranchElement object (\"jetAK4_phi\") at 0x76b0bb0>,\n",
       " <ROOT.TBranchElement object (\"jetAK4_e\") at 0x76b13a0>,\n",
       " <ROOT.TBranchElement object (\"jetAK4_jec\") at 0x76b1b90>,\n",
       " <ROOT.TBranchElement object (\"jetAK4_jecUp\") at 0x76b2380>,\n",
       " <ROOT.TBranchElement object (\"jetAK4_jecDown\") at 0x76b2b70>,\n",
       " <ROOT.TBranchElement object (\"jetAK4_IDLoose\") at 0x76b3360>,\n",
       " <ROOT.TBranchElement object (\"jetAK4_IDTight\") at 0x76b3ad0>,\n",
       " <ROOT.TBranchElement object (\"jetAK4_IDTightLepVeto\") at 0x76b41e0>,\n",
       " <ROOT.TBranchElement object (\"jetAK4_charge\") at 0x76b49b0>,\n",
       " <ROOT.TBranchElement object (\"jetAK4_csv\") at 0x76b5140>,\n",
       " <ROOT.TBranchElement object (\"jetAK4_vtxMass\") at 0x76b5930>,\n",
       " <ROOT.TBranchElement object (\"jetAK4_vtxNtracks\") at 0x76b6120>,\n",
       " <ROOT.TBranchElement object (\"jetAK4_vtx3DVal\") at 0x76b69d0>,\n",
       " <ROOT.TBranchElement object (\"jetAK4_vtx3DSig\") at 0x76b7240>,\n",
       " <ROOT.TBranchElement object (\"jetAK4_partonFlavour\") at 0x76b7ab0>,\n",
       " <ROOT.TBranchElement object (\"jetAK4_hadronFlavour\") at 0x76b8360>,\n",
       " <ROOT.TBranchElement object (\"jetAK4_genParton_pdgID\") at 0x76b8c10>,\n",
       " <ROOT.TBranchElement object (\"jetAK4_nbHadrons\") at 0x76b94c0>,\n",
       " <ROOT.TBranchElement object (\"jetAK4_ncHadrons\") at 0x76b9d70>,\n",
       " <ROOT.TBranchElement object (\"jetAK4_jer_sf\") at 0x76ba620>,\n",
       " <ROOT.TBranchElement object (\"jetAK4_jer_sf_up\") at 0x76bae10>,\n",
       " <ROOT.TBranchElement object (\"jetAK4_jer_sf_down\") at 0x76bb6c0>,\n",
       " <ROOT.TBranchElement object (\"jetAK4_jer_sigma_pt\") at 0x76bbf70>,\n",
       " <ROOT.TBranch object (\"jetAK8_N\") at 0x76bc820>,\n",
       " <ROOT.TBranchElement object (\"jetAK8_pt\") at 0x76bcd60>,\n",
       " <ROOT.TBranchElement object (\"jetAK8_eta\") at 0x76bd4c0>,\n",
       " <ROOT.TBranchElement object (\"jetAK8_mass\") at 0x76bdc10>,\n",
       " <ROOT.TBranchElement object (\"jetAK8_phi\") at 0x76be360>,\n",
       " <ROOT.TBranchElement object (\"jetAK8_e\") at 0x76beab0>,\n",
       " <ROOT.TBranchElement object (\"jetAK8_jec\") at 0x76bf200>,\n",
       " <ROOT.TBranchElement object (\"jetAK8_jecUp\") at 0x76bf950>,\n",
       " <ROOT.TBranchElement object (\"jetAK8_jecDown\") at 0x76c00a0>,\n",
       " <ROOT.TBranchElement object (\"jetAK8_IDLoose\") at 0x76c07f0>,\n",
       " <ROOT.TBranchElement object (\"jetAK8_IDTight\") at 0x76c0f00>,\n",
       " <ROOT.TBranchElement object (\"jetAK8_IDTightLepVeto\") at 0x76c1610>,\n",
       " <ROOT.TBranchElement object (\"jetAK8_charge\") at 0x76c1de0>,\n",
       " <ROOT.TBranchElement object (\"jetAK8_partonFlavour\") at 0x76c2530>,\n",
       " <ROOT.TBranchElement object (\"jetAK8_hadronFlavour\") at 0x76c2d40>,\n",
       " <ROOT.TBranchElement object (\"jetAK8_genParton_pdgID\") at 0x76c3550>,\n",
       " <ROOT.TBranchElement object (\"jetAK8_nbHadrons\") at 0x76c3d60>,\n",
       " <ROOT.TBranchElement object (\"jetAK8_ncHadrons\") at 0x76c4570>,\n",
       " <ROOT.TBranchElement object (\"jetAK8_jer_sf\") at 0x76c4d80>,\n",
       " <ROOT.TBranchElement object (\"jetAK8_jer_sf_up\") at 0x76c54d0>,\n",
       " <ROOT.TBranchElement object (\"jetAK8_jer_sf_down\") at 0x76c5ce0>,\n",
       " <ROOT.TBranchElement object (\"jetAK8_jer_sigma_pt\") at 0x76c64f0>,\n",
       " <ROOT.TBranchElement object (\"jetAK8Puppi_jer_sf\") at 0x76c6d00>,\n",
       " <ROOT.TBranchElement object (\"jetAK8Puppi_jer_sf_up\") at 0x76c7510>,\n",
       " <ROOT.TBranchElement object (\"jetAK8Puppi_jer_sf_down\") at 0x76c7d20>,\n",
       " <ROOT.TBranchElement object (\"jetAK8Puppi_jer_sigma_pt\") at 0x76c8530>,\n",
       " <ROOT.TBranchElement object (\"jetAK8_Hbbtag\") at 0x76c8d40>,\n",
       " <ROOT.TBranchElement object (\"jetAK8_csv\") at 0x76c9490>,\n",
       " <ROOT.TBranchElement object (\"jetAK8_tau1\") at 0x76c9be0>,\n",
       " <ROOT.TBranchElement object (\"jetAK8_tau2\") at 0x76ca330>,\n",
       " <ROOT.TBranchElement object (\"jetAK8_tau3\") at 0x76caa80>,\n",
       " <ROOT.TBranchElement object (\"jetAK8_pruned_mass\") at 0x76cb1d0>,\n",
       " <ROOT.TBranchElement object (\"jetAK8_pruned_massCorr\") at 0x76cb9e0>,\n",
       " <ROOT.TBranchElement object (\"jetAK8_pruned_jec\") at 0x76cc1f0>,\n",
       " <ROOT.TBranchElement object (\"jetAK8_pruned_jecUp\") at 0x76cca00>,\n",
       " <ROOT.TBranchElement object (\"jetAK8_pruned_jecDown\") at 0x76cd210>,\n",
       " <ROOT.TBranchElement object (\"jetAK8_softdrop_mass\") at 0x76cda20>,\n",
       " <ROOT.TBranchElement object (\"jetAK8_softdrop_massCorr\") at 0x76ce230>,\n",
       " <ROOT.TBranchElement object (\"jetAK8_softdrop_jec\") at 0x76cea40>,\n",
       " <ROOT.TBranchElement object (\"jetAK8_softdrop_jecUp\") at 0x76cf250>,\n",
       " <ROOT.TBranchElement object (\"jetAK8_softdrop_jecDown\") at 0x76cfaa0>,\n",
       " <ROOT.TBranchElement object (\"jetAK8_subjet_softdrop_N\") at 0x76d0350>,\n",
       " <ROOT.TBranchElement object (\"jetAK8_subjet_softdrop_pt\") at 0x76d0bc0>,\n",
       " <ROOT.TBranchElement object (\"jetAK8_subjet_softdrop_eta\") at 0x76d1570>,\n",
       " <ROOT.TBranchElement object (\"jetAK8_subjet_softdrop_mass\") at 0x76d1f20>,\n",
       " <ROOT.TBranchElement object (\"jetAK8_subjet_softdrop_phi\") at 0x76d28d0>,\n",
       " <ROOT.TBranchElement object (\"jetAK8_subjet_softdrop_e\") at 0x76d3280>,\n",
       " <ROOT.TBranchElement object (\"jetAK8_subjet_softdrop_charge\") at 0x76d3c30>,\n",
       " <ROOT.TBranchElement object (\"jetAK8_subjet_softdrop_genParton_pdgID\") at 0x76d45e0>,\n",
       " <ROOT.TBranchElement object (\"jetAK8_subjet_softdrop_nbHadrons\") at 0x76d4fd0>,\n",
       " <ROOT.TBranchElement object (\"jetAK8_subjet_softdrop_ncHadrons\") at 0x76d59c0>,\n",
       " <ROOT.TBranchElement object (\"jetAK8_subjet_softdrop_partonFlavour\") at 0x76d63b0>,\n",
       " <ROOT.TBranchElement object (\"jetAK8_subjet_softdrop_hadronFlavour\") at 0x76d6e80>,\n",
       " <ROOT.TBranchElement object (\"jetAK8_subjet_softdrop_csv\") at 0x76d7950>,\n",
       " <ROOT.TBranchElement object (\"jetAK8_puppi_pt\") at 0x76d8300>,\n",
       " <ROOT.TBranchElement object (\"jetAK8_puppi_eta\") at 0x76d8ad0>,\n",
       " <ROOT.TBranchElement object (\"jetAK8_puppi_mass\") at 0x76d92e0>,\n",
       " <ROOT.TBranchElement object (\"jetAK8_puppi_phi\") at 0x76d9af0>,\n",
       " <ROOT.TBranchElement object (\"jetAK8_puppi_e\") at 0x76da300>,\n",
       " <ROOT.TBranchElement object (\"jetAK8_puppi_pruned_mass\") at 0x76daa50>,\n",
       " <ROOT.TBranchElement object (\"jetAK8_puppi_pruned_massCorr\") at 0x76db190>,\n",
       " <ROOT.TBranchElement object (\"jetAK8_puppi_pruned_jec\") at 0x76db930>,\n",
       " <ROOT.TBranchElement object (\"jetAK8_puppi_softdrop_mass\") at 0x76dc0d0>,\n",
       " <ROOT.TBranchElement object (\"jetAK8_puppi_softdrop_massCorr\") at 0x76dc940>,\n",
       " <ROOT.TBranchElement object (\"jetAK8_puppi_softdrop_jec\") at 0x76dd150>,\n",
       " <ROOT.TBranchElement object (\"jetAK8_puppi_tau1\") at 0x76dd960>,\n",
       " <ROOT.TBranchElement object (\"jetAK8_puppi_tau2\") at 0x76de170>,\n",
       " <ROOT.TBranchElement object (\"jetAK8_puppi_tau3\") at 0x76de980>,\n",
       " <ROOT.TBranchElement object (\"jetAK8_subjet_puppi_softdrop_N\") at 0x76df190>,\n",
       " <ROOT.TBranchElement object (\"jetAK8_subjet_puppi_softdrop_pt\") at 0x76df8d0>,\n",
       " <ROOT.TBranchElement object (\"jetAK8_subjet_puppi_softdrop_eta\") at 0x76e0100>,\n",
       " <ROOT.TBranchElement object (\"jetAK8_subjet_puppi_softdrop_mass\") at 0x76e0970>,\n",
       " <ROOT.TBranchElement object (\"jetAK8_subjet_puppi_softdrop_phi\") at 0x76e11e0>,\n",
       " <ROOT.TBranchElement object (\"jetAK8_subjet_puppi_softdrop_e\") at 0x76e1a50>,\n",
       " <ROOT.TBranchElement object (\"jetAK8_subjet_puppi_softdrop_charge\") at 0x76e2280>,\n",
       " <ROOT.TBranchElement object (\"jetAK8_subjet_puppi_softdrop_genParton_pdgID\") at 0x76e2af0>,\n",
       " <ROOT.TBranchElement object (\"jetAK8_subjet_puppi_softdrop_nbHadrons\") at 0x76e3360>,\n",
       " <ROOT.TBranchElement object (\"jetAK8_subjet_puppi_softdrop_ncHadrons\") at 0x76e3bd0>,\n",
       " <ROOT.TBranchElement object (\"jetAK8_subjet_puppi_softdrop_partonFlavour\") at 0x76e4440>,\n",
       " <ROOT.TBranchElement object (\"jetAK8_subjet_puppi_softdrop_hadronFlavour\") at 0x76e4cb0>,\n",
       " <ROOT.TBranchElement object (\"jetAK8_subjet_puppi_softdrop_csv\") at 0x76e5520>,\n",
       " <ROOT.TBranchElement object (\"jetAK8_subjet_pruned_N\") at 0x76e5d90>,\n",
       " <ROOT.TBranchElement object (\"jetAK8_subjet_pruned_pt\") at 0x76e6600>,\n",
       " <ROOT.TBranchElement object (\"jetAK8_subjet_pruned_eta\") at 0x76e6fb0>,\n",
       " <ROOT.TBranchElement object (\"jetAK8_subjet_pruned_mass\") at 0x76e7960>,\n",
       " <ROOT.TBranchElement object (\"jetAK8_subjet_pruned_phi\") at 0x76e8310>,\n",
       " <ROOT.TBranchElement object (\"jetAK8_subjet_pruned_e\") at 0x76e8cc0>,\n",
       " <ROOT.TBranchElement object (\"jetAK8_subjet_pruned_charge\") at 0x76e9670>,\n",
       " <ROOT.TBranchElement object (\"jetAK8_subjet_pruned_genParton_pdgID\") at 0x76ea020>,\n",
       " <ROOT.TBranchElement object (\"jetAK8_subjet_pruned_nbHadrons\") at 0x76eaa10>,\n",
       " <ROOT.TBranchElement object (\"jetAK8_subjet_pruned_ncHadrons\") at 0x76eb3c0>,\n",
       " <ROOT.TBranchElement object (\"jetAK8_subjet_pruned_partonFlavour\") at 0x76ebd70>,\n",
       " <ROOT.TBranchElement object (\"jetAK8_subjet_pruned_hadronFlavour\") at 0x76ec760>,\n",
       " <ROOT.TBranchElement object (\"jetAK8_subjet_pruned_csv\") at 0x76ed150>,\n",
       " <ROOT.TBranchElement object (\"HLT_isFired\") at 0x76edb00>,\n",
       " <ROOT.TBranch object (\"passFilter_HBHE\") at 0x76f2e30>,\n",
       " <ROOT.TBranch object (\"passFilter_HBHELoose\") at 0x76f4e60>,\n",
       " <ROOT.TBranch object (\"passFilter_HBHETight\") at 0x76f5460>,\n",
       " <ROOT.TBranch object (\"passFilter_HBHEIso\") at 0x76f5a60>,\n",
       " <ROOT.TBranch object (\"passFilter_CSCHalo\") at 0x76f6060>,\n",
       " <ROOT.TBranch object (\"passFilter_CSCTightHalo2015\") at 0x76f6660>,\n",
       " <ROOT.TBranch object (\"passFilter_HCALlaser\") at 0x76f6c60>,\n",
       " <ROOT.TBranch object (\"passFilter_ECALDeadCell\") at 0x76f7260>,\n",
       " <ROOT.TBranch object (\"passFilter_GoodVtx\") at 0x76f7860>,\n",
       " <ROOT.TBranch object (\"passFilter_TrkFailure\") at 0x76f7e60>,\n",
       " <ROOT.TBranch object (\"passFilter_EEBadSc\") at 0x76f8460>,\n",
       " <ROOT.TBranch object (\"passFilter_ECALlaser\") at 0x76f8a60>,\n",
       " <ROOT.TBranch object (\"passFilter_TrkPOG\") at 0x76f9060>,\n",
       " <ROOT.TBranch object (\"passFilter_TrkPOG_manystrip\") at 0x76f9660>,\n",
       " <ROOT.TBranch object (\"passFilter_TrkPOG_toomanystrip\") at 0x76f9c60>,\n",
       " <ROOT.TBranch object (\"passFilter_TrkPOG_logError\") at 0x76fa270>,\n",
       " <ROOT.TBranch object (\"passFilter_METFilters\") at 0x76fa870>,\n",
       " <ROOT.TBranch object (\"passFilter_CSCTightHaloTrkMuUnvetoFilter\") at 0x76fae70>,\n",
       " <ROOT.TBranch object (\"passFilter_globalTightHalo2016\") at 0x76fb4b0>,\n",
       " <ROOT.TBranch object (\"passFilter_HcalStripHalo\") at 0x76fbac0>,\n",
       " <ROOT.TBranch object (\"passFilter_chargedHadronTrackResolution\") at 0x76fc0c0>,\n",
       " <ROOT.TBranch object (\"passFilter_muonBadTrack\") at 0x76fc700>,\n",
       " <ROOT.TBranch object (\"EVENT_event\") at 0x76fcd00>,\n",
       " <ROOT.TBranch object (\"EVENT_run\") at 0x76fd240>,\n",
       " <ROOT.TBranch object (\"EVENT_lumiBlock\") at 0x76fd780>,\n",
       " <ROOT.TBranch object (\"PV_N\") at 0x76fdd50>,\n",
       " <ROOT.TBranch object (\"PV_filter\") at 0x76fe290>,\n",
       " <ROOT.TBranchElement object (\"PV_chi2\") at 0x76fe7d0>,\n",
       " <ROOT.TBranchElement object (\"PV_ndof\") at 0x76fef40>,\n",
       " <ROOT.TBranchElement object (\"PV_rho\") at 0x76ff650>,\n",
       " <ROOT.TBranchElement object (\"PV_z\") at 0x76ffd60>]"
      ]
     },
     "execution_count": 3,
     "metadata": {},
     "output_type": "execute_result"
    }
   ],
   "source": [
    "tchain = ROOT.TChain()\n",
    "tchain.Add(\"sig_shuffled_0.root/tree\")\n",
    "tchain.Add(\"sig_shuffled_1.root/tree\")\n",
    "tchain.Add(\"sig_shuffled_2.root/tree\")\n",
    "tchain.Add(\"sig_shuffled_3.root/tree\")\n",
    "tchain.Add(\"sig_shuffled_4.root/tree\")\n",
    "list(tchain.GetListOfBranches())"
   ]
  },
  {
   "cell_type": "code",
   "execution_count": 4,
   "metadata": {
    "collapsed": true
   },
   "outputs": [],
   "source": [
    "tchain.SetBranchStatus(\"*\", 0)\n",
    "for branch in [\"jetAK4_N\",\n",
    "               \"jetAK4_pt\",\n",
    "               \"jetAK4_eta\",\n",
    "               \"jetAK4_mass\",\n",
    "               \"jetAK4_phi\",\n",
    "               \"jetAK4_e\",\n",
    "               \"jetAK4_jec\",\n",
    "               \"jetAK4_IDLoose\"]:\n",
    "    tchain.SetBranchStatus(branch, 1)"
   ]
  },
  {
   "cell_type": "code",
   "execution_count": 5,
   "metadata": {
    "collapsed": false
   },
   "outputs": [
    {
     "name": "stdout",
     "output_type": "stream",
     "text": [
      "This took 10.7659780979 seconds.\n"
     ]
    }
   ],
   "source": [
    "dijetMass_hist = ROOT.TH1D(\"dijetMass_hist\", \"dijet mass [GeV]\", 100, 0, 1000)\n",
    "dijetEtBalance_hist = ROOT.TH1D(\"dijetEtBalance_hist\", \"dijet ET balance\", 100, 0, 1)\n",
    "cosThetaStar_hist = ROOT.TH1D(\"cosThetaStar_hist\", \"cos(theta*)\", 100, -1, 1)\n",
    "\n",
    "leadingJet = ROOT.TLorentzVector()\n",
    "subleadingJet = ROOT.TLorentzVector()\n",
    "\n",
    "startTime = time.time()\n",
    "for event in tchain:\n",
    "    if event.jetAK4_N < 2:\n",
    "        continue\n",
    "    \n",
    "    leadingJet.SetPtEtaPhiE(event.jetAK4_pt.at(0),\n",
    "                            event.jetAK4_eta.at(0),\n",
    "                            event.jetAK4_phi.at(0),\n",
    "                            event.jetAK4_e.at(0))\n",
    "    \n",
    "    subleadingJet.SetPtEtaPhiE(event.jetAK4_pt.at(1),\n",
    "                               event.jetAK4_eta.at(1),\n",
    "                               event.jetAK4_phi.at(1),\n",
    "                               event.jetAK4_e.at(1))\n",
    "    \n",
    "    dijet = leadingJet + subleadingJet\n",
    "\n",
    "    boostedLeadingJet = leadingJet\n",
    "    boostedLeadingJet.Boost(-dijet.BoostVector())\n",
    "    \n",
    "    dijetMass_hist.Fill(dijet.M())\n",
    "    dijetEtBalance_hist.Fill(subleadingJet.Et() / leadingJet.Et())\n",
    "    cosThetaStar_hist.Fill(boostedLeadingJet.Pz() / boostedLeadingJet.P())\n",
    "\n",
    "endTime = time.time()\n",
    "\n",
    "print \"This took\", endTime - startTime, \"seconds.\""
   ]
  },
  {
   "cell_type": "code",
   "execution_count": 6,
   "metadata": {
    "collapsed": false
   },
   "outputs": [
    {
     "data": {
      "image/png": "[encoded data removed]",
      "text/plain": [
       "<IPython.core.display.Image object>"
      ]
     },
     "metadata": {},
     "output_type": "display_data"
    }
   ],
   "source": [
    "tcanvas.Clear()\n",
    "tcanvas.Divide(3, 1)\n",
    "\n",
    "tcanvas.cd(1); dijetMass_hist.Draw()\n",
    "tcanvas.cd(2); dijetEtBalance_hist.Draw()\n",
    "tcanvas.cd(3); cosThetaStar_hist.Draw()\n",
    "tcanvas.Draw()"
   ]
  },
  {
   "cell_type": "code",
   "execution_count": 7,
   "metadata": {
    "collapsed": false
   },
   "outputs": [
    {
     "name": "stdout",
     "output_type": "stream",
     "text": [
      "This took 17.8560531139 seconds.\n"
     ]
    }
   ],
   "source": [
    "from histogrammar import *\n",
    "\n",
    "Bundle = UntypedLabel    # a naming convention we'll be changing to in Histogrammar 2.0\n",
    "\n",
    "def cosThetaStar(jets):\n",
    "    boostedLeading = jets[0]\n",
    "    boostedLeading.Boost(-(jets[0] + jets[1]).BoostVector())\n",
    "    return boostedLeading.Pz() / boostedLeading.P()\n",
    "\n",
    "histograms = Bundle(\n",
    "    dijetMass      = Bin(100, 0, 1000, lambda jets: (jets[0] + jets[1]).M()),\n",
    "    dijetEtBalance = Bin(100, 0, 1, lambda jets: jets[1].Et() / jets[0].Et()),\n",
    "    cosThetaStar   = Bin(100, -1, 1, cosThetaStar))\n",
    "\n",
    "leadingJet = ROOT.TLorentzVector()\n",
    "subleadingJet = ROOT.TLorentzVector()\n",
    "\n",
    "startTime = time.time()\n",
    "for event in tchain:\n",
    "    if event.jetAK4_N < 2:\n",
    "        continue\n",
    "    \n",
    "    leadingJet.SetPtEtaPhiE(event.jetAK4_pt.at(0),\n",
    "                            event.jetAK4_eta.at(0),\n",
    "                            event.jetAK4_phi.at(0),\n",
    "                            event.jetAK4_e.at(0))\n",
    "    \n",
    "    subleadingJet.SetPtEtaPhiE(event.jetAK4_pt.at(1),\n",
    "                               event.jetAK4_eta.at(1),\n",
    "                               event.jetAK4_phi.at(1),\n",
    "                               event.jetAK4_e.at(1))\n",
    "    \n",
    "    histograms.fill([leadingJet, subleadingJet])\n",
    "\n",
    "endTime = time.time()\n",
    "\n",
    "print \"This took\", endTime - startTime, \"seconds.\""
   ]
  },
  {
   "cell_type": "code",
   "execution_count": 8,
   "metadata": {
    "collapsed": false
   },
   "outputs": [
    {
     "data": {
      "image/png": "[encoded data removed]",
      "text/plain": [
       "<IPython.core.display.Image object>"
      ]
     },
     "metadata": {},
     "output_type": "display_data"
    }
   ],
   "source": [
    "dijetMass_hist2 = histograms.get(\"dijetMass\").plot.root(\"dijetMass_hist2\", \"dijet mass [GeV]\")\n",
    "dijetEtBalance_hist2 = histograms.get(\"dijetEtBalance\").plot.root(\"dijetEtBalance_hist2\", \"dijet ET balance\")\n",
    "cosThetaStar_hist2 = histograms.get(\"cosThetaStar\").plot.root(\"cosThetaStar_hist2\", \"cos(theta*)\")\n",
    "\n",
    "tcanvas.Clear()\n",
    "tcanvas.Divide(3, 1)\n",
    "\n",
    "tcanvas.cd(1); dijetMass_hist2.Draw()\n",
    "tcanvas.cd(2); dijetEtBalance_hist2.Draw()\n",
    "tcanvas.cd(3); cosThetaStar_hist2.Draw()\n",
    "tcanvas.Draw()"
   ]
  },
  {
   "cell_type": "code",
   "execution_count": 9,
   "metadata": {
    "collapsed": false
   },
   "outputs": [
    {
     "data": {
      "text/plain": [
       "True"
      ]
     },
     "execution_count": 9,
     "metadata": {},
     "output_type": "execute_result"
    }
   ],
   "source": [
    "# yes, we're creating new TLorentzVectors, but on the stack, which is faster than allocation with \"new\"\n",
    "ROOT.gInterpreter.Declare(\"\"\"\n",
    "TLorentzVector lorentzVector(int i, vector<float>& pt, vector<float>& eta, vector<float>& phi, vector<float>& e) {\n",
    "    TLorentzVector out;\n",
    "    out.SetPtEtaPhiE(pt.at(i), eta.at(i), phi.at(i), e.at(i));\n",
    "    return out;\n",
    "}\n",
    "\"\"\")\n",
    "\n",
    "ROOT.gInterpreter.Declare(\"\"\"\n",
    "double cosThetaStar(TLorentzVector leadingJet, TLorentzVector subleadingJet) {\n",
    "    leadingJet.Boost(-(leadingJet + subleadingJet).BoostVector());\n",
    "    return leadingJet.Pz() / leadingJet.P();\n",
    "}\n",
    "\"\"\")"
   ]
  },
  {
   "cell_type": "code",
   "execution_count": 10,
   "metadata": {
    "collapsed": false
   },
   "outputs": [
    {
     "name": "stdout",
     "output_type": "stream",
     "text": [
      "This took 1.16216921806 seconds.\n"
     ]
    }
   ],
   "source": [
    "histograms = Select(\"jetAK4_N >= 2\", Bundle(\n",
    "    dijetMass = Bin(100, 0, 1000, \"\"\"\n",
    "        (lorentzVector(0, jetAK4_pt, jetAK4_eta, jetAK4_phi, jetAK4_e) +\n",
    "         lorentzVector(1, jetAK4_pt, jetAK4_eta, jetAK4_phi, jetAK4_e)\n",
    "        ).M()\n",
    "    \"\"\"),\n",
    "    dijetEtBalance = Bin(100, 0, 1, \"\"\"\n",
    "        lorentzVector(1, jetAK4_pt, jetAK4_eta, jetAK4_phi, jetAK4_e).Et() /\n",
    "        lorentzVector(0, jetAK4_pt, jetAK4_eta, jetAK4_phi, jetAK4_e).Et()\n",
    "    \"\"\"),\n",
    "    cosThetaStar   = Bin(100, -1, 1, \"\"\"cosThetaStar(\n",
    "        lorentzVector(0, jetAK4_pt, jetAK4_eta, jetAK4_phi, jetAK4_e),\n",
    "        lorentzVector(1, jetAK4_pt, jetAK4_eta, jetAK4_phi, jetAK4_e))\"\"\")\n",
    "))\n",
    "\n",
    "startTime = time.time()\n",
    "histograms.fill.root(tchain)\n",
    "endTime = time.time()\n",
    "\n",
    "print \"This took\", endTime - startTime, \"seconds.\""
   ]
  },
  {
   "cell_type": "code",
   "execution_count": 11,
   "metadata": {
    "collapsed": false
   },
   "outputs": [
    {
     "data": {
      "image/png": "[encoded data removed]",
      "text/plain": [
       "<IPython.core.display.Image object>"
      ]
     },
     "metadata": {},
     "output_type": "display_data"
    }
   ],
   "source": [
    "dijetMass_hist3 = histograms.get(\"dijetMass\").plot.root(\"dijetMass_hist3\", \"dijet mass [GeV]\")\n",
    "dijetEtBalance_hist3 = histograms.get(\"dijetEtBalance\").plot.root(\"dijetEtBalance_hist3\", \"dijet ET balance\")\n",
    "cosThetaStar_hist3 = histograms.get(\"cosThetaStar\").plot.root(\"cosThetaStar_hist3\", \"cos(theta*)\")\n",
    "\n",
    "tcanvas.Clear()\n",
    "tcanvas.Divide(3, 1)\n",
    "\n",
    "tcanvas.cd(1); dijetMass_hist.Draw()\n",
    "tcanvas.cd(2); dijetEtBalance_hist.Draw()\n",
    "tcanvas.cd(3); cosThetaStar_hist.Draw()\n",
    "tcanvas.Draw()"
   ]
  },
  {
   "cell_type": "code",
   "execution_count": 12,
   "metadata": {
    "collapsed": false
   },
   "outputs": [
    {
     "name": "stdout",
     "output_type": "stream",
     "text": [
      "\u001b[0mroot [0] \r\n",
      "Processing rootmacro.C++...\r\n",
      "\u001b[0mInfo in <TUnixSystem::ACLiC>: creating shared library /uscms_data/d2/pivarski/CMSSW_9_0_1/src/scientific-python-hats/histogrammar/./rootmacro_C.so\r\n",
      "This took 0.770954 seconds.\r\n"
     ]
    }
   ],
   "source": [
    "!root -l rootmacro.C++"
   ]
  },
  {
   "cell_type": "code",
   "execution_count": 31,
   "metadata": {
    "collapsed": false
   },
   "outputs": [
    {
     "ename": "AttributeError",
     "evalue": "'module' object has no attribute 'CategorizeHistogramMethods'",
     "output_type": "error",
     "traceback": [
      "\u001b[0;31m\u001b[0m",
      "\u001b[0;31mAttributeError\u001b[0mTraceback (most recent call last)",
      "\u001b[0;32m<ipython-input-31-b21cf4c54c16>\u001b[0m in \u001b[0;36m<module>\u001b[0;34m()\u001b[0m\n\u001b[1;32m      6\u001b[0m \u001b[0mbarchart\u001b[0m\u001b[0;34m.\u001b[0m\u001b[0mfill\u001b[0m\u001b[0;34m(\u001b[0m\u001b[0;34m\"Hg C++\"\u001b[0m\u001b[0;34m,\u001b[0m \u001b[0;36m1.16\u001b[0m\u001b[0;34m)\u001b[0m\u001b[0;34m\u001b[0m\u001b[0m\n\u001b[1;32m      7\u001b[0m \u001b[0mbarchart\u001b[0m\u001b[0;34m.\u001b[0m\u001b[0mfill\u001b[0m\u001b[0;34m(\u001b[0m\u001b[0;34m\"pure C++\"\u001b[0m\u001b[0;34m,\u001b[0m \u001b[0;36m0.77\u001b[0m\u001b[0;34m)\u001b[0m\u001b[0;34m\u001b[0m\u001b[0m\n\u001b[0;32m----> 8\u001b[0;31m \u001b[0mbarchart\u001b[0m\u001b[0;34m.\u001b[0m\u001b[0m__class__\u001b[0m \u001b[0;34m=\u001b[0m \u001b[0mhistogrammar\u001b[0m\u001b[0;34m.\u001b[0m\u001b[0mplot\u001b[0m\u001b[0;34m.\u001b[0m\u001b[0mmatplotlib\u001b[0m\u001b[0;34m.\u001b[0m\u001b[0mCategorizeHistogramMethods\u001b[0m\u001b[0;34m\u001b[0m\u001b[0m\n\u001b[0m",
      "\u001b[0;31mAttributeError\u001b[0m: 'module' object has no attribute 'CategorizeHistogramMethods'"
     ]
    }
   ],
   "source": [
    "barchart = Categorize(lambda x: x)\n",
    "barchart.fill(\"PyROOT\", 10.76)\n",
    "barchart.fill(\"Hg Python\", 17.85)\n",
    "barchart.fill(\"Hg C++\", 1.16)\n",
    "barchart.fill(\"pure C++\", 0.77)"
   ]
  },
  {
   "cell_type": "code",
   "execution_count": 32,
   "metadata": {
    "collapsed": false
   },
   "outputs": [
    {
     "data": {
      "text/plain": [
       "['FractionedHistogramMethods',\n",
       " 'HistogramMethods',\n",
       " 'PartitionedHistogramMethods',\n",
       " 'ProfileErrMethods',\n",
       " 'ProfileMethods',\n",
       " 'SparselyHistogramMethods',\n",
       " 'SparselyProfileErrMethods',\n",
       " 'SparselyProfileMethods',\n",
       " 'SparselyTwoDimensionallyHistogramMethods',\n",
       " 'StackedHistogramMethods',\n",
       " 'TwoDimensionallyHistogramMethods',\n",
       " '__builtins__',\n",
       " '__doc__',\n",
       " '__file__',\n",
       " '__name__',\n",
       " '__package__',\n",
       " 'absolute_import',\n",
       " 'prepare2Dsparse',\n",
       " 'set2Dsparse',\n",
       " 'types']"
      ]
     },
     "execution_count": 32,
     "metadata": {},
     "output_type": "execute_result"
    }
   ],
   "source": []
  },
  {
   "cell_type": "code",
   "execution_count": null,
   "metadata": {
    "collapsed": true
   },
   "outputs": [],
   "source": []
  }
 ],
 "metadata": {
  "kernelspec": {
   "display_name": "Python 2",
   "language": "python",
   "name": "python2"
  },
  "language_info": {
   "codemirror_mode": {
    "name": "ipython",
    "version": 2
   },
   "file_extension": ".py",
   "mimetype": "text/x-python",
   "name": "python",
   "nbconvert_exporter": "python",
   "pygments_lexer": "ipython2",
   "version": "2.7.11"
  }
 },
 "nbformat": 4,
 "nbformat_minor": 1
}
