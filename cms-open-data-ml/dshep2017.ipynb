{
 "cells": [
  {
   "cell_type": "markdown",
   "metadata": {
    "collapsed": false
   },
   "source": [
    "# CMS Open Data + Machine Learning\n",
    "This notebook will take simulated and reconstructed proton-proton collision events from the 2011 CMS Open Data release and build a classifier for differentiating boosted, merged W boson jets from QCD jets. \n",
    "## Loading libraries\n",
    "First we load the relevant libraries."
   ]
  },
  {
   "cell_type": "code",
   "execution_count": 1,
   "metadata": {
    "collapsed": false
   },
   "outputs": [
    {
     "name": "stderr",
     "output_type": "stream",
     "text": [
      "Using Theano backend.\n"
     ]
    }
   ],
   "source": [
    "from sklearn.preprocessing import LabelEncoder\n",
    "from sklearn.model_selection import train_test_split\n",
    "from sklearn.model_selection import cross_val_score\n",
    "from sklearn.model_selection import StratifiedKFold\n",
    "from sklearn.preprocessing import StandardScaler\n",
    "from sklearn.pipeline import Pipeline\n",
    "from keras.models import Sequential, Model\n",
    "from keras.layers import Activation\n",
    "from keras.layers import Dense\n",
    "from keras.optimizers import SGD\n",
    "from keras.layers import Input, Dense\n",
    "from keras.utils import np_utils\n",
    "from keras.wrappers.scikit_learn import KerasClassifier\n",
    "from keras.callbacks import EarlyStopping\n",
    "import numpy as np\n",
    "import pandas as pd\n",
    "import sys\n",
    "import glob\n",
    "import matplotlib.pyplot as plt\n",
    "# fix random seed for reproducibility\n",
    "seed = 7\n",
    "np.random.seed(seed)"
   ]
  },
  {
   "cell_type": "markdown",
   "metadata": {},
   "source": [
    "## Loading numpy arrays\n",
    "Now we load two different numpy outputs. One corresponding to a sample of boosted, merged W->qq jets reconstructed from ttbar+jets simulation and several other samples corresponding to QCD jets with different `pthat` ranges."
   ]
  },
  {
   "cell_type": "code",
   "execution_count": 42,
   "metadata": {
    "collapsed": false
   },
   "outputs": [
    {
     "name": "stdout",
     "output_type": "stream",
     "text": [
      "[156.4MB/156.4MB][100%][==================================================][39.1MB/s]  \n",
      "[156.4MB/156.4MB][100%][==================================================][39.1MB/s]  \n",
      "[156.4MB/156.4MB][100%][==================================================][52.13MB/s]  \n",
      "[156.4MB/156.4MB][100%][==================================================][52.13MB/s]  \n",
      "[67.49MB/67.49MB][100%][==================================================][33.75MB/s]  \n",
      "[122.4MB/122.4MB][100%][==================================================][40.79MB/s]  \n",
      "[118.3MB/118.3MB][100%][==================================================][59.14MB/s]  \n",
      "[105.8MB/105.8MB][100%][==================================================][52.89MB/s]  \n",
      "[108.1MB/108.1MB][100%][==================================================][54.05MB/s]  \n",
      "[110.2MB/110.2MB][100%][==================================================][55.08MB/s]  \n",
      "[121.1MB/121.1MB][100%][==================================================][40.37MB/s]  \n",
      "[68.07MB/68.07MB][100%][==================================================][68.07MB/s]  \n",
      "[116.7MB/116.7MB][100%][==================================================][58.36MB/s]  \n",
      "[115.2MB/115.2MB][100%][==================================================][57.59MB/s]  \n",
      "[69.14MB/69.14MB][100%][==================================================][34.57MB/s]  \n"
     ]
    }
   ],
   "source": [
    "!xrdcp root://cmseos.fnal.gov//eos/uscms/store/user/woodson/DSHEP2017/CMS_MonteCarlo2011_Summer11LegDR_QCD_Pt-120to170_TuneZ2_7TeV_pythia6_AODSIM_PU_S13_START53_LV6-v1_00000_file_index/params0.npy_job0_file0.npy output_QCD120/\n",
    "!xrdcp root://cmseos.fnal.gov//eos/uscms/store/user/woodson/DSHEP2017/CMS_MonteCarlo2011_Summer11LegDR_QCD_Pt-170to300_TuneZ2_7TeV_pythia6_AODSIM_PU_S13_START53_LV6-v1_00000_file_index/params0.npy_job0_file0.npy output_QCD170/\n",
    "!xrdcp root://cmseos.fnal.gov//eos/uscms/store/user/woodson/DSHEP2017/CMS_MonteCarlo2011_Summer11LegDR_QCD_Pt-300to470_TuneZ2_7TeV_pythia6_AODSIM_PU_S13_START53_LV6-v1_00000_file_index/params0.npy_job0_file0.npy output_QCD300/\n",
    "!xrdcp root://cmseos.fnal.gov//eos/uscms/store/user/woodson/DSHEP2017/CMS_MonteCarlo2011_Summer11LegDR_QCD_Pt-470to600_TuneZ2_7TeV_pythia6_AODSIM_PU_S13_START53_LV6-v1_00000_file_index/params0.npy_job0_file0.npy output_QCD470/\n",
    "!xrdcp root://cmseos.fnal.gov://eos/uscms/store/user/woodson/DSHEP2017/CMS_MonteCarlo2011_Summer11LegDR_TT_weights_CT10_TuneZ2_7TeV-powheg-pythia-tauola_AODSIM_PU_S13_START53_LV6-v2_00000_file_index/params0.npy_job50_file0.npy output_TT/\n",
    "!xrdcp root://cmseos.fnal.gov://eos/uscms/store/user/woodson/DSHEP2017/CMS_MonteCarlo2011_Summer11LegDR_TT_weights_CT10_TuneZ2_7TeV-powheg-pythia-tauola_AODSIM_PU_S13_START53_LV6-v2_00000_file_index/params0.npy_job51_file0.npy output_TT/\n",
    "!xrdcp root://cmseos.fnal.gov://eos/uscms/store/user/woodson/DSHEP2017/CMS_MonteCarlo2011_Summer11LegDR_TT_weights_CT10_TuneZ2_7TeV-powheg-pythia-tauola_AODSIM_PU_S13_START53_LV6-v2_00000_file_index/params0.npy_job52_file0.npy output_TT/\n",
    "!xrdcp root://cmseos.fnal.gov://eos/uscms/store/user/woodson/DSHEP2017/CMS_MonteCarlo2011_Summer11LegDR_TT_weights_CT10_TuneZ2_7TeV-powheg-pythia-tauola_AODSIM_PU_S13_START53_LV6-v2_00000_file_index/params0.npy_job53_file0.npy output_TT/\n",
    "!xrdcp root://cmseos.fnal.gov://eos/uscms/store/user/woodson/DSHEP2017/CMS_MonteCarlo2011_Summer11LegDR_TT_weights_CT10_TuneZ2_7TeV-powheg-pythia-tauola_AODSIM_PU_S13_START53_LV6-v2_00000_file_index/params0.npy_job54_file0.npy output_TT/\n",
    "!xrdcp root://cmseos.fnal.gov://eos/uscms/store/user/woodson/DSHEP2017/CMS_MonteCarlo2011_Summer11LegDR_TT_weights_CT10_TuneZ2_7TeV-powheg-pythia-tauola_AODSIM_PU_S13_START53_LV6-v2_00000_file_index/params0.npy_job55_file0.npy output_TT/\n",
    "!xrdcp root://cmseos.fnal.gov://eos/uscms/store/user/woodson/DSHEP2017/CMS_MonteCarlo2011_Summer11LegDR_TT_weights_CT10_TuneZ2_7TeV-powheg-pythia-tauola_AODSIM_PU_S13_START53_LV6-v2_00000_file_index/params0.npy_job56_file0.npy output_TT/\n",
    "!xrdcp root://cmseos.fnal.gov://eos/uscms/store/user/woodson/DSHEP2017/CMS_MonteCarlo2011_Summer11LegDR_TT_weights_CT10_TuneZ2_7TeV-powheg-pythia-tauola_AODSIM_PU_S13_START53_LV6-v2_00000_file_index/params0.npy_job57_file0.npy output_TT/\n",
    "!xrdcp root://cmseos.fnal.gov://eos/uscms/store/user/woodson/DSHEP2017/CMS_MonteCarlo2011_Summer11LegDR_TT_weights_CT10_TuneZ2_7TeV-powheg-pythia-tauola_AODSIM_PU_S13_START53_LV6-v2_00000_file_index/params0.npy_job58_file0.npy output_TT/\n",
    "!xrdcp root://cmseos.fnal.gov://eos/uscms/store/user/woodson/DSHEP2017/CMS_MonteCarlo2011_Summer11LegDR_TT_weights_CT10_TuneZ2_7TeV-powheg-pythia-tauola_AODSIM_PU_S13_START53_LV6-v2_00000_file_index/params0.npy_job59_file0.npy output_TT/\n",
    "!xrdcp root://cmseos.fnal.gov://eos/uscms/store/user/woodson/DSHEP2017/CMS_MonteCarlo2011_Summer11LegDR_TT_weights_CT10_TuneZ2_7TeV-powheg-pythia-tauola_AODSIM_PU_S13_START53_LV6-v2_00000_file_index/params0.npy_job5_file0.npy output_TT/"
   ]
  },
  {
   "cell_type": "code",
   "execution_count": 2,
   "metadata": {
    "collapsed": false
   },
   "outputs": [],
   "source": [
    "# get input numpy arrays\n",
    "inputs = {}\n",
    "inputs['TT'] = glob.glob('output_TT/*job5*.npy')\n",
    "inputs['QCD120'] = glob.glob('output_QCD120/*job0*.npy')\n",
    "inputs['QCD170'] = glob.glob('output_QCD170/*job0*.npy')\n",
    "inputs['QCD300'] = glob.glob('output_QCD300/*job0*.npy')\n",
    "inputs['QCD470'] = glob.glob('output_QCD470/*job0*.npy')\n",
    "\n",
    "list_params = {}\n",
    "params = {}\n",
    "for key, input_files in inputs.iteritems():\n",
    "    list_params[key] = []\n",
    "    for in_file in input_files:\n",
    "        try:\n",
    "            arr = np.load(in_file)\n",
    "            list_params[key].append(arr)\n",
    "        except ValueError:\n",
    "            print 'bad file: %s'%in_file\n",
    "    params[key] = np.concatenate(list_params[key])"
   ]
  },
  {
   "cell_type": "markdown",
   "metadata": {},
   "source": [
    "## Convert to Pandas DataFrame\n",
    "Now we can convert the numpy arrays to data frames. First we can look at the features that are available. We can see that we have event-level information (`run`, `lumi`, `event`, `njet_ak7`, `pthat`, `mcweight`), jet-level information (`jet_pt_ak7`, `jet_eta_ak7`, `jet_phi_ak7`, `jet_E_ak7`, `jet_msd_ak7`, `jet_area_ak7`, `jet_jes_ak7`, `jet_tau21_ak7`, `jet_isW_ak7`), and finally PF-candidate-level information (`ak7pfcand_pt`, `ak7pfcand_eta`, `ak7pfcand_phi`, `ak7pfcand_id`, `ak7pfcand_charge`, `ak7pfcand_ijet`). \n",
    "\n",
    "To start with, we'll just take the most relevant jet-level information as inputs (`jet_pt_ak7`, `jet_tau21_ak7`, `jet_msd_ak7`, `jet_ncand_ak7`) to try to predict whether the jet is a real boosted, merged W boson, which is given by the boolean `jet_isW_ak7` (The generator-level matching criteria is that a generated W boson which decays to qq is within the jet cone of 0.7 and the deltaR between the daughters is less than 0.7)."
   ]
  },
  {
   "cell_type": "code",
   "execution_count": 44,
   "metadata": {
    "collapsed": false
   },
   "outputs": [
    {
     "name": "stdout",
     "output_type": "stream",
     "text": [
      "('run', 'lumi', 'event', 'met', 'sumet', 'rho', 'pthat', 'mcweight', 'njet_ak7', 'jet_pt_ak7', 'jet_eta_ak7', 'jet_phi_ak7', 'jet_E_ak7', 'jet_msd_ak7', 'jet_area_ak7', 'jet_jes_ak7', 'jet_tau21_ak7', 'jet_isW_ak7', 'jet_ncand_ak7', 'ak7pfcand_pt', 'ak7pfcand_eta', 'ak7pfcand_phi', 'ak7pfcand_id', 'ak7pfcand_charge', 'ak7pfcand_ijet')\n",
      "number of W jets: 1185\n",
      "number of QCD jets in bin QCD120: 24\n",
      "number of QCD jets in bin QCD170: 392\n",
      "number of QCD jets in bin QCD300: 770\n",
      "number of QCD jets in bin QCD470: 391\n",
      "      jet_pt_ak7  jet_tau21_ak7  jet_msd_ak7  jet_ncand_ak7  jet_isW_ak7  \\\n",
      "1394  254.051069       0.134433    90.338424             36            1   \n",
      "4470  337.504360       0.325908    90.002093             64            1   \n",
      "5974  330.677864       0.308630    82.549370             67            1   \n",
      "\n",
      "      pthat    mcweight  \n",
      "1394    0.0  147.332993  \n",
      "4470    0.0  147.332993  \n",
      "5974    0.0  147.332993  \n",
      "        jet_pt_ak7  jet_tau21_ak7  jet_msd_ak7  jet_ncand_ak7  jet_isW_ak7  \\\n",
      "6949    204.476923       0.470326    71.943063             62            0   \n",
      "39314   240.005554       0.235678    68.595194             51            0   \n",
      "112770  206.805236       0.760670    18.507656             40            0   \n",
      "\n",
      "             pthat  mcweight  \n",
      "6949    124.075584  115133.5  \n",
      "39314   130.576324  115133.5  \n",
      "112770  145.618469  115133.5  \n"
     ]
    }
   ],
   "source": [
    "# convert to pandas dataframe\n",
    "df_dict = {}\n",
    "print params['TT'].dtype.names\n",
    "df_dict['TT'] = pd.DataFrame(params['TT'],columns=['jet_pt_ak7','jet_tau21_ak7','jet_msd_ak7','jet_ncand_ak7','jet_isW_ak7', 'pthat','mcweight'])\n",
    "for QCDbin in ['QCD120','QCD170','QCD300','QCD470']:\n",
    "    df_dict[QCDbin] = pd.DataFrame(params[QCDbin],columns=['jet_pt_ak7','jet_tau21_ak7','jet_msd_ak7','jet_ncand_ak7','jet_isW_ak7', 'pthat','mcweight'])\n",
    "\n",
    "df_dict['TT'] = df_dict['TT'].drop_duplicates()\n",
    "df_dict['TT'] =  df_dict['TT'][(df_dict['TT'].jet_pt_ak7 > 200) & (df_dict['TT'].jet_pt_ak7 < 500) &  (df_dict['TT'].jet_isW_ak7==1)]\n",
    "\n",
    "print 'number of W jets: %i'%len(df_dict['TT'])\n",
    "\n",
    "for QCDbin in ['QCD120','QCD170','QCD300','QCD470']:\n",
    "    df_dict[QCDbin] = df_dict[QCDbin].drop_duplicates()\n",
    "    df_dict[QCDbin] =  df_dict[QCDbin][(df_dict[QCDbin].jet_pt_ak7 > 200) & (df_dict[QCDbin].jet_pt_ak7 < 500) & (df_dict[QCDbin].jet_isW_ak7==0)]\n",
    "    # take every 20th jet just to make the training faster and have a sample roughly the size of W jets\n",
    "    df_dict[QCDbin] = df_dict[QCDbin].iloc[::20, :]\n",
    "    \n",
    "for QCDbin in ['QCD120','QCD170','QCD300','QCD470']:\n",
    "    print 'number of QCD jets in bin %s: %i'%( QCDbin, len(df_dict[QCDbin]))\n",
    "\n",
    "    \n",
    "df_dict['QCD'] = pd.concat([df_dict['QCD120'],df_dict['QCD170'],df_dict['QCD300'],df_dict['QCD470']])\n",
    "df = pd.concat([df_dict['TT'],df_dict['QCD']])\n",
    "\n",
    "print df_dict['TT'].iloc[:3]\n",
    "print df_dict['QCD'].iloc[:3]"
   ]
  },
  {
   "cell_type": "markdown",
   "metadata": {},
   "source": [
    "## Plotting inputs\n",
    "Let's make some plots of the inputs for both W and QCD jets, specifically the soft-drop mass `jet_msd_ak7` and the n-subjettiness substructure variable `jet_tau21_ak7`. We can also plot the individual QCD `pthat` bins (weighted by the cross section stored in `mcweight`)."
   ]
  },
  {
   "cell_type": "code",
   "execution_count": 45,
   "metadata": {
    "collapsed": false
   },
   "outputs": [
    {
     "data": {
      "text/plain": [
       "<matplotlib.legend.Legend at 0x7fcdbf08ab10>"
      ]
     },
     "execution_count": 45,
     "metadata": {},
     "output_type": "execute_result"
    },
    {
     "data": {
      "image/png": "[encoded data removed]",
      "text/plain": [
       "<matplotlib.figure.Figure at 0x7fcdbebeccd0>"
      ]
     },
     "metadata": {},
     "output_type": "display_data"
    },
    {
     "data": {
      "image/png": "[encoded data removed]",
      "text/plain": [
       "<matplotlib.figure.Figure at 0x7fcdbd567250>"
      ]
     },
     "metadata": {},
     "output_type": "display_data"
    },
    {
     "data": {
      "image/png": "[encoded data removed]",
      "text/plain": [
       "<matplotlib.figure.Figure at 0x7fcdbfbfb650>"
      ]
     },
     "metadata": {},
     "output_type": "display_data"
    },
    {
     "data": {
      "image/png": "[encoded data removed]",
      "text/plain": [
       "<matplotlib.figure.Figure at 0x7fcdbcd9b2d0>"
      ]
     },
     "metadata": {},
     "output_type": "display_data"
    }
   ],
   "source": [
    "%matplotlib inline\n",
    "plt.figure()\n",
    "plt.xlabel('mSD')\n",
    "bins = np.linspace(0, 250, 70)\n",
    "df_dict['QCD']['jet_msd_ak7'].plot.hist(bins, alpha=0.5, label='QCD', weights=df_dict['QCD']['mcweight'],normed=True)\n",
    "df_dict['TT']['jet_msd_ak7'].plot.hist(bins, alpha=0.5, label='W',normed=True)\n",
    "plt.legend(loc='upper right')\n",
    "plt.figure()\n",
    "plt.xlabel('tau21')\n",
    "bins = np.linspace(0, 1, 70)\n",
    "df_dict['QCD']['jet_tau21_ak7'].plot.hist(bins, alpha=0.5, label='QCD',weights=df_dict['QCD']['mcweight'],normed=True)\n",
    "df_dict['TT']['jet_tau21_ak7'].plot.hist(bins, alpha=0.5, label='W',normed=True)\n",
    "plt.legend(loc='upper left')\n",
    "plt.figure()\n",
    "plt.xlabel('pThat')\n",
    "bins = np.linspace(0, 600, 70)\n",
    "for QCDbin in ['QCD120','QCD170','QCD300','QCD470']:\n",
    "    df_dict[QCDbin]['pthat'].plot.hist(bins, alpha=1, label=QCDbin, weights=df_dict[QCDbin]['mcweight'], stacked=True, log=True)\n",
    "plt.legend(loc='upper right')\n",
    "plt.figure()\n",
    "plt.xlabel('pT')\n",
    "bins = np.linspace(0, 600, 70)\n",
    "for QCDbin in ['QCD120','QCD170','QCD300','QCD470']:\n",
    "    df_dict[QCDbin]['jet_pt_ak7'].plot.hist(bins, alpha=1, label=QCDbin, weights=df_dict[QCDbin]['mcweight'], stacked=True, log=True)\n",
    "plt.legend(loc='upper right')"
   ]
  },
  {
   "cell_type": "markdown",
   "metadata": {},
   "source": [
    "## Defining our model (neural net topology)\n",
    "We'll start with a densely-connected NN layer. Our model will have a single fully connected hidden layer with the same number of neurons as input variables. The weights are initialized using a small Gaussian random number. The Rectifier activation function is used. The output layer contains a single neuron in order to make predictions. It uses the sigmoid activation function in order to produce a probability output in the range of 0 to 1 that can easily and automatically be converted to class values (0 or 1).\n",
    "\n",
    "Finally, we are using the logarithmic loss function (`binary_crossentropy`) during training, a standard loss function for binary classification problems. The model also uses the efficient Adam optimization algorithm for gradient descent and accuracy metrics will be collected when the model is trained."
   ]
  },
  {
   "cell_type": "code",
   "execution_count": 59,
   "metadata": {
    "collapsed": false
   },
   "outputs": [
    {
     "name": "stdout",
     "output_type": "stream",
     "text": [
      "____________________________________________________________________________________________________\n",
      "Layer (type)                     Output Shape          Param #     Connected to                     \n",
      "====================================================================================================\n",
      "input_30 (InputLayer)            (None, 4)             0                                            \n",
      "____________________________________________________________________________________________________\n",
      "dense_59 (Dense)                 (None, 4)             20          input_30[0][0]                   \n",
      "____________________________________________________________________________________________________\n",
      "dense_60 (Dense)                 (None, 1)             5           dense_59[0][0]                   \n",
      "====================================================================================================\n",
      "Total params: 25\n",
      "Trainable params: 25\n",
      "Non-trainable params: 0\n",
      "____________________________________________________________________________________________________\n"
     ]
    }
   ],
   "source": [
    "# baseline model\n",
    "NDIM = 4\n",
    "def create_baseline():\n",
    "    # This returns a tensor\n",
    "    inputs = Input(shape=(NDIM,))    \n",
    "    x = Dense(NDIM, init='normal', activation='relu')(inputs)\n",
    "    predictions = Dense(1, init='normal', activation='sigmoid')(x)\n",
    "    # This creates a model that includes\n",
    "    # the input layer and two dense layers (one output)\n",
    "    model = Model(input=inputs, output=predictions)\n",
    "    model.compile(optimizer='adam', loss='binary_crossentropy', metrics=['accuracy'])\n",
    "    return model\n",
    "\n",
    "model = create_baseline()\n",
    "model.summary()\n",
    "# visalize model\n",
    "#from keras.utils.visualize_util import plot\n",
    "#plot(model)"
   ]
  },
  {
   "cell_type": "markdown",
   "metadata": {},
   "source": [
    "## Dividing the data for cross validation\n",
    "Now we can evaluate this model using stratified cross validation in the scikit-learn framework.\n",
    "\n",
    "We will split the data into two parts (one for training and one for testing). We will also define our early stopping criteria to prevent over-fitting."
   ]
  },
  {
   "cell_type": "code",
   "execution_count": 60,
   "metadata": {
    "collapsed": false
   },
   "outputs": [],
   "source": [
    "dataset = df.values\n",
    "X = dataset[:,0:NDIM].astype(float)\n",
    "Y = dataset[:,NDIM]\n",
    "encoder = LabelEncoder()\n",
    "encoder.fit(Y)\n",
    "encoded_Y = encoder.transform(Y)\n",
    "\n",
    "kfold = StratifiedKFold(n_splits=2, shuffle=True,  random_state=seed)\n",
    "    \n",
    "early_stopping = EarlyStopping(monitor='val_loss', patience=100)"
   ]
  },
  {
   "cell_type": "markdown",
   "metadata": {},
   "source": [
    "## Visualize performance with ROC curves\n",
    "Here, we visualize the performance of our model with a ROC curve for each cross validation sample."
   ]
  },
  {
   "cell_type": "code",
   "execution_count": 66,
   "metadata": {
    "collapsed": false
   },
   "outputs": [
    {
     "data": {
      "image/png": "[encoded data removed]",
      "text/plain": [
       "<matplotlib.figure.Figure at 0x7fcdbf80bad0>"
      ]
     },
     "metadata": {},
     "output_type": "display_data"
    }
   ],
   "source": [
    "# Run classifier with cross-validation and plot ROC curves\n",
    "from itertools import cycle\n",
    "from sklearn.metrics import roc_curve, auc\n",
    "from scipy import interp\n",
    "\n",
    "mean_tpr = 0.0\n",
    "mean_fpr = np.linspace(0, 1, 100)\n",
    "\n",
    "colors = cycle(['cyan', 'indigo', 'seagreen', 'yellow', 'blue', 'darkorange', 'red', 'black', 'green', 'brown'])\n",
    "lw = 2\n",
    "\n",
    "i = 0\n",
    "histories = []\n",
    "for (train, test), color in zip(kfold.split(X, encoded_Y), colors):\n",
    "    model = create_baseline()\n",
    "    history = model.fit(X[train], encoded_Y[train], validation_data=(X[test], encoded_Y[test]), nb_epoch=1000, batch_size=30, verbose=0, callbacks=[early_stopping])\n",
    "    Y_score = model.predict(X[test])\n",
    "    histories.append(history)\n",
    "    # Compute ROC curve and area the curve\n",
    "    fpr, tpr, thresholds = roc_curve(encoded_Y[test], Y_score)\n",
    "    mean_tpr += interp(mean_fpr, fpr, tpr)\n",
    "    mean_tpr[0] = 0.0\n",
    "    roc_auc = auc(fpr, tpr)\n",
    "    plt.plot(fpr, tpr, lw=lw, color=color, label='ROC fold %d (area = %0.2f)' % (i, roc_auc))\n",
    "    i += 1\n",
    "plt.plot([0, 1], [0, 1], linestyle='--', lw=lw, color='k', label='Luck')\n",
    "mean_tpr /= kfold.get_n_splits(X, encoded_Y)\n",
    "mean_tpr[-1] = 1.0\n",
    "mean_auc = auc(mean_fpr, mean_tpr)\n",
    "plt.plot(mean_fpr, mean_tpr, color='g', linestyle='--',label='Mean ROC (area = %0.2f)' % mean_auc, lw=lw)\n",
    "plt.xlim([0, 1.0])\n",
    "plt.ylim([0, 1.0])\n",
    "plt.xlabel('False Positive Rate')\n",
    "plt.ylabel('True Positive Rate')\n",
    "plt.title('Receiver operating characteristic example')\n",
    "plt.legend(loc=\"lower right\")\n",
    "plt.show()\n"
   ]
  },
  {
   "cell_type": "markdown",
   "metadata": {},
   "source": [
    "## Visualize history of training"
   ]
  },
  {
   "cell_type": "code",
   "execution_count": 1,
   "metadata": {
    "collapsed": false
   },
   "outputs": [
    {
     "ename": "NameError",
     "evalue": "name 'np' is not defined",
     "output_type": "error",
     "traceback": [
      "\u001b[0;31m---------------------------------------------------------------------------\u001b[0m",
      "\u001b[0;31mNameError\u001b[0m                                 Traceback (most recent call last)",
      "\u001b[0;32m<ipython-input-1-f14d93ab105e>\u001b[0m in \u001b[0;36m<module>\u001b[0;34m()\u001b[0m\n\u001b[0;32m----> 1\u001b[0;31m \u001b[0mval_loss\u001b[0m \u001b[0;34m=\u001b[0m \u001b[0mnp\u001b[0m\u001b[0;34m.\u001b[0m\u001b[0masarray\u001b[0m\u001b[0;34m(\u001b[0m\u001b[0mhistories\u001b[0m\u001b[0;34m[\u001b[0m\u001b[0;36m0\u001b[0m\u001b[0;34m]\u001b[0m\u001b[0;34m.\u001b[0m\u001b[0mhistory\u001b[0m\u001b[0;34m[\u001b[0m\u001b[0;34m'val_loss'\u001b[0m\u001b[0;34m]\u001b[0m\u001b[0;34m)\u001b[0m\u001b[0;34m\u001b[0m\u001b[0m\n\u001b[0m\u001b[1;32m      2\u001b[0m \u001b[0mloss\u001b[0m \u001b[0;34m=\u001b[0m \u001b[0mnp\u001b[0m\u001b[0;34m.\u001b[0m\u001b[0masarray\u001b[0m\u001b[0;34m(\u001b[0m\u001b[0mhistories\u001b[0m\u001b[0;34m[\u001b[0m\u001b[0;36m0\u001b[0m\u001b[0;34m]\u001b[0m\u001b[0;34m.\u001b[0m\u001b[0mhistory\u001b[0m\u001b[0;34m[\u001b[0m\u001b[0;34m'loss'\u001b[0m\u001b[0;34m]\u001b[0m\u001b[0;34m)\u001b[0m\u001b[0;34m\u001b[0m\u001b[0m\n\u001b[1;32m      3\u001b[0m \u001b[0mplt\u001b[0m\u001b[0;34m.\u001b[0m\u001b[0mplot\u001b[0m\u001b[0;34m(\u001b[0m\u001b[0mnp\u001b[0m\u001b[0;34m.\u001b[0m\u001b[0mlog\u001b[0m\u001b[0;34m(\u001b[0m\u001b[0mval_loss\u001b[0m\u001b[0;34m)\u001b[0m\u001b[0;34m,\u001b[0m \u001b[0mlabel\u001b[0m\u001b[0;34m=\u001b[0m\u001b[0;34m'validation'\u001b[0m\u001b[0;34m)\u001b[0m\u001b[0;34m\u001b[0m\u001b[0m\n\u001b[1;32m      4\u001b[0m \u001b[0mplt\u001b[0m\u001b[0;34m.\u001b[0m\u001b[0mplot\u001b[0m\u001b[0;34m(\u001b[0m\u001b[0mnp\u001b[0m\u001b[0;34m.\u001b[0m\u001b[0mlog\u001b[0m\u001b[0;34m(\u001b[0m\u001b[0mloss\u001b[0m\u001b[0;34m)\u001b[0m\u001b[0;34m,\u001b[0m \u001b[0mlabel\u001b[0m\u001b[0;34m=\u001b[0m\u001b[0;34m'train'\u001b[0m\u001b[0;34m)\u001b[0m\u001b[0;34m\u001b[0m\u001b[0m\n\u001b[1;32m      5\u001b[0m \u001b[0mplt\u001b[0m\u001b[0;34m.\u001b[0m\u001b[0mlegend\u001b[0m\u001b[0;34m(\u001b[0m\u001b[0;34m)\u001b[0m\u001b[0;34m\u001b[0m\u001b[0m\n",
      "\u001b[0;31mNameError\u001b[0m: name 'np' is not defined"
     ]
    }
   ],
   "source": [
    "val_loss = np.asarray(histories[0].history['val_loss'])\n",
    "loss = np.asarray(histories[0].history['loss'])\n",
    "plt.plot(np.log(val_loss), label='validation')\n",
    "plt.plot(np.log(loss), label='train')\n",
    "plt.legend()\n",
    "plt.xlabel('epoch')"
   ]
  },
  {
   "cell_type": "code",
   "execution_count": 102,
   "metadata": {
    "collapsed": false
   },
   "outputs": [
    {
     "name": "stdout",
     "output_type": "stream",
     "text": [
      "('run', 'lumi', 'event', 'met', 'sumet', 'rho', 'pthat', 'mcweight', 'njet_ak7', 'jet_pt_ak7', 'jet_eta_ak7', 'jet_phi_ak7', 'jet_E_ak7', 'jet_msd_ak7', 'jet_area_ak7', 'jet_jes_ak7', 'jet_tau21_ak7', 'jet_isW_ak7', 'jet_ncand_ak7', 'ak7pfcand_pt', 'ak7pfcand_eta', 'ak7pfcand_phi', 'ak7pfcand_id', 'ak7pfcand_charge', 'ak7pfcand_ijet')\n",
      "       event  jet_pt_ak7  jet_isW_ak7  ak7pfcand_pt  ak7pfcand_eta  \\\n",
      "1394  334558  254.051069            1     62.863907      -0.013284   \n",
      "1395  334558  254.051069            1     45.997913      -0.115853   \n",
      "1396  334558  254.051069            1     42.442924      -0.010426   \n",
      "\n",
      "      ak7pfcand_phi  ak7pfcand_id  ak7pfcand_charge  ak7pfcand_ijet  \n",
      "1394      -2.045087          -211                -1               1  \n",
      "1395      -1.392006            22                 0               1  \n",
      "1396      -2.056135            22                 0               1  \n"
     ]
    }
   ],
   "source": [
    "# now let's prepare some jet images\n",
    "print params['TT'].dtype.names\n",
    "\n",
    "df_dict_jet = {}\n",
    "df_dict_jet['TT'] = pd.DataFrame(params['TT'],columns=['run', 'lumi', 'event', 'met', 'sumet', 'rho', 'pthat', 'mcweight', 'njet_ak7', 'jet_pt_ak7', 'jet_eta_ak7', 'jet_phi_ak7', 'jet_E_ak7', 'jet_msd_ak7', 'jet_area_ak7', 'jet_jes_ak7', 'jet_tau21_ak7', 'jet_isW_ak7', 'jet_ncand_ak7','ak7pfcand_ijet'])\n",
    "df_dict_jet['TT'] = df_dict_jet['TT'].drop_duplicates()\n",
    "df_dict_jet['TT'] =  df_dict_jet['TT'][(df_dict_jet['TT'].jet_pt_ak7 > 200) & (df_dict_jet['TT'].jet_pt_ak7 < 500) &  (df_dict_jet['TT'].jet_isW_ak7==1)]\n",
    "\n",
    "df_dict_cand = {}\n",
    "df_dict_cand['TT'] = pd.DataFrame(params['TT'],columns=['event', 'jet_pt_ak7', 'jet_isW_ak7', 'ak7pfcand_pt', 'ak7pfcand_eta', 'ak7pfcand_phi', 'ak7pfcand_id', 'ak7pfcand_charge', 'ak7pfcand_ijet'])\n",
    "df_dict_cand['TT'] =  df_dict_cand['TT'][(df_dict_cand['TT'].jet_pt_ak7 > 200) & (df_dict_cand['TT'].jet_pt_ak7 < 500) &  (df_dict_cand['TT'].jet_isW_ak7==1)]\n",
    "\n",
    "# first jet in the first event:\n",
    "df_dict_cand_0 = {}\n",
    "df_dict_cand_0['TT'] = df_dict_cand['TT'][(df_dict_cand['TT']['ak7pfcand_ijet'] == df_dict_jet['TT']['ak7pfcand_ijet'].iloc[0]) & (df_dict_cand['TT']['event'] == df_dict_jet['TT']['event'].iloc[0]) ]\n",
    "print df_dict_cand_0['TT'].iloc[:3]"
   ]
  },
  {
   "cell_type": "code",
   "execution_count": 101,
   "metadata": {
    "collapsed": false
   },
   "outputs": [
    {
     "data": {
      "image/png": "[encoded data removed]",
      "text/plain": [
       "<matplotlib.figure.Figure at 0x7f5ff389c210>"
      ]
     },
     "metadata": {},
     "output_type": "display_data"
    }
   ],
   "source": [
    "# rotation needed later\n",
    "import matplotlib as mpl\n",
    "def rotate(x,y,w):\n",
    "    rx = []\n",
    "    ry = []\n",
    "    theta = 0\n",
    "    maxPt = -1\n",
    "    for icand in range(1,len(x)):\n",
    "        dv = np.matrix([[x.iloc[icand]],[y.iloc[icand]]])-np.matrix([[x.iloc[0]],[y.iloc[0]]])\n",
    "        dR = np.linalg.norm(dv)\n",
    "        thisPt = w.iloc[icand]\n",
    "        if dR > 0.35 and thisPt > maxPt:\n",
    "            maxPt = thisPt\n",
    "            theta = -np.arctan2(y.iloc[icand],x.iloc[icand])-np.radians(90) # rotate\n",
    "    #print \"angle before\", np.arctan2(y.iloc[icand],x.iloc[icand]), \"pt\", maxPt\n",
    "    #print \"rotate by \", theta\n",
    "    #theta = 0\n",
    "    c, s = np.cos(theta), np.sin(theta)\n",
    "    R = np.matrix('{} {}; {} {}'.format(c, -s, s, c))\n",
    "    for ix, iy in zip(x, y):\n",
    "        rot = R*np.matrix([[ix],[iy]])\n",
    "        rix, riy, = rot[0,0], rot[1,0]\n",
    "        rx.append(rix)\n",
    "        ry.append(riy)\n",
    "    #print \"angle after\", np.arctan2(ry[icand],ry[icand])\n",
    "    return np.array(rx), np.array(ry)\n",
    "\n",
    "list_x = []\n",
    "list_y = []\n",
    "list_w = []\n",
    "njets = 0\n",
    "for i in range(0,len(df_dict_jet['TT'])):\n",
    "    njets+=1\n",
    "    # get the ith jet\n",
    "    df_dict_cand_i = {}\n",
    "    df_dict_cand_i['TT'] = df_dict_cand['TT'][(df_dict_cand['TT']['ak7pfcand_ijet'] == df_dict_jet['TT']['ak7pfcand_ijet'].iloc[i]) & (df_dict_cand['TT']['event'] == df_dict_jet['TT']['event'].iloc[i]) ]\n",
    "    x = df_dict_cand_i['TT']['ak7pfcand_eta']-df_dict_cand_i['TT']['ak7pfcand_eta'].iloc[0] # relative eta\n",
    "    y = df_dict_cand_i['TT']['ak7pfcand_phi']-df_dict_cand_i['TT']['ak7pfcand_phi'].iloc[0] # relative phi\n",
    "    weights = df_dict_cand_i['TT']['ak7pfcand_pt'] # pt of candidate is the weight\n",
    "    x,y = rotate(x,y,weights)\n",
    "    list_x.append(x)\n",
    "    list_y.append(y)\n",
    "    list_w.append(weights)\n",
    "all_x = np.concatenate(list_x)\n",
    "all_y = np.concatenate(list_y)\n",
    "all_w = np.concatenate(list_w)\n",
    "all_w = 1.*all_w/njets # to get average\n",
    "plt.figure() \n",
    "xbins = np.linspace(-1.4,1.4,30)\n",
    "ybins = np.linspace(-1.4,1.4,30)\n",
    "plt.hist2d(all_x, all_y, weights=all_w, bins=(xbins,ybins), norm=mpl.colors.LogNorm())\n",
    "plt.colorbar()\n",
    "plt.xlabel('eta')\n",
    "plt.ylabel('phi')\n",
    "plt.show()"
   ]
  },
  {
   "cell_type": "code",
   "execution_count": null,
   "metadata": {
    "collapsed": true
   },
   "outputs": [],
   "source": []
  }
 ],
 "metadata": {
  "kernelspec": {
   "display_name": "Python 2",
   "language": "python",
   "name": "python2"
  },
  "language_info": {
   "codemirror_mode": {
    "name": "ipython",
    "version": 2
   },
   "file_extension": ".py",
   "mimetype": "text/x-python",
   "name": "python",
   "nbconvert_exporter": "python",
   "pygments_lexer": "ipython2",
   "version": "2.7.11"
  }
 },
 "nbformat": 4,
 "nbformat_minor": 0
}
