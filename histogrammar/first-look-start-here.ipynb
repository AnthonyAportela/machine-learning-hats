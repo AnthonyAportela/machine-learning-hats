{
 "cells": [
  {
   "cell_type": "code",
   "execution_count": 1,
   "metadata": {
    "collapsed": false
   },
   "outputs": [
    {
     "data": {
      "application/javascript": [
       "\n",
       "require(['notebook'],\n",
       "  function() {\n",
       "    IPython.CodeCell.config_defaults.highlight_modes['magic_text/x-c++src'] = {'reg':[/^%%cpp/]};\n",
       "    console.log(\"JupyROOT - %%cpp magic configured\");\n",
       "  }\n",
       ");\n"
      ]
     },
     "metadata": {},
     "output_type": "display_data"
    },
    {
     "name": "stdout",
     "output_type": "stream",
     "text": [
      "Welcome to JupyROOT 6.08/05\n"
     ]
    }
   ],
   "source": [
    "import time\n",
    "\n",
    "# Your choice of plotting front-end.\n",
    "%matplotlib inline\n",
    "\n",
    "import ROOT\n",
    "tcanvas = ROOT.TCanvas(\"TCanvasName\", \"TCanvasTitle\", 800, 300)"
   ]
  },
  {
   "cell_type": "code",
   "execution_count": 2,
   "metadata": {
    "collapsed": false
   },
   "outputs": [
    {
     "data": {
      "text/plain": [
       "[<ROOT.TBranch object (\"ph_N\") at 0x696f760>,\n",
       " <ROOT.TBranchElement object (\"ph_pdgId\") at 0x6979d20>,\n",
       " <ROOT.TBranchElement object (\"ph_charge\") at 0x6982330>,\n",
       " <ROOT.TBranchElement object (\"ph_e\") at 0x6982a40>,\n",
       " <ROOT.TBranchElement object (\"ph_eta\") at 0x6983150>,\n",
       " <ROOT.TBranchElement object (\"ph_phi\") at 0x6983860>,\n",
       " <ROOT.TBranchElement object (\"ph_mass\") at 0x6983f70>,\n",
       " <ROOT.TBranchElement object (\"ph_pt\") at 0x6984680>,\n",
       " <ROOT.TBranchElement object (\"ph_et\") at 0x6984d90>,\n",
       " <ROOT.TBranchElement object (\"ph_rho\") at 0x69854a0>,\n",
       " <ROOT.TBranchElement object (\"ph_superCluster_eta\") at 0x6985bb0>,\n",
       " <ROOT.TBranchElement object (\"ph_superCluster_phi\") at 0x6986350>,\n",
       " <ROOT.TBranchElement object (\"ph_sigmaIetaIeta\") at 0x6986b20>,\n",
       " <ROOT.TBranchElement object (\"ph_hOverE\") at 0x69872f0>,\n",
       " <ROOT.TBranchElement object (\"ph_isoGamma\") at 0x6987a00>,\n",
       " <ROOT.TBranchElement object (\"ph_isoCh\") at 0x6988110>,\n",
       " <ROOT.TBranchElement object (\"ph_passEleVeto\") at 0x6988820>,\n",
       " <ROOT.TBranchElement object (\"ph_passLooseId\") at 0x6988ea0>,\n",
       " <ROOT.TBranchElement object (\"ph_passMediumId\") at 0x6989610>,\n",
       " <ROOT.TBranchElement object (\"ph_passTightId\") at 0x6989d40>,\n",
       " <ROOT.TBranchElement object (\"ph_mvaVal\") at 0x698a450>,\n",
       " <ROOT.TBranchElement object (\"ph_mvaCat\") at 0x698ab60>,\n",
       " <ROOT.TBranch object (\"rho\") at 0x698b270>,\n",
       " <ROOT.TBranch object (\"jetAK4_N\") at 0x698d0f0>,\n",
       " <ROOT.TBranchElement object (\"jetAK4_pt\") at 0x698d630>,\n",
       " <ROOT.TBranchElement object (\"jetAK4_eta\") at 0x698de20>,\n",
       " <ROOT.TBranchElement object (\"jetAK4_mass\") at 0x698e610>,\n",
       " <ROOT.TBranchElement object (\"jetAK4_phi\") at 0x698ee00>,\n",
       " <ROOT.TBranchElement object (\"jetAK4_e\") at 0x698f5f0>,\n",
       " <ROOT.TBranchElement object (\"jetAK4_jec\") at 0x698fde0>,\n",
       " <ROOT.TBranchElement object (\"jetAK4_jecUp\") at 0x69905d0>,\n",
       " <ROOT.TBranchElement object (\"jetAK4_jecDown\") at 0x6990dc0>,\n",
       " <ROOT.TBranchElement object (\"jetAK4_IDLoose\") at 0x69915b0>,\n",
       " <ROOT.TBranchElement object (\"jetAK4_IDTight\") at 0x6991d20>,\n",
       " <ROOT.TBranchElement object (\"jetAK4_IDTightLepVeto\") at 0x6992430>,\n",
       " <ROOT.TBranchElement object (\"jetAK4_charge\") at 0x6992c00>,\n",
       " <ROOT.TBranchElement object (\"jetAK4_csv\") at 0x6993390>,\n",
       " <ROOT.TBranchElement object (\"jetAK4_vtxMass\") at 0x6993b80>,\n",
       " <ROOT.TBranchElement object (\"jetAK4_vtxNtracks\") at 0x6994370>,\n",
       " <ROOT.TBranchElement object (\"jetAK4_vtx3DVal\") at 0x6994c20>,\n",
       " <ROOT.TBranchElement object (\"jetAK4_vtx3DSig\") at 0x6995490>,\n",
       " <ROOT.TBranchElement object (\"jetAK4_partonFlavour\") at 0x6995d00>,\n",
       " <ROOT.TBranchElement object (\"jetAK4_hadronFlavour\") at 0x69965b0>,\n",
       " <ROOT.TBranchElement object (\"jetAK4_genParton_pdgID\") at 0x6996e60>,\n",
       " <ROOT.TBranchElement object (\"jetAK4_nbHadrons\") at 0x6997710>,\n",
       " <ROOT.TBranchElement object (\"jetAK4_ncHadrons\") at 0x6997fc0>,\n",
       " <ROOT.TBranchElement object (\"jetAK4_jer_sf\") at 0x6998870>,\n",
       " <ROOT.TBranchElement object (\"jetAK4_jer_sf_up\") at 0x6999060>,\n",
       " <ROOT.TBranchElement object (\"jetAK4_jer_sf_down\") at 0x6999910>,\n",
       " <ROOT.TBranchElement object (\"jetAK4_jer_sigma_pt\") at 0x699a1c0>,\n",
       " <ROOT.TBranch object (\"jetAK8_N\") at 0x699aa70>,\n",
       " <ROOT.TBranchElement object (\"jetAK8_pt\") at 0x699afb0>,\n",
       " <ROOT.TBranchElement object (\"jetAK8_eta\") at 0x699b710>,\n",
       " <ROOT.TBranchElement object (\"jetAK8_mass\") at 0x699be60>,\n",
       " <ROOT.TBranchElement object (\"jetAK8_phi\") at 0x699c5b0>,\n",
       " <ROOT.TBranchElement object (\"jetAK8_e\") at 0x699cd00>,\n",
       " <ROOT.TBranchElement object (\"jetAK8_jec\") at 0x699d450>,\n",
       " <ROOT.TBranchElement object (\"jetAK8_jecUp\") at 0x699dba0>,\n",
       " <ROOT.TBranchElement object (\"jetAK8_jecDown\") at 0x699e2f0>,\n",
       " <ROOT.TBranchElement object (\"jetAK8_IDLoose\") at 0x699ea40>,\n",
       " <ROOT.TBranchElement object (\"jetAK8_IDTight\") at 0x699f150>,\n",
       " <ROOT.TBranchElement object (\"jetAK8_IDTightLepVeto\") at 0x699f860>,\n",
       " <ROOT.TBranchElement object (\"jetAK8_charge\") at 0x69a0030>,\n",
       " <ROOT.TBranchElement object (\"jetAK8_partonFlavour\") at 0x69a0780>,\n",
       " <ROOT.TBranchElement object (\"jetAK8_hadronFlavour\") at 0x69a0f90>,\n",
       " <ROOT.TBranchElement object (\"jetAK8_genParton_pdgID\") at 0x69a17a0>,\n",
       " <ROOT.TBranchElement object (\"jetAK8_nbHadrons\") at 0x69a1fb0>,\n",
       " <ROOT.TBranchElement object (\"jetAK8_ncHadrons\") at 0x69a27c0>,\n",
       " <ROOT.TBranchElement object (\"jetAK8_jer_sf\") at 0x69a2fd0>,\n",
       " <ROOT.TBranchElement object (\"jetAK8_jer_sf_up\") at 0x69a3720>,\n",
       " <ROOT.TBranchElement object (\"jetAK8_jer_sf_down\") at 0x69a3f30>,\n",
       " <ROOT.TBranchElement object (\"jetAK8_jer_sigma_pt\") at 0x69a4740>,\n",
       " <ROOT.TBranchElement object (\"jetAK8Puppi_jer_sf\") at 0x69a4f50>,\n",
       " <ROOT.TBranchElement object (\"jetAK8Puppi_jer_sf_up\") at 0x69a5760>,\n",
       " <ROOT.TBranchElement object (\"jetAK8Puppi_jer_sf_down\") at 0x69a5f70>,\n",
       " <ROOT.TBranchElement object (\"jetAK8Puppi_jer_sigma_pt\") at 0x69a6780>,\n",
       " <ROOT.TBranchElement object (\"jetAK8_Hbbtag\") at 0x69a6f90>,\n",
       " <ROOT.TBranchElement object (\"jetAK8_csv\") at 0x69a76e0>,\n",
       " <ROOT.TBranchElement object (\"jetAK8_tau1\") at 0x69a7e30>,\n",
       " <ROOT.TBranchElement object (\"jetAK8_tau2\") at 0x69a8580>,\n",
       " <ROOT.TBranchElement object (\"jetAK8_tau3\") at 0x69a8cd0>,\n",
       " <ROOT.TBranchElement object (\"jetAK8_pruned_mass\") at 0x69a9420>,\n",
       " <ROOT.TBranchElement object (\"jetAK8_pruned_massCorr\") at 0x69a9c30>,\n",
       " <ROOT.TBranchElement object (\"jetAK8_pruned_jec\") at 0x69aa440>,\n",
       " <ROOT.TBranchElement object (\"jetAK8_pruned_jecUp\") at 0x69aac50>,\n",
       " <ROOT.TBranchElement object (\"jetAK8_pruned_jecDown\") at 0x69ab460>,\n",
       " <ROOT.TBranchElement object (\"jetAK8_softdrop_mass\") at 0x69abc70>,\n",
       " <ROOT.TBranchElement object (\"jetAK8_softdrop_massCorr\") at 0x69ac480>,\n",
       " <ROOT.TBranchElement object (\"jetAK8_softdrop_jec\") at 0x69acc90>,\n",
       " <ROOT.TBranchElement object (\"jetAK8_softdrop_jecUp\") at 0x69ad4a0>,\n",
       " <ROOT.TBranchElement object (\"jetAK8_softdrop_jecDown\") at 0x69adcf0>,\n",
       " <ROOT.TBranchElement object (\"jetAK8_subjet_softdrop_N\") at 0x69ae5a0>,\n",
       " <ROOT.TBranchElement object (\"jetAK8_subjet_softdrop_pt\") at 0x69aee10>,\n",
       " <ROOT.TBranchElement object (\"jetAK8_subjet_softdrop_eta\") at 0x69af7c0>,\n",
       " <ROOT.TBranchElement object (\"jetAK8_subjet_softdrop_mass\") at 0x69b0170>,\n",
       " <ROOT.TBranchElement object (\"jetAK8_subjet_softdrop_phi\") at 0x69b0b20>,\n",
       " <ROOT.TBranchElement object (\"jetAK8_subjet_softdrop_e\") at 0x69b14d0>,\n",
       " <ROOT.TBranchElement object (\"jetAK8_subjet_softdrop_charge\") at 0x69b1e80>,\n",
       " <ROOT.TBranchElement object (\"jetAK8_subjet_softdrop_genParton_pdgID\") at 0x69b2830>,\n",
       " <ROOT.TBranchElement object (\"jetAK8_subjet_softdrop_nbHadrons\") at 0x69b3220>,\n",
       " <ROOT.TBranchElement object (\"jetAK8_subjet_softdrop_ncHadrons\") at 0x69b3c10>,\n",
       " <ROOT.TBranchElement object (\"jetAK8_subjet_softdrop_partonFlavour\") at 0x69b4600>,\n",
       " <ROOT.TBranchElement object (\"jetAK8_subjet_softdrop_hadronFlavour\") at 0x69b50d0>,\n",
       " <ROOT.TBranchElement object (\"jetAK8_subjet_softdrop_csv\") at 0x69b5ba0>,\n",
       " <ROOT.TBranchElement object (\"jetAK8_puppi_pt\") at 0x69b6550>,\n",
       " <ROOT.TBranchElement object (\"jetAK8_puppi_eta\") at 0x69b6d20>,\n",
       " <ROOT.TBranchElement object (\"jetAK8_puppi_mass\") at 0x69b7530>,\n",
       " <ROOT.TBranchElement object (\"jetAK8_puppi_phi\") at 0x69b7d40>,\n",
       " <ROOT.TBranchElement object (\"jetAK8_puppi_e\") at 0x69b8550>,\n",
       " <ROOT.TBranchElement object (\"jetAK8_puppi_pruned_mass\") at 0x69b8ca0>,\n",
       " <ROOT.TBranchElement object (\"jetAK8_puppi_pruned_massCorr\") at 0x69b93e0>,\n",
       " <ROOT.TBranchElement object (\"jetAK8_puppi_pruned_jec\") at 0x69b9b80>,\n",
       " <ROOT.TBranchElement object (\"jetAK8_puppi_softdrop_mass\") at 0x69ba320>,\n",
       " <ROOT.TBranchElement object (\"jetAK8_puppi_softdrop_massCorr\") at 0x69bab90>,\n",
       " <ROOT.TBranchElement object (\"jetAK8_puppi_softdrop_jec\") at 0x69bb3a0>,\n",
       " <ROOT.TBranchElement object (\"jetAK8_puppi_tau1\") at 0x69bbbb0>,\n",
       " <ROOT.TBranchElement object (\"jetAK8_puppi_tau2\") at 0x69bc3c0>,\n",
       " <ROOT.TBranchElement object (\"jetAK8_puppi_tau3\") at 0x69bcbd0>,\n",
       " <ROOT.TBranchElement object (\"jetAK8_subjet_puppi_softdrop_N\") at 0x69bd3e0>,\n",
       " <ROOT.TBranchElement object (\"jetAK8_subjet_puppi_softdrop_pt\") at 0x69bdb20>,\n",
       " <ROOT.TBranchElement object (\"jetAK8_subjet_puppi_softdrop_eta\") at 0x69be350>,\n",
       " <ROOT.TBranchElement object (\"jetAK8_subjet_puppi_softdrop_mass\") at 0x69bebc0>,\n",
       " <ROOT.TBranchElement object (\"jetAK8_subjet_puppi_softdrop_phi\") at 0x69bf430>,\n",
       " <ROOT.TBranchElement object (\"jetAK8_subjet_puppi_softdrop_e\") at 0x69bfca0>,\n",
       " <ROOT.TBranchElement object (\"jetAK8_subjet_puppi_softdrop_charge\") at 0x69c04d0>,\n",
       " <ROOT.TBranchElement object (\"jetAK8_subjet_puppi_softdrop_genParton_pdgID\") at 0x69c0d40>,\n",
       " <ROOT.TBranchElement object (\"jetAK8_subjet_puppi_softdrop_nbHadrons\") at 0x69c15b0>,\n",
       " <ROOT.TBranchElement object (\"jetAK8_subjet_puppi_softdrop_ncHadrons\") at 0x69c1e20>,\n",
       " <ROOT.TBranchElement object (\"jetAK8_subjet_puppi_softdrop_partonFlavour\") at 0x69c2690>,\n",
       " <ROOT.TBranchElement object (\"jetAK8_subjet_puppi_softdrop_hadronFlavour\") at 0x69c2f00>,\n",
       " <ROOT.TBranchElement object (\"jetAK8_subjet_puppi_softdrop_csv\") at 0x69c3770>,\n",
       " <ROOT.TBranchElement object (\"jetAK8_subjet_pruned_N\") at 0x69c3fe0>,\n",
       " <ROOT.TBranchElement object (\"jetAK8_subjet_pruned_pt\") at 0x69c4850>,\n",
       " <ROOT.TBranchElement object (\"jetAK8_subjet_pruned_eta\") at 0x69c5200>,\n",
       " <ROOT.TBranchElement object (\"jetAK8_subjet_pruned_mass\") at 0x69c5bb0>,\n",
       " <ROOT.TBranchElement object (\"jetAK8_subjet_pruned_phi\") at 0x69c6560>,\n",
       " <ROOT.TBranchElement object (\"jetAK8_subjet_pruned_e\") at 0x69c6f10>,\n",
       " <ROOT.TBranchElement object (\"jetAK8_subjet_pruned_charge\") at 0x69c78c0>,\n",
       " <ROOT.TBranchElement object (\"jetAK8_subjet_pruned_genParton_pdgID\") at 0x69c8270>,\n",
       " <ROOT.TBranchElement object (\"jetAK8_subjet_pruned_nbHadrons\") at 0x69c8c60>,\n",
       " <ROOT.TBranchElement object (\"jetAK8_subjet_pruned_ncHadrons\") at 0x69c9610>,\n",
       " <ROOT.TBranchElement object (\"jetAK8_subjet_pruned_partonFlavour\") at 0x69c9fc0>,\n",
       " <ROOT.TBranchElement object (\"jetAK8_subjet_pruned_hadronFlavour\") at 0x69ca9b0>,\n",
       " <ROOT.TBranchElement object (\"jetAK8_subjet_pruned_csv\") at 0x69cb3a0>,\n",
       " <ROOT.TBranchElement object (\"HLT_isFired\") at 0x69cbd50>,\n",
       " <ROOT.TBranch object (\"passFilter_HBHE\") at 0x69d1080>,\n",
       " <ROOT.TBranch object (\"passFilter_HBHELoose\") at 0x69d30b0>,\n",
       " <ROOT.TBranch object (\"passFilter_HBHETight\") at 0x69d36b0>,\n",
       " <ROOT.TBranch object (\"passFilter_HBHEIso\") at 0x69d3cb0>,\n",
       " <ROOT.TBranch object (\"passFilter_CSCHalo\") at 0x69d42b0>,\n",
       " <ROOT.TBranch object (\"passFilter_CSCTightHalo2015\") at 0x69d48b0>,\n",
       " <ROOT.TBranch object (\"passFilter_HCALlaser\") at 0x69d4eb0>,\n",
       " <ROOT.TBranch object (\"passFilter_ECALDeadCell\") at 0x69d54b0>,\n",
       " <ROOT.TBranch object (\"passFilter_GoodVtx\") at 0x69d5ab0>,\n",
       " <ROOT.TBranch object (\"passFilter_TrkFailure\") at 0x69d60b0>,\n",
       " <ROOT.TBranch object (\"passFilter_EEBadSc\") at 0x69d66b0>,\n",
       " <ROOT.TBranch object (\"passFilter_ECALlaser\") at 0x69d6cb0>,\n",
       " <ROOT.TBranch object (\"passFilter_TrkPOG\") at 0x69d72b0>,\n",
       " <ROOT.TBranch object (\"passFilter_TrkPOG_manystrip\") at 0x69d78b0>,\n",
       " <ROOT.TBranch object (\"passFilter_TrkPOG_toomanystrip\") at 0x69d7eb0>,\n",
       " <ROOT.TBranch object (\"passFilter_TrkPOG_logError\") at 0x69d84c0>,\n",
       " <ROOT.TBranch object (\"passFilter_METFilters\") at 0x69d8ac0>,\n",
       " <ROOT.TBranch object (\"passFilter_CSCTightHaloTrkMuUnvetoFilter\") at 0x69d90c0>,\n",
       " <ROOT.TBranch object (\"passFilter_globalTightHalo2016\") at 0x69d9700>,\n",
       " <ROOT.TBranch object (\"passFilter_HcalStripHalo\") at 0x69d9d10>,\n",
       " <ROOT.TBranch object (\"passFilter_chargedHadronTrackResolution\") at 0x69da310>,\n",
       " <ROOT.TBranch object (\"passFilter_muonBadTrack\") at 0x69da950>,\n",
       " <ROOT.TBranch object (\"EVENT_event\") at 0x69daf50>,\n",
       " <ROOT.TBranch object (\"EVENT_run\") at 0x69db490>,\n",
       " <ROOT.TBranch object (\"EVENT_lumiBlock\") at 0x69db9d0>,\n",
       " <ROOT.TBranch object (\"PV_N\") at 0x69dbfa0>,\n",
       " <ROOT.TBranch object (\"PV_filter\") at 0x69dc4e0>,\n",
       " <ROOT.TBranchElement object (\"PV_chi2\") at 0x69dca20>,\n",
       " <ROOT.TBranchElement object (\"PV_ndof\") at 0x69dd190>,\n",
       " <ROOT.TBranchElement object (\"PV_rho\") at 0x69dd8a0>,\n",
       " <ROOT.TBranchElement object (\"PV_z\") at 0x69ddfb0>]"
      ]
     },
     "execution_count": 2,
     "metadata": {},
     "output_type": "execute_result"
    }
   ],
   "source": [
    "tchain = ROOT.TChain()\n",
    "tchain.Add(\"root://cmseos.fnal.gov//store/user/hats/PyRoot/2017/qcd_samples/shuffled_sig/sig_shuffled_0.root/tree\")\n",
    "tchain.Add(\"root://cmseos.fnal.gov//store/user/hats/PyRoot/2017/qcd_samples/shuffled_sig/sig_shuffled_1.root/tree\")\n",
    "tchain.Add(\"root://cmseos.fnal.gov//store/user/hats/PyRoot/2017/qcd_samples/shuffled_sig/sig_shuffled_2.root/tree\")\n",
    "tchain.Add(\"root://cmseos.fnal.gov//store/user/hats/PyRoot/2017/qcd_samples/shuffled_sig/sig_shuffled_3.root/tree\")\n",
    "tchain.Add(\"root://cmseos.fnal.gov//store/user/hats/PyRoot/2017/qcd_samples/shuffled_sig/sig_shuffled_4.root/tree\")\n",
    "list(tchain.GetListOfBranches())"
   ]
  },
  {
   "cell_type": "code",
   "execution_count": 3,
   "metadata": {
    "collapsed": true
   },
   "outputs": [],
   "source": [
    "tchain.SetBranchStatus(\"*\", 0)\n",
    "for branch in [\"jetAK4_N\",\n",
    "               \"jetAK4_pt\",\n",
    "               \"jetAK4_eta\",\n",
    "               \"jetAK4_mass\",\n",
    "               \"jetAK4_phi\",\n",
    "               \"jetAK4_e\",\n",
    "               \"jetAK4_jec\",\n",
    "               \"jetAK4_IDLoose\"]:\n",
    "    tchain.SetBranchStatus(branch, 1)"
   ]
  },
  {
   "cell_type": "code",
   "execution_count": 4,
   "metadata": {
    "collapsed": false
   },
   "outputs": [
    {
     "name": "stdout",
     "output_type": "stream",
     "text": [
      "This took 15.4187829494 seconds.\n"
     ]
    }
   ],
   "source": [
    "dijetMass_hist = ROOT.TH1D(\"dijetMass_hist\", \"dijet mass [GeV]\", 100, 0, 1000)\n",
    "dijetEtBalance_hist = ROOT.TH1D(\"dijetEtBalance_hist\", \"dijet ET balance\", 100, 0, 1)\n",
    "cosThetaStar_hist = ROOT.TH1D(\"cosThetaStar_hist\", \"cos(theta*)\", 100, -1, 1)\n",
    "\n",
    "leadingJet = ROOT.TLorentzVector()\n",
    "subleadingJet = ROOT.TLorentzVector()\n",
    "\n",
    "startTime = time.time()\n",
    "for event in tchain:\n",
    "    if event.jetAK4_N < 2:\n",
    "        continue\n",
    "    \n",
    "    leadingJet.SetPtEtaPhiE(event.jetAK4_pt.at(0),\n",
    "                            event.jetAK4_eta.at(0),\n",
    "                            event.jetAK4_phi.at(0),\n",
    "                            event.jetAK4_e.at(0))\n",
    "    \n",
    "    subleadingJet.SetPtEtaPhiE(event.jetAK4_pt.at(1),\n",
    "                               event.jetAK4_eta.at(1),\n",
    "                               event.jetAK4_phi.at(1),\n",
    "                               event.jetAK4_e.at(1))\n",
    "    \n",
    "    dijet = leadingJet + subleadingJet\n",
    "    dijetMass = dijet.M()\n",
    "    dijetEtBalance = subleadingJet.Et() / leadingJet.Et()\n",
    "    \n",
    "    boostedLeading = leadingJet\n",
    "    boostedLeading.Boost(-dijet.BoostVector())\n",
    "    cosThetaStar = boostedLeading.Pz() / boostedLeading.P()\n",
    "    \n",
    "    dijetMass_hist.Fill(dijetMass)\n",
    "    dijetEtBalance_hist.Fill(dijetEtBalance)\n",
    "    cosThetaStar_hist.Fill(cosThetaStar)\n",
    "\n",
    "endTime = time.time()\n",
    "\n",
    "print \"This took\", endTime - startTime, \"seconds.\""
   ]
  },
  {
   "cell_type": "code",
   "execution_count": 5,
   "metadata": {
    "collapsed": false
   },
   "outputs": [
    {
     "data": {
      "image/png": "[encoded data removed]",
      "text/plain": [
       "<IPython.core.display.Image object>"
      ]
     },
     "metadata": {},
     "output_type": "display_data"
    }
   ],
   "source": [
    "tcanvas.Clear()\n",
    "tcanvas.Divide(3, 1)\n",
    "\n",
    "tcanvas.cd(1); dijetMass_hist.Draw()\n",
    "tcanvas.cd(2); dijetEtBalance_hist.Draw()\n",
    "tcanvas.cd(3); cosThetaStar_hist.Draw()\n",
    "tcanvas.Draw()"
   ]
  },
  {
   "cell_type": "code",
   "execution_count": 6,
   "metadata": {
    "collapsed": false
   },
   "outputs": [
    {
     "name": "stdout",
     "output_type": "stream",
     "text": [
      "This took 18.8230669498 seconds.\n"
     ]
    }
   ],
   "source": [
    "from histogrammar import *\n",
    "\n",
    "Bundle = UntypedLabel    # a naming convention we'll be changing to in Histogrammar 2.0\n",
    "\n",
    "def cosThetaStar(jets):\n",
    "    boostedLeading = jets[0]\n",
    "    boostedLeading.Boost(-(jets[0] + jets[1]).BoostVector())\n",
    "    return boostedLeading.Pz() / boostedLeading.P()\n",
    "\n",
    "histograms = Bundle(\n",
    "    dijetMass      = Bin(100, 0, 1000, lambda jets: (jets[0] + jets[1]).M()),\n",
    "    dijetEtBalance = Bin(100, 0, 1, lambda jets: jets[1].Et() / jets[0].Et()),\n",
    "    cosThetaStar   = Bin(100, -1, 1, cosThetaStar))\n",
    "\n",
    "leadingJet = ROOT.TLorentzVector()\n",
    "subleadingJet = ROOT.TLorentzVector()\n",
    "\n",
    "startTime = time.time()\n",
    "for event in tchain:\n",
    "    if event.jetAK4_N < 2:\n",
    "        continue\n",
    "    \n",
    "    leadingJet.SetPtEtaPhiE(event.jetAK4_pt.at(0),\n",
    "                            event.jetAK4_eta.at(0),\n",
    "                            event.jetAK4_phi.at(0),\n",
    "                            event.jetAK4_e.at(0))\n",
    "    \n",
    "    subleadingJet.SetPtEtaPhiE(event.jetAK4_pt.at(1),\n",
    "                               event.jetAK4_eta.at(1),\n",
    "                               event.jetAK4_phi.at(1),\n",
    "                               event.jetAK4_e.at(1))\n",
    "    \n",
    "    histograms.fill([leadingJet, subleadingJet])\n",
    "\n",
    "endTime = time.time()\n",
    "\n",
    "print \"This took\", endTime - startTime, \"seconds.\""
   ]
  },
  {
   "cell_type": "code",
   "execution_count": 7,
   "metadata": {
    "collapsed": false
   },
   "outputs": [
    {
     "name": "stderr",
     "output_type": "stream",
     "text": [
      "Warning in <TROOT::Append>: Replacing existing TH1: dijetMass_hist (Potential memory leak).\n",
      "Warning in <TROOT::Append>: Replacing existing TH1: dijetEtBalance_hist (Potential memory leak).\n",
      "Warning in <TROOT::Append>: Replacing existing TH1: cosThetaStar_hist (Potential memory leak).\n"
     ]
    },
    {
     "data": {
      "image/png": "[encoded data removed]",
      "text/plain": [
       "<IPython.core.display.Image object>"
      ]
     },
     "metadata": {},
     "output_type": "display_data"
    }
   ],
   "source": [
    "dijetMass_hist2 = histograms.get(\"dijetMass\").plot.root(\"dijetMass_hist2\", \"dijet mass [GeV]\")\n",
    "dijetEtBalance_hist2 = histograms.get(\"dijetEtBalance\").plot.root(\"dijetEtBalance_hist2\", \"dijet ET balance\")\n",
    "cosThetaStar_hist2 = histograms.get(\"cosThetaStar\").plot.root(\"cosThetaStar_hist2\", \"cos(theta*)\")\n",
    "\n",
    "tcanvas.Clear()\n",
    "tcanvas.Divide(3, 1)\n",
    "\n",
    "tcanvas.cd(1); dijetMass_hist2.Draw()\n",
    "tcanvas.cd(2); dijetEtBalance_hist2.Draw()\n",
    "tcanvas.cd(3); cosThetaStar_hist2.Draw()\n",
    "tcanvas.Draw()"
   ]
  },
  {
   "cell_type": "code",
   "execution_count": 8,
   "metadata": {
    "collapsed": false
   },
   "outputs": [
    {
     "data": {
      "text/plain": [
       "True"
      ]
     },
     "execution_count": 8,
     "metadata": {},
     "output_type": "execute_result"
    }
   ],
   "source": [
    "# yes, we're creating new TLorentzVectors, but we're creating them on the stack (no \"new\" operator), which is fast\n",
    "ROOT.gInterpreter.Declare(\"\"\"\n",
    "TLorentzVector lorentzVector(int which,\n",
    "                             vector<float>& pt,\n",
    "                             vector<float>& eta,\n",
    "                             vector<float>& phi,\n",
    "                             vector<float>& e) {\n",
    "    TLorentzVector out;\n",
    "    out.SetPtEtaPhiE(pt.at(which), eta.at(which), phi.at(which), e.at(which));\n",
    "    return out;\n",
    "}\n",
    "\"\"\")\n",
    "\n",
    "ROOT.gInterpreter.Declare(\"\"\"\n",
    "double cosThetaStar(TLorentzVector leadingJet, TLorentzVector subleadingJet) {\n",
    "    leadingJet.Boost(-(leadingJet + subleadingJet).BoostVector());\n",
    "    return leadingJet.Pz() / leadingJet.P();\n",
    "}\n",
    "\"\"\")"
   ]
  },
  {
   "cell_type": "code",
   "execution_count": 9,
   "metadata": {
    "collapsed": false
   },
   "outputs": [
    {
     "name": "stdout",
     "output_type": "stream",
     "text": [
      "This took 1.64783811569 seconds.\n"
     ]
    }
   ],
   "source": [
    "histograms = Select(\"jetAK4_N >= 2\", Bundle(\n",
    "    dijetMass = Bin(100, 0, 1000, \"\"\"\n",
    "        (lorentzVector(0, jetAK4_pt, jetAK4_eta, jetAK4_phi, jetAK4_e) +\n",
    "         lorentzVector(1, jetAK4_pt, jetAK4_eta, jetAK4_phi, jetAK4_e)\n",
    "        ).M()\n",
    "    \"\"\"),\n",
    "    dijetEtBalance = Bin(100, 0, 1, \"\"\"\n",
    "        lorentzVector(1, jetAK4_pt, jetAK4_eta, jetAK4_phi, jetAK4_e).Et() /\n",
    "        lorentzVector(0, jetAK4_pt, jetAK4_eta, jetAK4_phi, jetAK4_e).Et()\n",
    "    \"\"\"),\n",
    "    cosThetaStar   = Bin(100, -1, 1, \"\"\"cosThetaStar(\n",
    "        lorentzVector(0, jetAK4_pt, jetAK4_eta, jetAK4_phi, jetAK4_e),\n",
    "        lorentzVector(1, jetAK4_pt, jetAK4_eta, jetAK4_phi, jetAK4_e))\"\"\")\n",
    "))\n",
    "\n",
    "startTime = time.time()\n",
    "histograms.fill.root(tchain)\n",
    "endTime = time.time()\n",
    "\n",
    "print \"This took\", endTime - startTime, \"seconds.\""
   ]
  },
  {
   "cell_type": "code",
   "execution_count": 10,
   "metadata": {
    "collapsed": false
   },
   "outputs": [
    {
     "name": "stderr",
     "output_type": "stream",
     "text": [
      "Warning in <TROOT::Append>: Replacing existing TH1: dijetMass_hist (Potential memory leak).\n",
      "Warning in <TROOT::Append>: Replacing existing TH1: dijetEtBalance_hist (Potential memory leak).\n",
      "Warning in <TROOT::Append>: Replacing existing TH1: cosThetaStar_hist (Potential memory leak).\n"
     ]
    },
    {
     "data": {
      "image/png": "[encoded data removed]",
      "text/plain": [
       "<IPython.core.display.Image object>"
      ]
     },
     "metadata": {},
     "output_type": "display_data"
    }
   ],
   "source": [
    "dijetMass_hist3 = histograms.get(\"dijetMass\").plot.root(\"dijetMass_hist3\", \"dijet mass [GeV]\")\n",
    "dijetEtBalance_hist3 = histograms.get(\"dijetEtBalance\").plot.root(\"dijetEtBalance_hist3\", \"dijet ET balance\")\n",
    "cosThetaStar_hist3 = histograms.get(\"cosThetaStar\").plot.root(\"cosThetaStar_hist3\", \"cos(theta*)\")\n",
    "\n",
    "tcanvas.Clear()\n",
    "tcanvas.Divide(3, 1)\n",
    "\n",
    "tcanvas.cd(1); dijetMass_hist.Draw()\n",
    "tcanvas.cd(2); dijetEtBalance_hist.Draw()\n",
    "tcanvas.cd(3); cosThetaStar_hist.Draw()\n",
    "tcanvas.Draw()"
   ]
  },
  {
   "cell_type": "code",
   "execution_count": null,
   "metadata": {
    "collapsed": true
   },
   "outputs": [],
   "source": []
  },
  {
   "cell_type": "code",
   "execution_count": null,
   "metadata": {
    "collapsed": true
   },
   "outputs": [],
   "source": []
  }
 ],
 "metadata": {
  "kernelspec": {
   "display_name": "Python 2",
   "language": "python",
   "name": "python2"
  },
  "language_info": {
   "codemirror_mode": {
    "name": "ipython",
    "version": 2
   },
   "file_extension": ".py",
   "mimetype": "text/x-python",
   "name": "python",
   "nbconvert_exporter": "python",
   "pygments_lexer": "ipython2",
   "version": "2.7.11"
  }
 },
 "nbformat": 4,
 "nbformat_minor": 1
}
