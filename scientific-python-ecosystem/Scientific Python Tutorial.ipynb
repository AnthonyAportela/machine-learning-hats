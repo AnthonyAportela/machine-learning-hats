{
 "cells": [
  {
   "cell_type": "markdown",
   "metadata": {},
   "source": [
    "# Scientific Python Ecosystem\n",
    "\n",
    "In the past 5 years or so, Python has become a popular way to do science. The language had always been regarded as slow, and therefore unfit for large-scale numerical work, but extensions written in C++ soften that issue.\n",
    "\n",
    "The key component underlying this ecosystem is the Numpy array, which defines a standard way to work with raw numerical arrays. SciPy (scientific algorithms), Matplotlib (plotting), Pandas (dataframe-style interaction), and Scikit-Learn (machine learning) are all built on top of this format. Numpy is as pervasive in the scientific Python ecosystem as ROOT is in HEP.\n",
    "\n",
    "Here are a few Google Trends plots showing the rise of scientific Python:\n",
    "\n",
    "**\"Python\" has always been popular but \"Python for science\" is new.**\n",
    "\n",
    "<img src=\"searchterm-python.png\" style=\"width: 453px; display: inline-block;\"><img src=\"searchterm-python-for-science.png\" style=\"width: 453px; margin-left: 10px; display: inline-block;\">\n",
    "\n",
    "**\"Data science\" is new but \"Python for data science\" has grown more quickly.**\n",
    "\n",
    "<img src=\"searchterm-data-science.png\" style=\"width: 453px; display: inline-block;\"><img src=\"searchterm-python-for-data-science.png\" style=\"width: 453px; margin-left: 10px; display: inline-block;\">\n",
    "\n",
    "**\"Machine learning\" is new but \"Python for machine learning\" has grown more quickly.**\n",
    "\n",
    "<img src=\"searchterm-machine-learning.png\" style=\"width: 453px; display: inline-block;\"><img src=\"searchterm-python-for-machine-learning.png\" style=\"width: 453px; margin-left: 10px; display: inline-block;\">\n",
    "\n",
    "**R, a language designed specifically for data analysis, is facing stiff competition from Python.**\n",
    "\n",
    "Try Googling \"Python versus R.\" I got 8 million hits."
   ]
  },
  {
   "cell_type": "markdown",
   "metadata": {
    "collapsed": true
   },
   "source": [
    "# How to access these packages\n",
    "\n",
    "Scientific Python packages are not a part of the standard Python library— not even plotting. I don't recommend installing them manually or even using your OS distribution's package manager (such as yum or apt-get). Use one of these specialized package managers.\n",
    "\n",
    "   * **pip:** Usually, you would install Python packages with pip, and many of these packages are installable that way. However, pip only tracks Python dependencies, and most of these packages depend on non-Python libraries.\n",
    "   \n",
    "   \n",
    "   \n",
    "   * **conda:** The `conda` package manager was invented for this problem: it tracks dependencies from any language (a conda package need not be Python: [ROOT is a conda package](https://nlesc.gitbooks.io/cern-root-conda-recipes/content/index.html)), and it keeps track of hardware architecture so that compilations will succeed. The [Anaconda distribution](https://www.continuum.io/downloads) could be used as an unambiguous definition of what is \"scientific Python\" and what is not. [Miniconda](https://conda.io/miniconda.html) is a way to conda-install things without the whole ecosystem.\n",
    "   \n",
    "   (\"Continuum Analytics,\" a name that pops up a lot on Anaconda/Miniconda, is a company built up around Numpy, founded by Numpy's developer. The nonprofit organization associated with this stuff is called [PyData](https://pydata.org/).)\n",
    "   \n",
    "   \n",
    "   \n",
    "   * **CMSSW:** Surprisingly, CMSSW already contains many of these. Since you're CMS members, this might be the easiest way to get access to these packages. I'm only going to show packages from within CMSSW because that way, we don't have to install anything to get started.\n",
    "\n",
    "\n",
    "# Python packages in CMSSW\n",
    "\n",
    "This is a list of Python packages bundled with CMSSW as of 2017-03-21 (thanks, David Lange!). I've roughly grouped them by category.\n",
    "\n",
    "### Directly relevant for data analysis\n",
    "\n",
    "   * [cycler](https://pypi.python.org/pypi/cycler): Composable style cycles (Matplotlib)\n",
    "   * [dablooms](https://github.com/bitly/dablooms): scaling, counting, bloom filter library\n",
    "   * [deepdish](https://pypi.python.org/pypi/deepdish): Deep Learning experiments from University of Chicago.\n",
    "   * [Keras](https://pypi.python.org/pypi/Keras): Deep Learning for Python\n",
    "   * [Matplotlib](https://pypi.python.org/pypi/Matplotlib): Python plotting package\n",
    "   * [mpmath](https://pypi.python.org/pypi/mpmath): Python library for arbitrary-precision floating-point arithmetic\n",
    "   * [networkx](https://pypi.python.org/pypi/networkx): Python package for creating and manipulating graphs and networks\n",
    "   * [numexpr](https://pypi.python.org/pypi/numexpr): Fast numerical expression evaluator for NumPy\n",
    "   * [Numpy](https://pypi.python.org/pypi/Numpy): NumPy: array processing for numbers, strings, records, and objects.\n",
    "   * [Pandas](https://pypi.python.org/pypi/Pandas): Powerful data structures for data analysis, time series,and statistics\n",
    "   * [root_numpy](https://pypi.python.org/pypi/root_numpy): The interface between ROOT and NumPy\n",
    "   * [rootpy](https://pypi.python.org/pypi/rootpy): A pythonic layer on top of the ROOT framework's PyROOT bindings.\n",
    "   * [Scikit-Learn](https://pypi.python.org/pypi/Scikit-Learn): A set of python modules for machine learning and data mining\n",
    "   * [SciPy](https://pypi.python.org/pypi/SciPy): SciPy: Scientific Library for Python\n",
    "   * [SymPy](https://pypi.python.org/pypi/SymPy): Computer algebra system (CAS) in Python\n",
    "   * [TensorFlow](https://pypi.python.org/pypi/TensorFlow) (not working yet and will be only slc7+): TensorFlow helps the tensors flow\n",
    "   * [Theano](https://pypi.python.org/pypi/Theano): Optimizing compiler for evaluating mathematical expressions on CPUs and GPUs.\n",
    "\n",
    "### Data formats, database access, and utilities\n",
    "\n",
    "   * [dxr-cmd](https://pypi.python.org/pypi/dxr-cmd): Command-line tool for querying DXR.\n",
    "   * [h5py](https://pypi.python.org/pypi/h5py): Read and write HDF5 files from Python\n",
    "   * [pickleshare](https://pypi.python.org/pypi/pickleshare): Tiny 'shelve'-like database with concurrency support\n",
    "   * [prettytable](https://pypi.python.org/pypi/prettytable): A simple Python library for easily displaying tabular data in a visually appealing ASCII table format.\n",
    "   * [protobuf](https://pypi.python.org/pypi/protobuf): Protocol Buffers\n",
    "   * [psutil](https://pypi.python.org/pypi/psutil): psutil is a cross-platform library for retrieving information onrunning processes and system utilization (CPU, memory, disks, network)in Python.\n",
    "   * [pycurl](https://pypi.python.org/pypi/pycurl): PycURL -- A Python Interface To The cURL library\n",
    "   * [pygithub](https://pypi.python.org/pypi/pygithub): Use the full Github API v3\n",
    "   * [pysqlite](https://pypi.python.org/pypi/pysqlite): DB-API 2.0 interface for SQLite 3.x\n",
    "   * [sqlalchemy](https://pypi.python.org/pypi/sqlalchemy): Database Abstraction Library\n",
    "   * [tables](https://pypi.python.org/pypi/tables): Hierarchical datasets for Python\n",
    "\n",
    "### Parsers of data and configuration files\n",
    "\n",
    "   * [argparse](https://pypi.python.org/pypi/argparse): Python command-line parsing library\n",
    "   * [configparser](https://pypi.python.org/pypi/configparser): This library brings the updated configparser from Python 3.5 to Python 2.6-3.5.\n",
    "   * [docopt](https://pypi.python.org/pypi/docopt): Pythonic argument parser, that will make you smile\n",
    "   * [mistune](https://pypi.python.org/pypi/mistune): The fastest markdown parser in pure Python\n",
    "   * [parsimonious](https://pypi.python.org/pypi/parsimonious): (Soon to be) the fastest pure-Python PEG parser I could muster\n",
    "   * [pyparsing](https://pypi.python.org/pypi/pyparsing): Python parsing module\n",
    "   * [python-cjson](https://pypi.python.org/pypi/python-cjson): Fast JSON encoder/decoder for Python\n",
    "   * [PyYAML](https://pypi.python.org/pypi/PyYAML): YAML parser and emitter for Python\n",
    "\n",
    "### Tools for building scripts\n",
    "\n",
    "   * [appdirs](https://pypi.python.org/pypi/appdirs): A small Python module for determining appropriate platform-specific dirs, e.g. a \"user data dir\".\n",
    "   * [backports.shutil_get_terminal_size](https://pypi.python.org/pypi/backports.shutil_get_terminal_size): A backport of the get_terminal_size function from Python 3.3's shutil.\n",
    "   * [pathlib2](https://pypi.python.org/pypi/pathlib2): Object-oriented filesystem paths\n",
    "   * [pexpect](https://pypi.python.org/pypi/pexpect): Pexpect allows easy control of interactive console applications.\n",
    "   * [prompt_toolkit](https://pypi.python.org/pypi/prompt_toolkit): Library for building powerful interactive command lines in Python\n",
    "   * [ptyprocess](https://pypi.python.org/pypi/ptyprocess): Run a subprocess in a pseudo terminal\n",
    "   * [pytz](https://pypi.python.org/pypi/pytz): World timezone definitions, modern and historical\n",
    "   * [wcwidth](https://pypi.python.org/pypi/wcwidth): Measures number of Terminal column cells of wide-character codes\n",
    "\n",
    "### Tools for working with Jupyter\n",
    "\n",
    "   * [ipykernel](https://pypi.python.org/pypi/ipykernel): IPython Kernel for Jupyter\n",
    "   * [ipython_genutils](https://pypi.python.org/pypi/ipython_genutils): Vestigial utilities from IPython\n",
    "   * [ipython](https://pypi.python.org/pypi/ipython): IPython: Productive Interactive Computing\n",
    "   * [ipywidgets](https://pypi.python.org/pypi/ipywidgets): IPython HTML widgets for Jupyter\n",
    "   * [jupyter_client](https://pypi.python.org/pypi/jupyter_client): Jupyter protocol implementation and client libraries\n",
    "   * [jupyter_console](https://pypi.python.org/pypi/jupyter_console): Jupyter terminal console\n",
    "   * [jupyter_core](https://pypi.python.org/pypi/jupyter_core): Jupyter core package. A base package on which Jupyter projects rely.\n",
    "   * [jupyter](https://pypi.python.org/pypi/jupyter): Jupyter metapackage. Install all the Jupyter components in one go.\n",
    "   * [nbconvert](https://pypi.python.org/pypi/nbconvert): Converting Jupyter Notebooks\n",
    "   * [nbformat](https://pypi.python.org/pypi/nbformat): The Jupyter Notebook format\n",
    "   * [notebook](https://pypi.python.org/pypi/notebook): A web-based notebook environment for interactive computing\n",
    "   * [qtconsole](https://pypi.python.org/pypi/qtconsole): Jupyter Qt console\n",
    "   * [widgetsnbextension](https://pypi.python.org/pypi/widgetsnbextension): IPython HTML widgets for Jupyter\n",
    "\n",
    "### HTML tools for making websites\n",
    "\n",
    "   * [bleach](https://pypi.python.org/pypi/bleach): An easy safelist-based HTML-sanitizing tool.\n",
    "   * [certifi](https://pypi.python.org/pypi/certifi): Python package for providing Mozilla's CA Bundle.\n",
    "   * [html5lib](https://pypi.python.org/pypi/html5lib): HTML parser based on the WHATWG HTML specifcation\n",
    "   * [Jinja2](https://pypi.python.org/pypi/Jinja2): A small but fast and easy to use stand-alone template engine written in pure python.\n",
    "   * [Jinja](https://pypi.python.org/pypi/Jinja): A small but fast and easy to use stand-alone template engine written in pure python.\n",
    "   * [jsonschema](https://pypi.python.org/pypi/jsonschema): An implementation of JSON Schema validation for Python\n",
    "   * [lint](https://pypi.python.org/pypi/lint): Python script to automatically lint new reviews to gerrit. Designed to be run from within Jenkins via the Gerrit Trigger plugin\n",
    "   * [MarkupSafe](https://pypi.python.org/pypi/MarkupSafe): Implements a XML/HTML/XHTML Markup safe string for Python\n",
    "   * [pandocfilters](https://pypi.python.org/pypi/pandocfilters): Utilities for writing pandoc filters in python\n",
    "   * [Pygments](https://pypi.python.org/pypi/Pygments): Pygments is a syntax highlighting package written in Python.\n",
    "   * [pyzmq](https://pypi.python.org/pypi/pyzmq): Python bindings for 0MQ\n",
    "   * [requests](https://pypi.python.org/pypi/requests): Python HTTP for Humans.\n",
    "   * [schema](https://pypi.python.org/pypi/schema): Simple data validation library\n",
    "   * [terminado](https://pypi.python.org/pypi/terminado): Terminals served to term.js using Tornado websockets\n",
    "   * [tornado](https://pypi.python.org/pypi/tornado): Tornado is a Python web framework and asynchronous networking library, originally developed at FriendFeed.\n",
    "   * [webencodings](https://pypi.python.org/pypi/webencodings): Character encoding aliases for legacy web content\n",
    "\n",
    "### Python language enhancements\n",
    "\n",
    "   * [backports_abc](https://pypi.python.org/pypi/backports_abc): A backport of recent additions to the 'collections.abc' module.\n",
    "   * [backports.ssl-match-hostname](https://pypi.python.org/pypi/backports.ssl-match-hostname): The ssl.match_hostname() function from Python 3.5\n",
    "   * [decorator](https://pypi.python.org/pypi/decorator): Better living through Python with decorators\n",
    "   * [enum34](https://pypi.python.org/pypi/enum34): Python 3.4 Enum backported to 3.3, 3.2, 3.1, 2.7, 2.6, 2.5, and 2.4\n",
    "   * [functools32](https://pypi.python.org/pypi/functools32): Fast tools for functional programming\n",
    "   * [futures](https://pypi.python.org/pypi/futures): Backport of the concurrent.futures package from Python 3.2\n",
    "   * [ordereddict](https://pypi.python.org/pypi/ordereddict): A drop-in substitute for Py2.7's new collections.OrderedDict that works in Python 2.4-2.6.\n",
    "   * [repoze.lru](https://pypi.python.org/pypi/repoze.lru): A tiny LRU cache implementation and decorator\n",
    "   * [scandir](https://pypi.python.org/pypi/scandir): scandir, a better directory iterator and faster os.walk()\n",
    "   * [simplegeneric](https://pypi.python.org/pypi/simplegeneric): Simple generic functions (similar to Python's own len(), pickle.dump(), etc.)\n",
    "   * [singledispatch](https://pypi.python.org/pypi/singledispatch): This library brings functools.singledispatch from Python 3.4 to Python 2.6-3.3.\n",
    "   * [six](https://pypi.python.org/pypi/six): Python 2 and 3 compatibility utilities\n",
    "\n",
    "### Python package and project managment tools\n",
    "\n",
    "   * [entrypoints](https://pypi.python.org/pypi/entrypoints): Discover and load entry points from installed packages.\n",
    "   * [mock](https://pypi.python.org/pypi/mock): Rolling backport of unittest.mock for all Pythons\n",
    "   * [packaging](https://pypi.python.org/pypi/packaging): Core utilities for Python packages\n",
    "   * [pbr](https://pypi.python.org/pypi/pbr): Python Build Reasonableness\n",
    "   * [python](https://pypi.python.org/pypi/python): A high-level object-oriented programming language\n",
    "   * [setuptools](https://pypi.python.org/pypi/setuptools): Easily download, build, install, upgrade, and uninstall Python packages\n",
    "   * [testpath](https://pypi.python.org/pypi/testpath): Test utilities for code working with files and commands\n",
    "   * [traitlets](https://pypi.python.org/pypi/traitlets): Traitlets Python config system"
   ]
  },
  {
   "cell_type": "markdown",
   "metadata": {},
   "source": [
    "# Whirlwind tour of Scientific Python packages\n",
    "\n",
    "The purpose of this tutorial is to\n",
    "\n",
    "   * introduce you _to the existence_ of many packages; maybe one of them will be useful to you,\n",
    "   * show you a \"hello world\" in each, to provide enough familiarity that you'll be able to follow up and do something useful.\n",
    "   \n",
    "Some of the first few are more fully covered than the later ones, only because I think they're more likely to be useful in your work."
   ]
  },
  {
   "cell_type": "markdown",
   "metadata": {},
   "source": [
    "# [Numpy](https://pypi.python.org/pypi/Numpy)\n",
    "\n",
    "**NumPy: array processing for numbers, strings, records, and objects.**\n",
    "\n",
    "\n"
   ]
  },
  {
   "cell_type": "code",
   "execution_count": 2,
   "metadata": {
    "collapsed": true
   },
   "outputs": [],
   "source": [
    "import time\n",
    "import numpy    # a lot of people \"import numpy as np\" but I don't like that"
   ]
  },
  {
   "cell_type": "markdown",
   "metadata": {},
   "source": [
    "### Wreaking havoc on raw bytes in memory\n",
    "\n",
    "Numpy is a general way to get low-level in Python. The Numpy arrays are plain C arrays with a Pythonic wrapper to interpret them. Just like C arrays, Numpy arrays don't have to look at distinct regions of memory. This is a good way to do two things:\n",
    "\n",
    "   * cause lots of subtle bugs\n",
    "   * modify data efficiently.\n",
    "\n",
    "Here's an example: ROOT interaction. PyROOT is not Numpy-aware, so when PyROOT needs to pass an array from Python to C++, it uses Python's little-known built-in `array` library. This library does no more than create C arrays within Python and allow you to change values with Python's square brackets.\n",
    "\n",
    "We'd like to use the full power of Numpy instead.\n",
    "\n",
    "First, import `array` and `ROOT` and make an `interpolator`, which takes two arrays as input."
   ]
  },
  {
   "cell_type": "code",
   "execution_count": 6,
   "metadata": {
    "collapsed": false
   },
   "outputs": [],
   "source": [
    "import array\n",
    "import math\n",
    "import ROOT\n",
    "\n",
    "N = 100\n",
    "interpolator = ROOT.Math.Interpolator(N, ROOT.Math.Interpolation.kPOLYNOMIAL)\n",
    "\n",
    "xarray = array.array(\"d\", [0] * N)\n",
    "yarray = array.array(\"d\", [0] * N)"
   ]
  },
  {
   "cell_type": "markdown",
   "metadata": {},
   "source": [
    "Now wrap `xarray` and `yarray` as Numpy arrays and use Numpy to manipulate them."
   ]
  },
  {
   "cell_type": "code",
   "execution_count": 7,
   "metadata": {
    "collapsed": false
   },
   "outputs": [
    {
     "name": "stdout",
     "output_type": "stream",
     "text": [
      "peek at yarray: array('d', [0.0, 0.0, 0.0, 0.0, 0.0, 0.0, 0.0, 0.0, 0.0, 0.0])\n",
      "peek at yarray: array('d', [-1.2246467991473532e-16, -0.06342391965656484, -0.12659245357374938, -0.1892512443604105, -0.2511479871810793, -0.31203344569848734, -0.3716624556603276, -0.4297949120891718, -0.4861967361004687, -0.5406408174555978])\n"
     ]
    }
   ],
   "source": [
    "xarray_view = numpy.frombuffer(xarray)        # does not copy; wraps this built-in array with Numpy capabilities\n",
    "yarray_view = numpy.frombuffer(yarray)\n",
    "\n",
    "xarray_view[:] = numpy.linspace(-math.pi, math.pi, N)\n",
    "\n",
    "print \"peek at yarray:\", yarray[:10]\n",
    "\n",
    "numpy.sin(xarray_view, yarray_view)           # operates on yarray in-place: no new memory allocated\n",
    "\n",
    "print \"peek at yarray:\", yarray[:10]          # yarray has changed under yarray_view"
   ]
  },
  {
   "cell_type": "code",
   "execution_count": 8,
   "metadata": {
    "collapsed": false
   },
   "outputs": [
    {
     "data": {
      "text/plain": [
       "0.2955202102630105"
      ]
     },
     "execution_count": 8,
     "metadata": {},
     "output_type": "execute_result"
    }
   ],
   "source": [
    "# give PyROOT xarray and yarray in the form it wants\n",
    "interpolator.SetData(N, xarray, yarray)\n",
    "interpolator.Eval(0.3)"
   ]
  },
  {
   "cell_type": "markdown",
   "metadata": {},
   "source": [
    "# [root_numpy](https://pypi.python.org/pypi/root_numpy)\n",
    "\n",
    "**The interface between ROOT and NumPy**\n",
    "\n",
    "\n"
   ]
  },
  {
   "cell_type": "code",
   "execution_count": 2,
   "metadata": {
    "collapsed": false
   },
   "outputs": [
    {
     "name": "stdout",
     "output_type": "stream",
     "text": [
      "--2017-04-24 15:43:08--  http://opendata.cern.ch/record/203/files/data.root\n",
      "Resolving opendata.cern.ch... 188.184.161.208, 188.184.64.234\n",
      "Connecting to opendata.cern.ch|188.184.161.208|:80... connected.\n",
      "HTTP request sent, awaiting response... 200 OK\n",
      "Length: 17033333 (16M) [application/octet-stream]\n",
      "Saving to: `data.root.1'\n",
      "\n",
      "100%[======================================>] 17,033,333   364K/s   in 36s     \n",
      "\n",
      "2017-04-24 15:43:45 (458 KB/s) - `data.root.1' saved [17033333/17033333]\n",
      "\n"
     ]
    }
   ],
   "source": [
    "# it's only 17 MB\n",
    "!wget http://opendata.cern.ch/record/203/files/data.root"
   ]
  },
  {
   "cell_type": "code",
   "execution_count": 3,
   "metadata": {
    "collapsed": false
   },
   "outputs": [
    {
     "data": {
      "application/javascript": [
       "\n",
       "require(['notebook'],\n",
       "  function() {\n",
       "    IPython.CodeCell.config_defaults.highlight_modes['magic_text/x-c++src'] = {'reg':[/^%%cpp/]};\n",
       "    console.log(\"JupyROOT - %%cpp magic configured\");\n",
       "  }\n",
       ");\n"
      ]
     },
     "metadata": {},
     "output_type": "display_data"
    },
    {
     "name": "stdout",
     "output_type": "stream",
     "text": [
      "Welcome to JupyROOT 6.08/05\n"
     ]
    },
    {
     "data": {
      "text/plain": [
       "[<ROOT.TBranch object (\"NJet\") at 0x612d8d0>,\n",
       " <ROOT.TBranch object (\"Jet_Px\") at 0x613aa00>,\n",
       " <ROOT.TBranch object (\"Jet_Py\") at 0x613db80>,\n",
       " <ROOT.TBranch object (\"Jet_Pz\") at 0x613ee80>,\n",
       " <ROOT.TBranch object (\"Jet_E\") at 0x6140180>,\n",
       " <ROOT.TBranch object (\"Jet_btag\") at 0x6141480>,\n",
       " <ROOT.TBranch object (\"Jet_ID\") at 0x6142780>,\n",
       " <ROOT.TBranch object (\"NMuon\") at 0x6145800>,\n",
       " <ROOT.TBranch object (\"Muon_Px\") at 0x61462a0>,\n",
       " <ROOT.TBranch object (\"Muon_Py\") at 0x6147750>,\n",
       " <ROOT.TBranch object (\"Muon_Pz\") at 0x6148c00>,\n",
       " <ROOT.TBranch object (\"Muon_E\") at 0x614a0e0>,\n",
       " <ROOT.TBranch object (\"Muon_Charge\") at 0x614b590>,\n",
       " <ROOT.TBranch object (\"Muon_Iso\") at 0x614caa0>,\n",
       " <ROOT.TBranch object (\"NElectron\") at 0x614df80>,\n",
       " <ROOT.TBranch object (\"Electron_Px\") at 0x614ea20>,\n",
       " <ROOT.TBranch object (\"Electron_Py\") at 0x614fb80>,\n",
       " <ROOT.TBranch object (\"Electron_Pz\") at 0x6150ce0>,\n",
       " <ROOT.TBranch object (\"Electron_E\") at 0x6151e40>,\n",
       " <ROOT.TBranch object (\"Electron_Charge\") at 0x6152fa0>,\n",
       " <ROOT.TBranch object (\"Electron_Iso\") at 0x6154100>,\n",
       " <ROOT.TBranch object (\"NPhoton\") at 0x6155260>,\n",
       " <ROOT.TBranch object (\"Photon_Px\") at 0x6155d00>,\n",
       " <ROOT.TBranch object (\"Photon_Py\") at 0x6156e90>,\n",
       " <ROOT.TBranch object (\"Photon_Pz\") at 0x6158020>,\n",
       " <ROOT.TBranch object (\"Photon_E\") at 0x61591b0>,\n",
       " <ROOT.TBranch object (\"Photon_Iso\") at 0x615a340>,\n",
       " <ROOT.TBranch object (\"MET_px\") at 0x615b4d0>,\n",
       " <ROOT.TBranch object (\"MET_py\") at 0x615bf70>,\n",
       " <ROOT.TBranch object (\"MChadronicBottom_px\") at 0x615ca10>,\n",
       " <ROOT.TBranch object (\"MChadronicBottom_py\") at 0x615d570>,\n",
       " <ROOT.TBranch object (\"MChadronicBottom_pz\") at 0x615e0d0>,\n",
       " <ROOT.TBranch object (\"MCleptonicBottom_px\") at 0x615ec30>,\n",
       " <ROOT.TBranch object (\"MCleptonicBottom_py\") at 0x615f790>,\n",
       " <ROOT.TBranch object (\"MCleptonicBottom_pz\") at 0x61602f0>,\n",
       " <ROOT.TBranch object (\"MChadronicWDecayQuark_px\") at 0x6160e50>,\n",
       " <ROOT.TBranch object (\"MChadronicWDecayQuark_py\") at 0x61619b0>,\n",
       " <ROOT.TBranch object (\"MChadronicWDecayQuark_pz\") at 0x6162510>,\n",
       " <ROOT.TBranch object (\"MChadronicWDecayQuarkBar_px\") at 0x6163070>,\n",
       " <ROOT.TBranch object (\"MChadronicWDecayQuarkBar_py\") at 0x6163bd0>,\n",
       " <ROOT.TBranch object (\"MChadronicWDecayQuarkBar_pz\") at 0x6164730>,\n",
       " <ROOT.TBranch object (\"MClepton_px\") at 0x6165290>,\n",
       " <ROOT.TBranch object (\"MClepton_py\") at 0x6165d30>,\n",
       " <ROOT.TBranch object (\"MClepton_pz\") at 0x61667d0>,\n",
       " <ROOT.TBranch object (\"MCleptonPDGid\") at 0x6167270>,\n",
       " <ROOT.TBranch object (\"MCneutrino_px\") at 0x6167d10>,\n",
       " <ROOT.TBranch object (\"MCneutrino_py\") at 0x61687b0>,\n",
       " <ROOT.TBranch object (\"MCneutrino_pz\") at 0x6169250>,\n",
       " <ROOT.TBranch object (\"NPrimaryVertices\") at 0x6169cf0>,\n",
       " <ROOT.TBranch object (\"triggerIsoMu24\") at 0x616a850>,\n",
       " <ROOT.TBranch object (\"EventWeight\") at 0x616ae50>]"
      ]
     },
     "execution_count": 3,
     "metadata": {},
     "output_type": "execute_result"
    }
   ],
   "source": [
    "# root_numpy can be used without PyROOT, but since we have PyROOT anyway, let's mix them\n",
    "\n",
    "import ROOT\n",
    "\n",
    "tfile = ROOT.TFile(\"data.root\")\n",
    "ttree = tfile.Get(\"events\")\n",
    "list(ttree.GetListOfBranches())"
   ]
  },
  {
   "cell_type": "code",
   "execution_count": 4,
   "metadata": {
    "collapsed": false
   },
   "outputs": [
    {
     "data": {
      "text/plain": [
       "array([ ([6.999023914337158], [-29.81593132019043], [-27.49810028076172], [-3.3582911491394043], [27.47575569152832], [40.17839431762695]),\n",
       "       ([-26.736610412597656], [10.114603996276855], [3.760868549346924], [13.670151710510254], [17.985715866088867], [-0.5090904831886292]),\n",
       "       ([38.43698501586914], [-25.879451751708984], [-83.75053405761719], [-34.80328369140625], [20.15524673461914], [-34.589534759521484]),\n",
       "       ...,\n",
       "       ([45.02479553222656], [19.883581161499023], [-74.27565002441406], [-38.03307342529297], [-4.499422073364258], [-14.50628662109375]),\n",
       "       ([38.13996124267578], [-26.343555450439453], [-17.403263092041016], [15.858336448669434], [-10.981405258178711], [-7.462394714355469]),\n",
       "       ([27.90974235534668], [23.8370361328125], [-14.507893562316895], [-21.522497177124023], [-4.448083877563477], [-36.11244201660156])], \n",
       "      dtype=[('Muon_Px[0]', 'O'), ('Muon_Py[0]', 'O'), ('Muon_Pz[0]', 'O'), ('Muon_Px[1]', 'O'), ('Muon_Py[1]', 'O'), ('Muon_Pz[1]', 'O')])"
      ]
     },
     "execution_count": 4,
     "metadata": {},
     "output_type": "execute_result"
    }
   ],
   "source": [
    "import root_numpy\n",
    "\n",
    "# the Muon_P* branches are lists (zero or more muons per event), so we use TTreeFormulas to pick out the\n",
    "# first ([0]) and second ([1]) elements of each, for events in which they exist\n",
    "\n",
    "array = root_numpy.tree2array(ttree,\n",
    "                              branches = [\"Muon_Px[0]\", \"Muon_Py[0]\", \"Muon_Pz[0]\",\n",
    "                                          \"Muon_Px[1]\", \"Muon_Py[1]\", \"Muon_Pz[1]\"],\n",
    "                              selection = \"NMuon >= 2\")\n",
    "\n",
    "array"
   ]
  },
  {
   "cell_type": "markdown",
   "metadata": {},
   "source": [
    "This `array` is\n",
    "\n",
    "   * in memory: you can access it ~100 times faster than if it were on disk\n",
    "   * a big table of numbers that can be sliced by column (Muon_Px[0], Muon_Py[0], ... Muon_Pz[1]) or row (0...)"
   ]
  },
  {
   "cell_type": "code",
   "execution_count": 6,
   "metadata": {
    "collapsed": false
   },
   "outputs": [
    {
     "data": {
      "text/plain": [
       "array([array([ 6.99902391]), array([-26.73661041]), array([ 38.43698502]),\n",
       "       ..., array([ 45.02479553]), array([ 38.13996124]),\n",
       "       array([ 27.90974236])], dtype=object)"
      ]
     },
     "execution_count": 6,
     "metadata": {},
     "output_type": "execute_result"
    }
   ],
   "source": [
    "array[\"Muon_Px[0]\"]   # all 18708 Muon_Px[0] values"
   ]
  },
  {
   "cell_type": "code",
   "execution_count": 7,
   "metadata": {
    "collapsed": false
   },
   "outputs": [
    {
     "data": {
      "text/plain": [
       "([-1.7054762840270996], [44.475528717041016], [-92.87677001953125], [-19.805889129638672], [-35.47321701049805], [-19.617259979248047])"
      ]
     },
     "execution_count": 7,
     "metadata": {},
     "output_type": "execute_result"
    }
   ],
   "source": [
    "array[:][10]          # all values for the eleventh event"
   ]
  },
  {
   "cell_type": "code",
   "execution_count": 8,
   "metadata": {
    "collapsed": false
   },
   "outputs": [
    {
     "data": {
      "text/plain": [
       "array([ 88.94682416,  40.91526953,  89.88668023, ...,  93.52611811,\n",
       "         0.39596728,  60.84829012])"
      ]
     },
     "execution_count": 8,
     "metadata": {},
     "output_type": "execute_result"
    },
    {
     "name": "stdout",
     "output_type": "stream",
     "text": [
      "This took 0.00180888175964 seconds.\n"
     ]
    }
   ],
   "source": [
    "px0 = numpy.concatenate(array[\"Muon_Px[0]\"]).ravel()    # flatten the array-of-arrays that TTreeFormula gave us\n",
    "py0 = numpy.concatenate(array[\"Muon_Py[0]\"]).ravel()\n",
    "pz0 = numpy.concatenate(array[\"Muon_Pz[0]\"]).ravel()\n",
    "px1 = numpy.concatenate(array[\"Muon_Px[1]\"]).ravel()\n",
    "py1 = numpy.concatenate(array[\"Muon_Py[1]\"]).ravel()\n",
    "pz1 = numpy.concatenate(array[\"Muon_Pz[1]\"]).ravel()\n",
    "\n",
    "startTime = time.time()\n",
    "px = px0 + px1\n",
    "py = py0 + py1\n",
    "pz = pz0 + pz1\n",
    "e = numpy.sqrt(px0**2 + py0**2 + pz0**2 + 0.1056583745**2) + \\\n",
    "    numpy.sqrt(px1**2 + py1**2 + pz1**2 + 0.1056583745**2)\n",
    "mass = numpy.sqrt(e**2 - px**2 - py**2 - pz**2)\n",
    "endTime = time.time()\n",
    "print \"This took\", endTime - startTime, \"seconds.\"\n",
    "\n",
    "mass"
   ]
  },
  {
   "cell_type": "code",
   "execution_count": 9,
   "metadata": {
    "collapsed": false
   },
   "outputs": [
    {
     "data": {
      "text/plain": [
       "<matplotlib.axes._subplots.AxesSubplot at 0x7fe553c437d0>"
      ]
     },
     "execution_count": 9,
     "metadata": {},
     "output_type": "execute_result"
    },
    {
     "data": {
      "image/png": "[encoded data removed]",
      "text/plain": [
       "<matplotlib.figure.Figure at 0x7fe553c43350>"
      ]
     },
     "metadata": {},
     "output_type": "display_data"
    }
   ],
   "source": [
    "%matplotlib inline\n",
    "import histogrammar\n",
    "\n",
    "h = histogrammar.Bin(120, 60, 120, lambda x: x)    # use Histogrammar's Numpy-filling backend\n",
    "h.fill.numpy(mass)                                 # (I dind't talk about that yesterday)\n",
    "h.plot.matplotlib()"
   ]
  },
  {
   "cell_type": "markdown",
   "metadata": {},
   "source": [
    "# [Pandas](https://pypi.python.org/pypi/Pandas)\n",
    "\n",
    "**Powerful data structures for data analysis, time series,and statistics**\n",
    "\n",
    "\n"
   ]
  },
  {
   "cell_type": "markdown",
   "metadata": {},
   "source": [
    "# [Matplotlib](https://pypi.python.org/pypi/Matplotlib)\n",
    "\n",
    "**Python plotting package**\n",
    "\n",
    "\n"
   ]
  },
  {
   "cell_type": "markdown",
   "metadata": {},
   "source": [
    "# [SciPy](https://pypi.python.org/pypi/SciPy)\n",
    "\n",
    "**SciPy: Scientific Library for Python**\n",
    "\n",
    "\n"
   ]
  },
  {
   "cell_type": "markdown",
   "metadata": {},
   "source": [
    "# [SymPy](https://pypi.python.org/pypi/SymPy)\n",
    "\n",
    "**Computer algebra system (CAS) in Python**\n",
    "\n",
    "This one is easy to overlook, but when you need what it does, it can be a life-saver. A \"computer algebra system (CAS)\" is like Maple or Mathematica: it algebraically simplifies expressions, computes exact derivatives and integrals, or can produce code that would do so.\n",
    "\n",
    "One issue, though: Python wants to immediately evaluate any expression you give it, but a computer algebra system must leave most expressions unevaluated. Therefore, you have to declare symbols before you use them, to create both the Python reference and the data structure within SymPy."
   ]
  },
  {
   "cell_type": "code",
   "execution_count": 10,
   "metadata": {
    "collapsed": false
   },
   "outputs": [
    {
     "name": "stdout",
     "output_type": "stream",
     "text": [
      "<class 'sympy.core.symbol.Symbol'>\n"
     ]
    }
   ],
   "source": [
    "from sympy import *\n",
    "init_printing()\n",
    "\n",
    "x, y, z = symbols(\"x y z\")\n",
    "\n",
    "# so what is this thing?\n",
    "print type(x)"
   ]
  },
  {
   "cell_type": "code",
   "execution_count": 11,
   "metadata": {
    "collapsed": false
   },
   "outputs": [
    {
     "data": {
      "image/png": "[encoded data removed]",
      "text/latex": [
       "$$\\sin^{2}{\\left (x \\right )} + \\cos^{2}{\\left (x \\right )}$$"
      ],
      "text/plain": [
       "   2         2   \n",
       "sin (x) + cos (x)"
      ]
     },
     "execution_count": 11,
     "metadata": {},
     "output_type": "execute_result"
    }
   ],
   "source": [
    "sin(x)**2 + cos(x)**2"
   ]
  },
  {
   "cell_type": "markdown",
   "metadata": {},
   "source": [
    "Nice pretty printing, right? `init_printing()` knows about Jupyter."
   ]
  },
  {
   "cell_type": "code",
   "execution_count": 12,
   "metadata": {
    "collapsed": false
   },
   "outputs": [
    {
     "data": {
      "image/png": "[encoded data removed]",
      "text/latex": [
       "$$1$$"
      ],
      "text/plain": [
       "1"
      ]
     },
     "execution_count": 12,
     "metadata": {},
     "output_type": "execute_result"
    }
   ],
   "source": [
    "simplify(sin(x)**2 + cos(x)**2)"
   ]
  },
  {
   "cell_type": "code",
   "execution_count": 13,
   "metadata": {
    "collapsed": false
   },
   "outputs": [
    {
     "data": {
      "image/png": "[encoded data removed]",
      "text/latex": [
       "$$x - 1$$"
      ],
      "text/plain": [
       "x - 1"
      ]
     },
     "execution_count": 13,
     "metadata": {},
     "output_type": "execute_result"
    }
   ],
   "source": [
    "simplify((x**3 + x**2 - x - 1)/(x**2 + 2*x + 1))"
   ]
  },
  {
   "cell_type": "code",
   "execution_count": 14,
   "metadata": {
    "collapsed": false
   },
   "outputs": [
    {
     "data": {
      "image/png": "[encoded data removed]",
      "text/latex": [
       "$$z \\left(x + 2 y\\right)^{2}$$"
      ],
      "text/plain": [
       "           2\n",
       "z⋅(x + 2⋅y) "
      ]
     },
     "execution_count": 14,
     "metadata": {},
     "output_type": "execute_result"
    }
   ],
   "source": [
    "factor(x**2*z + 4*x*y*z + 4*y**2*z)"
   ]
  },
  {
   "cell_type": "code",
   "execution_count": 15,
   "metadata": {
    "collapsed": false
   },
   "outputs": [
    {
     "data": {
      "image/png": "[encoded data removed]",
      "text/latex": [
       "$$x^{3} - x^{2} z + 2 x^{2} + x y + x - 3$$"
      ],
      "text/plain": [
       " 3    2        2       \n",
       "x  - x ⋅z + 2⋅x  + x⋅y \n",
       "\n",
       "       \n",
       "+ x - 3"
      ]
     },
     "execution_count": 15,
     "metadata": {},
     "output_type": "execute_result"
    }
   ],
   "source": [
    "expr = x*y + x - 3 + 2*x**2 - z*x**2 + x**3\n",
    "expr"
   ]
  },
  {
   "cell_type": "code",
   "execution_count": 16,
   "metadata": {
    "collapsed": false
   },
   "outputs": [
    {
     "data": {
      "image/png": "[encoded data removed]",
      "text/latex": [
       "$$x^{3} + x^{2} \\left(- z + 2\\right) + x \\left(y + 1\\right) - 3$$"
      ],
      "text/plain": [
       " 3    2                \n",
       "x  + x ⋅(-z + 2) + x⋅(y\n",
       "\n",
       "         \n",
       " + 1) - 3"
      ]
     },
     "execution_count": 16,
     "metadata": {},
     "output_type": "execute_result"
    }
   ],
   "source": [
    "collect(expr, x)"
   ]
  },
  {
   "cell_type": "code",
   "execution_count": 17,
   "metadata": {
    "collapsed": false
   },
   "outputs": [
    {
     "data": {
      "image/png": "[encoded data removed]",
      "text/latex": [
       "$$\\int_{0}^{z} \\frac{x^{2}}{2 y^{2}}\\, dx$$"
      ],
      "text/plain": [
       "z        \n",
       "⌠        \n",
       "⎮   2    \n",
       "⎮  x     \n",
       "⎮ ──── dx\n",
       "⎮    2   \n",
       "⎮ 2⋅y    \n",
       "⌡        \n",
       "0        "
      ]
     },
     "execution_count": 17,
     "metadata": {},
     "output_type": "execute_result"
    }
   ],
   "source": [
    "Integral(x**2/(2*y**2), (x, 0, z))"
   ]
  },
  {
   "cell_type": "code",
   "execution_count": 18,
   "metadata": {
    "collapsed": false
   },
   "outputs": [
    {
     "data": {
      "image/png": "[encoded data removed]",
      "text/latex": [
       "$$\\frac{z^{3}}{6 y^{2}}$$"
      ],
      "text/plain": [
       "  3 \n",
       " z  \n",
       "────\n",
       "   2\n",
       "6⋅y "
      ]
     },
     "execution_count": 18,
     "metadata": {},
     "output_type": "execute_result"
    }
   ],
   "source": [
    "integrate(x**2/(2*y**2), (x, 0, z))"
   ]
  },
  {
   "cell_type": "markdown",
   "metadata": {},
   "source": [
    "Really. Jupyter + SymPy = Mathematica − $1000."
   ]
  },
  {
   "cell_type": "markdown",
   "metadata": {},
   "source": [
    "# [numexpr](https://pypi.python.org/pypi/numexpr)\n",
    "\n",
    "**Fast numerical expression evaluator for NumPy**\n",
    "\n",
    "Numexpr is a simple calculator for Numpy arrays, computing element by element the same way Numpy does. The one difference is that Numpy has to create many large intermediate arrays (depending on how you do it), but Numexpr's intermediates are scalars. It's therefore faster."
   ]
  },
  {
   "cell_type": "code",
   "execution_count": 32,
   "metadata": {
    "collapsed": false
   },
   "outputs": [
    {
     "data": {
      "text/plain": [
       "True"
      ]
     },
     "execution_count": 32,
     "metadata": {},
     "output_type": "execute_result"
    }
   ],
   "source": [
    "import numexpr\n",
    "\n",
    "x = numpy.random.normal(0, 1, int(1e6))\n",
    "\n",
    "y = x**2\n",
    "z = numexpr.evaluate(\"x**2\")\n",
    "\n",
    "numpy.array_equal(y, z)"
   ]
  },
  {
   "cell_type": "markdown",
   "metadata": {},
   "source": [
    "Here's an interesting cross-pollination of several modules. Numexpr wants an expression as a string. Let's use SymPy to create an expression, turn it into a string and feed that to numexpr. If there was any algebraic simplification to do, we could do it here."
   ]
  },
  {
   "cell_type": "code",
   "execution_count": 20,
   "metadata": {
    "collapsed": false
   },
   "outputs": [
    {
     "data": {
      "image/png": "[encoded data removed]",
      "text/latex": [
       "$$\\sqrt{- \\left(px_{0} + px_{1}\\right)^{2} - \\left(py_{0} + py_{1}\\right)^{2} - \\left(pz_{0} + pz_{1}\\right)^{2} + \\left(\\sqrt{px_{0}^{2} + py_{0}^{2} + pz_{0}^{2} + 0.0111636921019823} + \\sqrt{px_{1}^{2} + py_{1}^{2} + pz_{1}^{2} + 0.0111636921019823}\\right)^{2}}$$"
      ],
      "text/plain": [
       "     __________________\n",
       "    ╱                  \n",
       "   ╱                   \n",
       "  ╱                2   \n",
       "╲╱    - (px₀ + px₁)  - \n",
       "\n",
       "_______________________\n",
       "                       \n",
       "                       \n",
       "           2           \n",
       "(py₀ + py₁)  - (pz₀ + p\n",
       "\n",
       "_______________________\n",
       "                       \n",
       "       ⎛   ____________\n",
       "   2   ⎜  ╱    2      2\n",
       "z₁)  + ⎝╲╱  px₀  + py₀ \n",
       "\n",
       "_______________________\n",
       "                       \n",
       "_______________________\n",
       "      2                \n",
       " + pz₀  + 0.01116369210\n",
       "\n",
       "_______________________\n",
       "                       \n",
       "______      ___________\n",
       "           ╱    2      \n",
       "19823  + ╲╱  px₁  + py₁\n",
       "\n",
       "_______________________\n",
       "                       \n",
       "_______________________\n",
       "2      2               \n",
       "  + pz₁  + 0.0111636921\n",
       "\n",
       "__________\n",
       "        2 \n",
       "_______⎞  \n",
       "       ⎟  \n",
       "019823 ⎠  "
      ]
     },
     "execution_count": 20,
     "metadata": {},
     "output_type": "execute_result"
    }
   ],
   "source": [
    "from sympy import *\n",
    "\n",
    "px0, py0, pz0, px1, py1, pz1 = symbols(\"px0, py0, pz0, px1, py1, pz1\")\n",
    "\n",
    "px = px0 + px1\n",
    "py = py0 + py1\n",
    "pz = pz0 + pz1\n",
    "e = sqrt(px0**2 + py0**2 + pz0**2 + 0.1056583745**2) + \\\n",
    "    sqrt(px1**2 + py1**2 + pz1**2 + 0.1056583745**2)\n",
    "mass = sqrt(e**2 - px**2 - py**2 - pz**2)\n",
    "\n",
    "mass"
   ]
  },
  {
   "cell_type": "markdown",
   "metadata": {},
   "source": [
    "SymPy's code generation routines create Python lambda expressions. That's not quite what we want, so use the `lambdastr` function to make a _string_ of the Python lambda expression."
   ]
  },
  {
   "cell_type": "code",
   "execution_count": 21,
   "metadata": {
    "collapsed": false
   },
   "outputs": [
    {
     "data": {
      "text/plain": [
       "'lambda px0,py0,pz0,px1,py1,pz1: (sqrt(-(px0 + px1)**2 - (py0 + py1)**2 - (pz0 + pz1)**2 + (sqrt(px0**2 + py0**2 + pz0**2 + 0.0111636921019823) + sqrt(px1**2 + py1**2 + pz1**2 + 0.0111636921019823))**2))'"
      ]
     },
     "execution_count": 21,
     "metadata": {},
     "output_type": "execute_result"
    }
   ],
   "source": [
    "from sympy.utilities.lambdify import lambdastr\n",
    "\n",
    "as_string = lambdastr((px0, py0, pz0, px1, py1, pz1), mass)\n",
    "as_string"
   ]
  },
  {
   "cell_type": "markdown",
   "metadata": {},
   "source": [
    "Now cut up the string to remove the `lambda` part. Cutting at the colon always works."
   ]
  },
  {
   "cell_type": "code",
   "execution_count": 34,
   "metadata": {
    "collapsed": false
   },
   "outputs": [
    {
     "data": {
      "text/plain": [
       "'(sqrt(-(px0 + px1)**2 - (py0 + py1)**2 - (pz0 + pz1)**2 + (sqrt(px0**2 + py0**2 + pz0**2 + 0.0111636921019823) + sqrt(px1**2 + py1**2 + pz1**2 + 0.0111636921019823))**2))'"
      ]
     },
     "execution_count": 34,
     "metadata": {},
     "output_type": "execute_result"
    }
   ],
   "source": [
    "string_i_want = as_string[as_string.index(\": \") + 2 : ]\n",
    "string_i_want"
   ]
  },
  {
   "cell_type": "code",
   "execution_count": 23,
   "metadata": {
    "collapsed": false
   },
   "outputs": [
    {
     "data": {
      "text/plain": [
       "array([ 88.94682416,  40.91526953,  89.88668023, ...,  93.52611811,\n",
       "         0.39596728,  60.84829012])"
      ]
     },
     "execution_count": 23,
     "metadata": {},
     "output_type": "execute_result"
    },
    {
     "name": "stdout",
     "output_type": "stream",
     "text": [
      "This took 0.00078010559082 seconds.\n"
     ]
    }
   ],
   "source": [
    "import ROOT\n",
    "import root_numpy\n",
    "\n",
    "tfile = ROOT.TFile(\"data.root\")\n",
    "ttree = tfile.Get(\"events\")\n",
    "array = root_numpy.tree2array(ttree,\n",
    "                              branches = [\"Muon_Px[0]\", \"Muon_Py[0]\", \"Muon_Pz[0]\",\n",
    "                                          \"Muon_Px[1]\", \"Muon_Py[1]\", \"Muon_Pz[1]\"],\n",
    "                              selection = \"NMuon >= 2\")\n",
    "\n",
    "px0 = numpy.concatenate(array[\"Muon_Px[0]\"]).ravel()    # flatten the array-of-arrays that TTreeFormula gave us\n",
    "py0 = numpy.concatenate(array[\"Muon_Py[0]\"]).ravel()\n",
    "pz0 = numpy.concatenate(array[\"Muon_Pz[0]\"]).ravel()\n",
    "px1 = numpy.concatenate(array[\"Muon_Px[1]\"]).ravel()\n",
    "py1 = numpy.concatenate(array[\"Muon_Py[1]\"]).ravel()\n",
    "pz1 = numpy.concatenate(array[\"Muon_Pz[1]\"]).ravel()\n",
    "\n",
    "startTime = time.time()\n",
    "mass = numexpr.evaluate(string_i_want)\n",
    "endTime = time.time()\n",
    "print \"This took\", endTime - startTime, \"seconds.\"\n",
    "\n",
    "mass"
   ]
  },
  {
   "cell_type": "markdown",
   "metadata": {},
   "source": [
    "0.78 ms instead of 1.8 ms (with Numpy's intermediate arrays for `px`, `py`, `pz`, and `e`). The difference would be more significant for a more complex calculation."
   ]
  },
  {
   "cell_type": "markdown",
   "metadata": {},
   "source": [
    "# [Scikit-Learn](https://pypi.python.org/pypi/Scikit-Learn)\n",
    "\n",
    "**A set of python modules for machine learning and data mining**\n",
    "\n",
    "\n",
    "\n"
   ]
  },
  {
   "cell_type": "markdown",
   "metadata": {},
   "source": [
    "# [Keras](https://pypi.python.org/pypi/Keras)\n",
    "\n",
    "**Deep Learning for Python**\n",
    "\n",
    "\n"
   ]
  },
  {
   "cell_type": "markdown",
   "metadata": {},
   "source": [
    "# [Theano](https://pypi.python.org/pypi/Theano)\n",
    "\n",
    "**Optimizing compiler for evaluating mathematical expressions on CPUs and GPUs.**\n",
    "\n",
    "\n",
    "\n"
   ]
  }
 ],
 "metadata": {
  "kernelspec": {
   "display_name": "Python 2",
   "language": "python",
   "name": "python2"
  },
  "language_info": {
   "codemirror_mode": {
    "name": "ipython",
    "version": 2
   },
   "file_extension": ".py",
   "mimetype": "text/x-python",
   "name": "python",
   "nbconvert_exporter": "python",
   "pygments_lexer": "ipython2",
   "version": "2.7.11"
  }
 },
 "nbformat": 4,
 "nbformat_minor": 1
}
