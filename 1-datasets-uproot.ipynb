{
 "cells": [
  {
   "cell_type": "markdown",
   "metadata": {},
   "source": [
    "# Datasets\n",
    "Author: Javier Duarte\n"
   ]
  },
  {
   "cell_type": "markdown",
   "metadata": {},
   "source": [
    "## Load datasets from `ROOT` files using `uproot`\n",
    "Here we load the `ROOT` datasets in python using `uproot` (see: https://github.com/scikit-hep/uproot). For more information about how to use uproot, see the [`Uproot and Awkward Array for columnar analysis HATS@LPC`](https://indico.cern.ch/e/uproothats2021) tutorial."
   ]
  },
  {
   "cell_type": "code",
   "execution_count": 1,
   "metadata": {},
   "outputs": [],
   "source": [
    "import uproot"
   ]
  },
  {
   "cell_type": "markdown",
   "metadata": {},
   "source": [
    "## Load `ROOT` files\n",
    "Here we simply open two `ROOT` files using `uproot` and display the branch content of one of the trees."
   ]
  },
  {
   "cell_type": "code",
   "execution_count": 2,
   "metadata": {},
   "outputs": [
    {
     "name": "stdout",
     "output_type": "stream",
     "text": [
      "--2022-07-11 20:22:58--  https://zenodo.org/record/3901869/files/ntuple_4mu_bkg.root?download=1\n",
      "Resolving zenodo.org (zenodo.org)... 137.138.76.77\n",
      "Connecting to zenodo.org (zenodo.org)|137.138.76.77|:443... connected.\n",
      "HTTP request sent, awaiting response... 200 OK\n",
      "Length: 8867265 (8.5M) [application/octet-stream]\n",
      "Saving to: ‘data/ntuple_4mu_bkg.root’\n",
      "\n",
      "100%[======================================>] 8,867,265   8.93MB/s   in 0.9s   \n",
      "\n",
      "2022-07-11 20:23:01 (8.93 MB/s) - ‘data/ntuple_4mu_bkg.root’ saved [8867265/8867265]\n",
      "\n",
      "--2022-07-11 20:23:01--  https://zenodo.org/record/3901869/files/ntuple_4mu_VV.root?download=1\n",
      "Resolving zenodo.org (zenodo.org)... 137.138.76.77\n",
      "Connecting to zenodo.org (zenodo.org)|137.138.76.77|:443... connected.\n",
      "HTTP request sent, awaiting response... 200 OK\n",
      "Length: 4505518 (4.3M) [application/octet-stream]\n",
      "Saving to: ‘data/ntuple_4mu_VV.root’\n",
      "\n",
      "100%[======================================>] 4,505,518   5.81MB/s   in 0.7s   \n",
      "\n",
      "2022-07-11 20:23:03 (5.81 MB/s) - ‘data/ntuple_4mu_VV.root’ saved [4505518/4505518]\n",
      "\n",
      "name                 | typename                 | interpretation                \n",
      "---------------------+--------------------------+-------------------------------\n",
      "f_run                | int32_t                  | AsDtype('>i4')\n",
      "f_lumi               | int32_t                  | AsDtype('>i4')\n",
      "f_event              | int32_t                  | AsDtype('>i4')\n",
      "f_weight             | float                    | AsDtype('>f4')\n",
      "f_int_weight         | float                    | AsDtype('>f4')\n",
      "f_pu_weight          | float                    | AsDtype('>f4')\n",
      "f_eff_weight         | float                    | AsDtype('>f4')\n",
      "f_lept1_pt           | float                    | AsDtype('>f4')\n",
      "f_lept1_eta          | float                    | AsDtype('>f4')\n",
      "f_lept1_phi          | float                    | AsDtype('>f4')\n",
      "f_lept1_charge       | float                    | AsDtype('>f4')\n",
      "f_lept1_pfx          | float                    | AsDtype('>f4')\n",
      "f_lept1_sip          | float                    | AsDtype('>f4')\n",
      "f_lept2_pt           | float                    | AsDtype('>f4')\n",
      "f_lept2_eta          | float                    | AsDtype('>f4')\n",
      "f_lept2_phi          | float                    | AsDtype('>f4')\n",
      "f_lept2_charge       | float                    | AsDtype('>f4')\n",
      "f_lept2_pfx          | float                    | AsDtype('>f4')\n",
      "f_lept2_sip          | float                    | AsDtype('>f4')\n",
      "f_lept3_pt           | float                    | AsDtype('>f4')\n",
      "f_lept3_eta          | float                    | AsDtype('>f4')\n",
      "f_lept3_phi          | float                    | AsDtype('>f4')\n",
      "f_lept3_charge       | float                    | AsDtype('>f4')\n",
      "f_lept3_pfx          | float                    | AsDtype('>f4')\n",
      "f_lept3_sip          | float                    | AsDtype('>f4')\n",
      "f_lept4_pt           | float                    | AsDtype('>f4')\n",
      "f_lept4_eta          | float                    | AsDtype('>f4')\n",
      "f_lept4_phi          | float                    | AsDtype('>f4')\n",
      "f_lept4_charge       | float                    | AsDtype('>f4')\n",
      "f_lept4_pfx          | float                    | AsDtype('>f4')\n",
      "f_lept4_sip          | float                    | AsDtype('>f4')\n",
      "f_iso_max            | float                    | AsDtype('>f4')\n",
      "f_sip_max            | float                    | AsDtype('>f4')\n",
      "f_Z1mass             | float                    | AsDtype('>f4')\n",
      "f_Z2mass             | float                    | AsDtype('>f4')\n",
      "f_angle_costhetastar | float                    | AsDtype('>f4')\n",
      "f_angle_costheta1    | float                    | AsDtype('>f4')\n",
      "f_angle_costheta2    | float                    | AsDtype('>f4')\n",
      "f_angle_phi          | float                    | AsDtype('>f4')\n",
      "f_angle_phistar1     | float                    | AsDtype('>f4')\n",
      "f_pt4l               | float                    | AsDtype('>f4')\n",
      "f_eta4l              | float                    | AsDtype('>f4')\n",
      "f_mass4l             | float                    | AsDtype('>f4')\n",
      "f_mass4lErr          | float                    | AsDtype('>f4')\n",
      "f_njets_pass         | float                    | AsDtype('>f4')\n",
      "f_deltajj            | float                    | AsDtype('>f4')\n",
      "f_massjj             | float                    | AsDtype('>f4')\n",
      "f_D_jet              | float                    | AsDtype('>f4')\n",
      "f_jet1_pt            | float                    | AsDtype('>f4')\n",
      "f_jet1_eta           | float                    | AsDtype('>f4')\n",
      "f_jet1_phi           | float                    | AsDtype('>f4')\n",
      "f_jet1_e             | float                    | AsDtype('>f4')\n",
      "f_jet2_pt            | float                    | AsDtype('>f4')\n",
      "f_jet2_eta           | float                    | AsDtype('>f4')\n",
      "f_jet2_phi           | float                    | AsDtype('>f4')\n",
      "f_jet2_e             | float                    | AsDtype('>f4')\n",
      "f_D_bkg_kin          | float                    | AsDtype('>f4')\n",
      "f_D_bkg              | float                    | AsDtype('>f4')\n",
      "f_D_gg               | float                    | AsDtype('>f4')\n",
      "f_D_g4               | float                    | AsDtype('>f4')\n",
      "f_Djet_VAJHU         | float                    | AsDtype('>f4')\n",
      "f_pfmet              | float                    | AsDtype('>f4')\n",
      "None\n"
     ]
    }
   ],
   "source": [
    "import numpy as np\n",
    "import h5py\n",
    "\n",
    "treename = 'HZZ4LeptonsAnalysisReduced'\n",
    "filename = {}\n",
    "upfile = {}\n",
    "\n",
    "!mkdir -p data\n",
    "!wget -O data/ntuple_4mu_bkg.root https://zenodo.org/record/3901869/files/ntuple_4mu_bkg.root?download=1\n",
    "!wget -O data/ntuple_4mu_VV.root https://zenodo.org/record/3901869/files/ntuple_4mu_VV.root?download=1\n",
    "\n",
    "filename['bkg'] = 'data/ntuple_4mu_bkg.root'\n",
    "filename['VV'] = 'data/ntuple_4mu_VV.root'\n",
    "\n",
    "upfile['bkg'] = uproot.open(filename['bkg'])\n",
    "upfile['VV'] = uproot.open(filename['VV'])\n",
    "\n",
    "print(upfile['bkg'][treename].show())"
   ]
  },
  {
   "cell_type": "markdown",
   "metadata": {},
   "source": [
    "## Convert tree to `pandas` DataFrames\n",
    "In my opinion, `pandas` DataFrames are a more convenient/flexible data container in python: https://pandas.pydata.org/pandas-docs/stable/generated/pandas.DataFrame.html. "
   ]
  },
  {
   "cell_type": "code",
   "execution_count": 3,
   "metadata": {},
   "outputs": [
    {
     "name": "stdout",
     "output_type": "stream",
     "text": [
      "    f_mass4l  f_massjj\n",
      "0  91.098129    -999.0\n",
      "(58107, 2)\n",
      "    f_mass4l  f_massjj\n",
      "0  91.098129    -999.0\n",
      "[[  91.09813  -999.      ]\n",
      " [ 201.84761  -999.      ]\n",
      " [  89.279076 -999.      ]\n",
      " ...\n",
      " [  90.129845 -999.      ]\n",
      " [ 250.97742  -999.      ]\n",
      " [ 229.47015  -999.      ]]\n",
      "(58107, 2)\n",
      "0        False\n",
      "1         True\n",
      "2        False\n",
      "3         True\n",
      "4         True\n",
      "         ...  \n",
      "58102    False\n",
      "58103     True\n",
      "58104    False\n",
      "58105     True\n",
      "58106     True\n",
      "Name: f_mass4l, Length: 58107, dtype: bool\n",
      "1        201.847610\n",
      "3        586.597412\n",
      "4        135.589798\n",
      "5        734.903442\n",
      "6        341.958466\n",
      "            ...    \n",
      "58097    225.355103\n",
      "58098    214.074249\n",
      "58103    252.845184\n",
      "58105    250.977417\n",
      "58106    229.470154\n",
      "Name: f_mass4l, Length: 42219, dtype: float32\n"
     ]
    }
   ],
   "source": [
    "import pandas as pd\n",
    "\n",
    "branches = ['f_mass4l','f_massjj']\n",
    "\n",
    "df = {}\n",
    "df['bkg'] = upfile['bkg'][treename].arrays(branches, library='pd')\n",
    "df['VV'] = upfile['VV'][treename].arrays(branches, library='pd')\n",
    "\n",
    "# print first entry\n",
    "print(df['bkg'].iloc[:1])\n",
    "\n",
    "# print shape of DataFrame\n",
    "print(df['bkg'].shape)\n",
    "\n",
    "# print first entry for f_mass4l and f_massjj\n",
    "print(df['bkg'][branches].iloc[:1])\n",
    "\n",
    "# convert back into unstructured NumPY array\n",
    "print(df['bkg'].values)\n",
    "print(df['bkg'].values.shape)\n",
    "\n",
    "# get boolean mask array\n",
    "mask = (df['bkg']['f_mass4l'] > 125)\n",
    "print(mask)\n",
    "\n",
    "# cut using this boolean mask array\n",
    "print(df['bkg']['f_mass4l'][mask])"
   ]
  },
  {
   "cell_type": "code",
   "execution_count": null,
   "metadata": {},
   "outputs": [],
   "source": []
  }
 ],
 "metadata": {
  "kernelspec": {
   "display_name": "machine-learning-hats-2022",
   "language": "python",
   "name": "machine-learning-hats-2022"
  },
  "language_info": {
   "codemirror_mode": {
    "name": "ipython",
    "version": 3
   },
   "file_extension": ".py",
   "mimetype": "text/x-python",
   "name": "python",
   "nbconvert_exporter": "python",
   "pygments_lexer": "ipython3",
   "version": "3.9.13"
  }
 },
 "nbformat": 4,
 "nbformat_minor": 2
}
