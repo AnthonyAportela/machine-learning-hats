{
 "cells": [
  {
   "cell_type": "markdown",
   "metadata": {},
   "source": [
    "# Table of Contents\n",
    "\n",
    "It's easy to get lost in this one.\n",
    "\n",
    "   * [Scientific Python ecosystem](#Scientific-Python-ecosystem)\n",
    "   * [How to access these packages](#How-to-access-these-packages)\n",
    "   * [Python packages in CMSSW](#Python-packages-in-CMSSW)\n",
    "      * [Directly relevant for data analysis](#Directly-relevant-for-data-analysis)\n",
    "      * [Data formats, database access, and utilities](#Data-formats,-database-access,-and-utilities)\n",
    "      * [Parsers of data and configuration files](#Parsers-of-data-and-configuration-files)\n",
    "      * [Tools for building scripts](#Tools-for-building-scripts)\n",
    "      * [Tools for working with Jupyter](#Tools-for-working-with-Jupyter)\n",
    "      * [HTML tools for making websites](#HTML-tools-for-making-websites)\n",
    "      * [Python language enhancements](#Python-language-enhancements)\n",
    "      * [Python package and project management tools](#Python-package-and-project-managment-tools)\n",
    "   * [Whirlwind tour of Scientific Python packages](#Whirlwind-tour-of-Scientific-Python-packages)\n",
    "      * [Numpy:](#Numpy) array processing for numbers, strings, records, and objects.\n",
    "      * [root_numpy:](#root_numpy) the interface between ROOT and NumPy.\n",
    "      * [SciPy:](#SciPy) the scientific library for Python.\n",
    "      * [Matplotlib:](#Matplotlib) the plotting library for Python.\n",
    "      * [Pandas:](#Pandas) powerful data structures for data analysis, time series, and statistics.\n",
    "      * [SymPy:](#SymPy) computer algebra system (CAS) in Python.\n",
    "      * [numexpr:](#numexpr) fast numerical expression evaluator for Numpy.\n",
    "      * [Scikit-Learn:](#Scikit-Learn) a set of python modules for machine learning and data mining.\n",
    "      * [Keras:](#Keras) deep learning for Python.\n",
    "      * [Theano:](#Theano) optimizing compiler for evaluating mathematical expressions on CPUs and GPUs."
   ]
  },
  {
   "cell_type": "markdown",
   "metadata": {},
   "source": [
    "# Scientific Python ecosystem\n",
    "\n",
    "In the past 5 years or so, Python has become a popular way to do science. The language had always been regarded as slow, and therefore unfit for large-scale numerical work, but extensions written in C++ soften that issue.\n",
    "\n",
    "The key component underlying this ecosystem is the Numpy array, which defines a standard way to work with raw numerical arrays. SciPy (scientific algorithms), Matplotlib (plotting), Pandas (dataframe-style interaction), and Scikit-Learn (machine learning) are all built on top of this format. Numpy is as pervasive in the scientific Python ecosystem as ROOT is in HEP.\n",
    "\n",
    "Here are a few Google Trends plots showing the rise of scientific Python:\n",
    "\n",
    "**\"Python\" has always been popular but \"Python for science\" is new.**\n",
    "\n",
    "<img src=\"searchterm-python.png\" style=\"width: 453px; display: inline-block;\"><img src=\"searchterm-python-for-science.png\" style=\"width: 453px; margin-left: 10px; display: inline-block;\">\n",
    "\n",
    "**\"Data science\" is new but \"Python for data science\" has grown more quickly.**\n",
    "\n",
    "<img src=\"searchterm-data-science.png\" style=\"width: 453px; display: inline-block;\"><img src=\"searchterm-python-for-data-science.png\" style=\"width: 453px; margin-left: 10px; display: inline-block;\">\n",
    "\n",
    "**\"Machine learning\" is new but \"Python for machine learning\" has grown more quickly.**\n",
    "\n",
    "<img src=\"searchterm-machine-learning.png\" style=\"width: 453px; display: inline-block;\"><img src=\"searchterm-python-for-machine-learning.png\" style=\"width: 453px; margin-left: 10px; display: inline-block;\">\n",
    "\n",
    "**R, a language designed specifically for data analysis, is facing stiff competition from Python.**\n",
    "\n",
    "Try Googling \"Python versus R.\" I got 8 million hits."
   ]
  },
  {
   "cell_type": "markdown",
   "metadata": {
    "collapsed": true
   },
   "source": [
    "# How to access these packages\n",
    "\n",
    "Scientific Python packages are not a part of the standard Python library— not even plotting. I don't recommend installing them manually or even using your OS distribution's package manager (such as yum or apt-get). Use one of these specialized package managers.\n",
    "\n",
    "   * **pip:** Usually, you would install Python packages with pip, and many of these packages are installable that way. However, pip only tracks Python dependencies, and most of these packages depend on non-Python libraries.\n",
    "   \n",
    "   \n",
    "   \n",
    "   * **conda:** The `conda` package manager was invented for this problem: it tracks dependencies from any language (a conda package need not be Python: [ROOT is a conda package](https://nlesc.gitbooks.io/cern-root-conda-recipes/content/index.html)), and it keeps track of hardware architecture so that compilations will succeed. The [Anaconda distribution](https://www.continuum.io/downloads) could be used as an unambiguous definition of what is \"scientific Python\" and what is not. [Miniconda](https://conda.io/miniconda.html) is a way to conda-install things without the whole ecosystem.\n",
    "   \n",
    "   (\"Continuum Analytics,\" a name that pops up a lot on Anaconda/Miniconda, is a company built up around Numpy, founded by Numpy's developer. The nonprofit organization associated with this stuff is called [PyData](https://pydata.org/).)\n",
    "   \n",
    "   \n",
    "   \n",
    "   * **CMSSW:** Surprisingly, CMSSW already contains many of these. Since you're CMS members, this might be the easiest way to get access to these packages. I'm only going to show packages from within CMSSW because that way, we don't have to install anything to get started.\n",
    "\n",
    "\n",
    "# Python packages in CMSSW\n",
    "\n",
    "This is a list of Python packages bundled with CMSSW as of 2017-03-21 (thanks, David Lange!). I've roughly grouped them by category.\n",
    "\n",
    "### Directly relevant for data analysis\n",
    "\n",
    "   * [cycler](https://pypi.python.org/pypi/cycler): Composable style cycles (Matplotlib)\n",
    "   * [dablooms](https://github.com/bitly/dablooms): scaling, counting, bloom filter library\n",
    "   * [deepdish](https://pypi.python.org/pypi/deepdish): Deep Learning experiments from University of Chicago.\n",
    "   * [Keras](https://pypi.python.org/pypi/Keras): Deep Learning for Python\n",
    "   * [Matplotlib](https://pypi.python.org/pypi/Matplotlib): Python plotting package\n",
    "   * [mpmath](https://pypi.python.org/pypi/mpmath): Python library for arbitrary-precision floating-point arithmetic\n",
    "   * [networkx](https://pypi.python.org/pypi/networkx): Python package for creating and manipulating graphs and networks\n",
    "   * [numexpr](https://pypi.python.org/pypi/numexpr): Fast numerical expression evaluator for NumPy\n",
    "   * [Numpy](https://pypi.python.org/pypi/Numpy): NumPy: array processing for numbers, strings, records, and objects.\n",
    "   * [Pandas](https://pypi.python.org/pypi/Pandas): Powerful data structures for data analysis, time series,and statistics\n",
    "   * [root_numpy](https://pypi.python.org/pypi/root_numpy): The interface between ROOT and NumPy\n",
    "   * [rootpy](https://pypi.python.org/pypi/rootpy): A pythonic layer on top of the ROOT framework's PyROOT bindings.\n",
    "   * [Scikit-Learn](https://pypi.python.org/pypi/Scikit-Learn): A set of python modules for machine learning and data mining\n",
    "   * [SciPy](https://pypi.python.org/pypi/SciPy): SciPy: Scientific Library for Python\n",
    "   * [SymPy](https://pypi.python.org/pypi/SymPy): Computer algebra system (CAS) in Python\n",
    "   * [TensorFlow](https://pypi.python.org/pypi/TensorFlow) (not working yet and will be only slc7+): TensorFlow helps the tensors flow\n",
    "   * [Theano](https://pypi.python.org/pypi/Theano): Optimizing compiler for evaluating mathematical expressions on CPUs and GPUs.\n",
    "\n",
    "### Data formats, database access, and utilities\n",
    "\n",
    "   * [dxr-cmd](https://pypi.python.org/pypi/dxr-cmd): Command-line tool for querying DXR.\n",
    "   * [h5py](https://pypi.python.org/pypi/h5py): Read and write HDF5 files from Python\n",
    "   * [pickleshare](https://pypi.python.org/pypi/pickleshare): Tiny 'shelve'-like database with concurrency support\n",
    "   * [prettytable](https://pypi.python.org/pypi/prettytable): A simple Python library for easily displaying tabular data in a visually appealing ASCII table format.\n",
    "   * [protobuf](https://pypi.python.org/pypi/protobuf): Protocol Buffers\n",
    "   * [psutil](https://pypi.python.org/pypi/psutil): psutil is a cross-platform library for retrieving information onrunning processes and system utilization (CPU, memory, disks, network)in Python.\n",
    "   * [pycurl](https://pypi.python.org/pypi/pycurl): PycURL -- A Python Interface To The cURL library\n",
    "   * [pygithub](https://pypi.python.org/pypi/pygithub): Use the full Github API v3\n",
    "   * [pysqlite](https://pypi.python.org/pypi/pysqlite): DB-API 2.0 interface for SQLite 3.x\n",
    "   * [sqlalchemy](https://pypi.python.org/pypi/sqlalchemy): Database Abstraction Library\n",
    "   * [tables](https://pypi.python.org/pypi/tables): Hierarchical datasets for Python\n",
    "\n",
    "### Parsers of data and configuration files\n",
    "\n",
    "   * [argparse](https://pypi.python.org/pypi/argparse): Python command-line parsing library\n",
    "   * [configparser](https://pypi.python.org/pypi/configparser): This library brings the updated configparser from Python 3.5 to Python 2.6-3.5.\n",
    "   * [docopt](https://pypi.python.org/pypi/docopt): Pythonic argument parser, that will make you smile\n",
    "   * [mistune](https://pypi.python.org/pypi/mistune): The fastest markdown parser in pure Python\n",
    "   * [parsimonious](https://pypi.python.org/pypi/parsimonious): (Soon to be) the fastest pure-Python PEG parser I could muster\n",
    "   * [pyparsing](https://pypi.python.org/pypi/pyparsing): Python parsing module\n",
    "   * [python-cjson](https://pypi.python.org/pypi/python-cjson): Fast JSON encoder/decoder for Python\n",
    "   * [PyYAML](https://pypi.python.org/pypi/PyYAML): YAML parser and emitter for Python\n",
    "\n",
    "### Tools for building scripts\n",
    "\n",
    "   * [appdirs](https://pypi.python.org/pypi/appdirs): A small Python module for determining appropriate platform-specific dirs, e.g. a \"user data dir\".\n",
    "   * [backports.shutil_get_terminal_size](https://pypi.python.org/pypi/backports.shutil_get_terminal_size): A backport of the get_terminal_size function from Python 3.3's shutil.\n",
    "   * [pathlib2](https://pypi.python.org/pypi/pathlib2): Object-oriented filesystem paths\n",
    "   * [pexpect](https://pypi.python.org/pypi/pexpect): Pexpect allows easy control of interactive console applications.\n",
    "   * [prompt_toolkit](https://pypi.python.org/pypi/prompt_toolkit): Library for building powerful interactive command lines in Python\n",
    "   * [ptyprocess](https://pypi.python.org/pypi/ptyprocess): Run a subprocess in a pseudo terminal\n",
    "   * [pytz](https://pypi.python.org/pypi/pytz): World timezone definitions, modern and historical\n",
    "   * [wcwidth](https://pypi.python.org/pypi/wcwidth): Measures number of Terminal column cells of wide-character codes\n",
    "\n",
    "### Tools for working with Jupyter\n",
    "\n",
    "   * [ipykernel](https://pypi.python.org/pypi/ipykernel): IPython Kernel for Jupyter\n",
    "   * [ipython_genutils](https://pypi.python.org/pypi/ipython_genutils): Vestigial utilities from IPython\n",
    "   * [ipython](https://pypi.python.org/pypi/ipython): IPython: Productive Interactive Computing\n",
    "   * [ipywidgets](https://pypi.python.org/pypi/ipywidgets): IPython HTML widgets for Jupyter\n",
    "   * [jupyter_client](https://pypi.python.org/pypi/jupyter_client): Jupyter protocol implementation and client libraries\n",
    "   * [jupyter_console](https://pypi.python.org/pypi/jupyter_console): Jupyter terminal console\n",
    "   * [jupyter_core](https://pypi.python.org/pypi/jupyter_core): Jupyter core package. A base package on which Jupyter projects rely.\n",
    "   * [jupyter](https://pypi.python.org/pypi/jupyter): Jupyter metapackage. Install all the Jupyter components in one go.\n",
    "   * [nbconvert](https://pypi.python.org/pypi/nbconvert): Converting Jupyter Notebooks\n",
    "   * [nbformat](https://pypi.python.org/pypi/nbformat): The Jupyter Notebook format\n",
    "   * [notebook](https://pypi.python.org/pypi/notebook): A web-based notebook environment for interactive computing\n",
    "   * [qtconsole](https://pypi.python.org/pypi/qtconsole): Jupyter Qt console\n",
    "   * [widgetsnbextension](https://pypi.python.org/pypi/widgetsnbextension): IPython HTML widgets for Jupyter\n",
    "\n",
    "### HTML tools for making websites\n",
    "\n",
    "   * [bleach](https://pypi.python.org/pypi/bleach): An easy safelist-based HTML-sanitizing tool.\n",
    "   * [certifi](https://pypi.python.org/pypi/certifi): Python package for providing Mozilla's CA Bundle.\n",
    "   * [html5lib](https://pypi.python.org/pypi/html5lib): HTML parser based on the WHATWG HTML specifcation\n",
    "   * [Jinja2](https://pypi.python.org/pypi/Jinja2): A small but fast and easy to use stand-alone template engine written in pure python.\n",
    "   * [Jinja](https://pypi.python.org/pypi/Jinja): A small but fast and easy to use stand-alone template engine written in pure python.\n",
    "   * [jsonschema](https://pypi.python.org/pypi/jsonschema): An implementation of JSON Schema validation for Python\n",
    "   * [lint](https://pypi.python.org/pypi/lint): Python script to automatically lint new reviews to gerrit. Designed to be run from within Jenkins via the Gerrit Trigger plugin\n",
    "   * [MarkupSafe](https://pypi.python.org/pypi/MarkupSafe): Implements a XML/HTML/XHTML Markup safe string for Python\n",
    "   * [pandocfilters](https://pypi.python.org/pypi/pandocfilters): Utilities for writing pandoc filters in python\n",
    "   * [Pygments](https://pypi.python.org/pypi/Pygments): Pygments is a syntax highlighting package written in Python.\n",
    "   * [pyzmq](https://pypi.python.org/pypi/pyzmq): Python bindings for 0MQ\n",
    "   * [requests](https://pypi.python.org/pypi/requests): Python HTTP for Humans.\n",
    "   * [schema](https://pypi.python.org/pypi/schema): Simple data validation library\n",
    "   * [terminado](https://pypi.python.org/pypi/terminado): Terminals served to term.js using Tornado websockets\n",
    "   * [tornado](https://pypi.python.org/pypi/tornado): Tornado is a Python web framework and asynchronous networking library, originally developed at FriendFeed.\n",
    "   * [webencodings](https://pypi.python.org/pypi/webencodings): Character encoding aliases for legacy web content\n",
    "\n",
    "### Python language enhancements\n",
    "\n",
    "   * [backports_abc](https://pypi.python.org/pypi/backports_abc): A backport of recent additions to the 'collections.abc' module.\n",
    "   * [backports.ssl-match-hostname](https://pypi.python.org/pypi/backports.ssl-match-hostname): The ssl.match_hostname() function from Python 3.5\n",
    "   * [decorator](https://pypi.python.org/pypi/decorator): Better living through Python with decorators\n",
    "   * [enum34](https://pypi.python.org/pypi/enum34): Python 3.4 Enum backported to 3.3, 3.2, 3.1, 2.7, 2.6, 2.5, and 2.4\n",
    "   * [functools32](https://pypi.python.org/pypi/functools32): Fast tools for functional programming\n",
    "   * [futures](https://pypi.python.org/pypi/futures): Backport of the concurrent.futures package from Python 3.2\n",
    "   * [ordereddict](https://pypi.python.org/pypi/ordereddict): A drop-in substitute for Py2.7's new collections.OrderedDict that works in Python 2.4-2.6.\n",
    "   * [repoze.lru](https://pypi.python.org/pypi/repoze.lru): A tiny LRU cache implementation and decorator\n",
    "   * [scandir](https://pypi.python.org/pypi/scandir): scandir, a better directory iterator and faster os.walk()\n",
    "   * [simplegeneric](https://pypi.python.org/pypi/simplegeneric): Simple generic functions (similar to Python's own len(), pickle.dump(), etc.)\n",
    "   * [singledispatch](https://pypi.python.org/pypi/singledispatch): This library brings functools.singledispatch from Python 3.4 to Python 2.6-3.3.\n",
    "   * [six](https://pypi.python.org/pypi/six): Python 2 and 3 compatibility utilities\n",
    "\n",
    "### Python package and project managment tools\n",
    "\n",
    "   * [entrypoints](https://pypi.python.org/pypi/entrypoints): Discover and load entry points from installed packages.\n",
    "   * [mock](https://pypi.python.org/pypi/mock): Rolling backport of unittest.mock for all Pythons\n",
    "   * [packaging](https://pypi.python.org/pypi/packaging): Core utilities for Python packages\n",
    "   * [pbr](https://pypi.python.org/pypi/pbr): Python Build Reasonableness\n",
    "   * [python](https://pypi.python.org/pypi/python): A high-level object-oriented programming language\n",
    "   * [setuptools](https://pypi.python.org/pypi/setuptools): Easily download, build, install, upgrade, and uninstall Python packages\n",
    "   * [testpath](https://pypi.python.org/pypi/testpath): Test utilities for code working with files and commands\n",
    "   * [traitlets](https://pypi.python.org/pypi/traitlets): Traitlets Python config system"
   ]
  },
  {
   "cell_type": "markdown",
   "metadata": {},
   "source": [
    "# Whirlwind tour of Scientific Python packages\n",
    "\n",
    "The purpose of this tutorial is to\n",
    "\n",
    "   * introduce you _to the existence_ of many packages; maybe one of them will be useful to you,\n",
    "   * show you a \"hello world\" in each, to provide enough familiarity that you'll be able to follow up and do something useful.\n",
    "   \n",
    "Some of the first few are more fully covered than the later ones, only because I think they're more likely to be useful in your work."
   ]
  },
  {
   "cell_type": "markdown",
   "metadata": {},
   "source": [
    "# [Numpy](https://pypi.python.org/pypi/Numpy)\n",
    "\n",
    "**NumPy: array processing for numbers, strings, records, and objects.**\n",
    "\n",
    "As described above, the Numpy package defines the basic data structure on which all the rest is built: the Numpy array. I'll show a little more than just a \"hello world\" for this one."
   ]
  },
  {
   "cell_type": "code",
   "execution_count": 1,
   "metadata": {
    "collapsed": true
   },
   "outputs": [],
   "source": [
    "import numpy    # a lot of people \"import numpy as np\" but I don't like that"
   ]
  },
  {
   "cell_type": "code",
   "execution_count": 11,
   "metadata": {
    "collapsed": false
   },
   "outputs": [
    {
     "name": "stdout",
     "output_type": "stream",
     "text": [
      "[ 0.   1.1  2.2  3.3  4.4  5.5  6.6  7.7  8.8  9.9]\n",
      "[ 0.   2.2  4.4  6.6  8.8]\n",
      "[ 3.3  4.4  5.5  6.6  7.7  8.8  9.9]\n"
     ]
    }
   ],
   "source": [
    "array = numpy.array([0.0, 1.1, 2.2, 3.3, 4.4, 5.5, 6.6, 7.7, 8.8, 9.9])\n",
    "print array\n",
    "print array[::2]\n",
    "print array[array > 3]"
   ]
  },
  {
   "cell_type": "markdown",
   "metadata": {},
   "source": [
    "Numpy arrays look a bit like Python lists, can be sliced up like Python lists, but they're contiguous numerical arrays in memory, with none of Python's overhead for treating numbers as objects.\n",
    "\n",
    "You can do low-level stuff with them, like change the byte order or cast them as the wrong type."
   ]
  },
  {
   "cell_type": "code",
   "execution_count": 12,
   "metadata": {
    "collapsed": false
   },
   "outputs": [
    {
     "name": "stdout",
     "output_type": "stream",
     "text": [
      "[  0.00000000e+000  -1.54234871e-180  -1.54234871e-180   1.90359857e+185\n",
      "  -1.54234871e-180   2.81419792e-320   1.90359857e+185  -6.06598800e+066\n",
      "  -1.54234871e-180  -6.06598800e+066]\n",
      "[          0           0 -1717986918  1072798105 -1717986918  1073846681\n",
      "  1717986918  1074423398 -1717986918  1074895257           0  1075183616\n",
      "  1717986918  1075471974  -858993459  1075760332 -1717986918  1075943833\n",
      "  -858993459  1076088012]\n"
     ]
    }
   ],
   "source": [
    "print array.byteswap()\n",
    "print array.view(dtype=\"int32\")"
   ]
  },
  {
   "cell_type": "markdown",
   "metadata": {},
   "source": [
    "Usually, you use Numpy arrays to do calculations. Numpy comes with a lot of precompiled functions, each of which does one thing to all elements of the array."
   ]
  },
  {
   "cell_type": "code",
   "execution_count": 13,
   "metadata": {
    "collapsed": false
   },
   "outputs": [
    {
     "data": {
      "text/plain": [
       "array([ 0.        ,  0.89120736,  0.8084964 , -0.15774569, -0.95160207,\n",
       "       -0.70554033,  0.31154136,  0.98816823,  0.58491719, -0.45753589])"
      ]
     },
     "execution_count": 13,
     "metadata": {},
     "output_type": "execute_result"
    }
   ],
   "source": [
    "numpy.sin(array)"
   ]
  },
  {
   "cell_type": "markdown",
   "metadata": {},
   "source": [
    "Using these functions often requires you to rethink your algorithm because you would usually take one event and apply all functions to that event before moving on. With a Numpy array representing one _variable_ for all _events,_ you find yourself doing work in a different order.\n",
    "\n",
    "Here's an example we'll get to down below, after we've introduced `root_numpy` to get ROOT data into Numpy.\n",
    "\n",
    "```\n",
    "# add one component of momentum *for all events* before moving on to the next component\n",
    "px = px0 + px1\n",
    "py = py0 + py1\n",
    "pz = pz0 + pz1\n",
    "\n",
    "# do the same for energy, *for all events*\n",
    "e = numpy.sqrt(px0**2 + py0**2 + pz0**2 + 0.1056583745**2) + \\\n",
    "    numpy.sqrt(px1**2 + py1**2 + pz1**2 + 0.1056583745**2)\n",
    "\n",
    "# and then the same for mass, *for all events*\n",
    "mass = numpy.sqrt(e**2 - px**2 - py**2 - pz**2)\n",
    "```\n",
    "\n",
    "With each step performed on all events before moving on to the next step, you end up making a lot of intermediate arrays. Fortunately, each of these precompiled functions also lets you overwrite an array so that you can keep your memory usage down."
   ]
  },
  {
   "cell_type": "code",
   "execution_count": 21,
   "metadata": {
    "collapsed": false
   },
   "outputs": [
    {
     "name": "stdout",
     "output_type": "stream",
     "text": [
      "before [ 0.  0.  0.  0.  0.  0.  0.  0.  0.  0.]\n",
      "after  [ 0.          0.89120736  0.8084964  -0.15774569 -0.95160207 -0.70554033\n",
      "  0.31154136  0.98816823  0.58491719 -0.45753589]\n"
     ]
    }
   ],
   "source": [
    "output = numpy.zeros(10, dtype=\"float64\")\n",
    "print \"before\", output\n",
    "\n",
    "# write the computed values onto output\n",
    "numpy.sin(array, output)\n",
    "\n",
    "print \"after \", output"
   ]
  },
  {
   "cell_type": "markdown",
   "metadata": {},
   "source": [
    "See the [Numpy reference](https://docs.scipy.org/doc/numpy/reference/) for many more functions."
   ]
  },
  {
   "cell_type": "markdown",
   "metadata": {},
   "source": [
    "### Wreaking havoc on raw bytes in memory\n",
    "\n",
    "Numpy is a general way to get low-level in Python. The Numpy arrays are plain C arrays with a Pythonic wrapper to interpret them. Just like C arrays, Numpy arrays don't have to look at distinct regions of memory. This is a good way to do two things:\n",
    "\n",
    "   * cause lots of subtle bugs\n",
    "   * modify data efficiently.\n",
    "\n",
    "Here's an example: ROOT interaction. PyROOT is not Numpy-aware, so when PyROOT needs to pass an array from Python to C++, it uses Python's little-known built-in `array` library. This library does no more than create C arrays within Python and allow you to change values with Python's square brackets.\n",
    "\n",
    "We'd like to use the full power of Numpy instead.\n",
    "\n",
    "First, import `array` and `ROOT` and make an `interpolator`, which takes two arrays as input."
   ]
  },
  {
   "cell_type": "code",
   "execution_count": 22,
   "metadata": {
    "collapsed": false
   },
   "outputs": [
    {
     "data": {
      "application/javascript": [
       "\n",
       "require(['notebook'],\n",
       "  function() {\n",
       "    IPython.CodeCell.config_defaults.highlight_modes['magic_text/x-c++src'] = {'reg':[/^%%cpp/]};\n",
       "    console.log(\"JupyROOT - %%cpp magic configured\");\n",
       "  }\n",
       ");\n"
      ]
     },
     "metadata": {},
     "output_type": "display_data"
    },
    {
     "name": "stdout",
     "output_type": "stream",
     "text": [
      "Welcome to JupyROOT 6.08/05\n"
     ]
    }
   ],
   "source": [
    "import array\n",
    "import math\n",
    "import ROOT\n",
    "\n",
    "N = 100\n",
    "interpolator = ROOT.Math.Interpolator(N, ROOT.Math.Interpolation.kPOLYNOMIAL)\n",
    "\n",
    "xarray = array.array(\"d\", [0] * N)\n",
    "yarray = array.array(\"d\", [0] * N)"
   ]
  },
  {
   "cell_type": "markdown",
   "metadata": {},
   "source": [
    "Now wrap `xarray` and `yarray` as Numpy arrays and use Numpy to manipulate them."
   ]
  },
  {
   "cell_type": "code",
   "execution_count": 23,
   "metadata": {
    "collapsed": false
   },
   "outputs": [
    {
     "name": "stdout",
     "output_type": "stream",
     "text": [
      "peek at yarray: array('d', [0.0, 0.0, 0.0, 0.0, 0.0, 0.0, 0.0, 0.0, 0.0, 0.0])\n",
      "peek at yarray: array('d', [-1.2246467991473532e-16, -0.06342391965656484, -0.12659245357374938, -0.1892512443604105, -0.2511479871810793, -0.31203344569848734, -0.3716624556603276, -0.4297949120891718, -0.4861967361004687, -0.5406408174555978])\n"
     ]
    }
   ],
   "source": [
    "xarray_view = numpy.frombuffer(xarray)        # does not copy; wraps this built-in array with Numpy capabilities\n",
    "yarray_view = numpy.frombuffer(yarray)\n",
    "\n",
    "xarray_view[:] = numpy.linspace(-math.pi, math.pi, N)\n",
    "\n",
    "print \"peek at yarray:\", yarray[:10]\n",
    "\n",
    "numpy.sin(xarray_view, yarray_view)           # operates on yarray in-place: no new memory allocated\n",
    "\n",
    "print \"peek at yarray:\", yarray[:10]          # yarray has changed under yarray_view"
   ]
  },
  {
   "cell_type": "code",
   "execution_count": 24,
   "metadata": {
    "collapsed": false
   },
   "outputs": [
    {
     "data": {
      "text/plain": [
       "0.2955202102630105"
      ]
     },
     "execution_count": 24,
     "metadata": {},
     "output_type": "execute_result"
    }
   ],
   "source": [
    "# give PyROOT xarray and yarray in the form it wants\n",
    "interpolator.SetData(N, xarray, yarray)\n",
    "interpolator.Eval(0.3)"
   ]
  },
  {
   "cell_type": "markdown",
   "metadata": {},
   "source": [
    "### Using Numpy to share memory across processes\n",
    "\n",
    "If you're going to set up your own parallel-processing, you'll discover a deficiency in Python called the Global Interpreter Lock (GIL). Every time Python steps to a line through your code, it makes all other threads wait. _Multithreaded Python programs do not run in parallel!_\n",
    "\n",
    "To get around this limitation, you can spread your work to multiple processes, rather than threads. But here's a problem: processes can't talk to each other (much). This is bad if you need to coordinate work among your workers.\n",
    "\n",
    "However, Python comes with a module called `multiprocessing`, which lets you fork subprocesses within your Python script (no more making 32 scripts just so that you can run them in parallel), and forked subprocesses can share some data. In particular, they can use shared memory, an old and now underused UNIX feature. Shared memory has to be a fixed-size, uninterpreted block of memory, which is exactly what a Numpy array is."
   ]
  },
  {
   "cell_type": "code",
   "execution_count": 6,
   "metadata": {
    "collapsed": false
   },
   "outputs": [
    {
     "name": "stdout",
     "output_type": "stream",
     "text": [
      "[ -1.22464680e-16  -6.28324814e-05  -1.25664962e-04  -1.88497443e-04\n",
      "  -2.51329923e-04  -3.14162402e-04  -3.76994879e-04  -4.39827356e-04\n",
      "  -5.02659830e-04  -5.65492302e-04]\n",
      "[ -1.22464680e-16  -6.28324814e-05  -1.25664962e-04  -1.88497443e-04\n",
      "  -2.51329923e-04  -3.14162402e-04  -3.76994879e-04  -4.39827356e-04\n",
      "  -5.02659830e-04  -5.65492302e-04]\n",
      "[ -1.22464680e-16  -6.28324814e-05  -1.25664962e-04  -1.88497443e-04\n",
      "  -2.51329923e-04  -3.14162402e-04  -3.76994879e-04  -4.39827356e-04\n",
      "  -5.02659830e-04  -5.65492302e-04]\n",
      "[ -1.22464680e-16  -6.28324814e-05  -1.25664962e-04  -1.88497443e-04\n",
      "  -2.51329923e-04  -3.14162402e-04  -3.76994879e-04  -4.39827356e-04\n",
      "  -5.02659830e-04  -5.65492302e-04]\n",
      "[ -1.22464680e-16  -6.28324814e-05  -1.25664962e-04  -1.88497443e-04\n",
      "  -2.51329923e-04  -3.14162402e-04  -3.76994879e-04  -4.39827356e-04\n",
      "  -5.02659830e-04  -5.65492302e-04]\n",
      "[ -1.22464680e-16  -6.28324814e-05  -1.25664962e-04  -1.88497443e-04\n",
      "  -2.51329923e-04  -3.14162402e-04  -3.76994879e-04  -4.39827356e-04\n",
      "  -5.02659830e-04  -5.65492302e-04]\n",
      "[ -1.22464680e-16  -6.28324814e-05  -1.25664962e-04  -1.88497443e-04\n",
      "  -2.51329923e-04  -3.14162402e-04  -3.76994879e-04  -4.39827356e-04\n",
      "  -5.02659830e-04  -5.65492302e-04]\n",
      "[ -1.22464680e-16  -6.28324814e-05  -1.25664962e-04  -1.88497443e-04\n",
      "  -2.51329923e-04  -3.14162402e-04  -3.76994879e-04  -4.39827356e-04\n",
      "  -5.02659830e-04  -5.65492302e-04]\n",
      "[ -1.22464680e-16  -6.28324814e-05  -1.25664962e-04  -1.88497443e-04\n",
      "  -2.51329923e-04  -3.14162402e-04  -3.76994879e-04  -4.39827356e-04\n",
      "  -5.02659830e-04  -5.65492302e-04]\n",
      "[ -1.22464680e-16  -6.28324814e-05  -1.25664962e-04  -1.88497443e-04\n",
      "  -2.51329923e-04  -3.14162402e-04  -3.76994879e-04  -4.39827356e-04\n",
      "  -5.02659830e-04  -5.65492302e-04]\n"
     ]
    }
   ],
   "source": [
    "import multiprocessing\n",
    "import ctypes\n",
    "import math\n",
    "\n",
    "N = int(1e6)\n",
    "n = int(1e5)\n",
    "shared = multiprocessing.RawArray(ctypes.c_double, N)   # shared memory is a million numbers\n",
    "\n",
    "class Subprocess(multiprocessing.Process):\n",
    "    def __init__(self, shared, lo, hi):\n",
    "        super(Subprocess, self).__init__()\n",
    "        # set up; happens on launcher process and is sent to the new subprocess\n",
    "        self.shared = shared\n",
    "        self.lo = lo\n",
    "        self.hi = hi\n",
    "    \n",
    "    def run(self):\n",
    "        # everything that happens here is in a new subprocess that can't communicate (much) with the launcher\n",
    "\n",
    "        # wrap the shared data as a Numpy array, so that we can do Numpy things to it\n",
    "        alldata = numpy.frombuffer(self.shared, dtype=\"float64\")\n",
    "        \n",
    "        # only allowed to modify my part\n",
    "        mydata = alldata[self.lo : self.hi]\n",
    "        mydata[:] = numpy.linspace(-math.pi, math.pi, self.hi - self.lo)\n",
    "        numpy.sin(mydata, mydata)  # overwrite with sine values\n",
    "        \n",
    "        # that's it: no need to send results back because we're all writing on the same scratchpad\n",
    "\n",
    "# set them up\n",
    "minions = []\n",
    "for lo, hi in zip(range(0, N, n), range(n, N+n, n)):   # up to a million in steps of 100,000\n",
    "    minions.append(Subprocess(shared, lo, hi))\n",
    "\n",
    "# now run these 10 subprocesses in parallel\n",
    "for minion in minions:\n",
    "    minion.start()\n",
    "\n",
    "# wait for them all to finish\n",
    "for minion in minions:\n",
    "    minion.join()\n",
    "\n",
    "# look at the first 10 elements of each sub-slice of the array\n",
    "for minion in minions:\n",
    "    print numpy.frombuffer(shared, dtype=\"float64\")[minion.lo : minion.lo + 10]"
   ]
  },
  {
   "cell_type": "markdown",
   "metadata": {},
   "source": [
    "Needless to say, terrible things can happen if you let your subprocesses read and write _the same_ parts of the big array. You'll never know which one read or wrote it first (race condition).\n",
    "\n",
    "However, you can use the `multiprocessing` library's primitives to coordinate between your subprocesses. Consider sending small messages from the launcher to the subprocesses with `multiprocessing.Queue`, with all the big data in the shared array.\n",
    "\n",
    "### Summary: wrapping arrays as Numpy\n",
    "\n",
    "There are at least three different ways of making C arrays in the Python standard library:\n",
    "\n",
    "   * from the **ctypes** module, which is for running C code right out of a `libXYZ.so` file,\n",
    "   * from the built-in **array** module, which ROOT uses for C++ functions that take array arguments,\n",
    "   * from **multiprocessing** for shared memory arrays.\n",
    "\n",
    "Numpy can wrap any of them using its `numpy.frombuffer` function, dressing them up in a widely recognized interface. The biggest gotcha, however, is accidentally making a new array when you want to operate on the wrapped array. In the above example, I accidentally did\n",
    "```\n",
    "mydata = numpy.linspace(-math.pi, math.pi, self.hi - self.lo)\n",
    "```\n",
    "instead of\n",
    "```\n",
    "mydata[:] = numpy.linspace(-math.pi, math.pi, self.hi - self.lo)\n",
    "```\n",
    "and didn't get any output. If you're using this technique, that's the first thing to check."
   ]
  },
  {
   "cell_type": "markdown",
   "metadata": {},
   "source": [
    "# [root_numpy](https://pypi.python.org/pypi/root_numpy)\n",
    "\n",
    "**The interface between ROOT and NumPy**\n",
    "\n",
    "\n"
   ]
  },
  {
   "cell_type": "code",
   "execution_count": 2,
   "metadata": {
    "collapsed": false
   },
   "outputs": [
    {
     "name": "stdout",
     "output_type": "stream",
     "text": [
      "--2017-04-24 15:43:08--  http://opendata.cern.ch/record/203/files/data.root\n",
      "Resolving opendata.cern.ch... 188.184.161.208, 188.184.64.234\n",
      "Connecting to opendata.cern.ch|188.184.161.208|:80... connected.\n",
      "HTTP request sent, awaiting response... 200 OK\n",
      "Length: 17033333 (16M) [application/octet-stream]\n",
      "Saving to: `data.root.1'\n",
      "\n",
      "100%[======================================>] 17,033,333   364K/s   in 36s     \n",
      "\n",
      "2017-04-24 15:43:45 (458 KB/s) - `data.root.1' saved [17033333/17033333]\n",
      "\n"
     ]
    }
   ],
   "source": [
    "# it's only 17 MB\n",
    "!wget http://opendata.cern.ch/record/203/files/data.root"
   ]
  },
  {
   "cell_type": "code",
   "execution_count": 3,
   "metadata": {
    "collapsed": false
   },
   "outputs": [
    {
     "data": {
      "application/javascript": [
       "\n",
       "require(['notebook'],\n",
       "  function() {\n",
       "    IPython.CodeCell.config_defaults.highlight_modes['magic_text/x-c++src'] = {'reg':[/^%%cpp/]};\n",
       "    console.log(\"JupyROOT - %%cpp magic configured\");\n",
       "  }\n",
       ");\n"
      ]
     },
     "metadata": {},
     "output_type": "display_data"
    },
    {
     "name": "stdout",
     "output_type": "stream",
     "text": [
      "Welcome to JupyROOT 6.08/05\n"
     ]
    },
    {
     "data": {
      "text/plain": [
       "[<ROOT.TBranch object (\"NJet\") at 0x612d8d0>,\n",
       " <ROOT.TBranch object (\"Jet_Px\") at 0x613aa00>,\n",
       " <ROOT.TBranch object (\"Jet_Py\") at 0x613db80>,\n",
       " <ROOT.TBranch object (\"Jet_Pz\") at 0x613ee80>,\n",
       " <ROOT.TBranch object (\"Jet_E\") at 0x6140180>,\n",
       " <ROOT.TBranch object (\"Jet_btag\") at 0x6141480>,\n",
       " <ROOT.TBranch object (\"Jet_ID\") at 0x6142780>,\n",
       " <ROOT.TBranch object (\"NMuon\") at 0x6145800>,\n",
       " <ROOT.TBranch object (\"Muon_Px\") at 0x61462a0>,\n",
       " <ROOT.TBranch object (\"Muon_Py\") at 0x6147750>,\n",
       " <ROOT.TBranch object (\"Muon_Pz\") at 0x6148c00>,\n",
       " <ROOT.TBranch object (\"Muon_E\") at 0x614a0e0>,\n",
       " <ROOT.TBranch object (\"Muon_Charge\") at 0x614b590>,\n",
       " <ROOT.TBranch object (\"Muon_Iso\") at 0x614caa0>,\n",
       " <ROOT.TBranch object (\"NElectron\") at 0x614df80>,\n",
       " <ROOT.TBranch object (\"Electron_Px\") at 0x614ea20>,\n",
       " <ROOT.TBranch object (\"Electron_Py\") at 0x614fb80>,\n",
       " <ROOT.TBranch object (\"Electron_Pz\") at 0x6150ce0>,\n",
       " <ROOT.TBranch object (\"Electron_E\") at 0x6151e40>,\n",
       " <ROOT.TBranch object (\"Electron_Charge\") at 0x6152fa0>,\n",
       " <ROOT.TBranch object (\"Electron_Iso\") at 0x6154100>,\n",
       " <ROOT.TBranch object (\"NPhoton\") at 0x6155260>,\n",
       " <ROOT.TBranch object (\"Photon_Px\") at 0x6155d00>,\n",
       " <ROOT.TBranch object (\"Photon_Py\") at 0x6156e90>,\n",
       " <ROOT.TBranch object (\"Photon_Pz\") at 0x6158020>,\n",
       " <ROOT.TBranch object (\"Photon_E\") at 0x61591b0>,\n",
       " <ROOT.TBranch object (\"Photon_Iso\") at 0x615a340>,\n",
       " <ROOT.TBranch object (\"MET_px\") at 0x615b4d0>,\n",
       " <ROOT.TBranch object (\"MET_py\") at 0x615bf70>,\n",
       " <ROOT.TBranch object (\"MChadronicBottom_px\") at 0x615ca10>,\n",
       " <ROOT.TBranch object (\"MChadronicBottom_py\") at 0x615d570>,\n",
       " <ROOT.TBranch object (\"MChadronicBottom_pz\") at 0x615e0d0>,\n",
       " <ROOT.TBranch object (\"MCleptonicBottom_px\") at 0x615ec30>,\n",
       " <ROOT.TBranch object (\"MCleptonicBottom_py\") at 0x615f790>,\n",
       " <ROOT.TBranch object (\"MCleptonicBottom_pz\") at 0x61602f0>,\n",
       " <ROOT.TBranch object (\"MChadronicWDecayQuark_px\") at 0x6160e50>,\n",
       " <ROOT.TBranch object (\"MChadronicWDecayQuark_py\") at 0x61619b0>,\n",
       " <ROOT.TBranch object (\"MChadronicWDecayQuark_pz\") at 0x6162510>,\n",
       " <ROOT.TBranch object (\"MChadronicWDecayQuarkBar_px\") at 0x6163070>,\n",
       " <ROOT.TBranch object (\"MChadronicWDecayQuarkBar_py\") at 0x6163bd0>,\n",
       " <ROOT.TBranch object (\"MChadronicWDecayQuarkBar_pz\") at 0x6164730>,\n",
       " <ROOT.TBranch object (\"MClepton_px\") at 0x6165290>,\n",
       " <ROOT.TBranch object (\"MClepton_py\") at 0x6165d30>,\n",
       " <ROOT.TBranch object (\"MClepton_pz\") at 0x61667d0>,\n",
       " <ROOT.TBranch object (\"MCleptonPDGid\") at 0x6167270>,\n",
       " <ROOT.TBranch object (\"MCneutrino_px\") at 0x6167d10>,\n",
       " <ROOT.TBranch object (\"MCneutrino_py\") at 0x61687b0>,\n",
       " <ROOT.TBranch object (\"MCneutrino_pz\") at 0x6169250>,\n",
       " <ROOT.TBranch object (\"NPrimaryVertices\") at 0x6169cf0>,\n",
       " <ROOT.TBranch object (\"triggerIsoMu24\") at 0x616a850>,\n",
       " <ROOT.TBranch object (\"EventWeight\") at 0x616ae50>]"
      ]
     },
     "execution_count": 3,
     "metadata": {},
     "output_type": "execute_result"
    }
   ],
   "source": [
    "# root_numpy can be used without PyROOT, but since we have PyROOT anyway, let's mix them\n",
    "\n",
    "import ROOT\n",
    "\n",
    "tfile = ROOT.TFile(\"data.root\")\n",
    "ttree = tfile.Get(\"events\")\n",
    "list(ttree.GetListOfBranches())"
   ]
  },
  {
   "cell_type": "code",
   "execution_count": 4,
   "metadata": {
    "collapsed": false
   },
   "outputs": [
    {
     "data": {
      "text/plain": [
       "array([ ([6.999023914337158], [-29.81593132019043], [-27.49810028076172], [-3.3582911491394043], [27.47575569152832], [40.17839431762695]),\n",
       "       ([-26.736610412597656], [10.114603996276855], [3.760868549346924], [13.670151710510254], [17.985715866088867], [-0.5090904831886292]),\n",
       "       ([38.43698501586914], [-25.879451751708984], [-83.75053405761719], [-34.80328369140625], [20.15524673461914], [-34.589534759521484]),\n",
       "       ...,\n",
       "       ([45.02479553222656], [19.883581161499023], [-74.27565002441406], [-38.03307342529297], [-4.499422073364258], [-14.50628662109375]),\n",
       "       ([38.13996124267578], [-26.343555450439453], [-17.403263092041016], [15.858336448669434], [-10.981405258178711], [-7.462394714355469]),\n",
       "       ([27.90974235534668], [23.8370361328125], [-14.507893562316895], [-21.522497177124023], [-4.448083877563477], [-36.11244201660156])], \n",
       "      dtype=[('Muon_Px[0]', 'O'), ('Muon_Py[0]', 'O'), ('Muon_Pz[0]', 'O'), ('Muon_Px[1]', 'O'), ('Muon_Py[1]', 'O'), ('Muon_Pz[1]', 'O')])"
      ]
     },
     "execution_count": 4,
     "metadata": {},
     "output_type": "execute_result"
    }
   ],
   "source": [
    "import root_numpy\n",
    "\n",
    "# the Muon_P* branches are lists (zero or more muons per event), so we use TTreeFormulas to pick out the\n",
    "# first ([0]) and second ([1]) elements of each, for events in which they exist\n",
    "\n",
    "array = root_numpy.tree2array(ttree,\n",
    "                              branches = [\"Muon_Px[0]\", \"Muon_Py[0]\", \"Muon_Pz[0]\",\n",
    "                                          \"Muon_Px[1]\", \"Muon_Py[1]\", \"Muon_Pz[1]\"],\n",
    "                              selection = \"NMuon >= 2\")\n",
    "\n",
    "array"
   ]
  },
  {
   "cell_type": "markdown",
   "metadata": {},
   "source": [
    "This `array` is\n",
    "\n",
    "   * in memory: you can access it ~100 times faster than if it were on disk\n",
    "   * a big table of numbers that can be sliced by column (Muon_Px[0], Muon_Py[0], ... Muon_Pz[1]) or row (0...)"
   ]
  },
  {
   "cell_type": "code",
   "execution_count": 6,
   "metadata": {
    "collapsed": false
   },
   "outputs": [
    {
     "data": {
      "text/plain": [
       "array([array([ 6.99902391]), array([-26.73661041]), array([ 38.43698502]),\n",
       "       ..., array([ 45.02479553]), array([ 38.13996124]),\n",
       "       array([ 27.90974236])], dtype=object)"
      ]
     },
     "execution_count": 6,
     "metadata": {},
     "output_type": "execute_result"
    }
   ],
   "source": [
    "array[\"Muon_Px[0]\"]   # all 18708 Muon_Px[0] values"
   ]
  },
  {
   "cell_type": "code",
   "execution_count": 7,
   "metadata": {
    "collapsed": false
   },
   "outputs": [
    {
     "data": {
      "text/plain": [
       "([-1.7054762840270996], [44.475528717041016], [-92.87677001953125], [-19.805889129638672], [-35.47321701049805], [-19.617259979248047])"
      ]
     },
     "execution_count": 7,
     "metadata": {},
     "output_type": "execute_result"
    }
   ],
   "source": [
    "array[:][10]          # all values for the eleventh event"
   ]
  },
  {
   "cell_type": "code",
   "execution_count": 8,
   "metadata": {
    "collapsed": false
   },
   "outputs": [
    {
     "data": {
      "text/plain": [
       "array([ 88.94682416,  40.91526953,  89.88668023, ...,  93.52611811,\n",
       "         0.39596728,  60.84829012])"
      ]
     },
     "execution_count": 8,
     "metadata": {},
     "output_type": "execute_result"
    },
    {
     "name": "stdout",
     "output_type": "stream",
     "text": [
      "This took 0.00180888175964 seconds.\n"
     ]
    }
   ],
   "source": [
    "import time\n",
    "\n",
    "px0 = numpy.concatenate(array[\"Muon_Px[0]\"]).ravel()    # flatten the array-of-arrays that TTreeFormula gave us\n",
    "py0 = numpy.concatenate(array[\"Muon_Py[0]\"]).ravel()\n",
    "pz0 = numpy.concatenate(array[\"Muon_Pz[0]\"]).ravel()\n",
    "px1 = numpy.concatenate(array[\"Muon_Px[1]\"]).ravel()\n",
    "py1 = numpy.concatenate(array[\"Muon_Py[1]\"]).ravel()\n",
    "pz1 = numpy.concatenate(array[\"Muon_Pz[1]\"]).ravel()\n",
    "\n",
    "startTime = time.time()\n",
    "px = px0 + px1\n",
    "py = py0 + py1\n",
    "pz = pz0 + pz1\n",
    "e = numpy.sqrt(px0**2 + py0**2 + pz0**2 + 0.1056583745**2) + \\\n",
    "    numpy.sqrt(px1**2 + py1**2 + pz1**2 + 0.1056583745**2)\n",
    "mass = numpy.sqrt(e**2 - px**2 - py**2 - pz**2)\n",
    "endTime = time.time()\n",
    "print \"This took\", endTime - startTime, \"seconds.\"\n",
    "\n",
    "mass"
   ]
  },
  {
   "cell_type": "code",
   "execution_count": 9,
   "metadata": {
    "collapsed": false
   },
   "outputs": [
    {
     "data": {
      "text/plain": [
       "<matplotlib.axes._subplots.AxesSubplot at 0x7fe553c437d0>"
      ]
     },
     "execution_count": 9,
     "metadata": {},
     "output_type": "execute_result"
    },
    {
     "data": {
      "image/png": "[encoded data removed]",
      "text/plain": [
       "<matplotlib.figure.Figure at 0x7fe553c43350>"
      ]
     },
     "metadata": {},
     "output_type": "display_data"
    }
   ],
   "source": [
    "%matplotlib inline\n",
    "import histogrammar\n",
    "\n",
    "h = histogrammar.Bin(120, 60, 120, lambda x: x)    # use Histogrammar's Numpy-filling backend\n",
    "h.fill.numpy(mass)                                 # (I dind't talk about that yesterday)\n",
    "h.plot.matplotlib()"
   ]
  },
  {
   "cell_type": "markdown",
   "metadata": {},
   "source": [
    "# [SciPy](https://pypi.python.org/pypi/SciPy)\n",
    "\n",
    "**SciPy: Scientific Library for Python**\n",
    "\n",
    "SciPy is a _giant_ bundle of scientific algorithms, many of them wrapped Fortran routines from the beginning of time. SciPy is similar to ROOT in that it's more like a repository of algorithms than a focused tool. In SciPy, however, everything is built around the Numpy array interface.\n",
    "\n",
    "For instance, remember the interpolation example above? We didn't have to wrap `array.array` as Numpy and pass them to a ROOT function, we could have just called the equivalent SciPy function on Numpy arrays directly:"
   ]
  },
  {
   "cell_type": "code",
   "execution_count": 8,
   "metadata": {
    "collapsed": false
   },
   "outputs": [
    {
     "name": "stdout",
     "output_type": "stream",
     "text": [
      "0.991664810448\n"
     ]
    }
   ],
   "source": [
    "import math\n",
    "import numpy\n",
    "from scipy.interpolate import interp1d\n",
    "\n",
    "xarray = numpy.linspace(-math.pi, math.pi, int(1e6))\n",
    "yarray = numpy.sin(xarray)\n",
    "\n",
    "f = interp1d(xarray, yarray)\n",
    "\n",
    "print f(1.7)"
   ]
  },
  {
   "cell_type": "markdown",
   "metadata": {},
   "source": [
    "And then take a look at [SciPy's interpolation page](https://docs.scipy.org/doc/scipy/reference/interpolate.html) to see all your options. I count 48 functions, each doing a different kind of interpolation (with references to the literature).\n",
    "\n",
    "I used to use Minuit for just about everything because so many problems could be cast as a minimization problem. Minuit is a body of code carried around since 1972 because it's pretty robust in fitting functions. When one algorithm failed, it switched to another. SciPy has such a function, called `minimize`, that lets you swap between 14 minimization algorithms, which have different advantages for different problems."
   ]
  },
  {
   "cell_type": "code",
   "execution_count": 11,
   "metadata": {
    "collapsed": false
   },
   "outputs": [
    {
     "data": {
      "text/plain": [
       "array([-0.00268712, -0.01936806, -0.10973044, ..., -0.05357793,\n",
       "       -0.15309628, -0.04733543])"
      ]
     },
     "execution_count": 11,
     "metadata": {},
     "output_type": "execute_result"
    }
   ],
   "source": [
    "import numpy.random\n",
    "\n",
    "# add noise to yarray (in-place)\n",
    "numpy.add(yarray, numpy.random.normal(0, 0.1, int(1e6)), yarray)"
   ]
  },
  {
   "cell_type": "code",
   "execution_count": 18,
   "metadata": {
    "collapsed": false
   },
   "outputs": [
    {
     "name": "stdout",
     "output_type": "stream",
     "text": [
      "trying 0.0 0.0\n",
      "trying 1.49011611938e-08 0.0\n",
      "trying 0.0 1.49011611938e-08\n",
      "trying 0.0 0.0\n",
      "trying -1.01 0.0\n",
      "trying -1.01 0.0\n",
      "trying -1.0099999851 0.0\n",
      "trying -1.01 1.49011611938e-08\n",
      "trying -0.000137667814916 0.0\n",
      "trying -0.000137667814916 0.0\n",
      "trying -0.000137652913755 0.0\n",
      "trying -0.000137667814916 1.49011611938e-08\n",
      "trying -0.00027668174856 0.000139041543978\n",
      "trying -0.00027668174856 0.000139041543978\n",
      "trying -0.000276666847398 0.000139041543978\n",
      "trying -0.00027668174856 0.000139056445139\n",
      "trying -0.000832737483132 0.000695207719891\n",
      "trying -0.000832737483132 0.000695207719891\n",
      "trying -0.000832722581971 0.000695207719891\n",
      "trying -0.000832737483132 0.000695222621052\n",
      "trying -0.00305696042142 0.00291987242354\n",
      "trying -0.00305696042142 0.00291987242354\n",
      "trying -0.00305694552026 0.00291987242354\n",
      "trying -0.00305696042142 0.0029198873247\n",
      "trying -0.0119538521746 0.0118185312381\n",
      "trying -0.0119538521746 0.0118185312381\n",
      "trying -0.0119538372734 0.0118185312381\n",
      "trying -0.0119538521746 0.0118185461393\n",
      "trying -0.0475414191872 0.0474131664966\n",
      "trying -0.0475414191872 0.0474131664966\n",
      "trying -0.0475414042861 0.0474131664966\n",
      "trying -0.0475414191872 0.0474131813977\n",
      "trying -0.189891687238 0.18979170753\n",
      "trying -0.189891687238 0.18979170753\n",
      "trying -0.189891672337 0.18979170753\n",
      "trying -0.189891687238 0.189791722431\n",
      "trying -0.75929275944 0.759305871665\n",
      "trying -0.75929275944 0.759305871665\n",
      "trying -0.759292744539 0.759305871665\n",
      "trying -0.75929275944 0.759305886566\n",
      "trying -3.03689704825 3.0373625282\n",
      "trying -3.03689704825 3.0373625282\n",
      "trying -3.03689703335 3.0373625282\n",
      "trying -3.03689704825 3.03736254311\n",
      "trying -1.06982319813 1.06989798654\n",
      "trying -1.06982319813 1.06989798654\n",
      "trying -1.06982318323 1.06989798654\n",
      "trying -1.06982319813 1.06989800144\n",
      "trying -1.31274197584 1.31286501171\n",
      "trying -1.31274197584 1.31286501171\n",
      "trying -1.31274196094 1.31286501171\n",
      "trying -1.31274197584 1.31286502661\n",
      "trying -1.30454332099 1.30466472848\n",
      "trying -1.30454332099 1.30466472848\n",
      "trying -1.30454330608 1.30466472848\n",
      "trying -1.30454332099 1.30466474338\n",
      "trying -1.30633412012 1.30645588329\n",
      "trying -1.30633412012 1.30645588329\n",
      "trying -1.30633410522 1.30645588329\n",
      "trying -1.30633412012 1.30645589819\n",
      "trying -846.174843266 846.683911298\n",
      "trying -846.174843266 846.683911298\n",
      "trying -846.174843251 846.683911298\n",
      "trying -846.174843266 846.683911313\n",
      "trying -1.30646397712 1.30658581852\n",
      "trying -1.30646397712 1.30658581852\n",
      "trying -1.30646396222 1.30658581852\n",
      "trying -1.30646397712 1.30658583342\n",
      "trying -1.30646396434 1.30658582477\n",
      "trying -1.30646396434 1.30658582477\n",
      "trying -1.30646394944 1.30658582477\n",
      "trying -1.30646396434 1.30658583967\n",
      "trying -1.30646391322 1.30658584978\n",
      "trying -1.30646391322 1.30658584978\n",
      "trying -1.30646389832 1.30658584978\n",
      "trying -1.30646391322 1.30658586468\n",
      "trying -1.30646370874 1.30658594983\n",
      "trying -1.30646370874 1.30658594983\n",
      "trying -1.30646369384 1.30658594983\n",
      "trying -1.30646370874 1.30658596473\n",
      "trying -1.30646289081 1.30658635\n",
      "trying -1.30646289081 1.30658635\n",
      "trying -1.3064628759 1.30658635\n",
      "trying -1.30646289081 1.3065863649\n",
      "trying -1.30645961907 1.30658795069\n",
      "trying -1.30645961907 1.30658795069\n",
      "trying -1.30645960417 1.30658795069\n",
      "trying -1.30645961907 1.30658796559\n",
      "trying -1.30644653215 1.30659435347\n",
      "trying -1.30644653215 1.30659435347\n",
      "trying -1.30644651725 1.30659435347\n",
      "trying -1.30644653215 1.30659436837\n",
      "trying -1.30639418445 1.30661996458\n",
      "trying -1.30639418445 1.30661996458\n",
      "trying -1.30639416955 1.30661996458\n",
      "trying -1.30639418445 1.30661997948\n",
      "trying -1.30618479365 1.30672240903\n",
      "trying -1.30618479365 1.30672240903\n",
      "trying -1.30618477875 1.30672240903\n",
      "trying -1.30618479365 1.30672242393\n",
      "trying -1.30534723044 1.30713218683\n",
      "trying -1.30534723044 1.30713218683\n",
      "trying -1.30534721554 1.30713218683\n",
      "trying -1.30534723044 1.30713220173\n",
      "trying -1.3019969776 1.30877129801\n",
      "trying -1.3019969776 1.30877129801\n",
      "trying -1.3019969627 1.30877129801\n",
      "trying -1.3019969776 1.30877131291\n",
      "trying -1.28859596626 1.31532774272\n",
      "trying -1.28859596626 1.31532774272\n",
      "trying -1.28859595136 1.31532774272\n",
      "trying -1.28859596626 1.31532775763\n",
      "trying -1.23499192091 1.3415535216\n",
      "trying -1.23499192091 1.3415535216\n",
      "trying -1.23499190601 1.3415535216\n",
      "trying -1.23499192091 1.3415535365\n",
      "trying -1.10366576395 1.45241460312\n",
      "trying -1.10366576395 1.45241460312\n",
      "trying -1.10366574905 1.45241460312\n",
      "trying -1.10366576395 1.45241461802\n",
      "trying -1.01012763931 1.55161384933\n",
      "trying -1.01012763931 1.55161384933\n",
      "trying -1.01012762441 1.55161384933\n",
      "trying -1.01012763931 1.55161386423\n",
      "trying -1.00122321168 1.56956000458\n",
      "trying -1.00122321168 1.56956000458\n",
      "trying -1.00122319678 1.56956000458\n",
      "trying -1.00122321168 1.56956001948\n",
      "trying -0.999803367735 1.57060235208\n",
      "trying -0.999803367735 1.57060235208\n",
      "trying -0.999803352834 1.57060235208\n",
      "trying -0.999803367735 1.57060236698\n",
      "trying -0.999874019542 1.57066539846\n",
      "trying -0.999874019542 1.57066539846\n",
      "trying -0.999874004641 1.57066539846\n",
      "trying -0.999874019542 1.57066541336\n",
      "\n",
      "It took 6.06454706192 seconds to fit a million points.\n",
      "\n",
      "Result is: amplitude -0.999874019542 phase 1.57066539846\n"
     ]
    }
   ],
   "source": [
    "import time\n",
    "from scipy.optimize import minimize\n",
    "\n",
    "def chi2(args):\n",
    "    amplitude, phase = args\n",
    "    print \"trying\", amplitude, phase\n",
    "\n",
    "    yfit = amplitude * numpy.cos(xarray + phase)    # fitting is harder when expressed this way\n",
    "                                                    # (infinitely many local minima)\n",
    "\n",
    "    return ((yfit - yarray)**2).sum()\n",
    "\n",
    "expected_error = 0.1**2 * 1e6\n",
    "\n",
    "startTime = time.time()\n",
    "result = minimize(chi2, (0.0, 0.0), tol = 0.001 * expected_error)\n",
    "endTime = time.time()\n",
    "\n",
    "print\n",
    "print \"It took\", endTime - startTime, \"seconds to fit a million points.\"\n",
    "print\n",
    "print \"Result is: amplitude {0} phase {1}\".format(result.x[0], result.x[1])"
   ]
  },
  {
   "cell_type": "markdown",
   "metadata": {},
   "source": [
    "Peruse the [SciPy documentation](https://docs.scipy.org/doc/scipy/reference/). There's a lot of stuff in there."
   ]
  },
  {
   "cell_type": "markdown",
   "metadata": {},
   "source": [
    "# [Matplotlib](https://pypi.python.org/pypi/Matplotlib)\n",
    "\n",
    "**Python plotting package**\n",
    "\n",
    "I'm a little disappointed that Matplotlib emerged as the winner of the competition among Python plotting packages in the early 2000's. It's interface emulates MATLAB, which requires a series of statements, each modifying the previous, to make one plot. It would be much nicer if everything describing a plot could be bundled into one expression, even if that expression is a complex tree. Still, I suppose it could be worse.\n",
    "\n",
    "There are plenty of Matplotlib examples in this and yesterday's tutorials, so I won't say more about it here. Just remember to\n",
    "```\n",
    "%matplotlib inline\n",
    "```\n",
    "at the top of your Jupyter notebook, and you'll get the plots inline."
   ]
  },
  {
   "cell_type": "markdown",
   "metadata": {},
   "source": [
    "# [Pandas](https://pypi.python.org/pypi/Pandas)\n",
    "\n",
    "**Powerful data structures for data analysis, time series,and statistics**\n",
    "\n",
    "The R programming language was designed for data analysis. It has plotting built-in and is organized around a concept called a `data.frame`, which is what we would call a \"flat ntuple.\" It's an in-memory structure intended to make it quick and easy to do exploratory data analysis: checking that all of your plots make sense before wrapping them up in a script and feeding it into a formal analysis.\n",
    "\n",
    "Pandas is a port of R's `data.frame` concept to Python. \"[Python for Data Analysis](https://www.google.com/webhp?sourceid=chrome-instant&ion=1&espv=2&ie=UTF-8#safe=off&q=python+for+data+analysis&stick=H4sIAAAAAAAAAONgecToyS3w8sc9YSmHSWtOXmO04uIKzsgvd80rySypFNLhYoOylLgEpHj00_UNjZJyKzKSDMo1GKT4uFBEeAAv1TPrTgAAAA),\" a popular book about doing exploratory data analysis in Python, was written by the author of Pandas and is really more like a Pandas tutorial than a general data analysis tutorial. Pandas is quickly becoming the interface of choice for Pythonic data scientists in industry.\n",
    "\n",
    "Here's our dimuon data loaded into a Pandas DataFrame. (Note that there's a [`root_pandas`](https://github.com/ibab/root_pandas) project on GitHub that might make this easier, but we're sticking with the packages available in CMSSW.)"
   ]
  },
  {
   "cell_type": "code",
   "execution_count": 20,
   "metadata": {
    "collapsed": false
   },
   "outputs": [],
   "source": [
    "import ROOT\n",
    "import root_numpy\n",
    "\n",
    "tfile = ROOT.TFile(\"data.root\")\n",
    "ttree = tfile.Get(\"events\")\n",
    "array = root_numpy.tree2array(ttree,\n",
    "                              branches = [\"Muon_Px[0]\", \"Muon_Py[0]\", \"Muon_Pz[0]\",\n",
    "                                          \"Muon_Px[1]\", \"Muon_Py[1]\", \"Muon_Pz[1]\"],\n",
    "                              selection = \"NMuon >= 2\")\n",
    "\n",
    "px0 = numpy.concatenate(array[\"Muon_Px[0]\"]).ravel()    # flatten the array-of-arrays that TTreeFormula gave us\n",
    "py0 = numpy.concatenate(array[\"Muon_Py[0]\"]).ravel()\n",
    "pz0 = numpy.concatenate(array[\"Muon_Pz[0]\"]).ravel()\n",
    "px1 = numpy.concatenate(array[\"Muon_Px[1]\"]).ravel()\n",
    "py1 = numpy.concatenate(array[\"Muon_Py[1]\"]).ravel()\n",
    "pz1 = numpy.concatenate(array[\"Muon_Pz[1]\"]).ravel()"
   ]
  },
  {
   "cell_type": "code",
   "execution_count": 22,
   "metadata": {
    "collapsed": false
   },
   "outputs": [
    {
     "data": {
      "text/html": [
       "<div>\n",
       "<table border=\"1\" class=\"dataframe\">\n",
       "  <thead>\n",
       "    <tr style=\"text-align: right;\">\n",
       "      <th></th>\n",
       "      <th>px0</th>\n",
       "      <th>py0</th>\n",
       "      <th>pz0</th>\n",
       "      <th>px1</th>\n",
       "      <th>py1</th>\n",
       "      <th>pz1</th>\n",
       "    </tr>\n",
       "  </thead>\n",
       "  <tbody>\n",
       "    <tr>\n",
       "      <th>0</th>\n",
       "      <td>6.999024</td>\n",
       "      <td>-29.815931</td>\n",
       "      <td>-27.498100</td>\n",
       "      <td>-3.358291</td>\n",
       "      <td>27.475756</td>\n",
       "      <td>40.178394</td>\n",
       "    </tr>\n",
       "    <tr>\n",
       "      <th>1</th>\n",
       "      <td>-26.736610</td>\n",
       "      <td>10.114604</td>\n",
       "      <td>3.760869</td>\n",
       "      <td>13.670152</td>\n",
       "      <td>17.985716</td>\n",
       "      <td>-0.509090</td>\n",
       "    </tr>\n",
       "    <tr>\n",
       "      <th>2</th>\n",
       "      <td>38.436985</td>\n",
       "      <td>-25.879452</td>\n",
       "      <td>-83.750534</td>\n",
       "      <td>-34.803284</td>\n",
       "      <td>20.155247</td>\n",
       "      <td>-34.589535</td>\n",
       "    </tr>\n",
       "    <tr>\n",
       "      <th>3</th>\n",
       "      <td>-30.284073</td>\n",
       "      <td>45.623817</td>\n",
       "      <td>158.032852</td>\n",
       "      <td>19.551468</td>\n",
       "      <td>-30.289862</td>\n",
       "      <td>55.122570</td>\n",
       "    </tr>\n",
       "    <tr>\n",
       "      <th>4</th>\n",
       "      <td>-25.272924</td>\n",
       "      <td>-7.610247</td>\n",
       "      <td>-87.251152</td>\n",
       "      <td>19.837362</td>\n",
       "      <td>13.692709</td>\n",
       "      <td>9.642227</td>\n",
       "    </tr>\n",
       "    <tr>\n",
       "      <th>5</th>\n",
       "      <td>-4.735029</td>\n",
       "      <td>44.917976</td>\n",
       "      <td>-228.751404</td>\n",
       "      <td>4.494742</td>\n",
       "      <td>-41.372654</td>\n",
       "      <td>-200.591293</td>\n",
       "    </tr>\n",
       "    <tr>\n",
       "      <th>6</th>\n",
       "      <td>-24.767548</td>\n",
       "      <td>-11.732478</td>\n",
       "      <td>45.557323</td>\n",
       "      <td>-12.292881</td>\n",
       "      <td>-21.848116</td>\n",
       "      <td>30.619526</td>\n",
       "    </tr>\n",
       "    <tr>\n",
       "      <th>7</th>\n",
       "      <td>26.267260</td>\n",
       "      <td>39.724171</td>\n",
       "      <td>20.000616</td>\n",
       "      <td>-22.861052</td>\n",
       "      <td>-34.319511</td>\n",
       "      <td>38.224594</td>\n",
       "    </tr>\n",
       "    <tr>\n",
       "      <th>8</th>\n",
       "      <td>29.981916</td>\n",
       "      <td>39.300964</td>\n",
       "      <td>24.715458</td>\n",
       "      <td>-33.361652</td>\n",
       "      <td>-27.820293</td>\n",
       "      <td>-13.834397</td>\n",
       "    </tr>\n",
       "    <tr>\n",
       "      <th>9</th>\n",
       "      <td>29.603830</td>\n",
       "      <td>35.181828</td>\n",
       "      <td>-44.886333</td>\n",
       "      <td>-22.493834</td>\n",
       "      <td>-29.398691</td>\n",
       "      <td>-100.070366</td>\n",
       "    </tr>\n",
       "    <tr>\n",
       "      <th>10</th>\n",
       "      <td>-1.705476</td>\n",
       "      <td>44.475529</td>\n",
       "      <td>-92.876770</td>\n",
       "      <td>-19.805889</td>\n",
       "      <td>-35.473217</td>\n",
       "      <td>-19.617260</td>\n",
       "    </tr>\n",
       "    <tr>\n",
       "      <th>11</th>\n",
       "      <td>-26.967382</td>\n",
       "      <td>-6.169796</td>\n",
       "      <td>-8.066671</td>\n",
       "      <td>-11.630893</td>\n",
       "      <td>-5.312194</td>\n",
       "      <td>-4.434385</td>\n",
       "    </tr>\n",
       "    <tr>\n",
       "      <th>12</th>\n",
       "      <td>-10.545153</td>\n",
       "      <td>26.710562</td>\n",
       "      <td>18.072657</td>\n",
       "      <td>-4.030821</td>\n",
       "      <td>14.028768</td>\n",
       "      <td>12.185370</td>\n",
       "    </tr>\n",
       "    <tr>\n",
       "      <th>13</th>\n",
       "      <td>-14.282819</td>\n",
       "      <td>-33.811245</td>\n",
       "      <td>-98.891907</td>\n",
       "      <td>8.485273</td>\n",
       "      <td>11.143148</td>\n",
       "      <td>-32.923409</td>\n",
       "    </tr>\n",
       "    <tr>\n",
       "      <th>14</th>\n",
       "      <td>7.088846</td>\n",
       "      <td>42.332386</td>\n",
       "      <td>-71.014442</td>\n",
       "      <td>-0.744304</td>\n",
       "      <td>-36.548428</td>\n",
       "      <td>-52.581669</td>\n",
       "    </tr>\n",
       "    <tr>\n",
       "      <th>15</th>\n",
       "      <td>32.081436</td>\n",
       "      <td>-12.508208</td>\n",
       "      <td>8.031028</td>\n",
       "      <td>-30.429579</td>\n",
       "      <td>-7.318757</td>\n",
       "      <td>-54.182812</td>\n",
       "    </tr>\n",
       "    <tr>\n",
       "      <th>16</th>\n",
       "      <td>7.748427</td>\n",
       "      <td>-29.224524</td>\n",
       "      <td>-94.299828</td>\n",
       "      <td>-0.379499</td>\n",
       "      <td>24.396492</td>\n",
       "      <td>10.730118</td>\n",
       "    </tr>\n",
       "    <tr>\n",
       "      <th>17</th>\n",
       "      <td>50.356201</td>\n",
       "      <td>20.480869</td>\n",
       "      <td>-21.077200</td>\n",
       "      <td>-2.181404</td>\n",
       "      <td>-41.366467</td>\n",
       "      <td>-68.107880</td>\n",
       "    </tr>\n",
       "    <tr>\n",
       "      <th>18</th>\n",
       "      <td>-24.259384</td>\n",
       "      <td>-35.867825</td>\n",
       "      <td>-35.458412</td>\n",
       "      <td>23.680092</td>\n",
       "      <td>34.335781</td>\n",
       "      <td>-89.488342</td>\n",
       "    </tr>\n",
       "    <tr>\n",
       "      <th>19</th>\n",
       "      <td>38.672508</td>\n",
       "      <td>14.117077</td>\n",
       "      <td>33.362301</td>\n",
       "      <td>-38.284599</td>\n",
       "      <td>8.173803</td>\n",
       "      <td>140.434341</td>\n",
       "    </tr>\n",
       "    <tr>\n",
       "      <th>20</th>\n",
       "      <td>-26.027691</td>\n",
       "      <td>7.211196</td>\n",
       "      <td>-7.481746</td>\n",
       "      <td>22.619740</td>\n",
       "      <td>-14.282537</td>\n",
       "      <td>-145.550812</td>\n",
       "    </tr>\n",
       "    <tr>\n",
       "      <th>21</th>\n",
       "      <td>24.164103</td>\n",
       "      <td>-36.176380</td>\n",
       "      <td>67.101990</td>\n",
       "      <td>-24.631781</td>\n",
       "      <td>34.324078</td>\n",
       "      <td>141.364273</td>\n",
       "    </tr>\n",
       "    <tr>\n",
       "      <th>22</th>\n",
       "      <td>26.467321</td>\n",
       "      <td>26.223133</td>\n",
       "      <td>162.879669</td>\n",
       "      <td>-23.045599</td>\n",
       "      <td>-27.683317</td>\n",
       "      <td>35.382198</td>\n",
       "    </tr>\n",
       "    <tr>\n",
       "      <th>23</th>\n",
       "      <td>5.785685</td>\n",
       "      <td>56.494991</td>\n",
       "      <td>201.231461</td>\n",
       "      <td>2.452544</td>\n",
       "      <td>-50.197792</td>\n",
       "      <td>100.356163</td>\n",
       "    </tr>\n",
       "    <tr>\n",
       "      <th>24</th>\n",
       "      <td>-13.020011</td>\n",
       "      <td>-50.771019</td>\n",
       "      <td>-77.879440</td>\n",
       "      <td>-2.410159</td>\n",
       "      <td>32.021038</td>\n",
       "      <td>-135.595490</td>\n",
       "    </tr>\n",
       "    <tr>\n",
       "      <th>25</th>\n",
       "      <td>-33.493347</td>\n",
       "      <td>30.132006</td>\n",
       "      <td>-50.109104</td>\n",
       "      <td>32.791756</td>\n",
       "      <td>-26.481024</td>\n",
       "      <td>-95.429718</td>\n",
       "    </tr>\n",
       "    <tr>\n",
       "      <th>26</th>\n",
       "      <td>-0.397868</td>\n",
       "      <td>28.580429</td>\n",
       "      <td>43.320892</td>\n",
       "      <td>13.339612</td>\n",
       "      <td>-3.291505</td>\n",
       "      <td>5.068834</td>\n",
       "    </tr>\n",
       "    <tr>\n",
       "      <th>27</th>\n",
       "      <td>43.739769</td>\n",
       "      <td>-39.835468</td>\n",
       "      <td>49.388481</td>\n",
       "      <td>-17.747604</td>\n",
       "      <td>20.229212</td>\n",
       "      <td>87.324821</td>\n",
       "    </tr>\n",
       "    <tr>\n",
       "      <th>28</th>\n",
       "      <td>44.965805</td>\n",
       "      <td>-11.593255</td>\n",
       "      <td>17.441700</td>\n",
       "      <td>-37.264931</td>\n",
       "      <td>18.971132</td>\n",
       "      <td>43.549183</td>\n",
       "    </tr>\n",
       "    <tr>\n",
       "      <th>29</th>\n",
       "      <td>-23.635475</td>\n",
       "      <td>-25.249426</td>\n",
       "      <td>-25.701654</td>\n",
       "      <td>24.259525</td>\n",
       "      <td>23.510128</td>\n",
       "      <td>36.669575</td>\n",
       "    </tr>\n",
       "    <tr>\n",
       "      <th>...</th>\n",
       "      <td>...</td>\n",
       "      <td>...</td>\n",
       "      <td>...</td>\n",
       "      <td>...</td>\n",
       "      <td>...</td>\n",
       "      <td>...</td>\n",
       "    </tr>\n",
       "    <tr>\n",
       "      <th>18678</th>\n",
       "      <td>-44.274658</td>\n",
       "      <td>-12.071183</td>\n",
       "      <td>22.708527</td>\n",
       "      <td>41.829468</td>\n",
       "      <td>12.360740</td>\n",
       "      <td>44.018681</td>\n",
       "    </tr>\n",
       "    <tr>\n",
       "      <th>18679</th>\n",
       "      <td>39.221478</td>\n",
       "      <td>19.177271</td>\n",
       "      <td>40.526493</td>\n",
       "      <td>-33.177784</td>\n",
       "      <td>-19.525984</td>\n",
       "      <td>85.213318</td>\n",
       "    </tr>\n",
       "    <tr>\n",
       "      <th>18680</th>\n",
       "      <td>18.914036</td>\n",
       "      <td>-44.274090</td>\n",
       "      <td>125.026314</td>\n",
       "      <td>-18.262026</td>\n",
       "      <td>42.575745</td>\n",
       "      <td>33.419285</td>\n",
       "    </tr>\n",
       "    <tr>\n",
       "      <th>18681</th>\n",
       "      <td>27.180563</td>\n",
       "      <td>-28.069595</td>\n",
       "      <td>-31.434380</td>\n",
       "      <td>-20.687452</td>\n",
       "      <td>31.267206</td>\n",
       "      <td>14.396371</td>\n",
       "    </tr>\n",
       "    <tr>\n",
       "      <th>18682</th>\n",
       "      <td>45.355423</td>\n",
       "      <td>-13.302417</td>\n",
       "      <td>-29.705986</td>\n",
       "      <td>-34.849636</td>\n",
       "      <td>-0.530156</td>\n",
       "      <td>19.917305</td>\n",
       "    </tr>\n",
       "    <tr>\n",
       "      <th>18683</th>\n",
       "      <td>14.454362</td>\n",
       "      <td>-49.081619</td>\n",
       "      <td>105.301399</td>\n",
       "      <td>-11.940518</td>\n",
       "      <td>28.646584</td>\n",
       "      <td>160.274338</td>\n",
       "    </tr>\n",
       "    <tr>\n",
       "      <th>18684</th>\n",
       "      <td>40.288910</td>\n",
       "      <td>-43.858982</td>\n",
       "      <td>186.437393</td>\n",
       "      <td>-16.787481</td>\n",
       "      <td>11.650511</td>\n",
       "      <td>7.440143</td>\n",
       "    </tr>\n",
       "    <tr>\n",
       "      <th>18685</th>\n",
       "      <td>26.149284</td>\n",
       "      <td>57.991589</td>\n",
       "      <td>149.490387</td>\n",
       "      <td>6.333431</td>\n",
       "      <td>-39.409451</td>\n",
       "      <td>64.533180</td>\n",
       "    </tr>\n",
       "    <tr>\n",
       "      <th>18686</th>\n",
       "      <td>-34.626858</td>\n",
       "      <td>13.620924</td>\n",
       "      <td>74.336296</td>\n",
       "      <td>25.564024</td>\n",
       "      <td>-13.775317</td>\n",
       "      <td>-5.656291</td>\n",
       "    </tr>\n",
       "    <tr>\n",
       "      <th>18687</th>\n",
       "      <td>22.148054</td>\n",
       "      <td>42.757442</td>\n",
       "      <td>-9.464572</td>\n",
       "      <td>-21.127039</td>\n",
       "      <td>0.753239</td>\n",
       "      <td>7.726481</td>\n",
       "    </tr>\n",
       "    <tr>\n",
       "      <th>18688</th>\n",
       "      <td>45.238014</td>\n",
       "      <td>-21.555601</td>\n",
       "      <td>-0.040217</td>\n",
       "      <td>-32.563896</td>\n",
       "      <td>14.957232</td>\n",
       "      <td>-2.858674</td>\n",
       "    </tr>\n",
       "    <tr>\n",
       "      <th>18689</th>\n",
       "      <td>-1.148654</td>\n",
       "      <td>55.026100</td>\n",
       "      <td>-292.551208</td>\n",
       "      <td>18.546473</td>\n",
       "      <td>-26.373741</td>\n",
       "      <td>-56.454323</td>\n",
       "    </tr>\n",
       "    <tr>\n",
       "      <th>18690</th>\n",
       "      <td>-38.857140</td>\n",
       "      <td>-17.649282</td>\n",
       "      <td>74.651985</td>\n",
       "      <td>39.947201</td>\n",
       "      <td>13.711904</td>\n",
       "      <td>30.087984</td>\n",
       "    </tr>\n",
       "    <tr>\n",
       "      <th>18691</th>\n",
       "      <td>-16.099857</td>\n",
       "      <td>-34.790657</td>\n",
       "      <td>123.035187</td>\n",
       "      <td>12.406217</td>\n",
       "      <td>30.182837</td>\n",
       "      <td>21.853104</td>\n",
       "    </tr>\n",
       "    <tr>\n",
       "      <th>18692</th>\n",
       "      <td>58.041920</td>\n",
       "      <td>-39.444546</td>\n",
       "      <td>-246.375000</td>\n",
       "      <td>13.599599</td>\n",
       "      <td>-29.387533</td>\n",
       "      <td>-95.067268</td>\n",
       "    </tr>\n",
       "    <tr>\n",
       "      <th>18693</th>\n",
       "      <td>-9.546008</td>\n",
       "      <td>32.471699</td>\n",
       "      <td>17.967449</td>\n",
       "      <td>9.816067</td>\n",
       "      <td>-29.456762</td>\n",
       "      <td>-51.890213</td>\n",
       "    </tr>\n",
       "    <tr>\n",
       "      <th>18694</th>\n",
       "      <td>-45.264229</td>\n",
       "      <td>6.258765</td>\n",
       "      <td>22.207962</td>\n",
       "      <td>39.352787</td>\n",
       "      <td>-5.715674</td>\n",
       "      <td>-12.827826</td>\n",
       "    </tr>\n",
       "    <tr>\n",
       "      <th>18695</th>\n",
       "      <td>-14.260794</td>\n",
       "      <td>26.242895</td>\n",
       "      <td>41.450943</td>\n",
       "      <td>11.227863</td>\n",
       "      <td>-13.369000</td>\n",
       "      <td>6.054663</td>\n",
       "    </tr>\n",
       "    <tr>\n",
       "      <th>18696</th>\n",
       "      <td>-34.168247</td>\n",
       "      <td>33.755947</td>\n",
       "      <td>-37.257881</td>\n",
       "      <td>25.802631</td>\n",
       "      <td>-31.899384</td>\n",
       "      <td>-59.668976</td>\n",
       "    </tr>\n",
       "    <tr>\n",
       "      <th>18697</th>\n",
       "      <td>-1.679497</td>\n",
       "      <td>-47.112129</td>\n",
       "      <td>-48.991314</td>\n",
       "      <td>6.374397</td>\n",
       "      <td>39.410938</td>\n",
       "      <td>-9.324776</td>\n",
       "    </tr>\n",
       "    <tr>\n",
       "      <th>18698</th>\n",
       "      <td>-20.873970</td>\n",
       "      <td>-22.726742</td>\n",
       "      <td>23.665455</td>\n",
       "      <td>25.315870</td>\n",
       "      <td>12.268524</td>\n",
       "      <td>-52.341175</td>\n",
       "    </tr>\n",
       "    <tr>\n",
       "      <th>18699</th>\n",
       "      <td>29.721008</td>\n",
       "      <td>50.525219</td>\n",
       "      <td>67.986984</td>\n",
       "      <td>-28.702374</td>\n",
       "      <td>-28.183695</td>\n",
       "      <td>40.028774</td>\n",
       "    </tr>\n",
       "    <tr>\n",
       "      <th>18700</th>\n",
       "      <td>-65.303459</td>\n",
       "      <td>-41.022518</td>\n",
       "      <td>84.827538</td>\n",
       "      <td>14.353133</td>\n",
       "      <td>13.683807</td>\n",
       "      <td>70.936584</td>\n",
       "    </tr>\n",
       "    <tr>\n",
       "      <th>18701</th>\n",
       "      <td>-25.993921</td>\n",
       "      <td>40.355419</td>\n",
       "      <td>-41.880444</td>\n",
       "      <td>22.522472</td>\n",
       "      <td>-36.640350</td>\n",
       "      <td>-32.209911</td>\n",
       "    </tr>\n",
       "    <tr>\n",
       "      <th>18702</th>\n",
       "      <td>41.298832</td>\n",
       "      <td>12.312010</td>\n",
       "      <td>-44.830444</td>\n",
       "      <td>-30.947186</td>\n",
       "      <td>-0.819780</td>\n",
       "      <td>13.917502</td>\n",
       "    </tr>\n",
       "    <tr>\n",
       "      <th>18703</th>\n",
       "      <td>-8.032304</td>\n",
       "      <td>-42.026402</td>\n",
       "      <td>-220.632370</td>\n",
       "      <td>-6.353151</td>\n",
       "      <td>34.573128</td>\n",
       "      <td>-28.105751</td>\n",
       "    </tr>\n",
       "    <tr>\n",
       "      <th>18704</th>\n",
       "      <td>-30.595762</td>\n",
       "      <td>48.108070</td>\n",
       "      <td>46.659008</td>\n",
       "      <td>13.816600</td>\n",
       "      <td>-25.700699</td>\n",
       "      <td>-6.107504</td>\n",
       "    </tr>\n",
       "    <tr>\n",
       "      <th>18705</th>\n",
       "      <td>45.024796</td>\n",
       "      <td>19.883581</td>\n",
       "      <td>-74.275650</td>\n",
       "      <td>-38.033073</td>\n",
       "      <td>-4.499422</td>\n",
       "      <td>-14.506287</td>\n",
       "    </tr>\n",
       "    <tr>\n",
       "      <th>18706</th>\n",
       "      <td>38.139961</td>\n",
       "      <td>-26.343555</td>\n",
       "      <td>-17.403263</td>\n",
       "      <td>15.858336</td>\n",
       "      <td>-10.981405</td>\n",
       "      <td>-7.462395</td>\n",
       "    </tr>\n",
       "    <tr>\n",
       "      <th>18707</th>\n",
       "      <td>27.909742</td>\n",
       "      <td>23.837036</td>\n",
       "      <td>-14.507894</td>\n",
       "      <td>-21.522497</td>\n",
       "      <td>-4.448084</td>\n",
       "      <td>-36.112442</td>\n",
       "    </tr>\n",
       "  </tbody>\n",
       "</table>\n",
       "<p>18708 rows × 6 columns</p>\n",
       "</div>"
      ],
      "text/plain": [
       "             px0        py0         pz0        px1        py1         pz1\n",
       "0       6.999024 -29.815931  -27.498100  -3.358291  27.475756   40.178394\n",
       "1     -26.736610  10.114604    3.760869  13.670152  17.985716   -0.509090\n",
       "2      38.436985 -25.879452  -83.750534 -34.803284  20.155247  -34.589535\n",
       "3     -30.284073  45.623817  158.032852  19.551468 -30.289862   55.122570\n",
       "4     -25.272924  -7.610247  -87.251152  19.837362  13.692709    9.642227\n",
       "5      -4.735029  44.917976 -228.751404   4.494742 -41.372654 -200.591293\n",
       "6     -24.767548 -11.732478   45.557323 -12.292881 -21.848116   30.619526\n",
       "7      26.267260  39.724171   20.000616 -22.861052 -34.319511   38.224594\n",
       "8      29.981916  39.300964   24.715458 -33.361652 -27.820293  -13.834397\n",
       "9      29.603830  35.181828  -44.886333 -22.493834 -29.398691 -100.070366\n",
       "10     -1.705476  44.475529  -92.876770 -19.805889 -35.473217  -19.617260\n",
       "11    -26.967382  -6.169796   -8.066671 -11.630893  -5.312194   -4.434385\n",
       "12    -10.545153  26.710562   18.072657  -4.030821  14.028768   12.185370\n",
       "13    -14.282819 -33.811245  -98.891907   8.485273  11.143148  -32.923409\n",
       "14      7.088846  42.332386  -71.014442  -0.744304 -36.548428  -52.581669\n",
       "15     32.081436 -12.508208    8.031028 -30.429579  -7.318757  -54.182812\n",
       "16      7.748427 -29.224524  -94.299828  -0.379499  24.396492   10.730118\n",
       "17     50.356201  20.480869  -21.077200  -2.181404 -41.366467  -68.107880\n",
       "18    -24.259384 -35.867825  -35.458412  23.680092  34.335781  -89.488342\n",
       "19     38.672508  14.117077   33.362301 -38.284599   8.173803  140.434341\n",
       "20    -26.027691   7.211196   -7.481746  22.619740 -14.282537 -145.550812\n",
       "21     24.164103 -36.176380   67.101990 -24.631781  34.324078  141.364273\n",
       "22     26.467321  26.223133  162.879669 -23.045599 -27.683317   35.382198\n",
       "23      5.785685  56.494991  201.231461   2.452544 -50.197792  100.356163\n",
       "24    -13.020011 -50.771019  -77.879440  -2.410159  32.021038 -135.595490\n",
       "25    -33.493347  30.132006  -50.109104  32.791756 -26.481024  -95.429718\n",
       "26     -0.397868  28.580429   43.320892  13.339612  -3.291505    5.068834\n",
       "27     43.739769 -39.835468   49.388481 -17.747604  20.229212   87.324821\n",
       "28     44.965805 -11.593255   17.441700 -37.264931  18.971132   43.549183\n",
       "29    -23.635475 -25.249426  -25.701654  24.259525  23.510128   36.669575\n",
       "...          ...        ...         ...        ...        ...         ...\n",
       "18678 -44.274658 -12.071183   22.708527  41.829468  12.360740   44.018681\n",
       "18679  39.221478  19.177271   40.526493 -33.177784 -19.525984   85.213318\n",
       "18680  18.914036 -44.274090  125.026314 -18.262026  42.575745   33.419285\n",
       "18681  27.180563 -28.069595  -31.434380 -20.687452  31.267206   14.396371\n",
       "18682  45.355423 -13.302417  -29.705986 -34.849636  -0.530156   19.917305\n",
       "18683  14.454362 -49.081619  105.301399 -11.940518  28.646584  160.274338\n",
       "18684  40.288910 -43.858982  186.437393 -16.787481  11.650511    7.440143\n",
       "18685  26.149284  57.991589  149.490387   6.333431 -39.409451   64.533180\n",
       "18686 -34.626858  13.620924   74.336296  25.564024 -13.775317   -5.656291\n",
       "18687  22.148054  42.757442   -9.464572 -21.127039   0.753239    7.726481\n",
       "18688  45.238014 -21.555601   -0.040217 -32.563896  14.957232   -2.858674\n",
       "18689  -1.148654  55.026100 -292.551208  18.546473 -26.373741  -56.454323\n",
       "18690 -38.857140 -17.649282   74.651985  39.947201  13.711904   30.087984\n",
       "18691 -16.099857 -34.790657  123.035187  12.406217  30.182837   21.853104\n",
       "18692  58.041920 -39.444546 -246.375000  13.599599 -29.387533  -95.067268\n",
       "18693  -9.546008  32.471699   17.967449   9.816067 -29.456762  -51.890213\n",
       "18694 -45.264229   6.258765   22.207962  39.352787  -5.715674  -12.827826\n",
       "18695 -14.260794  26.242895   41.450943  11.227863 -13.369000    6.054663\n",
       "18696 -34.168247  33.755947  -37.257881  25.802631 -31.899384  -59.668976\n",
       "18697  -1.679497 -47.112129  -48.991314   6.374397  39.410938   -9.324776\n",
       "18698 -20.873970 -22.726742   23.665455  25.315870  12.268524  -52.341175\n",
       "18699  29.721008  50.525219   67.986984 -28.702374 -28.183695   40.028774\n",
       "18700 -65.303459 -41.022518   84.827538  14.353133  13.683807   70.936584\n",
       "18701 -25.993921  40.355419  -41.880444  22.522472 -36.640350  -32.209911\n",
       "18702  41.298832  12.312010  -44.830444 -30.947186  -0.819780   13.917502\n",
       "18703  -8.032304 -42.026402 -220.632370  -6.353151  34.573128  -28.105751\n",
       "18704 -30.595762  48.108070   46.659008  13.816600 -25.700699   -6.107504\n",
       "18705  45.024796  19.883581  -74.275650 -38.033073  -4.499422  -14.506287\n",
       "18706  38.139961 -26.343555  -17.403263  15.858336 -10.981405   -7.462395\n",
       "18707  27.909742  23.837036  -14.507894 -21.522497  -4.448084  -36.112442\n",
       "\n",
       "[18708 rows x 6 columns]"
      ]
     },
     "execution_count": 22,
     "metadata": {},
     "output_type": "execute_result"
    }
   ],
   "source": [
    "import pandas\n",
    "\n",
    "df = pandas.DataFrame({\"px0\": numpy.concatenate(array[\"Muon_Px[0]\"]).ravel(),\n",
    "                       \"py0\": numpy.concatenate(array[\"Muon_Py[0]\"]).ravel(),\n",
    "                       \"pz0\": numpy.concatenate(array[\"Muon_Pz[0]\"]).ravel(),\n",
    "                       \"px1\": numpy.concatenate(array[\"Muon_Px[1]\"]).ravel(),\n",
    "                       \"py1\": numpy.concatenate(array[\"Muon_Py[1]\"]).ravel(),\n",
    "                       \"pz1\": numpy.concatenate(array[\"Muon_Pz[1]\"]).ravel()},\n",
    "                      columns = [\"px0\", \"py0\", \"pz0\", \"px1\", \"py1\", \"pz1\"])\n",
    "df"
   ]
  },
  {
   "cell_type": "code",
   "execution_count": 25,
   "metadata": {
    "collapsed": false
   },
   "outputs": [
    {
     "data": {
      "text/plain": [
       "<matplotlib.axes._subplots.AxesSubplot at 0x7f00ba596910>"
      ]
     },
     "execution_count": 25,
     "metadata": {},
     "output_type": "execute_result"
    },
    {
     "data": {
      "image/png": "[encoded data removed]",
      "text/plain": [
       "<matplotlib.figure.Figure at 0x7f00ba5aa490>"
      ]
     },
     "metadata": {},
     "output_type": "display_data"
    }
   ],
   "source": [
    "%matplotlib inline\n",
    "df.plot.hist()"
   ]
  },
  {
   "cell_type": "code",
   "execution_count": 42,
   "metadata": {
    "collapsed": false
   },
   "outputs": [
    {
     "data": {
      "text/plain": [
       "<matplotlib.axes._subplots.AxesSubplot at 0x7f00b9acbb90>"
      ]
     },
     "execution_count": 42,
     "metadata": {},
     "output_type": "execute_result"
    },
    {
     "data": {
      "image/png": "[encoded data removed]",
      "text/plain": [
       "<matplotlib.figure.Figure at 0x7f00b9d879d0>"
      ]
     },
     "metadata": {},
     "output_type": "display_data"
    }
   ],
   "source": [
    "dfp = numpy.sqrt((df.px0 + df.px1)**2 + (df.py0 + df.py1)**2 + (df.pz0 + df.pz1)**2)\n",
    "dfp[dfp < 1000].plot.hist(title=\"energy\")"
   ]
  },
  {
   "cell_type": "code",
   "execution_count": 46,
   "metadata": {
    "collapsed": false
   },
   "outputs": [
    {
     "data": {
      "text/plain": [
       "<matplotlib.axes._subplots.AxesSubplot at 0x7f00b9860c10>"
      ]
     },
     "execution_count": 46,
     "metadata": {},
     "output_type": "execute_result"
    },
    {
     "data": {
      "image/png": "[encoded data removed]",
      "text/plain": [
       "<matplotlib.figure.Figure at 0x7f00b92b5910>"
      ]
     },
     "metadata": {},
     "output_type": "display_data"
    }
   ],
   "source": [
    "# hexbins avoid alignment with axes and thereby introducing artifacts that don't reflect the data\n",
    "df[numpy.logical_and(numpy.abs(df.px0) < 100, numpy.abs(df.py0) < 100)].plot.hexbin(x=\"px0\", y=\"py0\", gridsize=25)"
   ]
  },
  {
   "cell_type": "markdown",
   "metadata": {},
   "source": [
    "# [SymPy](https://pypi.python.org/pypi/SymPy)\n",
    "\n",
    "**Computer algebra system (CAS) in Python**\n",
    "\n",
    "This one is easy to overlook, but when you need what it does, it can be a life-saver. A \"computer algebra system (CAS)\" is like Maple or Mathematica: it algebraically simplifies expressions, computes exact derivatives and integrals, or can produce code that would do so.\n",
    "\n",
    "One issue, though: Python wants to immediately evaluate any expression you give it, but a computer algebra system must leave most expressions unevaluated. Therefore, you have to declare symbols before you use them, to create both the Python reference and the data structure within SymPy."
   ]
  },
  {
   "cell_type": "code",
   "execution_count": 10,
   "metadata": {
    "collapsed": false
   },
   "outputs": [
    {
     "name": "stdout",
     "output_type": "stream",
     "text": [
      "<class 'sympy.core.symbol.Symbol'>\n"
     ]
    }
   ],
   "source": [
    "from sympy import *\n",
    "init_printing()\n",
    "\n",
    "x, y, z = symbols(\"x y z\")\n",
    "\n",
    "# so what is this thing?\n",
    "print type(x)"
   ]
  },
  {
   "cell_type": "code",
   "execution_count": 11,
   "metadata": {
    "collapsed": false
   },
   "outputs": [
    {
     "data": {
      "image/png": "[encoded data removed]",
      "text/latex": [
       "$$\\sin^{2}{\\left (x \\right )} + \\cos^{2}{\\left (x \\right )}$$"
      ],
      "text/plain": [
       "   2         2   \n",
       "sin (x) + cos (x)"
      ]
     },
     "execution_count": 11,
     "metadata": {},
     "output_type": "execute_result"
    }
   ],
   "source": [
    "sin(x)**2 + cos(x)**2"
   ]
  },
  {
   "cell_type": "markdown",
   "metadata": {},
   "source": [
    "Nice pretty printing, right? `init_printing()` knows about Jupyter."
   ]
  },
  {
   "cell_type": "code",
   "execution_count": 12,
   "metadata": {
    "collapsed": false
   },
   "outputs": [
    {
     "data": {
      "image/png": "[encoded data removed]",
      "text/latex": [
       "$$1$$"
      ],
      "text/plain": [
       "1"
      ]
     },
     "execution_count": 12,
     "metadata": {},
     "output_type": "execute_result"
    }
   ],
   "source": [
    "simplify(sin(x)**2 + cos(x)**2)"
   ]
  },
  {
   "cell_type": "code",
   "execution_count": 13,
   "metadata": {
    "collapsed": false
   },
   "outputs": [
    {
     "data": {
      "image/png": "[encoded data removed]",
      "text/latex": [
       "$$x - 1$$"
      ],
      "text/plain": [
       "x - 1"
      ]
     },
     "execution_count": 13,
     "metadata": {},
     "output_type": "execute_result"
    }
   ],
   "source": [
    "simplify((x**3 + x**2 - x - 1)/(x**2 + 2*x + 1))"
   ]
  },
  {
   "cell_type": "code",
   "execution_count": 14,
   "metadata": {
    "collapsed": false
   },
   "outputs": [
    {
     "data": {
      "image/png": "[encoded data removed]",
      "text/latex": [
       "$$z \\left(x + 2 y\\right)^{2}$$"
      ],
      "text/plain": [
       "           2\n",
       "z⋅(x + 2⋅y) "
      ]
     },
     "execution_count": 14,
     "metadata": {},
     "output_type": "execute_result"
    }
   ],
   "source": [
    "factor(x**2*z + 4*x*y*z + 4*y**2*z)"
   ]
  },
  {
   "cell_type": "code",
   "execution_count": 15,
   "metadata": {
    "collapsed": false
   },
   "outputs": [
    {
     "data": {
      "image/png": "[encoded data removed]",
      "text/latex": [
       "$$x^{3} - x^{2} z + 2 x^{2} + x y + x - 3$$"
      ],
      "text/plain": [
       " 3    2        2       \n",
       "x  - x ⋅z + 2⋅x  + x⋅y \n",
       "\n",
       "       \n",
       "+ x - 3"
      ]
     },
     "execution_count": 15,
     "metadata": {},
     "output_type": "execute_result"
    }
   ],
   "source": [
    "expr = x*y + x - 3 + 2*x**2 - z*x**2 + x**3\n",
    "expr"
   ]
  },
  {
   "cell_type": "code",
   "execution_count": 16,
   "metadata": {
    "collapsed": false
   },
   "outputs": [
    {
     "data": {
      "image/png": "[encoded data removed]",
      "text/latex": [
       "$$x^{3} + x^{2} \\left(- z + 2\\right) + x \\left(y + 1\\right) - 3$$"
      ],
      "text/plain": [
       " 3    2                \n",
       "x  + x ⋅(-z + 2) + x⋅(y\n",
       "\n",
       "         \n",
       " + 1) - 3"
      ]
     },
     "execution_count": 16,
     "metadata": {},
     "output_type": "execute_result"
    }
   ],
   "source": [
    "collect(expr, x)"
   ]
  },
  {
   "cell_type": "code",
   "execution_count": 17,
   "metadata": {
    "collapsed": false
   },
   "outputs": [
    {
     "data": {
      "image/png": "[encoded data removed]",
      "text/latex": [
       "$$\\int_{0}^{z} \\frac{x^{2}}{2 y^{2}}\\, dx$$"
      ],
      "text/plain": [
       "z        \n",
       "⌠        \n",
       "⎮   2    \n",
       "⎮  x     \n",
       "⎮ ──── dx\n",
       "⎮    2   \n",
       "⎮ 2⋅y    \n",
       "⌡        \n",
       "0        "
      ]
     },
     "execution_count": 17,
     "metadata": {},
     "output_type": "execute_result"
    }
   ],
   "source": [
    "Integral(x**2/(2*y**2), (x, 0, z))"
   ]
  },
  {
   "cell_type": "code",
   "execution_count": 18,
   "metadata": {
    "collapsed": false
   },
   "outputs": [
    {
     "data": {
      "image/png": "[encoded data removed]",
      "text/latex": [
       "$$\\frac{z^{3}}{6 y^{2}}$$"
      ],
      "text/plain": [
       "  3 \n",
       " z  \n",
       "────\n",
       "   2\n",
       "6⋅y "
      ]
     },
     "execution_count": 18,
     "metadata": {},
     "output_type": "execute_result"
    }
   ],
   "source": [
    "integrate(x**2/(2*y**2), (x, 0, z))"
   ]
  },
  {
   "cell_type": "markdown",
   "metadata": {},
   "source": [
    "Really. Jupyter + SymPy = Mathematica − $1000."
   ]
  },
  {
   "cell_type": "markdown",
   "metadata": {},
   "source": [
    "# [numexpr](https://pypi.python.org/pypi/numexpr)\n",
    "\n",
    "**Fast numerical expression evaluator for NumPy**\n",
    "\n",
    "Numexpr is a simple calculator for Numpy arrays, computing element by element the same way Numpy does. The one difference is that Numpy has to create many large intermediate arrays (depending on how you do it), but Numexpr's intermediates are scalars. It's therefore faster."
   ]
  },
  {
   "cell_type": "code",
   "execution_count": 32,
   "metadata": {
    "collapsed": false
   },
   "outputs": [
    {
     "data": {
      "text/plain": [
       "True"
      ]
     },
     "execution_count": 32,
     "metadata": {},
     "output_type": "execute_result"
    }
   ],
   "source": [
    "import numexpr\n",
    "\n",
    "x = numpy.random.normal(0, 1, int(1e6))\n",
    "\n",
    "y = x**2\n",
    "z = numexpr.evaluate(\"x**2\")\n",
    "\n",
    "numpy.array_equal(y, z)"
   ]
  },
  {
   "cell_type": "markdown",
   "metadata": {},
   "source": [
    "Here's an interesting cross-pollination of several modules. Numexpr wants an expression as a string. Let's use SymPy to create an expression, turn it into a string and feed that to numexpr. If there was any algebraic simplification to do, we could do it here."
   ]
  },
  {
   "cell_type": "code",
   "execution_count": 20,
   "metadata": {
    "collapsed": false
   },
   "outputs": [
    {
     "data": {
      "image/png": "[encoded data removed]",
      "text/latex": [
       "$$\\sqrt{- \\left(px_{0} + px_{1}\\right)^{2} - \\left(py_{0} + py_{1}\\right)^{2} - \\left(pz_{0} + pz_{1}\\right)^{2} + \\left(\\sqrt{px_{0}^{2} + py_{0}^{2} + pz_{0}^{2} + 0.0111636921019823} + \\sqrt{px_{1}^{2} + py_{1}^{2} + pz_{1}^{2} + 0.0111636921019823}\\right)^{2}}$$"
      ],
      "text/plain": [
       "     __________________\n",
       "    ╱                  \n",
       "   ╱                   \n",
       "  ╱                2   \n",
       "╲╱    - (px₀ + px₁)  - \n",
       "\n",
       "_______________________\n",
       "                       \n",
       "                       \n",
       "           2           \n",
       "(py₀ + py₁)  - (pz₀ + p\n",
       "\n",
       "_______________________\n",
       "                       \n",
       "       ⎛   ____________\n",
       "   2   ⎜  ╱    2      2\n",
       "z₁)  + ⎝╲╱  px₀  + py₀ \n",
       "\n",
       "_______________________\n",
       "                       \n",
       "_______________________\n",
       "      2                \n",
       " + pz₀  + 0.01116369210\n",
       "\n",
       "_______________________\n",
       "                       \n",
       "______      ___________\n",
       "           ╱    2      \n",
       "19823  + ╲╱  px₁  + py₁\n",
       "\n",
       "_______________________\n",
       "                       \n",
       "_______________________\n",
       "2      2               \n",
       "  + pz₁  + 0.0111636921\n",
       "\n",
       "__________\n",
       "        2 \n",
       "_______⎞  \n",
       "       ⎟  \n",
       "019823 ⎠  "
      ]
     },
     "execution_count": 20,
     "metadata": {},
     "output_type": "execute_result"
    }
   ],
   "source": [
    "from sympy import *\n",
    "\n",
    "px0, py0, pz0, px1, py1, pz1 = symbols(\"px0, py0, pz0, px1, py1, pz1\")\n",
    "\n",
    "px = px0 + px1\n",
    "py = py0 + py1\n",
    "pz = pz0 + pz1\n",
    "e = sqrt(px0**2 + py0**2 + pz0**2 + 0.1056583745**2) + \\\n",
    "    sqrt(px1**2 + py1**2 + pz1**2 + 0.1056583745**2)\n",
    "mass = sqrt(e**2 - px**2 - py**2 - pz**2)\n",
    "\n",
    "mass"
   ]
  },
  {
   "cell_type": "markdown",
   "metadata": {},
   "source": [
    "SymPy's code generation routines create Python lambda expressions. That's not quite what we want, so use the `lambdastr` function to make a _string_ of the Python lambda expression."
   ]
  },
  {
   "cell_type": "code",
   "execution_count": 21,
   "metadata": {
    "collapsed": false
   },
   "outputs": [
    {
     "data": {
      "text/plain": [
       "'lambda px0,py0,pz0,px1,py1,pz1: (sqrt(-(px0 + px1)**2 - (py0 + py1)**2 - (pz0 + pz1)**2 + (sqrt(px0**2 + py0**2 + pz0**2 + 0.0111636921019823) + sqrt(px1**2 + py1**2 + pz1**2 + 0.0111636921019823))**2))'"
      ]
     },
     "execution_count": 21,
     "metadata": {},
     "output_type": "execute_result"
    }
   ],
   "source": [
    "from sympy.utilities.lambdify import lambdastr\n",
    "\n",
    "as_string = lambdastr((px0, py0, pz0, px1, py1, pz1), mass)\n",
    "as_string"
   ]
  },
  {
   "cell_type": "markdown",
   "metadata": {},
   "source": [
    "Now cut up the string to remove the `lambda` part. Cutting at the colon always works."
   ]
  },
  {
   "cell_type": "code",
   "execution_count": 34,
   "metadata": {
    "collapsed": false
   },
   "outputs": [
    {
     "data": {
      "text/plain": [
       "'(sqrt(-(px0 + px1)**2 - (py0 + py1)**2 - (pz0 + pz1)**2 + (sqrt(px0**2 + py0**2 + pz0**2 + 0.0111636921019823) + sqrt(px1**2 + py1**2 + pz1**2 + 0.0111636921019823))**2))'"
      ]
     },
     "execution_count": 34,
     "metadata": {},
     "output_type": "execute_result"
    }
   ],
   "source": [
    "string_i_want = as_string[as_string.index(\": \") + 2 : ]\n",
    "string_i_want"
   ]
  },
  {
   "cell_type": "code",
   "execution_count": 23,
   "metadata": {
    "collapsed": false
   },
   "outputs": [
    {
     "data": {
      "text/plain": [
       "array([ 88.94682416,  40.91526953,  89.88668023, ...,  93.52611811,\n",
       "         0.39596728,  60.84829012])"
      ]
     },
     "execution_count": 23,
     "metadata": {},
     "output_type": "execute_result"
    },
    {
     "name": "stdout",
     "output_type": "stream",
     "text": [
      "This took 0.00078010559082 seconds.\n"
     ]
    }
   ],
   "source": [
    "import time\n",
    "import ROOT\n",
    "import root_numpy\n",
    "\n",
    "tfile = ROOT.TFile(\"data.root\")\n",
    "ttree = tfile.Get(\"events\")\n",
    "array = root_numpy.tree2array(ttree,\n",
    "                              branches = [\"Muon_Px[0]\", \"Muon_Py[0]\", \"Muon_Pz[0]\",\n",
    "                                          \"Muon_Px[1]\", \"Muon_Py[1]\", \"Muon_Pz[1]\"],\n",
    "                              selection = \"NMuon >= 2\")\n",
    "\n",
    "px0 = numpy.concatenate(array[\"Muon_Px[0]\"]).ravel()    # flatten the array-of-arrays that TTreeFormula gave us\n",
    "py0 = numpy.concatenate(array[\"Muon_Py[0]\"]).ravel()\n",
    "pz0 = numpy.concatenate(array[\"Muon_Pz[0]\"]).ravel()\n",
    "px1 = numpy.concatenate(array[\"Muon_Px[1]\"]).ravel()\n",
    "py1 = numpy.concatenate(array[\"Muon_Py[1]\"]).ravel()\n",
    "pz1 = numpy.concatenate(array[\"Muon_Pz[1]\"]).ravel()\n",
    "\n",
    "startTime = time.time()\n",
    "mass = numexpr.evaluate(string_i_want)\n",
    "endTime = time.time()\n",
    "print \"This took\", endTime - startTime, \"seconds.\"\n",
    "\n",
    "mass"
   ]
  },
  {
   "cell_type": "markdown",
   "metadata": {},
   "source": [
    "0.78 ms instead of 1.8 ms (with Numpy's intermediate arrays for `px`, `py`, `pz`, and `e`). The difference would be more significant for a more complex calculation."
   ]
  },
  {
   "cell_type": "markdown",
   "metadata": {},
   "source": [
    "# [Scikit-Learn](https://pypi.python.org/pypi/Scikit-Learn)\n",
    "\n",
    "**A set of python modules for machine learning and data mining**\n",
    "\n",
    "\n",
    "\n"
   ]
  },
  {
   "cell_type": "markdown",
   "metadata": {},
   "source": [
    "# [Keras](https://pypi.python.org/pypi/Keras)\n",
    "\n",
    "**Deep Learning for Python**\n",
    "\n",
    "\n"
   ]
  },
  {
   "cell_type": "markdown",
   "metadata": {},
   "source": [
    "# [Theano](https://pypi.python.org/pypi/Theano)\n",
    "\n",
    "**Optimizing compiler for evaluating mathematical expressions on CPUs and GPUs.**\n",
    "\n",
    "\n",
    "\n"
   ]
  }
 ],
 "metadata": {
  "kernelspec": {
   "display_name": "Python 2",
   "language": "python",
   "name": "python2"
  },
  "language_info": {
   "codemirror_mode": {
    "name": "ipython",
    "version": 2
   },
   "file_extension": ".py",
   "mimetype": "text/x-python",
   "name": "python",
   "nbconvert_exporter": "python",
   "pygments_lexer": "ipython2",
   "version": "2.7.11"
  }
 },
 "nbformat": 4,
 "nbformat_minor": 1
}
