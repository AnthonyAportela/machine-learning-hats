{
 "cells": [
  {
   "cell_type": "markdown",
   "metadata": {},
   "source": [
    "# Technology preview: Femtocode\n",
    "\n",
    "Although it was the focus of today's tutorials, Histogrammar is not an end in itself. It's part of a larger system in development to replace private skims with a query system.\n",
    "\n",
    "The idea is that all the big data resides on a server, like MiniAOD in EOS, and instead of downloading skims for interactive analysis, you (the physicists) perform analyses directly on the central server by submitting queries and getting results as aggregations.\n",
    "\n",
    "Of course, it has to be considerably faster than current Grid jobs. You have to get each plot back in seconds (or less) to be productive. Some early work shows that this is possible: [see talk](https://indico.cern.ch/event/630641/)).\n",
    "\n",
    "The query system wouldn't accept C++ strings, as in our examples today, but a new query language called Femtocode. The \"femto\" refers to the fact that it's intended for tiny snippets. This query language is both\n",
    "\n",
    "   * more high-level than C++, having a Pythonic syntax apart from simplified function declarations (you don't have to type \"`lambda`\")\n",
    "   * and faster than the equivalent C++, because it has additional constraints. It's only used for querying, after all, not application development.\n",
    "\n",
    "The example below shows what this would look like. The cell doesn't function (don't try to evaluate it), but the plot shown below it was generated from real Femtocode. (4.5x faster than objects-on-heap C++, should be 20x.)"
   ]
  },
  {
   "cell_type": "code",
   "execution_count": null,
   "metadata": {
    "collapsed": true
   },
   "outputs": [],
   "source": [
    "from femtocode.remote import RemoteSession\n",
    "\n",
    "session = RemoteSession(\"http://doesnt.exist.yet.fnal.gov\")\n",
    "\n",
    "workflow = session.source(\"ZZ_13TeV_pythia8\")            # pull from a named dataset\n",
    "       .define(goodmuons = \"muons.filter($1.pt > 5)\")    # muons with pt > 5 are good\n",
    "       .filter(\"goodmuons.size >= 2\")                    # keep events with at least two\n",
    "       .define(dimuon = \"\"\"\n",
    "           mu1, mu2 = goodmuons.maxby($1.pt, 2);         # pick the top two by pt\n",
    "           energy = mu1.E + mu2.E;                       # compute imploded energy/momentum\n",
    "           px = mu1.px + mu2.px;\n",
    "           py = mu1.py + mu2.py;\n",
    "           pz = mu1.pz + mu2.pz;\n",
    "\n",
    "           rec(mass = sqrt(energy**2 - px**2 - py**2 - pz**2),\n",
    "               pt = sqrt(px**2 + py**2),\n",
    "               phi = atan2(py, px),\n",
    "               eta = log((energy + pz)/(energy - pz))/2) # construct a record as output\n",
    "           \"\"\")\n",
    "       .bundle(                                          # make a bundle of plots (Histogrammar 2.0)\n",
    "           mass = bin(120, 60, 120, \"dimuon.mass\"),      # using the variables we’ve made\n",
    "           pt = bin(100, 0, 100, \"dimuon.pt\"),\n",
    "           eta = bin(100, -5, 5, \"dimuon.eta\"),\n",
    "           phi = bin(314, 0, 2*pi, \"dimuon.phi + pi\"),\n",
    "           muons = loop(\"goodmuons\", \"mu\", bundle(       # also make plots with one muon per entry\n",
    "               pt = bin(100, 0, 100, \"mu.pt\"),\n",
    "               eta = bin(100, -5, 5, \"mu.eta\"),\n",
    "               phi = bin(314, -pi, pi, \"mu.phi\")\n",
    "           ))\n",
    "       )\n",
    "\n",
    "pending = workflow.submit()                              # submit the query\n",
    "pending[\"mass\"].plot()                                   # and plot results while they accumulate\n",
    "pending[\"muons\"][\"pt\"].plot()                            # (they’ll be animated)\n",
    "\n",
    "blocking = pending.await()                               # stop the code until the result is in\n",
    "\n",
    "massplot = blocking.plot.root(\"dimuon mass [GeV]\")       # convert to a familiar format, like ROOT\n",
    "massplot.Draw()                                          # and use that package’s tools"
   ]
  },
  {
   "cell_type": "markdown",
   "metadata": {},
   "source": [
    "![](c1.png)"
   ]
  },
  {
   "cell_type": "markdown",
   "metadata": {},
   "source": [
    "For more, see the README on the [Femtocode GitHub page](https://github.com/diana-hep/femtocode)."
   ]
  }
 ],
 "metadata": {
  "kernelspec": {
   "display_name": "Python 2",
   "language": "python",
   "name": "python2"
  },
  "language_info": {
   "codemirror_mode": {
    "name": "ipython",
    "version": 2
   },
   "file_extension": ".py",
   "mimetype": "text/x-python",
   "name": "python",
   "nbconvert_exporter": "python",
   "pygments_lexer": "ipython2",
   "version": "2.7.6"
  }
 },
 "nbformat": 4,
 "nbformat_minor": 1
}
