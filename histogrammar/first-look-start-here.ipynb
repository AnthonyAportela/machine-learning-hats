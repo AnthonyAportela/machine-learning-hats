{
 "cells": [
  {
   "cell_type": "code",
   "execution_count": 29,
   "metadata": {
    "collapsed": false
   },
   "outputs": [],
   "source": [
    "import time\n",
    "\n",
    "# Your choice of plotting front-end.\n",
    "%matplotlib inline\n",
    "\n",
    "import ROOT\n",
    "tcanvas = ROOT.TCanvas(\"TCanvasName\", \"TCanvasTitle\", 800, 300)"
   ]
  },
  {
   "cell_type": "code",
   "execution_count": 10,
   "metadata": {
    "collapsed": false
   },
   "outputs": [
    {
     "data": {
      "text/plain": [
       "[<ROOT.TBranch object (\"ph_N\") at 0x66128e0>,\n",
       " <ROOT.TBranchElement object (\"ph_pdgId\") at 0xd0bd0a0>,\n",
       " <ROOT.TBranchElement object (\"ph_charge\") at 0x6a7acf0>,\n",
       " <ROOT.TBranchElement object (\"ph_e\") at 0x663b980>,\n",
       " <ROOT.TBranchElement object (\"ph_eta\") at 0x6641770>,\n",
       " <ROOT.TBranchElement object (\"ph_phi\") at 0x662b330>,\n",
       " <ROOT.TBranchElement object (\"ph_mass\") at 0x6630190>,\n",
       " <ROOT.TBranchElement object (\"ph_pt\") at 0x661cea0>,\n",
       " <ROOT.TBranchElement object (\"ph_et\") at 0x66b70a0>,\n",
       " <ROOT.TBranchElement object (\"ph_rho\") at 0xd0bd740>,\n",
       " <ROOT.TBranchElement object (\"ph_superCluster_eta\") at 0x671ae20>,\n",
       " <ROOT.TBranchElement object (\"ph_superCluster_phi\") at 0x6673ee0>,\n",
       " <ROOT.TBranchElement object (\"ph_sigmaIetaIeta\") at 0x6630780>,\n",
       " <ROOT.TBranchElement object (\"ph_hOverE\") at 0x66e80e0>,\n",
       " <ROOT.TBranchElement object (\"ph_isoGamma\") at 0x6642090>,\n",
       " <ROOT.TBranchElement object (\"ph_isoCh\") at 0x6625320>,\n",
       " <ROOT.TBranchElement object (\"ph_passEleVeto\") at 0x6628330>,\n",
       " <ROOT.TBranchElement object (\"ph_passLooseId\") at 0xddfe340>,\n",
       " <ROOT.TBranchElement object (\"ph_passMediumId\") at 0xddfed60>,\n",
       " <ROOT.TBranchElement object (\"ph_passTightId\") at 0x662dc60>,\n",
       " <ROOT.TBranchElement object (\"ph_mvaVal\") at 0x662e330>,\n",
       " <ROOT.TBranchElement object (\"ph_mvaCat\") at 0x64a4960>,\n",
       " <ROOT.TBranch object (\"rho\") at 0x6634240>,\n",
       " <ROOT.TBranch object (\"jetAK4_N\") at 0x6c5ac90>,\n",
       " <ROOT.TBranchElement object (\"jetAK4_pt\") at 0x64a50e0>,\n",
       " <ROOT.TBranchElement object (\"jetAK4_eta\") at 0xd0bc480>,\n",
       " <ROOT.TBranchElement object (\"jetAK4_mass\") at 0xd0bcc10>,\n",
       " <ROOT.TBranchElement object (\"jetAK4_phi\") at 0x66b7ef0>,\n",
       " <ROOT.TBranchElement object (\"jetAK4_e\") at 0x66b8600>,\n",
       " <ROOT.TBranchElement object (\"jetAK4_jec\") at 0x663f1e0>,\n",
       " <ROOT.TBranchElement object (\"jetAK4_jecUp\") at 0x663f970>,\n",
       " <ROOT.TBranchElement object (\"jetAK4_jecDown\") at 0x6640830>,\n",
       " <ROOT.TBranchElement object (\"jetAK4_IDLoose\") at 0x6640fc0>,\n",
       " <ROOT.TBranchElement object (\"jetAK4_IDTight\") at 0x6629280>,\n",
       " <ROOT.TBranchElement object (\"jetAK4_IDTightLepVeto\") at 0x6629870>,\n",
       " <ROOT.TBranchElement object (\"jetAK4_charge\") at 0x6627440>,\n",
       " <ROOT.TBranchElement object (\"jetAK4_csv\") at 0x6627bd0>,\n",
       " <ROOT.TBranchElement object (\"jetAK4_vtxMass\") at 0x672eb80>,\n",
       " <ROOT.TBranchElement object (\"jetAK4_vtxNtracks\") at 0x672f310>,\n",
       " <ROOT.TBranchElement object (\"jetAK4_vtx3DVal\") at 0x66e3670>,\n",
       " <ROOT.TBranchElement object (\"jetAK4_vtx3DSig\") at 0x66e3d80>,\n",
       " <ROOT.TBranchElement object (\"jetAK4_partonFlavour\") at 0x66ecb60>,\n",
       " <ROOT.TBranchElement object (\"jetAK4_hadronFlavour\") at 0x66ed3b0>,\n",
       " <ROOT.TBranchElement object (\"jetAK4_genParton_pdgID\") at 0x664d370>,\n",
       " <ROOT.TBranchElement object (\"jetAK4_nbHadrons\") at 0x664dbc0>,\n",
       " <ROOT.TBranchElement object (\"jetAK4_ncHadrons\") at 0x662a0d0>,\n",
       " <ROOT.TBranchElement object (\"jetAK4_jer_sf\") at 0x662a920>,\n",
       " <ROOT.TBranchElement object (\"jetAK4_jer_sf_up\") at 0x66c69a0>,\n",
       " <ROOT.TBranchElement object (\"jetAK4_jer_sf_down\") at 0x66c71f0>,\n",
       " <ROOT.TBranchElement object (\"jetAK4_jer_sigma_pt\") at 0x66daad0>,\n",
       " <ROOT.TBranch object (\"jetAK8_N\") at 0xd0bd4f0>,\n",
       " <ROOT.TBranchElement object (\"jetAK8_pt\") at 0x66db500>,\n",
       " <ROOT.TBranchElement object (\"jetAK8_eta\") at 0x66c2310>,\n",
       " <ROOT.TBranchElement object (\"jetAK8_mass\") at 0x66c2a10>,\n",
       " <ROOT.TBranchElement object (\"jetAK8_phi\") at 0x66c3110>,\n",
       " <ROOT.TBranchElement object (\"jetAK8_e\") at 0x663a3e0>,\n",
       " <ROOT.TBranchElement object (\"jetAK8_jec\") at 0x663aae0>,\n",
       " <ROOT.TBranchElement object (\"jetAK8_jecUp\") at 0x663b1e0>,\n",
       " <ROOT.TBranchElement object (\"jetAK8_jecDown\") at 0x671dd50>,\n",
       " <ROOT.TBranchElement object (\"jetAK8_IDLoose\") at 0x671e450>,\n",
       " <ROOT.TBranchElement object (\"jetAK8_IDTight\") at 0x671eab0>,\n",
       " <ROOT.TBranchElement object (\"jetAK8_IDTightLepVeto\") at 0x66dbd80>,\n",
       " <ROOT.TBranchElement object (\"jetAK8_charge\") at 0x66dc4e0>,\n",
       " <ROOT.TBranchElement object (\"jetAK8_partonFlavour\") at 0x66dcbe0>,\n",
       " <ROOT.TBranchElement object (\"jetAK8_hadronFlavour\") at 0x64ff9d0>,\n",
       " <ROOT.TBranchElement object (\"jetAK8_genParton_pdgID\") at 0x6500190>,\n",
       " <ROOT.TBranchElement object (\"jetAK8_nbHadrons\") at 0x6500950>,\n",
       " <ROOT.TBranchElement object (\"jetAK8_ncHadrons\") at 0x66d5e60>,\n",
       " <ROOT.TBranchElement object (\"jetAK8_jer_sf\") at 0x66d65a0>,\n",
       " <ROOT.TBranchElement object (\"jetAK8_jer_sf_up\") at 0x66d6ca0>,\n",
       " <ROOT.TBranchElement object (\"jetAK8_jer_sf_down\") at 0x66ccd80>,\n",
       " <ROOT.TBranchElement object (\"jetAK8_jer_sigma_pt\") at 0x66cd4c0>,\n",
       " <ROOT.TBranchElement object (\"jetAK8Puppi_jer_sf\") at 0x66cdc80>,\n",
       " <ROOT.TBranchElement object (\"jetAK8Puppi_jer_sf_up\") at 0x6625ce0>,\n",
       " <ROOT.TBranchElement object (\"jetAK8Puppi_jer_sf_down\") at 0x66264a0>,\n",
       " <ROOT.TBranchElement object (\"jetAK8Puppi_jer_sigma_pt\") at 0x6626c60>,\n",
       " <ROOT.TBranchElement object (\"jetAK8_Hbbtag\") at 0x6c695d0>,\n",
       " <ROOT.TBranchElement object (\"jetAK8_csv\") at 0x6c69cd0>,\n",
       " <ROOT.TBranchElement object (\"jetAK8_tau1\") at 0x6c6a3d0>,\n",
       " <ROOT.TBranchElement object (\"jetAK8_tau2\") at 0x6c6aad0>,\n",
       " <ROOT.TBranchElement object (\"jetAK8_tau3\") at 0x6650ef0>,\n",
       " <ROOT.TBranchElement object (\"jetAK8_pruned_mass\") at 0x6651640>,\n",
       " <ROOT.TBranchElement object (\"jetAK8_pruned_massCorr\") at 0x6651e50>,\n",
       " <ROOT.TBranchElement object (\"jetAK8_pruned_jec\") at 0x6701910>,\n",
       " <ROOT.TBranchElement object (\"jetAK8_pruned_jecUp\") at 0x6702120>,\n",
       " <ROOT.TBranchElement object (\"jetAK8_pruned_jecDown\") at 0x6702930>,\n",
       " <ROOT.TBranchElement object (\"jetAK8_softdrop_mass\") at 0x66429a0>,\n",
       " <ROOT.TBranchElement object (\"jetAK8_softdrop_massCorr\") at 0x66431b0>,\n",
       " <ROOT.TBranchElement object (\"jetAK8_softdrop_jec\") at 0x66439c0>,\n",
       " <ROOT.TBranchElement object (\"jetAK8_softdrop_jecUp\") at 0x672afd0>,\n",
       " <ROOT.TBranchElement object (\"jetAK8_softdrop_jecDown\") at 0x672b820>,\n",
       " <ROOT.TBranchElement object (\"jetAK8_subjet_softdrop_N\") at 0x672c070>,\n",
       " <ROOT.TBranchElement object (\"jetAK8_subjet_softdrop_pt\") at 0x672c880>,\n",
       " <ROOT.TBranchElement object (\"jetAK8_subjet_softdrop_eta\") at 0x672cd70>,\n",
       " <ROOT.TBranchElement object (\"jetAK8_subjet_softdrop_mass\") at 0x672d6b0>,\n",
       " <ROOT.TBranchElement object (\"jetAK8_subjet_softdrop_phi\") at 0x672dff0>,\n",
       " <ROOT.TBranchElement object (\"jetAK8_subjet_softdrop_e\") at 0x66376d0>,\n",
       " <ROOT.TBranchElement object (\"jetAK8_subjet_softdrop_charge\") at 0x6638010>,\n",
       " <ROOT.TBranchElement object (\"jetAK8_subjet_softdrop_genParton_pdgID\") at 0x66389c0>,\n",
       " <ROOT.TBranchElement object (\"jetAK8_subjet_softdrop_nbHadrons\") at 0x66c7d90>,\n",
       " <ROOT.TBranchElement object (\"jetAK8_subjet_softdrop_ncHadrons\") at 0x66c8680>,\n",
       " <ROOT.TBranchElement object (\"jetAK8_subjet_softdrop_partonFlavour\") at 0x66c8f70>,\n",
       " <ROOT.TBranchElement object (\"jetAK8_subjet_softdrop_hadronFlavour\") at 0x66c9830>,\n",
       " <ROOT.TBranchElement object (\"jetAK8_subjet_softdrop_csv\") at 0x662b950>,\n",
       " <ROOT.TBranchElement object (\"jetAK8_puppi_pt\") at 0x662c290>,\n",
       " <ROOT.TBranchElement object (\"jetAK8_puppi_eta\") at 0x662c9e0>,\n",
       " <ROOT.TBranchElement object (\"jetAK8_puppi_mass\") at 0x662d1f0>,\n",
       " <ROOT.TBranchElement object (\"jetAK8_puppi_phi\") at 0x66f6ba0>,\n",
       " <ROOT.TBranchElement object (\"jetAK8_puppi_e\") at 0x66f73b0>,\n",
       " <ROOT.TBranchElement object (\"jetAK8_puppi_pruned_mass\") at 0x66f7b00>,\n",
       " <ROOT.TBranchElement object (\"jetAK8_puppi_pruned_massCorr\") at 0x66f8140>,\n",
       " <ROOT.TBranchElement object (\"jetAK8_puppi_pruned_jec\") at 0x66f87c0>,\n",
       " <ROOT.TBranchElement object (\"jetAK8_puppi_softdrop_mass\") at 0x664e830>,\n",
       " <ROOT.TBranchElement object (\"jetAK8_puppi_softdrop_massCorr\") at 0x664f040>,\n",
       " <ROOT.TBranchElement object (\"jetAK8_puppi_softdrop_jec\") at 0x664f850>,\n",
       " <ROOT.TBranchElement object (\"jetAK8_puppi_tau1\") at 0x6650060>,\n",
       " <ROOT.TBranchElement object (\"jetAK8_puppi_tau2\") at 0x6650870>,\n",
       " <ROOT.TBranchElement object (\"jetAK8_puppi_tau3\") at 0xde28cb0>,\n",
       " <ROOT.TBranchElement object (\"jetAK8_subjet_puppi_softdrop_N\") at 0xde294c0>,\n",
       " <ROOT.TBranchElement object (\"jetAK8_subjet_puppi_softdrop_pt\") at 0xde29b40>,\n",
       " <ROOT.TBranchElement object (\"jetAK8_subjet_puppi_softdrop_eta\") at 0xde2a250>,\n",
       " <ROOT.TBranchElement object (\"jetAK8_subjet_puppi_softdrop_mass\") at 0xde2aac0>,\n",
       " <ROOT.TBranchElement object (\"jetAK8_subjet_puppi_softdrop_phi\") at 0x66edc30>,\n",
       " <ROOT.TBranchElement object (\"jetAK8_subjet_puppi_softdrop_e\") at 0x66ee4a0>,\n",
       " <ROOT.TBranchElement object (\"jetAK8_subjet_puppi_softdrop_charge\") at 0x66eecd0>,\n",
       " <ROOT.TBranchElement object (\"jetAK8_subjet_puppi_softdrop_genParton_pdgID\") at 0x66ef540>,\n",
       " <ROOT.TBranchElement object (\"jetAK8_subjet_puppi_softdrop_nbHadrons\") at 0x66efdb0>,\n",
       " <ROOT.TBranchElement object (\"jetAK8_subjet_puppi_softdrop_ncHadrons\") at 0x6645c40>,\n",
       " <ROOT.TBranchElement object (\"jetAK8_subjet_puppi_softdrop_partonFlavour\") at 0x66464b0>,\n",
       " <ROOT.TBranchElement object (\"jetAK8_subjet_puppi_softdrop_hadronFlavour\") at 0x6646d20>,\n",
       " <ROOT.TBranchElement object (\"jetAK8_subjet_puppi_softdrop_csv\") at 0x6647590>,\n",
       " <ROOT.TBranchElement object (\"jetAK8_subjet_pruned_N\") at 0x6647e00>,\n",
       " <ROOT.TBranchElement object (\"jetAK8_subjet_pruned_pt\") at 0x66310e0>,\n",
       " <ROOT.TBranchElement object (\"jetAK8_subjet_pruned_eta\") at 0x6631a20>,\n",
       " <ROOT.TBranchElement object (\"jetAK8_subjet_pruned_mass\") at 0x66323d0>,\n",
       " <ROOT.TBranchElement object (\"jetAK8_subjet_pruned_phi\") at 0x6632d80>,\n",
       " <ROOT.TBranchElement object (\"jetAK8_subjet_pruned_e\") at 0x6aae260>,\n",
       " <ROOT.TBranchElement object (\"jetAK8_subjet_pruned_charge\") at 0x6aaec10>,\n",
       " <ROOT.TBranchElement object (\"jetAK8_subjet_pruned_genParton_pdgID\") at 0x6aaf5c0>,\n",
       " <ROOT.TBranchElement object (\"jetAK8_subjet_pruned_nbHadrons\") at 0x6aaffb0>,\n",
       " <ROOT.TBranchElement object (\"jetAK8_subjet_pruned_ncHadrons\") at 0x663c410>,\n",
       " <ROOT.TBranchElement object (\"jetAK8_subjet_pruned_partonFlavour\") at 0x663cdc0>,\n",
       " <ROOT.TBranchElement object (\"jetAK8_subjet_pruned_hadronFlavour\") at 0x663d7b0>,\n",
       " <ROOT.TBranchElement object (\"jetAK8_subjet_pruned_csv\") at 0x663e1a0>,\n",
       " <ROOT.TBranchElement object (\"HLT_isFired\") at 0x663eb50>,\n",
       " <ROOT.TBranch object (\"passFilter_HBHE\") at 0xddfea10>,\n",
       " <ROOT.TBranch object (\"passFilter_HBHELoose\") at 0x6633790>,\n",
       " <ROOT.TBranch object (\"passFilter_HBHETight\") at 0x66441d0>,\n",
       " <ROOT.TBranch object (\"passFilter_HBHEIso\") at 0xddff430>,\n",
       " <ROOT.TBranch object (\"passFilter_CSCHalo\") at 0x6652720>,\n",
       " <ROOT.TBranch object (\"passFilter_CSCTightHalo2015\") at 0x6a80540>,\n",
       " <ROOT.TBranch object (\"passFilter_HCALlaser\") at 0x6a80b20>,\n",
       " <ROOT.TBranch object (\"passFilter_ECALDeadCell\") at 0x6a81100>,\n",
       " <ROOT.TBranch object (\"passFilter_GoodVtx\") at 0x6a816e0>,\n",
       " <ROOT.TBranch object (\"passFilter_TrkFailure\") at 0x6a81cc0>,\n",
       " <ROOT.TBranch object (\"passFilter_EEBadSc\") at 0x6a822a0>,\n",
       " <ROOT.TBranch object (\"passFilter_ECALlaser\") at 0x6a82880>,\n",
       " <ROOT.TBranch object (\"passFilter_TrkPOG\") at 0x6a82e60>,\n",
       " <ROOT.TBranch object (\"passFilter_TrkPOG_manystrip\") at 0x6a83440>,\n",
       " <ROOT.TBranch object (\"passFilter_TrkPOG_toomanystrip\") at 0x6a83a20>,\n",
       " <ROOT.TBranch object (\"passFilter_TrkPOG_logError\") at 0x6703980>,\n",
       " <ROOT.TBranch object (\"passFilter_METFilters\") at 0x6703f60>,\n",
       " <ROOT.TBranch object (\"passFilter_CSCTightHaloTrkMuUnvetoFilter\") at 0x6704540>,\n",
       " <ROOT.TBranch object (\"passFilter_globalTightHalo2016\") at 0x6704b60>,\n",
       " <ROOT.TBranch object (\"passFilter_HcalStripHalo\") at 0x6705150>,\n",
       " <ROOT.TBranch object (\"passFilter_chargedHadronTrackResolution\") at 0x6705730>,\n",
       " <ROOT.TBranch object (\"passFilter_muonBadTrack\") at 0x6705d50>,\n",
       " <ROOT.TBranch object (\"EVENT_event\") at 0x6706330>,\n",
       " <ROOT.TBranch object (\"EVENT_run\") at 0x6706850>,\n",
       " <ROOT.TBranch object (\"EVENT_lumiBlock\") at 0x6706d70>,\n",
       " <ROOT.TBranch object (\"PV_N\") at 0x67072c0>,\n",
       " <ROOT.TBranch object (\"PV_filter\") at 0x67077e0>,\n",
       " <ROOT.TBranchElement object (\"PV_chi2\") at 0x6707d00>,\n",
       " <ROOT.TBranchElement object (\"PV_ndof\") at 0x6708470>,\n",
       " <ROOT.TBranchElement object (\"PV_rho\") at 0x6708b80>,\n",
       " <ROOT.TBranchElement object (\"PV_z\") at 0x6709290>]"
      ]
     },
     "execution_count": 10,
     "metadata": {},
     "output_type": "execute_result"
    }
   ],
   "source": [
    "firstLookFile = ROOT.TFile.Open(\"root://cmseos.fnal.gov//store/user/hats/PyRoot/2017/qcd_samples/shuffled_sig/sig_shuffled_0.root\")\n",
    "firstLookTree = firstLookFile.Get(\"tree\")\n",
    "list(firstLookTree.GetListOfBranches())"
   ]
  },
  {
   "cell_type": "code",
   "execution_count": 11,
   "metadata": {
    "collapsed": true
   },
   "outputs": [],
   "source": [
    "firstLookTree.SetBranchStatus(\"*\", 0)\n",
    "for branch in [\"jetAK4_N\",\n",
    "               \"jetAK4_pt\",\n",
    "               \"jetAK4_eta\",\n",
    "               \"jetAK4_mass\",\n",
    "               \"jetAK4_phi\",\n",
    "               \"jetAK4_e\",\n",
    "               \"jetAK4_jec\",\n",
    "               \"jetAK4_IDLoose\"]:\n",
    "    firstLookTree.SetBranchStatus(branch, 1)"
   ]
  },
  {
   "cell_type": "code",
   "execution_count": 22,
   "metadata": {
    "collapsed": false
   },
   "outputs": [
    {
     "name": "stdout",
     "output_type": "stream",
     "text": [
      "This took 2.1755259037 seconds.\n"
     ]
    }
   ],
   "source": [
    "dijetMass_hist = ROOT.TH1D(\"dijetMass_hist\", \"dijet mass [GeV]\", 100, 0, 1000)\n",
    "dijetEtBalance_hist = ROOT.TH1D(\"dijetEtBalance_hist\", \"dijet ET balance\", 100, 0, 1)\n",
    "cosThetaStar_hist = ROOT.TH1D(\"cosThetaStar_hist\", \"cos(theta*)\", 100, -1, 1)\n",
    "\n",
    "leadingJet = ROOT.TLorentzVector()\n",
    "subleadingJet = ROOT.TLorentzVector()\n",
    "\n",
    "startTime = time.time()\n",
    "for index, event in enumerate(firstLookTree):\n",
    "    if event.jetAK4_N < 2:\n",
    "        continue\n",
    "    \n",
    "    leadingJet.SetPtEtaPhiE(event.jetAK4_pt.at(0),\n",
    "                            event.jetAK4_eta.at(0),\n",
    "                            event.jetAK4_phi.at(0),\n",
    "                            event.jetAK4_e.at(0))\n",
    "    \n",
    "    subleadingJet.SetPtEtaPhiE(event.jetAK4_pt.at(1),\n",
    "                               event.jetAK4_eta.at(1),\n",
    "                               event.jetAK4_phi.at(1),\n",
    "                               event.jetAK4_e.at(1))\n",
    "    \n",
    "    dijet = leadingJet + subleadingJet\n",
    "    dijetMass = dijet.M()\n",
    "    dijetEtBalance = subleadingJet.Et() / leadingJet.Et()\n",
    "    \n",
    "    boostedLeading = leadingJet\n",
    "    boostedLeading.Boost(-dijet.BoostVector())\n",
    "    cosThetaStar = boostedLeading.Pz() / boostedLeading.P()\n",
    "    \n",
    "    dijetMass_hist.Fill(dijetMass)\n",
    "    dijetEtBalance_hist.Fill(dijetEtBalance)\n",
    "    cosThetaStar_hist.Fill(cosThetaStar)\n",
    "\n",
    "endTime = time.time()\n",
    "\n",
    "print \"This took\", endTime - startTime, \"seconds.\""
   ]
  },
  {
   "cell_type": "code",
   "execution_count": 30,
   "metadata": {
    "collapsed": false
   },
   "outputs": [
    {
     "data": {
      "image/png": "[encoded data removed]",
      "text/plain": [
       "<IPython.core.display.Image object>"
      ]
     },
     "metadata": {},
     "output_type": "display_data"
    }
   ],
   "source": [
    "tcanvas.Clear()\n",
    "tcanvas.Divide(3, 1)\n",
    "\n",
    "tcanvas.cd(1); dijetMass_hist.Draw()\n",
    "tcanvas.cd(2); dijetEtBalance_hist.Draw()\n",
    "tcanvas.cd(3); cosThetaStar_hist.Draw()\n",
    "tcanvas.Draw()"
   ]
  },
  {
   "cell_type": "code",
   "execution_count": 31,
   "metadata": {
    "collapsed": true
   },
   "outputs": [],
   "source": [
    "from histogrammar import *\n",
    "\n",
    "Bundle = UntypedLabel    # a naming convention we'll be changing to in Histogrammar 2.0\n",
    "\n",
    "def cosThetaStar(jets):\n",
    "    boostedLeading = jets[0]\n",
    "    boostedLeading.Boost(-(jets[0] + jets[1]).BoostVector())\n",
    "    return boostedLeading.Pz() / boostedLeading.P()\n",
    "\n",
    "histograms = Bundle(\n",
    "    dijetMass      = Bin(100, 0, 1000, lambda jets: (jets[0] + jets[1]).M()),\n",
    "    dijetEtBalance = Bin(100, 0, 1, lambda jets: jets[1].Et() / jets[0].Et()),\n",
    "    cosThetaStar   = Bin(100, -1, 1, cosThetaStar))\n",
    "\n",
    "leadingJet = ROOT.TLorentzVector()\n",
    "subleadingJet = ROOT.TLorentzVector()\n",
    "\n",
    "startTime = time.time()\n",
    "for index, event in enumerate(firstLookTree):\n",
    "    if event.jetAK4_N < 2:\n",
    "        continue\n",
    "    \n",
    "    leadingJet.SetPtEtaPhiE(event.jetAK4_pt.at(0),\n",
    "                            event.jetAK4_eta.at(0),\n",
    "                            event.jetAK4_phi.at(0),\n",
    "                            event.jetAK4_e.at(0))\n",
    "    \n",
    "    subleadingJet.SetPtEtaPhiE(event.jetAK4_pt.at(1),\n",
    "                               event.jetAK4_eta.at(1),\n",
    "                               event.jetAK4_phi.at(1),\n",
    "                               event.jetAK4_e.at(1))\n",
    "    \n",
    "    histograms.fill([leadingJet, subleadingJet])\n",
    "\n",
    "endTime = time.time()\n",
    "\n",
    "print \"This took\", endTime - startTime, \"seconds.\""
   ]
  },
  {
   "cell_type": "code",
   "execution_count": 33,
   "metadata": {
    "collapsed": false
   },
   "outputs": [
    {
     "data": {
      "image/png": "[encoded data removed]",
      "text/plain": [
       "<IPython.core.display.Image object>"
      ]
     },
     "metadata": {},
     "output_type": "display_data"
    }
   ],
   "source": [
    "dijetMass_hist = histograms.get(\"dijetMass\").plot.root(\"dijetMass_hist\", \"dijet mass [GeV]\")\n",
    "dijetEtBalance_hist = histograms.get(\"dijetEtBalance\").plot.root(\"dijetEtBalance_hist\", \"dijet ET balance\")\n",
    "cosThetaStar_hist = histograms.get(\"cosThetaStar\").plot.root(\"cosThetaStar_hist\", \"cos(theta*)\")\n",
    "\n",
    "tcanvas.Clear()\n",
    "tcanvas.Divide(3, 1)\n",
    "\n",
    "tcanvas.cd(1); dijetMass_hist.Draw()\n",
    "tcanvas.cd(2); dijetEtBalance_hist.Draw()\n",
    "tcanvas.cd(3); cosThetaStar_hist.Draw()\n",
    "tcanvas.Draw()"
   ]
  },
  {
   "cell_type": "code",
   "execution_count": null,
   "metadata": {
    "collapsed": true
   },
   "outputs": [],
   "source": []
  }
 ],
 "metadata": {
  "kernelspec": {
   "display_name": "Python 2",
   "language": "python",
   "name": "python2"
  },
  "language_info": {
   "codemirror_mode": {
    "name": "ipython",
    "version": 2
   },
   "file_extension": ".py",
   "mimetype": "text/x-python",
   "name": "python",
   "nbconvert_exporter": "python",
   "pygments_lexer": "ipython2",
   "version": "2.7.11"
  }
 },
 "nbformat": 4,
 "nbformat_minor": 1
}
