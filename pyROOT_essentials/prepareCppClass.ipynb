{
 "cells": [
  {
   "cell_type": "markdown",
   "metadata": {},
   "source": [
    "Since we're doing a dijet analysis, we'll want to use TLorentzVectors to do things like computing the invariant mass of a two-jet system. But TLorentzVectors are notoriously slow in pyROOT. Even if this weren't the case, looping over big trees is really something you should never do in pyROOT. But pretty much everything besides those CPU-intensive tasks is better in pyROOT :-P\n",
    "\n",
    "Please take a look at the minimal changes made to `hatsTrees.C` and `hatsTrees.h` that you can find in the `sample_code` directory. A good philosophy with using `TTree.MakeClass()` is to change as little as possible. Please read the below diff -- it contains useful tips on e.g. setting up the class to take arguments. Without the comments, there are about 30 lines of code added, but they're sufficient for all the heavy lifting in the calculation of complicated physical variables."
   ]
  },
  {
   "cell_type": "code",
   "execution_count": 8,
   "metadata": {
    "collapsed": false
   },
   "outputs": [
    {
     "name": "stdout",
     "output_type": "stream",
     "text": [
      "#define hatsTrees_cxx\t\t\t\t\t\t#define hatsTrees_cxx\r\n",
      "#include \"hatsTrees.h\"\t\t\t\t\t\t#include \"hatsTrees.h\"\r\n",
      "#include <TH2.h>\t\t\t\t\t      |\t#include <TFile.h>\r\n",
      "#include <TStyle.h>\t\t\t\t\t      |\t#include <TTree.h>\r\n",
      "#include <TCanvas.h>\t\t\t\t\t      |\t#include <TLorentzVector.h>\r\n",
      "\t\t\t\t\t\t\t      >\t#include <iostream>\r\n",
      "\r\n",
      "void hatsTrees::Loop()\t\t\t\t\t      |\t/**     HATS comment\r\n",
      "\t\t\t\t\t\t\t      >\t * First we modify the Loop() method such that we can pass it\r\n",
      "\t\t\t\t\t\t\t      >\t * Also note that above, we added the includes want for basic\r\n",
      "\t\t\t\t\t\t\t      >\t * including TLorentzVectors, which are very slow in pyROOT\r\n",
      "\t\t\t\t\t\t\t      >\t */\r\n",
      "\t\t\t\t\t\t\t      >\r\n",
      "\t\t\t\t\t\t\t      >\tvoid hatsTrees::Loop(std::string outFileName)\r\n",
      "{\t\t\t\t\t\t\t\t{\r\n",
      "//   In a ROOT session, you can do:\t\t\t\t//   In a ROOT session, you can do:\r\n",
      "//      root> .L hatsTrees.C\t\t\t\t\t//      root> .L hatsTrees.C\r\n",
      "//      root> hatsTrees t\t\t\t\t\t//      root> hatsTrees t\r\n",
      "//      root> t.GetEntry(12); // Fill t data members with ent\t//      root> t.GetEntry(12); // Fill t data members with ent\r\n",
      "//      root> t.Show();       // Show values of entry 12\t//      root> t.Show();       // Show values of entry 12\r\n",
      "//      root> t.Show(16);     // Read and show values of entr\t//      root> t.Show(16);     // Read and show values of entr\r\n",
      "//      root> t.Loop();       // Loop on all entries\t\t//      root> t.Loop();       // Loop on all entries\r\n",
      "//\t\t\t\t\t\t\t\t//\r\n",
      "\r\n",
      "//     This is the loop skeleton where:\t\t\t\t//     This is the loop skeleton where:\r\n",
      "//    jentry is the global entry number in the chain\t\t//    jentry is the global entry number in the chain\r\n",
      "//    ientry is the entry number in the current Tree\t\t//    ientry is the entry number in the current Tree\r\n",
      "//  Note that the argument to GetEntry must be:\t\t\t//  Note that the argument to GetEntry must be:\r\n",
      "//    jentry for TChain::GetEntry\t\t\t\t//    jentry for TChain::GetEntry\r\n",
      "//    ientry for TTree::GetEntry and TBranch::GetEntry\t\t//    ientry for TTree::GetEntry and TBranch::GetEntry\r\n",
      "//\t\t\t\t\t\t\t\t//\r\n",
      "//       To read only selected branches, Insert statements li\t//       To read only selected branches, Insert statements li\r\n",
      "\t\t\t\t\t\t\t      >\r\n",
      "\t\t\t\t\t\t\t      >\t/**     HATS comment\r\n",
      "\t\t\t\t\t\t\t      >\t *   For the HATS, we will use Method 1\r\n",
      "\t\t\t\t\t\t\t      >\t *   We'll activate only the branches we need to get (AK4) di\r\n",
      "\t\t\t\t\t\t\t      >\t *   and other interesting variables.\r\n",
      "\t\t\t\t\t\t\t      >\t */\r\n",
      "\t\t\t\t\t\t\t      >\r\n",
      "// METHOD1:\t\t\t\t\t\t\t// METHOD1:\r\n",
      "//    fChain->SetBranchStatus(\"*\",0);  // disable all branche |\t    fChain->SetBranchStatus(\"*\",0);  // disable all branches\r\n",
      "//    fChain->SetBranchStatus(\"branchname\",1);  // activate b |\t    //fChain->SetBranchStatus(\"branchname\"           , 1 );  \r\n",
      "\t\t\t\t\t\t\t      >\t    //\r\n",
      "\t\t\t\t\t\t\t      >\t    fChain->SetBranchStatus(\"jetAK4_pt\"            , 1 );  \r\n",
      "\t\t\t\t\t\t\t      >\t    fChain->SetBranchStatus(\"jetAK4_eta\"           , 1 );  \r\n",
      "\t\t\t\t\t\t\t      >\t    fChain->SetBranchStatus(\"jetAK4_mass\"          , 1 );  \r\n",
      "\t\t\t\t\t\t\t      >\t    fChain->SetBranchStatus(\"jetAK4_phi\"           , 1 );  \r\n",
      "\t\t\t\t\t\t\t      >\t    fChain->SetBranchStatus(\"jetAK4_e\"             , 1 );  \r\n",
      "\t\t\t\t\t\t\t      >\t    fChain->SetBranchStatus(\"jetAK4_jec\"           , 1 );  \r\n",
      "\t\t\t\t\t\t\t      >\t    fChain->SetBranchStatus(\"jetAK4_IDLoose\"       , 1 );  \r\n",
      "\t\t\t\t\t\t\t      >\t    \r\n",
      "// METHOD2: replace line\t\t\t\t\t// METHOD2: replace line\r\n",
      "//    fChain->GetEntry(jentry);       //read all branches\t//    fChain->GetEntry(jentry);       //read all branches\r\n",
      "//by  b_branchname->GetEntry(ientry); //read only this branch\t//by  b_branchname->GetEntry(ientry); //read only this branch\r\n",
      "   if (fChain == 0) return;\t\t\t\t\t   if (fChain == 0) return;\r\n",
      "\r\n",
      "   Long64_t nentries = fChain->GetEntriesFast();\t\t   Long64_t nentries = fChain->GetEntriesFast();\r\n",
      "\r\n",
      "   Long64_t nbytes = 0, nb = 0;\t\t\t\t\t   Long64_t nbytes = 0, nb = 0;\r\n",
      "\t\t\t\t\t\t\t      >\r\n",
      "\t\t\t\t\t\t\t      >\r\n",
      "\t\t\t\t\t\t\t      >\t   /**     HATS comment\r\n",
      "\t\t\t\t\t\t\t      >\t    * First we'll make an output file and output tree\r\n",
      "\t\t\t\t\t\t\t      >\t    * and define the histograms we want\r\n",
      "\t\t\t\t\t\t\t      >\t    */ \r\n",
      "\t\t\t\t\t\t\t      >\t   TFile* hatsDijetsFile  = new TFile(outFileName.c_str(), \"R\r\n",
      "\t\t\t\t\t\t\t      >\t   TTree* hatsDijetsTree  = new TTree(\"hatsDijets\", \"hatsDije\r\n",
      "\t\t\t\t\t\t\t      >\r\n",
      "\t\t\t\t\t\t\t      >\t   /**     HATS comment\r\n",
      "\t\t\t\t\t\t\t      >\t    * First we'll make an output file and output tree\r\n",
      "\t\t\t\t\t\t\t      >\t    * We will initialize our TLorentzVectors outside the loop\r\n",
      "\t\t\t\t\t\t\t      >\t    */ \r\n",
      "\t\t\t\t\t\t\t      >\t   TLorentzVector leadingJet      =  TLorentzVector()  ;\r\n",
      "\t\t\t\t\t\t\t      >\t   TLorentzVector subleadingJet   =  TLorentzVector()  ;\r\n",
      "\t\t\t\t\t\t\t      >\t   TLorentzVector boostedLeading  =  TLorentzVector()  ;\r\n",
      "\t\t\t\t\t\t\t      >\t   TLorentzVector dijet           =  TLorentzVector()  ;\r\n",
      "\t\t\t\t\t\t\t      >\r\n",
      "\t\t\t\t\t\t\t      >\t   /**     HATS comment\r\n",
      "\t\t\t\t\t\t\t      >\t    * Now we can define the variables we want to compute and \r\n",
      "\t\t\t\t\t\t\t      >\t    */ \r\n",
      "\t\t\t\t\t\t\t      >\t   float leadingEta      =  -100 ;\r\n",
      "\t\t\t\t\t\t\t      >\t   float subleadingEta   =  -100 ;\r\n",
      "\t\t\t\t\t\t\t      >\t   float cosThetaStar    =  -100 ;\r\n",
      "\t\t\t\t\t\t\t      >\t   float dijetEtBalance  =  -100 ;\r\n",
      "\t\t\t\t\t\t\t      >\t   float dijetMass       =  -100 ;\r\n",
      "\t\t\t\t\t\t\t      >\r\n",
      "\t\t\t\t\t\t\t      >\t   /**     HATS comment\r\n",
      "\t\t\t\t\t\t\t      >\t    * Now we can define the variables we want to compute and \r\n",
      "\t\t\t\t\t\t\t      >\t    */ \r\n",
      "\t\t\t\t\t\t\t      >\t   hatsDijetsTree->Branch(\"leadingEta\"     ,   &leadingEta   \r\n",
      "\t\t\t\t\t\t\t      >\t   hatsDijetsTree->Branch(\"subleadingEta\"  ,   &subleadingEta\r\n",
      "\t\t\t\t\t\t\t      >\t   hatsDijetsTree->Branch(\"cosThetaStar\"   ,   &cosThetaStar \r\n",
      "\t\t\t\t\t\t\t      >\t   hatsDijetsTree->Branch(\"dijetEtBalance\" ,   &dijetEtBalanc\r\n",
      "\t\t\t\t\t\t\t      >\t   hatsDijetsTree->Branch(\"dijetMass\"      ,   &dijetMass    \r\n",
      "\t\t\t\t\t\t\t      >\t   \r\n",
      "   for (Long64_t jentry=0; jentry<nentries;jentry++) {\t\t   for (Long64_t jentry=0; jentry<nentries;jentry++) {\r\n",
      "      Long64_t ientry = LoadTree(jentry);\t\t\t      Long64_t ientry = LoadTree(jentry);\r\n",
      "      if (ientry < 0) break;\t\t\t\t\t      if (ientry < 0) break;\r\n",
      "      nb = fChain->GetEntry(jentry);   nbytes += nb;\t\t      nb = fChain->GetEntry(jentry);   nbytes += nb;\r\n",
      "\t\t\t\t\t\t\t      >\r\n",
      "\t\t\t\t\t\t\t      >\t      /**    HATS comment\r\n",
      "\t\t\t\t\t\t\t      >\t       * It just so happens that the jets are ordered by pT\r\n",
      "\t\t\t\t\t\t\t      >\t       * so we can get the leading and subleading jets easily\r\n",
      "\t\t\t\t\t\t\t      >\t       */\r\n",
      "\t\t\t\t\t\t\t      >\t      leadingJet.SetPtEtaPhiE(jetAK4_pt->at(0), jetAK4_eta->a\r\n",
      "\t\t\t\t\t\t\t      >\t      subleadingJet.SetPtEtaPhiE(jetAK4_pt->at(1), jetAK4_eta\r\n",
      "\t\t\t\t\t\t\t      >\t      \r\n",
      "\t\t\t\t\t\t\t      >\t      leadingEta = leadingJet.Eta();\r\n",
      "\t\t\t\t\t\t\t      >\t      subleadingEta = subleadingJet.Eta();\r\n",
      "\t\t\t\t\t\t\t      >\t      /**    HATS comment\r\n",
      "\t\t\t\t\t\t\t      >\t       * Now we can calculate some interesting things\r\n",
      "\t\t\t\t\t\t\t      >\t       */\r\n",
      "\t\t\t\t\t\t\t      >\t      dijet = leadingJet + subleadingJet;\r\n",
      "\t\t\t\t\t\t\t      >\t      dijetMass = dijet.M();\r\n",
      "\t\t\t\t\t\t\t      >\t      dijetEtBalance = subleadingJet.Et() / leadingJet.Et();\r\n",
      "\t\t\t\t\t\t\t      >\t      boostedLeading.SetPtEtaPhiE(jetAK4_pt->at(0), jetAK4_et\r\n",
      "\t\t\t\t\t\t\t      >\t      boostedLeading.Boost(-(dijet.BoostVector()));\r\n",
      "\t\t\t\t\t\t\t      >\t      cosThetaStar = boostedLeading.Pz()/boostedLeading.P();\r\n",
      "\t\t\t\t\t\t\t      >\t        \r\n",
      "\t\t\t\t\t\t\t      >\t      /**  HATS comment\r\n",
      "\t\t\t\t\t\t\t      >\t       * And we fill out tree \r\n",
      "\t\t\t\t\t\t\t      >\t       */\r\n",
      "\t\t\t\t\t\t\t      >\t      hatsDijetsTree->Fill();\r\n",
      "\t\t\t\t\t\t\t      >\r\n",
      "      // if (Cut(ientry) < 0) continue;\t\t\t\t      // if (Cut(ientry) < 0) continue;\r\n",
      "   }\t\t\t\t\t\t\t\t   }\r\n",
      "\t\t\t\t\t\t\t      >\t   hatsDijetsFile->cd();\r\n",
      "\t\t\t\t\t\t\t      >\t   hatsDijetsTree->Write();\r\n",
      "\t\t\t\t\t\t\t      >\t   hatsDijetsFile->Close();\r\n",
      "}\t\t\t\t\t\t\t\t}\r\n"
     ]
    }
   ],
   "source": [
    "!diff --side-by-side hatsTrees.C sample_code/hatsTrees.C"
   ]
  },
  {
   "cell_type": "code",
   "execution_count": 7,
   "metadata": {
    "collapsed": false,
    "scrolled": true
   },
   "outputs": [
    {
     "name": "stdout",
     "output_type": "stream",
     "text": [
      "414c414,417\r\n",
      "<    virtual void     Loop();\r\n",
      "---\r\n",
      ">    /**    HATS comment\r\n",
      ">     * We have to modify the Loop() method declaration here too  \r\n",
      ">     */\r\n",
      ">    virtual void     Loop(std::string outFileName);\r\n"
     ]
    }
   ],
   "source": [
    "!diff hatsTrees.h sample_code/hatsTrees.h"
   ]
  },
  {
   "cell_type": "markdown",
   "metadata": {},
   "source": [
    "Now that we've prepared our C++ class to do the heavy lifting, we will create a python-environment script where we can load it and use it to process our big datasets, while leveraging python to do the things that are annoying in C++. We'll design it to be suitable for use in batch submissions. Please follow along by looking at sample_code/runHatsTrees.py \n",
    "> Now let's go through runHatsTrees.py"
   ]
  },
  {
   "cell_type": "markdown",
   "metadata": {},
   "source": [
    "Note that runHatsTrees.py has an OptionParser defined. OptionParser is a commonly used bit of python that will automatically generate a help message for someone trying to use the script. Let's see what it says:"
   ]
  },
  {
   "cell_type": "code",
   "execution_count": 7,
   "metadata": {
    "collapsed": false
   },
   "outputs": [
    {
     "name": "stdout",
     "output_type": "stream",
     "text": [
      "Usage: runHatsTrees.py [options] arg\r\n",
      "\r\n",
      "This script takes as input a directory of input .root files, and runs the hatsTrees.C macro on them.\r\n",
      "\r\n",
      "Options:\r\n",
      "  -h, --help            show this help message and exit\r\n",
      "  -l, --load            do not recompile the class, instead load it from a\r\n",
      "                        compiled library\r\n",
      "  -i INDIR, --inDir=INDIR\r\n",
      "                        the input directory of root files\r\n",
      "  -t INTREENAME, --inTreeName=INTREENAME\r\n",
      "                        the name of the input tree inside the input file\r\n",
      "  -o OUTFILENAME, --outFileName=OUTFILENAME\r\n",
      "                        the output root file name. It will be located within\r\n",
      "                        the 'output' directory\r\n"
     ]
    }
   ],
   "source": [
    "!python sample_code/runHatsTrees.py --help"
   ]
  },
  {
   "cell_type": "markdown",
   "metadata": {},
   "source": [
    "Let's try running it according to the help message"
   ]
  },
  {
   "cell_type": "code",
   "execution_count": 15,
   "metadata": {
    "collapsed": false
   },
   "outputs": [],
   "source": [
    "!python sample_code/runHatsTrees.py -i /eos/uscms/store/user/hats/PyRoot/2017/qcd_samples/QCD_HT700to1000_0_0/ -o hatsTrees_QCD_HT700to1000_0_0.root -t \"ntuplizer/tree\""
   ]
  },
  {
   "cell_type": "code",
   "execution_count": 16,
   "metadata": {
    "collapsed": false
   },
   "outputs": [
    {
     "name": "stdout",
     "output_type": "stream",
     "text": [
      "hatsTrees_QCD_HT700to1000_0_0.root\r\n"
     ]
    }
   ],
   "source": [
    "!ls output"
   ]
  },
  {
   "cell_type": "markdown",
   "metadata": {},
   "source": [
    "How much data did we just process?"
   ]
  },
  {
   "cell_type": "code",
   "execution_count": 17,
   "metadata": {
    "collapsed": false
   },
   "outputs": [
    {
     "name": "stdout",
     "output_type": "stream",
     "text": [
      "4.1G\t/eos/uscms/store/user/hats/PyRoot/2017/qcd_samples/QCD_HT700to1000_0_0/\r\n"
     ]
    }
   ],
   "source": [
    "!du -h --max-depth=2 /eos/uscms/store/user/hats/PyRoot/2017/qcd_samples/QCD_HT700to1000_0_0/"
   ]
  },
  {
   "cell_type": "markdown",
   "metadata": {},
   "source": [
    "Let's make sure that our output looks reasonable."
   ]
  },
  {
   "cell_type": "code",
   "execution_count": 25,
   "metadata": {
    "collapsed": false
   },
   "outputs": [
    {
     "name": "stdout",
     "output_type": "stream",
     "text": [
      "TFile**\t\toutput/hatsTrees_QCD_HT700to1000_0_0.root\t\n",
      " TFile*\t\toutput/hatsTrees_QCD_HT700to1000_0_0.root\t\n",
      "  KEY: TTree\thatsDijets;1\thatsDijets\n"
     ]
    }
   ],
   "source": [
    "import ROOT as r\n",
    "firstHatsFile = r.TFile(\"output/hatsTrees_QCD_HT700to1000_0_0.root\")\n",
    "firstHatsFile.ls()"
   ]
  },
  {
   "cell_type": "code",
   "execution_count": 28,
   "metadata": {
    "collapsed": false
   },
   "outputs": [
    {
     "name": "stdout",
     "output_type": "stream",
     "text": [
      "******************************************************************************\n",
      "*Tree    :hatsDijets: hatsDijets                                             *\n",
      "*Entries :  1492382 : Total =        29947936 bytes  File  Size =   26947171 *\n",
      "*        :          : Tree compression factor =   1.11                       *\n",
      "******************************************************************************\n",
      "*Br    0 :leadingEta : leadingEta/F                                          *\n",
      "*Entries :  1492382 : Total  Size=    5989206 bytes  File Size  =    5542541 *\n",
      "*Baskets :      188 : Basket Size=      32000 bytes  Compression=   1.08     *\n",
      "*............................................................................*\n",
      "*Br    1 :subleadingEta : subleadingEta/F                                    *\n",
      "*Entries :  1492382 : Total  Size=    5989782 bytes  File Size  =    5546439 *\n",
      "*Baskets :      188 : Basket Size=      32000 bytes  Compression=   1.08     *\n",
      "*............................................................................*\n",
      "*Br    2 :cosThetaStar : cosThetaStar/F                                      *\n",
      "*Entries :  1492382 : Total  Size=    5989590 bytes  File Size  =    5510643 *\n",
      "*Baskets :      188 : Basket Size=      32000 bytes  Compression=   1.09     *\n",
      "*............................................................................*\n",
      "*Br    3 :dijetEtBalance : dijetEtBalance/F                                  *\n",
      "*Entries :  1492382 : Total  Size=    5989974 bytes  File Size  =    5127444 *\n",
      "*Baskets :      188 : Basket Size=      32000 bytes  Compression=   1.17     *\n",
      "*............................................................................*\n",
      "*Br    4 :dijetMass : dijetMass/F                                            *\n",
      "*Entries :  1492382 : Total  Size=    5989014 bytes  File Size  =    5211847 *\n",
      "*Baskets :      188 : Basket Size=      32000 bytes  Compression=   1.15     *\n",
      "*............................................................................*\n"
     ]
    }
   ],
   "source": [
    "firstHatsTree = firstHatsFile.Get(\"hatsDijets\")\n",
    "firstHatsTree.Print()"
   ]
  },
  {
   "cell_type": "code",
   "execution_count": 33,
   "metadata": {
    "collapsed": false
   },
   "outputs": [
    {
     "data": {
      "image/png": "[encoded data removed]",
      "text/plain": [
       "<IPython.core.display.Image object>"
      ]
     },
     "metadata": {},
     "output_type": "display_data"
    }
   ],
   "source": [
    "can = r.TCanvas()\n",
    "can.SetLogy()\n",
    "firstHatsTree.Draw(\"dijetMass\")\n",
    "can.Draw()"
   ]
  },
  {
   "cell_type": "markdown",
   "metadata": {},
   "source": [
    "Now that we've seen that our python script works running over one of our input files, we're ready to do a batch submission to process all of our ntuples. However, during this HATS session, we won't actually submit the jobs. They have been made already and you can find them here:"
   ]
  },
  {
   "cell_type": "code",
   "execution_count": 34,
   "metadata": {
    "collapsed": false
   },
   "outputs": [
    {
     "name": "stdout",
     "output_type": "stream",
     "text": [
      "hatsTrees_QCD_HT1000to1500  hatsTrees_QCD_HT200to300  hatsTrees_QCD_HT700to1000\r\n",
      "hatsTrees_QCD_HT1500to2000  hatsTrees_QCD_HT300to500  hatsTrees_data\r\n",
      "hatsTrees_QCD_HT2000toInf   hatsTrees_QCD_HT500to700  hatsTrees_sig\r\n"
     ]
    }
   ],
   "source": [
    "!ls /eos/uscms/store/user/hats/PyRoot/2017/hatsDijetTrees/"
   ]
  },
  {
   "cell_type": "markdown",
   "metadata": {},
   "source": [
    "If you are interested in using a python script of this sort in batch submission, please see `sample_code/condorSubmission` for an example."
   ]
  },
  {
   "cell_type": "markdown",
   "metadata": {
    "collapsed": true
   },
   "source": [
    "Please continue on in `backgroundHists.ipynb`."
   ]
  }
 ],
 "metadata": {
  "kernelspec": {
   "display_name": "Python 2",
   "language": "python",
   "name": "python2"
  },
  "language_info": {
   "codemirror_mode": {
    "name": "ipython",
    "version": 2
   },
   "file_extension": ".py",
   "mimetype": "text/x-python",
   "name": "python",
   "nbconvert_exporter": "python",
   "pygments_lexer": "ipython2",
   "version": "2.7.11"
  }
 },
 "nbformat": 4,
 "nbformat_minor": 2
}
