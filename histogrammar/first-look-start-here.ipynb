{
 "cells": [
  {
   "cell_type": "code",
   "execution_count": 1,
   "metadata": {
    "collapsed": false
   },
   "outputs": [
    {
     "data": {
      "application/javascript": [
       "\n",
       "require(['notebook'],\n",
       "  function() {\n",
       "    IPython.CodeCell.config_defaults.highlight_modes['magic_text/x-c++src'] = {'reg':[/^%%cpp/]};\n",
       "    console.log(\"JupyROOT - %%cpp magic configured\");\n",
       "  }\n",
       ");\n"
      ]
     },
     "metadata": {},
     "output_type": "display_data"
    },
    {
     "name": "stdout",
     "output_type": "stream",
     "text": [
      "Welcome to JupyROOT 6.08/05\n"
     ]
    }
   ],
   "source": [
    "import time\n",
    "\n",
    "# Your choice of plotting front-end.\n",
    "%matplotlib inline\n",
    "\n",
    "import ROOT\n",
    "tcanvas = ROOT.TCanvas(\"TCanvasName\", \"TCanvasTitle\", 800, 300)"
   ]
  },
  {
   "cell_type": "code",
   "execution_count": 2,
   "metadata": {
    "collapsed": false
   },
   "outputs": [
    {
     "data": {
      "text/plain": [
       "[<ROOT.TBranch object (\"ph_N\") at 0x762b670>,\n",
       " <ROOT.TBranchElement object (\"ph_pdgId\") at 0x7635c30>,\n",
       " <ROOT.TBranchElement object (\"ph_charge\") at 0x763e240>,\n",
       " <ROOT.TBranchElement object (\"ph_e\") at 0x763e950>,\n",
       " <ROOT.TBranchElement object (\"ph_eta\") at 0x763f060>,\n",
       " <ROOT.TBranchElement object (\"ph_phi\") at 0x763f770>,\n",
       " <ROOT.TBranchElement object (\"ph_mass\") at 0x763fe80>,\n",
       " <ROOT.TBranchElement object (\"ph_pt\") at 0x7640590>,\n",
       " <ROOT.TBranchElement object (\"ph_et\") at 0x7640ca0>,\n",
       " <ROOT.TBranchElement object (\"ph_rho\") at 0x76413b0>,\n",
       " <ROOT.TBranchElement object (\"ph_superCluster_eta\") at 0x7641ac0>,\n",
       " <ROOT.TBranchElement object (\"ph_superCluster_phi\") at 0x7642260>,\n",
       " <ROOT.TBranchElement object (\"ph_sigmaIetaIeta\") at 0x7642a30>,\n",
       " <ROOT.TBranchElement object (\"ph_hOverE\") at 0x7643200>,\n",
       " <ROOT.TBranchElement object (\"ph_isoGamma\") at 0x7643910>,\n",
       " <ROOT.TBranchElement object (\"ph_isoCh\") at 0x7644020>,\n",
       " <ROOT.TBranchElement object (\"ph_passEleVeto\") at 0x7644730>,\n",
       " <ROOT.TBranchElement object (\"ph_passLooseId\") at 0x7644db0>,\n",
       " <ROOT.TBranchElement object (\"ph_passMediumId\") at 0x7645520>,\n",
       " <ROOT.TBranchElement object (\"ph_passTightId\") at 0x7645c50>,\n",
       " <ROOT.TBranchElement object (\"ph_mvaVal\") at 0x7646360>,\n",
       " <ROOT.TBranchElement object (\"ph_mvaCat\") at 0x7646a70>,\n",
       " <ROOT.TBranch object (\"rho\") at 0x7647180>,\n",
       " <ROOT.TBranch object (\"jetAK4_N\") at 0x7649000>,\n",
       " <ROOT.TBranchElement object (\"jetAK4_pt\") at 0x7649540>,\n",
       " <ROOT.TBranchElement object (\"jetAK4_eta\") at 0x7649d30>,\n",
       " <ROOT.TBranchElement object (\"jetAK4_mass\") at 0x764a520>,\n",
       " <ROOT.TBranchElement object (\"jetAK4_phi\") at 0x764ad10>,\n",
       " <ROOT.TBranchElement object (\"jetAK4_e\") at 0x764b500>,\n",
       " <ROOT.TBranchElement object (\"jetAK4_jec\") at 0x764bcf0>,\n",
       " <ROOT.TBranchElement object (\"jetAK4_jecUp\") at 0x764c4e0>,\n",
       " <ROOT.TBranchElement object (\"jetAK4_jecDown\") at 0x764ccd0>,\n",
       " <ROOT.TBranchElement object (\"jetAK4_IDLoose\") at 0x764d4c0>,\n",
       " <ROOT.TBranchElement object (\"jetAK4_IDTight\") at 0x764dc30>,\n",
       " <ROOT.TBranchElement object (\"jetAK4_IDTightLepVeto\") at 0x764e340>,\n",
       " <ROOT.TBranchElement object (\"jetAK4_charge\") at 0x764eb10>,\n",
       " <ROOT.TBranchElement object (\"jetAK4_csv\") at 0x764f2a0>,\n",
       " <ROOT.TBranchElement object (\"jetAK4_vtxMass\") at 0x764fa90>,\n",
       " <ROOT.TBranchElement object (\"jetAK4_vtxNtracks\") at 0x7650280>,\n",
       " <ROOT.TBranchElement object (\"jetAK4_vtx3DVal\") at 0x7650b30>,\n",
       " <ROOT.TBranchElement object (\"jetAK4_vtx3DSig\") at 0x76513a0>,\n",
       " <ROOT.TBranchElement object (\"jetAK4_partonFlavour\") at 0x7651c10>,\n",
       " <ROOT.TBranchElement object (\"jetAK4_hadronFlavour\") at 0x76524c0>,\n",
       " <ROOT.TBranchElement object (\"jetAK4_genParton_pdgID\") at 0x7652d70>,\n",
       " <ROOT.TBranchElement object (\"jetAK4_nbHadrons\") at 0x7653620>,\n",
       " <ROOT.TBranchElement object (\"jetAK4_ncHadrons\") at 0x7653ed0>,\n",
       " <ROOT.TBranchElement object (\"jetAK4_jer_sf\") at 0x7654780>,\n",
       " <ROOT.TBranchElement object (\"jetAK4_jer_sf_up\") at 0x7654f70>,\n",
       " <ROOT.TBranchElement object (\"jetAK4_jer_sf_down\") at 0x7655820>,\n",
       " <ROOT.TBranchElement object (\"jetAK4_jer_sigma_pt\") at 0x76560d0>,\n",
       " <ROOT.TBranch object (\"jetAK8_N\") at 0x7656980>,\n",
       " <ROOT.TBranchElement object (\"jetAK8_pt\") at 0x7656ec0>,\n",
       " <ROOT.TBranchElement object (\"jetAK8_eta\") at 0x7657620>,\n",
       " <ROOT.TBranchElement object (\"jetAK8_mass\") at 0x7657d70>,\n",
       " <ROOT.TBranchElement object (\"jetAK8_phi\") at 0x76584c0>,\n",
       " <ROOT.TBranchElement object (\"jetAK8_e\") at 0x7658c10>,\n",
       " <ROOT.TBranchElement object (\"jetAK8_jec\") at 0x7659360>,\n",
       " <ROOT.TBranchElement object (\"jetAK8_jecUp\") at 0x7659ab0>,\n",
       " <ROOT.TBranchElement object (\"jetAK8_jecDown\") at 0x765a200>,\n",
       " <ROOT.TBranchElement object (\"jetAK8_IDLoose\") at 0x765a950>,\n",
       " <ROOT.TBranchElement object (\"jetAK8_IDTight\") at 0x765b060>,\n",
       " <ROOT.TBranchElement object (\"jetAK8_IDTightLepVeto\") at 0x765b770>,\n",
       " <ROOT.TBranchElement object (\"jetAK8_charge\") at 0x765bf40>,\n",
       " <ROOT.TBranchElement object (\"jetAK8_partonFlavour\") at 0x765c690>,\n",
       " <ROOT.TBranchElement object (\"jetAK8_hadronFlavour\") at 0x765cea0>,\n",
       " <ROOT.TBranchElement object (\"jetAK8_genParton_pdgID\") at 0x765d6b0>,\n",
       " <ROOT.TBranchElement object (\"jetAK8_nbHadrons\") at 0x765dec0>,\n",
       " <ROOT.TBranchElement object (\"jetAK8_ncHadrons\") at 0x765e6d0>,\n",
       " <ROOT.TBranchElement object (\"jetAK8_jer_sf\") at 0x765eee0>,\n",
       " <ROOT.TBranchElement object (\"jetAK8_jer_sf_up\") at 0x765f630>,\n",
       " <ROOT.TBranchElement object (\"jetAK8_jer_sf_down\") at 0x765fe40>,\n",
       " <ROOT.TBranchElement object (\"jetAK8_jer_sigma_pt\") at 0x7660650>,\n",
       " <ROOT.TBranchElement object (\"jetAK8Puppi_jer_sf\") at 0x7660e60>,\n",
       " <ROOT.TBranchElement object (\"jetAK8Puppi_jer_sf_up\") at 0x7661670>,\n",
       " <ROOT.TBranchElement object (\"jetAK8Puppi_jer_sf_down\") at 0x7661e80>,\n",
       " <ROOT.TBranchElement object (\"jetAK8Puppi_jer_sigma_pt\") at 0x7662690>,\n",
       " <ROOT.TBranchElement object (\"jetAK8_Hbbtag\") at 0x7662ea0>,\n",
       " <ROOT.TBranchElement object (\"jetAK8_csv\") at 0x76635f0>,\n",
       " <ROOT.TBranchElement object (\"jetAK8_tau1\") at 0x7663d40>,\n",
       " <ROOT.TBranchElement object (\"jetAK8_tau2\") at 0x7664490>,\n",
       " <ROOT.TBranchElement object (\"jetAK8_tau3\") at 0x7664be0>,\n",
       " <ROOT.TBranchElement object (\"jetAK8_pruned_mass\") at 0x7665330>,\n",
       " <ROOT.TBranchElement object (\"jetAK8_pruned_massCorr\") at 0x7665b40>,\n",
       " <ROOT.TBranchElement object (\"jetAK8_pruned_jec\") at 0x7666350>,\n",
       " <ROOT.TBranchElement object (\"jetAK8_pruned_jecUp\") at 0x7666b60>,\n",
       " <ROOT.TBranchElement object (\"jetAK8_pruned_jecDown\") at 0x7667370>,\n",
       " <ROOT.TBranchElement object (\"jetAK8_softdrop_mass\") at 0x7667b80>,\n",
       " <ROOT.TBranchElement object (\"jetAK8_softdrop_massCorr\") at 0x7668390>,\n",
       " <ROOT.TBranchElement object (\"jetAK8_softdrop_jec\") at 0x7668ba0>,\n",
       " <ROOT.TBranchElement object (\"jetAK8_softdrop_jecUp\") at 0x76693b0>,\n",
       " <ROOT.TBranchElement object (\"jetAK8_softdrop_jecDown\") at 0x7669c00>,\n",
       " <ROOT.TBranchElement object (\"jetAK8_subjet_softdrop_N\") at 0x766a4b0>,\n",
       " <ROOT.TBranchElement object (\"jetAK8_subjet_softdrop_pt\") at 0x766ad20>,\n",
       " <ROOT.TBranchElement object (\"jetAK8_subjet_softdrop_eta\") at 0x766b6d0>,\n",
       " <ROOT.TBranchElement object (\"jetAK8_subjet_softdrop_mass\") at 0x766c080>,\n",
       " <ROOT.TBranchElement object (\"jetAK8_subjet_softdrop_phi\") at 0x766ca30>,\n",
       " <ROOT.TBranchElement object (\"jetAK8_subjet_softdrop_e\") at 0x766d3e0>,\n",
       " <ROOT.TBranchElement object (\"jetAK8_subjet_softdrop_charge\") at 0x766dd90>,\n",
       " <ROOT.TBranchElement object (\"jetAK8_subjet_softdrop_genParton_pdgID\") at 0x766e740>,\n",
       " <ROOT.TBranchElement object (\"jetAK8_subjet_softdrop_nbHadrons\") at 0x766f130>,\n",
       " <ROOT.TBranchElement object (\"jetAK8_subjet_softdrop_ncHadrons\") at 0x766fb20>,\n",
       " <ROOT.TBranchElement object (\"jetAK8_subjet_softdrop_partonFlavour\") at 0x7670510>,\n",
       " <ROOT.TBranchElement object (\"jetAK8_subjet_softdrop_hadronFlavour\") at 0x7670fe0>,\n",
       " <ROOT.TBranchElement object (\"jetAK8_subjet_softdrop_csv\") at 0x7671ab0>,\n",
       " <ROOT.TBranchElement object (\"jetAK8_puppi_pt\") at 0x7672460>,\n",
       " <ROOT.TBranchElement object (\"jetAK8_puppi_eta\") at 0x7672c30>,\n",
       " <ROOT.TBranchElement object (\"jetAK8_puppi_mass\") at 0x7673440>,\n",
       " <ROOT.TBranchElement object (\"jetAK8_puppi_phi\") at 0x7673c50>,\n",
       " <ROOT.TBranchElement object (\"jetAK8_puppi_e\") at 0x7674460>,\n",
       " <ROOT.TBranchElement object (\"jetAK8_puppi_pruned_mass\") at 0x7674bb0>,\n",
       " <ROOT.TBranchElement object (\"jetAK8_puppi_pruned_massCorr\") at 0x76752f0>,\n",
       " <ROOT.TBranchElement object (\"jetAK8_puppi_pruned_jec\") at 0x7675a90>,\n",
       " <ROOT.TBranchElement object (\"jetAK8_puppi_softdrop_mass\") at 0x7676230>,\n",
       " <ROOT.TBranchElement object (\"jetAK8_puppi_softdrop_massCorr\") at 0x7676aa0>,\n",
       " <ROOT.TBranchElement object (\"jetAK8_puppi_softdrop_jec\") at 0x76772b0>,\n",
       " <ROOT.TBranchElement object (\"jetAK8_puppi_tau1\") at 0x7677ac0>,\n",
       " <ROOT.TBranchElement object (\"jetAK8_puppi_tau2\") at 0x76782d0>,\n",
       " <ROOT.TBranchElement object (\"jetAK8_puppi_tau3\") at 0x7678ae0>,\n",
       " <ROOT.TBranchElement object (\"jetAK8_subjet_puppi_softdrop_N\") at 0x76792f0>,\n",
       " <ROOT.TBranchElement object (\"jetAK8_subjet_puppi_softdrop_pt\") at 0x7679a30>,\n",
       " <ROOT.TBranchElement object (\"jetAK8_subjet_puppi_softdrop_eta\") at 0x767a260>,\n",
       " <ROOT.TBranchElement object (\"jetAK8_subjet_puppi_softdrop_mass\") at 0x767aad0>,\n",
       " <ROOT.TBranchElement object (\"jetAK8_subjet_puppi_softdrop_phi\") at 0x767b340>,\n",
       " <ROOT.TBranchElement object (\"jetAK8_subjet_puppi_softdrop_e\") at 0x767bbb0>,\n",
       " <ROOT.TBranchElement object (\"jetAK8_subjet_puppi_softdrop_charge\") at 0x767c3e0>,\n",
       " <ROOT.TBranchElement object (\"jetAK8_subjet_puppi_softdrop_genParton_pdgID\") at 0x767cc50>,\n",
       " <ROOT.TBranchElement object (\"jetAK8_subjet_puppi_softdrop_nbHadrons\") at 0x767d4c0>,\n",
       " <ROOT.TBranchElement object (\"jetAK8_subjet_puppi_softdrop_ncHadrons\") at 0x767dd30>,\n",
       " <ROOT.TBranchElement object (\"jetAK8_subjet_puppi_softdrop_partonFlavour\") at 0x767e5a0>,\n",
       " <ROOT.TBranchElement object (\"jetAK8_subjet_puppi_softdrop_hadronFlavour\") at 0x767ee10>,\n",
       " <ROOT.TBranchElement object (\"jetAK8_subjet_puppi_softdrop_csv\") at 0x767f680>,\n",
       " <ROOT.TBranchElement object (\"jetAK8_subjet_pruned_N\") at 0x767fef0>,\n",
       " <ROOT.TBranchElement object (\"jetAK8_subjet_pruned_pt\") at 0x7680760>,\n",
       " <ROOT.TBranchElement object (\"jetAK8_subjet_pruned_eta\") at 0x7681110>,\n",
       " <ROOT.TBranchElement object (\"jetAK8_subjet_pruned_mass\") at 0x7681ac0>,\n",
       " <ROOT.TBranchElement object (\"jetAK8_subjet_pruned_phi\") at 0x7682470>,\n",
       " <ROOT.TBranchElement object (\"jetAK8_subjet_pruned_e\") at 0x7682e20>,\n",
       " <ROOT.TBranchElement object (\"jetAK8_subjet_pruned_charge\") at 0x76837d0>,\n",
       " <ROOT.TBranchElement object (\"jetAK8_subjet_pruned_genParton_pdgID\") at 0x7684180>,\n",
       " <ROOT.TBranchElement object (\"jetAK8_subjet_pruned_nbHadrons\") at 0x7684b70>,\n",
       " <ROOT.TBranchElement object (\"jetAK8_subjet_pruned_ncHadrons\") at 0x7685520>,\n",
       " <ROOT.TBranchElement object (\"jetAK8_subjet_pruned_partonFlavour\") at 0x7685ed0>,\n",
       " <ROOT.TBranchElement object (\"jetAK8_subjet_pruned_hadronFlavour\") at 0x76868c0>,\n",
       " <ROOT.TBranchElement object (\"jetAK8_subjet_pruned_csv\") at 0x76872b0>,\n",
       " <ROOT.TBranchElement object (\"HLT_isFired\") at 0x7687c60>,\n",
       " <ROOT.TBranch object (\"passFilter_HBHE\") at 0x768cf90>,\n",
       " <ROOT.TBranch object (\"passFilter_HBHELoose\") at 0x768efb0>,\n",
       " <ROOT.TBranch object (\"passFilter_HBHETight\") at 0x768f5b0>,\n",
       " <ROOT.TBranch object (\"passFilter_HBHEIso\") at 0x768fbb0>,\n",
       " <ROOT.TBranch object (\"passFilter_CSCHalo\") at 0x76901b0>,\n",
       " <ROOT.TBranch object (\"passFilter_CSCTightHalo2015\") at 0x76907b0>,\n",
       " <ROOT.TBranch object (\"passFilter_HCALlaser\") at 0x7690db0>,\n",
       " <ROOT.TBranch object (\"passFilter_ECALDeadCell\") at 0x76913b0>,\n",
       " <ROOT.TBranch object (\"passFilter_GoodVtx\") at 0x76919b0>,\n",
       " <ROOT.TBranch object (\"passFilter_TrkFailure\") at 0x7691fb0>,\n",
       " <ROOT.TBranch object (\"passFilter_EEBadSc\") at 0x76925b0>,\n",
       " <ROOT.TBranch object (\"passFilter_ECALlaser\") at 0x7692bb0>,\n",
       " <ROOT.TBranch object (\"passFilter_TrkPOG\") at 0x76931b0>,\n",
       " <ROOT.TBranch object (\"passFilter_TrkPOG_manystrip\") at 0x76937b0>,\n",
       " <ROOT.TBranch object (\"passFilter_TrkPOG_toomanystrip\") at 0x7693db0>,\n",
       " <ROOT.TBranch object (\"passFilter_TrkPOG_logError\") at 0x76943c0>,\n",
       " <ROOT.TBranch object (\"passFilter_METFilters\") at 0x76949c0>,\n",
       " <ROOT.TBranch object (\"passFilter_CSCTightHaloTrkMuUnvetoFilter\") at 0x7694fc0>,\n",
       " <ROOT.TBranch object (\"passFilter_globalTightHalo2016\") at 0x7695600>,\n",
       " <ROOT.TBranch object (\"passFilter_HcalStripHalo\") at 0x7695c10>,\n",
       " <ROOT.TBranch object (\"passFilter_chargedHadronTrackResolution\") at 0x7696210>,\n",
       " <ROOT.TBranch object (\"passFilter_muonBadTrack\") at 0x7696850>,\n",
       " <ROOT.TBranch object (\"EVENT_event\") at 0x7696e50>,\n",
       " <ROOT.TBranch object (\"EVENT_run\") at 0x7697390>,\n",
       " <ROOT.TBranch object (\"EVENT_lumiBlock\") at 0x76978d0>,\n",
       " <ROOT.TBranch object (\"PV_N\") at 0x7697ea0>,\n",
       " <ROOT.TBranch object (\"PV_filter\") at 0x76983e0>,\n",
       " <ROOT.TBranchElement object (\"PV_chi2\") at 0x7698920>,\n",
       " <ROOT.TBranchElement object (\"PV_ndof\") at 0x7699090>,\n",
       " <ROOT.TBranchElement object (\"PV_rho\") at 0x76997a0>,\n",
       " <ROOT.TBranchElement object (\"PV_z\") at 0x7699eb0>]"
      ]
     },
     "execution_count": 2,
     "metadata": {},
     "output_type": "execute_result"
    }
   ],
   "source": [
    "tchain = ROOT.TChain()\n",
    "tchain.Add(\"root://cmseos.fnal.gov//store/user/hats/PyRoot/2017/qcd_samples/shuffled_sig/sig_shuffled_0.root/tree\")\n",
    "tchain.Add(\"root://cmseos.fnal.gov//store/user/hats/PyRoot/2017/qcd_samples/shuffled_sig/sig_shuffled_1.root/tree\")\n",
    "tchain.Add(\"root://cmseos.fnal.gov//store/user/hats/PyRoot/2017/qcd_samples/shuffled_sig/sig_shuffled_2.root/tree\")\n",
    "tchain.Add(\"root://cmseos.fnal.gov//store/user/hats/PyRoot/2017/qcd_samples/shuffled_sig/sig_shuffled_3.root/tree\")\n",
    "tchain.Add(\"root://cmseos.fnal.gov//store/user/hats/PyRoot/2017/qcd_samples/shuffled_sig/sig_shuffled_4.root/tree\")\n",
    "list(tchain.GetListOfBranches())"
   ]
  },
  {
   "cell_type": "code",
   "execution_count": 3,
   "metadata": {
    "collapsed": true
   },
   "outputs": [],
   "source": [
    "tchain.SetBranchStatus(\"*\", 0)\n",
    "for branch in [\"jetAK4_N\",\n",
    "               \"jetAK4_pt\",\n",
    "               \"jetAK4_eta\",\n",
    "               \"jetAK4_mass\",\n",
    "               \"jetAK4_phi\",\n",
    "               \"jetAK4_e\",\n",
    "               \"jetAK4_jec\",\n",
    "               \"jetAK4_IDLoose\"]:\n",
    "    tchain.SetBranchStatus(branch, 1)"
   ]
  },
  {
   "cell_type": "code",
   "execution_count": 4,
   "metadata": {
    "collapsed": false
   },
   "outputs": [
    {
     "name": "stdout",
     "output_type": "stream",
     "text": [
      "This took 17.0815181732 seconds.\n"
     ]
    }
   ],
   "source": [
    "dijetMass_hist = ROOT.TH1D(\"dijetMass_hist\", \"dijet mass [GeV]\", 100, 0, 1000)\n",
    "dijetEtBalance_hist = ROOT.TH1D(\"dijetEtBalance_hist\", \"dijet ET balance\", 100, 0, 1)\n",
    "cosThetaStar_hist = ROOT.TH1D(\"cosThetaStar_hist\", \"cos(theta*)\", 100, -1, 1)\n",
    "\n",
    "leadingJet = ROOT.TLorentzVector()\n",
    "subleadingJet = ROOT.TLorentzVector()\n",
    "\n",
    "startTime = time.time()\n",
    "for event in tchain:\n",
    "    if event.jetAK4_N < 2:\n",
    "        continue\n",
    "    \n",
    "    leadingJet.SetPtEtaPhiE(event.jetAK4_pt.at(0),\n",
    "                            event.jetAK4_eta.at(0),\n",
    "                            event.jetAK4_phi.at(0),\n",
    "                            event.jetAK4_e.at(0))\n",
    "    \n",
    "    subleadingJet.SetPtEtaPhiE(event.jetAK4_pt.at(1),\n",
    "                               event.jetAK4_eta.at(1),\n",
    "                               event.jetAK4_phi.at(1),\n",
    "                               event.jetAK4_e.at(1))\n",
    "    \n",
    "    dijet = leadingJet + subleadingJet\n",
    "\n",
    "    boostedLeadingJet = leadingJet\n",
    "    boostedLeadingJet.Boost(-dijet.BoostVector())\n",
    "    \n",
    "    dijetMass_hist.Fill(dijet.M())\n",
    "    dijetEtBalance_hist.Fill(subleadingJet.Et() / leadingJet.Et())\n",
    "    cosThetaStar_hist.Fill(boostedLeadingJet.Pz() / boostedLeadingJet.P())\n",
    "\n",
    "endTime = time.time()\n",
    "\n",
    "print \"This took\", endTime - startTime, \"seconds.\""
   ]
  },
  {
   "cell_type": "code",
   "execution_count": 5,
   "metadata": {
    "collapsed": false
   },
   "outputs": [
    {
     "data": {
      "image/png": "[encoded data removed]",
      "text/plain": [
       "<IPython.core.display.Image object>"
      ]
     },
     "metadata": {},
     "output_type": "display_data"
    }
   ],
   "source": [
    "tcanvas.Clear()\n",
    "tcanvas.Divide(3, 1)\n",
    "\n",
    "tcanvas.cd(1); dijetMass_hist.Draw()\n",
    "tcanvas.cd(2); dijetEtBalance_hist.Draw()\n",
    "tcanvas.cd(3); cosThetaStar_hist.Draw()\n",
    "tcanvas.Draw()"
   ]
  },
  {
   "cell_type": "code",
   "execution_count": 6,
   "metadata": {
    "collapsed": false
   },
   "outputs": [
    {
     "name": "stdout",
     "output_type": "stream",
     "text": [
      "This took 24.3862490654 seconds.\n"
     ]
    }
   ],
   "source": [
    "from histogrammar import *\n",
    "\n",
    "Bundle = UntypedLabel    # a naming convention we'll be changing to in Histogrammar 2.0\n",
    "\n",
    "def cosThetaStar(jets):\n",
    "    boostedLeading = jets[0]\n",
    "    boostedLeading.Boost(-(jets[0] + jets[1]).BoostVector())\n",
    "    return boostedLeading.Pz() / boostedLeading.P()\n",
    "\n",
    "histograms = Bundle(\n",
    "    dijetMass      = Bin(100, 0, 1000, lambda jets: (jets[0] + jets[1]).M()),\n",
    "    dijetEtBalance = Bin(100, 0, 1, lambda jets: jets[1].Et() / jets[0].Et()),\n",
    "    cosThetaStar   = Bin(100, -1, 1, cosThetaStar))\n",
    "\n",
    "leadingJet = ROOT.TLorentzVector()\n",
    "subleadingJet = ROOT.TLorentzVector()\n",
    "\n",
    "startTime = time.time()\n",
    "for event in tchain:\n",
    "    if event.jetAK4_N < 2:\n",
    "        continue\n",
    "    \n",
    "    leadingJet.SetPtEtaPhiE(event.jetAK4_pt.at(0),\n",
    "                            event.jetAK4_eta.at(0),\n",
    "                            event.jetAK4_phi.at(0),\n",
    "                            event.jetAK4_e.at(0))\n",
    "    \n",
    "    subleadingJet.SetPtEtaPhiE(event.jetAK4_pt.at(1),\n",
    "                               event.jetAK4_eta.at(1),\n",
    "                               event.jetAK4_phi.at(1),\n",
    "                               event.jetAK4_e.at(1))\n",
    "    \n",
    "    histograms.fill([leadingJet, subleadingJet])\n",
    "\n",
    "endTime = time.time()\n",
    "\n",
    "print \"This took\", endTime - startTime, \"seconds.\""
   ]
  },
  {
   "cell_type": "code",
   "execution_count": 7,
   "metadata": {
    "collapsed": false
   },
   "outputs": [
    {
     "data": {
      "image/png": "[encoded data removed]",
      "text/plain": [
       "<IPython.core.display.Image object>"
      ]
     },
     "metadata": {},
     "output_type": "display_data"
    }
   ],
   "source": [
    "dijetMass_hist2 = histograms.get(\"dijetMass\").plot.root(\"dijetMass_hist2\", \"dijet mass [GeV]\")\n",
    "dijetEtBalance_hist2 = histograms.get(\"dijetEtBalance\").plot.root(\"dijetEtBalance_hist2\", \"dijet ET balance\")\n",
    "cosThetaStar_hist2 = histograms.get(\"cosThetaStar\").plot.root(\"cosThetaStar_hist2\", \"cos(theta*)\")\n",
    "\n",
    "tcanvas.Clear()\n",
    "tcanvas.Divide(3, 1)\n",
    "\n",
    "tcanvas.cd(1); dijetMass_hist2.Draw()\n",
    "tcanvas.cd(2); dijetEtBalance_hist2.Draw()\n",
    "tcanvas.cd(3); cosThetaStar_hist2.Draw()\n",
    "tcanvas.Draw()"
   ]
  },
  {
   "cell_type": "code",
   "execution_count": 10,
   "metadata": {
    "collapsed": false
   },
   "outputs": [
    {
     "data": {
      "text/plain": [
       "True"
      ]
     },
     "execution_count": 10,
     "metadata": {},
     "output_type": "execute_result"
    }
   ],
   "source": [
    "ROOT.gInterpreter.Declare(\"\"\"\n",
    "TLorentzVector leadingJet;\n",
    "TLorentzVector subleadingJet;\n",
    "TLorentzVector dimuon;\n",
    "TLorentzVector boostedLeadingJet;\n",
    "\n",
    "bool update(vector<float>& pt, vector<float>& eta, vector<float>& phi, vector<float>& e) {\n",
    "    leadingJet.SetPtEtaPhiE(pt.at(0), eta.at(0), phi.at(0), e.at(0));\n",
    "    subleadingJet.SetPtEtaPhiE(pt.at(1), eta.at(1), phi.at(1), e.at(1));\n",
    "    dimuon = leadingJet + subleadingJet;\n",
    "    boostedLeadingJet.SetPtEtaPhiE(pt.at(0), eta.at(0), phi.at(0), e.at(0));\n",
    "    boostedLeadingJet.Boost(-dimuon.BoostVector());\n",
    "    return true;\n",
    "}\n",
    "\"\"\")"
   ]
  },
  {
   "cell_type": "code",
   "execution_count": 11,
   "metadata": {
    "collapsed": false
   },
   "outputs": [
    {
     "name": "stdout",
     "output_type": "stream",
     "text": [
      "This took 1.24155902863 seconds.\n"
     ]
    }
   ],
   "source": [
    "histograms = Select(\"jetAK4_N >= 2  &&  update(jetAK4_pt, jetAK4_eta, jetAK4_phi, jetAK4_e)\", Bundle(\n",
    "    dijetMass      = Bin(100, 0, 1000, \"dimuon.M()\"),\n",
    "    dijetEtBalance = Bin(100, 0, 1,    \"subleadingJet.Et() / leadingJet.Et()\"),\n",
    "    cosThetaStar   = Bin(100, -1, 1,   \"boostedLeadingJet.Pz() / boostedLeadingJet.P()\")\n",
    "))\n",
    "\n",
    "startTime = time.time()\n",
    "histograms.fill.root(tchain)\n",
    "endTime = time.time()\n",
    "\n",
    "print \"This took\", endTime - startTime, \"seconds.\""
   ]
  },
  {
   "cell_type": "code",
   "execution_count": 12,
   "metadata": {
    "collapsed": false
   },
   "outputs": [
    {
     "data": {
      "text/plain": [
       "True"
      ]
     },
     "execution_count": 12,
     "metadata": {},
     "output_type": "execute_result"
    }
   ],
   "source": [
    "# yes, we're creating new TLorentzVectors, but we're creating them on the stack (no \"new\" operator), which is fast\n",
    "ROOT.gInterpreter.Declare(\"\"\"\n",
    "TLorentzVector lorentzVector(int which,\n",
    "                             vector<float>& pt,\n",
    "                             vector<float>& eta,\n",
    "                             vector<float>& phi,\n",
    "                             vector<float>& e) {\n",
    "    TLorentzVector out;\n",
    "    out.SetPtEtaPhiE(pt.at(which), eta.at(which), phi.at(which), e.at(which));\n",
    "    return out;\n",
    "}\n",
    "\"\"\")\n",
    "\n",
    "ROOT.gInterpreter.Declare(\"\"\"\n",
    "double cosThetaStar(TLorentzVector leadingJet, TLorentzVector subleadingJet) {\n",
    "    leadingJet.Boost(-(leadingJet + subleadingJet).BoostVector());\n",
    "    return leadingJet.Pz() / leadingJet.P();\n",
    "}\n",
    "\"\"\")"
   ]
  },
  {
   "cell_type": "code",
   "execution_count": 13,
   "metadata": {
    "collapsed": false
   },
   "outputs": [
    {
     "name": "stdout",
     "output_type": "stream",
     "text": [
      "This took 0.946064949036 seconds.\n"
     ]
    }
   ],
   "source": [
    "histograms = Select(\"jetAK4_N >= 2\", Bundle(\n",
    "    dijetMass = Bin(100, 0, 1000, \"\"\"\n",
    "        (lorentzVector(0, jetAK4_pt, jetAK4_eta, jetAK4_phi, jetAK4_e) +\n",
    "         lorentzVector(1, jetAK4_pt, jetAK4_eta, jetAK4_phi, jetAK4_e)\n",
    "        ).M()\n",
    "    \"\"\"),\n",
    "    dijetEtBalance = Bin(100, 0, 1, \"\"\"\n",
    "        lorentzVector(1, jetAK4_pt, jetAK4_eta, jetAK4_phi, jetAK4_e).Et() /\n",
    "        lorentzVector(0, jetAK4_pt, jetAK4_eta, jetAK4_phi, jetAK4_e).Et()\n",
    "    \"\"\"),\n",
    "    cosThetaStar   = Bin(100, -1, 1, \"\"\"cosThetaStar(\n",
    "        lorentzVector(0, jetAK4_pt, jetAK4_eta, jetAK4_phi, jetAK4_e),\n",
    "        lorentzVector(1, jetAK4_pt, jetAK4_eta, jetAK4_phi, jetAK4_e))\"\"\")\n",
    "))\n",
    "\n",
    "startTime = time.time()\n",
    "histograms.fill.root(tchain)\n",
    "endTime = time.time()\n",
    "\n",
    "print \"This took\", endTime - startTime, \"seconds.\""
   ]
  },
  {
   "cell_type": "code",
   "execution_count": 14,
   "metadata": {
    "collapsed": false
   },
   "outputs": [
    {
     "data": {
      "image/png": "[encoded data removed]",
      "text/plain": [
       "<IPython.core.display.Image object>"
      ]
     },
     "metadata": {},
     "output_type": "display_data"
    }
   ],
   "source": [
    "dijetMass_hist3 = histograms.get(\"dijetMass\").plot.root(\"dijetMass_hist3\", \"dijet mass [GeV]\")\n",
    "dijetEtBalance_hist3 = histograms.get(\"dijetEtBalance\").plot.root(\"dijetEtBalance_hist3\", \"dijet ET balance\")\n",
    "cosThetaStar_hist3 = histograms.get(\"cosThetaStar\").plot.root(\"cosThetaStar_hist3\", \"cos(theta*)\")\n",
    "\n",
    "tcanvas.Clear()\n",
    "tcanvas.Divide(3, 1)\n",
    "\n",
    "tcanvas.cd(1); dijetMass_hist.Draw()\n",
    "tcanvas.cd(2); dijetEtBalance_hist.Draw()\n",
    "tcanvas.cd(3); cosThetaStar_hist.Draw()\n",
    "tcanvas.Draw()"
   ]
  },
  {
   "cell_type": "code",
   "execution_count": null,
   "metadata": {
    "collapsed": true
   },
   "outputs": [],
   "source": []
  },
  {
   "cell_type": "code",
   "execution_count": null,
   "metadata": {
    "collapsed": true
   },
   "outputs": [],
   "source": []
  }
 ],
 "metadata": {
  "kernelspec": {
   "display_name": "Python 2",
   "language": "python",
   "name": "python2"
  },
  "language_info": {
   "codemirror_mode": {
    "name": "ipython",
    "version": 2
   },
   "file_extension": ".py",
   "mimetype": "text/x-python",
   "name": "python",
   "nbconvert_exporter": "python",
   "pygments_lexer": "ipython2",
   "version": "2.7.11"
  }
 },
 "nbformat": 4,
 "nbformat_minor": 1
}
