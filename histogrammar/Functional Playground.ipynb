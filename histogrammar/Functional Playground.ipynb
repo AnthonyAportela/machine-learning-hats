{
 "cells": [
  {
   "cell_type": "code",
   "execution_count": 1,
   "metadata": {
    "collapsed": false
   },
   "outputs": [
    {
     "data": {
      "application/javascript": [
       "\n",
       "require(['notebook'],\n",
       "  function() {\n",
       "    IPython.CodeCell.config_defaults.highlight_modes['magic_text/x-c++src'] = {'reg':[/^%%cpp/]};\n",
       "    console.log(\"JupyROOT - %%cpp magic configured\");\n",
       "  }\n",
       ");\n"
      ]
     },
     "metadata": {},
     "output_type": "display_data"
    },
    {
     "name": "stdout",
     "output_type": "stream",
     "text": [
      "Welcome to JupyROOT 6.08/04\n"
     ]
    }
   ],
   "source": [
    "# Your choice of plotting front-end.\n",
    "\n",
    "%matplotlib inline\n",
    "\n",
    "import ROOT\n",
    "tcanvas = ROOT.TCanvas(\"TCanvasName\", \"TCanvasTitle\", 800, 600)"
   ]
  },
  {
   "cell_type": "markdown",
   "metadata": {},
   "source": [
    "# Functional Playground\n",
    "\n",
    "Let's back up and introduce the project properly.\n",
    "\n",
    "No programming language is good at everything, and both C++ and Python are bad at parallel processing. Developing a good langauge for parallel processing is a frontier of computer science and has been for the past 20 years or so.\n",
    "\n",
    "A few concepts are emerging as important for parallel processing:\n",
    "\n",
    "   * **immutable, composable data**\n",
    "   * **functionals instead of loops**\n",
    "   * lazy evaluation\n",
    "   * (actor-like isolation)\n",
    "   * (asynchronous calls, callbacks, futures/promises)\n",
    "   * (reactive APIs)\n",
    "\n",
    "But only the first two or three are, in my opinion, relevant for _data analysis._\n",
    "\n",
    "### Immutable, composable data\n",
    "\n",
    "\"Immutable\" means that a quantity can't be changed after it has been created.\n",
    "\n",
    "**Examples:**\n",
    "\n",
    "   * In all programming languages, numbers are immutable. (Pascal let you change the definition of numbers like \"4\", but you couldn't change anything about their internal structure. And even so, it was widely regarded as a terrible idea.)\n",
    "   * In Python but not C++, strings are immutable. Operating on a string in Python always creates a new string; the old one is either kept or garbage collected. In C++, you can change the characters of a string in-place, which makes string processing much more complicated.\n",
    "   * In \"purely functional\" languages like Haskell, _all_ data are immutable. Every little change requires a new data structure. This isn't as bad as it sounds, but it takes some getting used to.\n",
    "\n",
    "\"Composable\" means that you can use existing data to make new data. When you can't change data in-place, composing becomes the primary way of operating on data.\n",
    "\n",
    "(A conceptual advantage of composing, rather than changing in-place, is that these operations can be identified as mathematical entities— mondoids, groups, and rings; commutative and/or associative— and that makes it easier to predict what they'll do using mathematical arguments.)\n",
    "\n",
    "**Why is immutable data important?**\n",
    "\n",
    "If you have multiple computers looking at the same data, they are necessarily looking at different _copies_ of the data. Any transfer of data through space is, strictly speaking, a copy. The original may or may not be deleted after or during the copy.\n",
    "\n",
    "If a processor is allowed to change its copy of the data in-place, then the others either become out of date or have to be updated. Pausing processing to update a variable's state slows down processing, defeating the purpose of parallel processing. Thus, it's good to avoid it.\n",
    "\n",
    "### Functionals instead of loops\n",
    "\n",
    "A \"functional\" is a function that takes functions as arguments. (Other words for this are \"functors\" and \"higher-order functions,\" but \"functional\" is used more in a physics context.)\n",
    "\n",
    "You may remember functionals from classical or quantum mechanics: a Lagrangian is a functional that takes a field and its derivative as arguments, both of which are functions defined on all space-time. It's exactly the same idea in computer science.\n",
    "\n",
    "Two particular functionals have become popular recently: `map` and `reduce`. The Hadoop framework, also known as \"map-reduce,\" implements the `map` and `reduce` functionals over a cluster of networked computers, so that a data analyst only has to write their problem as functions to pass into `map` and `reduce` to submit their job.\n",
    "\n",
    "Below, we'll play with `map`, `reduce`, and several other useful functionals.\n",
    "\n",
    "### Lazy evaluation\n",
    "\n",
    "Sometimes relevant for data analysis. A programming task can either be executed exactly where it is written or it may be delayed for later execution. \"Lazy evaluation\" is when the programming environment executes an expression at the latest possible time.\n",
    "\n",
    "This concept was integrated into CMSSW's pipelines, so that producers are only invoked when and if their data are needed.\n",
    "\n",
    "In Python, we see this distinction between lists, which are fully evaluated data in memory, and generators, which produce data on demand (lazily).\n",
    "\n",
    "When a collection of data is evaluated lazily, it doesn't need to be finite. We'll be working with an infinite stream of CMS events."
   ]
  },
  {
   "cell_type": "markdown",
   "metadata": {},
   "source": [
    "# Functional programming in Python\n",
    "\n",
    "The next three cells augment Python to make it more functional. We'll use it to tinker with data analysis in a functional setting as a way of motivating why the Histogrammar library is designed the way it is.\n",
    "\n",
    "Go ahead and evaluate these three cells without examining them closely. I could have put these commands in an external Python module, but thought it would be better to keep everything in the open."
   ]
  },
  {
   "cell_type": "code",
   "execution_count": 2,
   "metadata": {
    "collapsed": false
   },
   "outputs": [],
   "source": [
    "#### Please ignore the man behind the curtain...\n",
    "#### This is just a hack to add new methods to Python's built-in types.\n",
    "\n",
    "import ctypes\n",
    "\n",
    "if hasattr(ctypes.pythonapi, \"Py_InitModule4_64\"):\n",
    "    Py_ssize_t = ctypes.c_int64\n",
    "else:\n",
    "    ctypes.c_int\n",
    "\n",
    "class PyObject(ctypes.Structure): pass\n",
    "PyObject._fields_ = [(\"ob_refcnt\", Py_ssize_t), (\"ob_type\", ctypes.POINTER(PyObject))]\n",
    "\n",
    "class SlotsPointer(PyObject):\n",
    "    _fields_ = [(\"dict\", ctypes.POINTER(PyObject))]\n",
    "\n",
    "def proxy_builtin(cls):\n",
    "    name = cls.__name__\n",
    "    slots = getattr(cls, \"__dict__\", name)\n",
    "\n",
    "    pointer = SlotsPointer.from_address(id(slots))\n",
    "    namespace = {}\n",
    "\n",
    "    ctypes.pythonapi.PyDict_SetItem(\n",
    "        ctypes.py_object(namespace),\n",
    "        ctypes.py_object(name),\n",
    "        pointer.dict\n",
    "    )\n",
    "\n",
    "    return namespace[name]"
   ]
  },
  {
   "cell_type": "code",
   "execution_count": 3,
   "metadata": {
    "collapsed": false
   },
   "outputs": [
    {
     "data": {
      "text/plain": [
       "False"
      ]
     },
     "execution_count": 3,
     "metadata": {},
     "output_type": "execute_result"
    }
   ],
   "source": [
    "#### Define and attach functional methods to the Python \"list\" type.\n",
    "\n",
    "def sizer(lst):\n",
    "    \"\"\"\n",
    "    Return the length of the list.\n",
    "    \n",
    "    Example: [1, 2, 3, 4, 5].size == 5\n",
    "    \n",
    "    (For convenience, since everything else is attached at the end of a chain of methods.)\n",
    "    \"\"\"\n",
    "    return len(lst)\n",
    "\n",
    "def taker(lst):\n",
    "    \"\"\"\n",
    "    Return the first n elements of the list.\n",
    "    \n",
    "    Example: [1, 2, 3, 4, 5].take(3) == [1, 2, 3]\n",
    "    \"\"\"\n",
    "    if isinstance(lst, list):\n",
    "        return lambda n: lst[:n]\n",
    "    else:\n",
    "        def gen(n):\n",
    "            for i, x in enumerate(lst):\n",
    "                yield x\n",
    "                if i + 1 >= n: break\n",
    "        return lambda n: list(gen(n))\n",
    "\n",
    "def mapper(lst):\n",
    "    \"\"\"\n",
    "    Apply a given function to each element of this list.\n",
    "    \n",
    "    The function must take one argument.\n",
    "    \n",
    "    Examples: [1, 2, 3, 4, 5].map(f) == [f(1), f(2), f(3), f(4), f(5)]\n",
    "              [1, 2, 3, 4, 5].map(lambda x: x + 100) == [101, 102, 103, 104, 105]\n",
    "    \"\"\"\n",
    "    if isinstance(lst, list):\n",
    "        return lambda f: [f(x) for x in lst]\n",
    "    else:\n",
    "        return lambda f: (f(x) for x in lst)\n",
    "\n",
    "def flattener(lst):\n",
    "    \"\"\"\n",
    "    Turn a list-of-lists into a list of all elements. Only reduces one level of structure.\n",
    "        \n",
    "    Examples: [[1, 2], [3, 4, 5]].flatten == [1, 2, 3, 4, 5]\n",
    "              [[1, 2], [3, [4, 5]]].flatten == [1, 2, 3, [4, 5]\n",
    "    \"\"\"\n",
    "    if isinstance(lst, list):\n",
    "        return sum(lst, [])\n",
    "    else:\n",
    "        def gen():\n",
    "            for x in lst:\n",
    "                for y in x:\n",
    "                    yield y\n",
    "        return gen()\n",
    "\n",
    "def flatmapper(lst):\n",
    "    \"\"\"\n",
    "    Same as [...].map(f).flatten, but these two operations are frequently done together.\n",
    "    \n",
    "    The function must take one argument.\n",
    "    \n",
    "    In general: [...].flatmap(f) == [...].map(f).flatten\n",
    "    \n",
    "    Example: [1, 2, 3, 4, 5].flatmap(lambda x: [x, x + 100]) == [1, 101, 2, 102, 3, 103, 4, 104, 5, 105]\n",
    "    \n",
    "    Flatmap is a very general operation. You can use it to expand a table, as above, or to map and filter\n",
    "    at the same time. (In the theory of monads, \"flatmap\" is the fundamental \"bind\" operation.)\n",
    "    \n",
    "    Example: [1, 2, 3, 4, 5].flatmap(lambda x: [100 + x] if x > 2 else []) == [103, 104, 105]\n",
    "    \n",
    "    You might encounter this when you want to compute something for all particles in each event, but also\n",
    "    handle the case when there are no particles after cuts. In that case, \"flatmap\" instead of \"map\" and\n",
    "    return a singleton list [result] when you have a result and an empty list [] when you don't.\n",
    "    \"\"\"\n",
    "    if isinstance(lst, list):\n",
    "        return lambda f: sum((f(x) for x in lst), [])\n",
    "    else:\n",
    "        def gen(f):\n",
    "            for x in lst:\n",
    "                for y in f(x):\n",
    "                    yield y\n",
    "        return gen\n",
    "\n",
    "def filterer(lst):\n",
    "    \"\"\"\n",
    "    Apply a given function to each element of the list and return only those that return True.\n",
    "    \n",
    "    The function must take one argument and return True or False.\n",
    "    \n",
    "    Example: [1, 2, 3, 4, 5].filter(lambda x: x > 2) == [3, 4, 5]\n",
    "    \"\"\"\n",
    "    if isinstance(lst, list):\n",
    "        return lambda f: [x for x in lst if f(x)]\n",
    "    else:\n",
    "        def gen(f):\n",
    "            for x in lst:\n",
    "                if f(x):\n",
    "                    yield x\n",
    "        return gen\n",
    "    \n",
    "def reducer(lst):\n",
    "    \"\"\"\n",
    "    Apply a given function to each element and a running tally to produce a single result.\n",
    "    \n",
    "    The function must take two arguments. The first may be an element from the list or a tally.\n",
    "    The second will always be from the list.\n",
    "    \n",
    "    Examples: [1, 2, 3, 4, 5].reduce(f) == f(f(f(f(1, 2), 3), 4), 5)\n",
    "              [1, 2, 3, 4, 5].reduce(lambda x, y: x + y) == 15\n",
    "    \"\"\"\n",
    "    return lambda f: reduce(f, lst)\n",
    "\n",
    "def aggregator(lst):\n",
    "    \"\"\"\n",
    "    Same as reduce, except start the aggregation on a given zero element.\n",
    "    \n",
    "    The function must take two arguments. The first will always be a tally and the second from the list.\n",
    "    \n",
    "    Examples: [1, 2, 3, 4, 5].aggregate(f, 0) == f(f(f(f(f(0, 1), 2), 3), 4), 5)\n",
    "              [1, 2, 3, 4, 5].aggregate(lambda x, y: x + y, 0) == 15\n",
    "              (\"a\", \"b\", \"c\").aggregate(lambda x, y: x + y, \"\") == \"abc\"\n",
    "    \"\"\"\n",
    "    return lambda f, zero: reduce(f, lst, zero)\n",
    "\n",
    "def reducerright(lst):\n",
    "    \"\"\"\n",
    "    Same as reduce, except start the nesting on the right and work left.\n",
    "    \n",
    "    The function must take two arguments. The second may be an element from the list or a tally.\n",
    "    The first will always be from the list.\n",
    "    \n",
    "    Example: [1, 2, 3, 4, 5].reduceright(f) == f(1, f(2, f(3, f(4, 5))))\n",
    "    \"\"\"\n",
    "    return lambda f: reduce(lambda a, b: f(b, a), reversed(lst))\n",
    "\n",
    "def aggregatorright(lst):\n",
    "    \"\"\"\n",
    "    Same as aggregate, except start the nesting on the right and work left.\n",
    "    \n",
    "    The function must take two arguments. The second will always be a tally and the first from the list.\n",
    "    \n",
    "    Example: [1, 2, 3, 4, 5].aggregateright(f, 0) == f(1, f(2, f(3, f(4, f(5, 0)))))\n",
    "    \"\"\"\n",
    "    return lambda f, zero: reduce(lambda a, b: f(b, a), reversed(lst), zero)\n",
    "\n",
    "def pairser(lst):\n",
    "    \"\"\"\n",
    "    Apply a given function to pairs of elements without repetition (in either order) or duplicates.\n",
    "    \n",
    "    The function must take two arguments. Both will always be elements from the list.\n",
    "    \n",
    "    If you think of the input list as a vector X, this acts on the upper trianglular part of the\n",
    "    outer product of X with X (not including diagonal).\n",
    "    \n",
    "    Alternatively, it's what you would get from these nested loops:\n",
    "    \n",
    "        for i in range(len(lst)):\n",
    "            for j in range(i + 1, len(lst)):   # j starts at i + 1\n",
    "                f(lst[i], lst[j])\n",
    "    \n",
    "    Example: [1, 2, 3, 4, 5].pairs(lambda x, y: [x, y]) == [[1, 2], [1, 3], [1, 4], [1, 5],\n",
    "                                                                    [2, 3], [2, 4], [2, 5],\n",
    "                                                                            [3, 4], [3, 5],\n",
    "                                                                                    [4, 5]]\n",
    "    \n",
    "    Use this when you want to loop over pairs of distinct pairs of elements from a single list.\n",
    "    \n",
    "    Contrast with \"table\", which is like a nested loop over several lists, for all elements.\n",
    "    \"\"\"\n",
    "    return lambda f: [f(x, y) for i, x in enumerate(lst) for y in lst[i + 1:]]\n",
    "\n",
    "def tabler(lsts):\n",
    "    \"\"\"\n",
    "    Apply a given function to all combinations of elements from all input lists.\n",
    "    \n",
    "    The function must take as many arguments as you have lists, and each will be an element from\n",
    "    each list.\n",
    "    \n",
    "    If you think of the input lists as vectors X, Y, Z, etc., this acts on each element of the\n",
    "    outer product of X with Y with Z, etc.\n",
    "    \n",
    "    Alternatively, it's what you would get from these nested loops:\n",
    "    \n",
    "        for x in lst_x:\n",
    "            for y in lst_y:\n",
    "                for z in lst_z:\n",
    "                    f(x, y, z)\n",
    "    \n",
    "    Examples: [[100, 200], [1, 2, 3]].table(lambda x, y: x + y) == [101, 102, 103, 201, 202, 203]\n",
    "    \n",
    "              [[100, 200], [10, 20], [1, 2]].table(lambda x, y, z: x + y + z) == [\n",
    "                  111, 112, 121, 122, 211, 212, 221, 222]\n",
    "\n",
    "    To illustrate the difference between table and pairs, consider the following:\n",
    "\n",
    "        [1, 2, 3].pairs(lambda x, y: [x, y]) == [[1, 2], [1, 3],\n",
    "                                                         [2, 3]]\n",
    "        \n",
    "        [[1, 2, 3], [1, 2, 3]].table(lambda x, y: [x, y]) == [[1, 1], [1, 2], [1, 3],\n",
    "                                                              [2, 1], [2, 2], [2, 3],\n",
    "                                                              [3, 1], [3, 2], [3, 3]]\n",
    "    \"\"\"\n",
    "    def buildargs(first, *rest):\n",
    "        if len(rest) == 0:\n",
    "            return [[x] for x in first]\n",
    "        else:\n",
    "            return [[x] + y for x in first for y in buildargs(*rest)]\n",
    "\n",
    "    if len(lsts) < 2:\n",
    "        raise TypeError(\"table requires at least two arguments\")\n",
    "    else:\n",
    "        first = lsts[0]\n",
    "        rest = lsts[1:]\n",
    "        return lambda f: [f(*args) for args in buildargs(first, *rest)]\n",
    "\n",
    "def zipper(lsts):\n",
    "    \"\"\"\n",
    "    Apply a function to the ith element of each list, for all i.\n",
    "    \n",
    "    The function must take as many arguments as there are lists, and each will be an element from\n",
    "    each list.\n",
    "    \n",
    "    This works just like the built-in Python zip, but applies the function to its results:\n",
    "    \n",
    "        for x, y, z in zip(lst_x, lst_y, lst_z):\n",
    "            f(x, y, z)\n",
    "    \n",
    "    Example: [[1, 2, 3], [\"a\", \"b\", \"c\"], [101, 102, 103]].zip(lambda x, y, z: (x, y, z)) == [\n",
    "                 (1, \"a\", 101), (2, \"b\", 102), (3, \"c\", 103)]\n",
    "    \"\"\"\n",
    "    if len(lsts) < 2:\n",
    "        raise TypeError(\"zip requires at least two arguments\")\n",
    "    else:\n",
    "        return lambda f: [f(*args) for args in zip(*lsts)]\n",
    "\n",
    "# attach the methods                                               force Python to notice\n",
    "proxy_builtin(list)[\"size\"] = property(sizer);                     hasattr([], \"size\")\n",
    "proxy_builtin(list)[\"take\"] = property(taker);                     hasattr([], \"take\")\n",
    "proxy_builtin(list)[\"map\"] = property(mapper);                     hasattr([], \"map\")\n",
    "proxy_builtin(list)[\"flatten\"] = property(flattener);              hasattr([], \"flatten\")\n",
    "proxy_builtin(list)[\"flatmap\"] = property(flatmapper);             hasattr([], \"flatmap\")\n",
    "proxy_builtin(list)[\"filter\"] = property(filterer);                hasattr([], \"filter\")\n",
    "proxy_builtin(list)[\"reduce\"] = property(reducer);                 hasattr([], \"reduce\")\n",
    "proxy_builtin(list)[\"aggregate\"] = property(aggregator);           hasattr([], \"aggregate\")\n",
    "proxy_builtin(list)[\"reduceright\"] = property(reducerright);       hasattr([], \"reduceright\")\n",
    "proxy_builtin(list)[\"aggregateright\"] = property(aggregatorright); hasattr([], \"aggregateright\")\n",
    "proxy_builtin(list)[\"pairs\"] = property(pairser);                  hasattr([], \"pairs\")\n",
    "proxy_builtin(list)[\"table\"] = property(tabler);                   hasattr([], \"table\")\n",
    "proxy_builtin(list)[\"zip\"] = property(zipper);                     hasattr([], \"zip\")"
   ]
  },
  {
   "cell_type": "code",
   "execution_count": 4,
   "metadata": {
    "collapsed": false
   },
   "outputs": [],
   "source": [
    "# Verify that they all work (and provide examples of their use).\n",
    "\n",
    "assert [1, 2, 3, 4, 5].take(3) == [1, 2, 3]\n",
    "\n",
    "assert [1, 2, 3, 4, 5].map(lambda x: 100 + x) == [101, 102, 103, 104, 105]\n",
    "\n",
    "assert [[1, 2], [3, 4, 5]].flatten == [1, 2, 3, 4, 5]\n",
    "assert [[1, 2], [3, [4, 5]]].flatten == [1, 2, 3, [4, 5]]\n",
    "\n",
    "assert [1, 2, 3, 4, 5].map(lambda x: [x, x + 100]) == [[1, 101], [2, 102], [3, 103], [4, 104], [5, 105]]\n",
    "assert [1, 2, 3, 4, 5].map(lambda x: [x, x + 100]).flatten == [1, 101, 2, 102, 3, 103, 4, 104, 5, 105]\n",
    "assert [1, 2, 3, 4, 5].flatmap(lambda x: [x, x + 100]) == [1, 101, 2, 102, 3, 103, 4, 104, 5, 105]\n",
    "assert [1, 2, 3, 4, 5].flatmap(lambda x: [100 + x] if x > 2 else []) == [103, 104, 105]\n",
    "\n",
    "assert [1, 2, 3, 4, 5].filter(lambda x: x > 2) == [3, 4, 5]\n",
    "\n",
    "assert [1, 2, 3, 4, 5].reduce(lambda x, y: x + y) == 15\n",
    "assert [1, 2, 3, 4, 5].reduce(lambda x, y: [x, y]) == [[[[1, 2], 3], 4], 5]\n",
    "\n",
    "assert [\"a\", \"b\", \"c\"].aggregate(lambda x, y: x + y, \"\") == \"abc\"\n",
    "assert [1, 2, 3, 4, 5].aggregate(lambda x, y: [x, y], []) == [[[[[[], 1], 2], 3], 4], 5]\n",
    "\n",
    "assert [1, 2, 3, 4, 5].reduceright(lambda x, y: [x, y]) == [1, [2, [3, [4, 5]]]]\n",
    "\n",
    "assert [1, 2, 3, 4, 5].aggregateright(lambda x, y: [x, y], []) == [1, [2, [3, [4, [5, []]]]]]\n",
    "\n",
    "assert [1, 2, 3, 4, 5].pairs(lambda x, y: [x, y]) == [[1, 2], [1, 3], [1, 4], [1, 5], [2, 3],\n",
    "                                                      [2, 4], [2, 5], [3, 4], [3, 5], [4, 5]]\n",
    "\n",
    "assert [[100, 200], [1, 2, 3]].table(lambda x, y: x + y) == [101, 102, 103, 201, 202, 203]\n",
    "assert [[100, 200], [10, 20], [1, 2]].table(lambda x, y, z: x + y + z) == [111, 112, 121, 122, 211, 212, 221, 222]\n",
    "assert [[1, 2, 3, 4, 5], [\"a\", \"b\"]].table(lambda x, y: [x, y]) == [\n",
    "    [1, \"a\"], [1, \"b\"], [2, \"a\"], [2, \"b\"], [3, \"a\"], [3, \"b\"], [4, \"a\"], [4, \"b\"], [5, \"a\"], [5, \"b\"]]\n",
    "assert [1, 2, 3].pairs(lambda x, y: [x, y]) == [[1, 2], [1, 3], [2, 3]]\n",
    "assert [[1, 2, 3], [1, 2, 3]].table(lambda x, y: [x, y]) == [[1, 1], [1, 2], [1, 3],\n",
    "                                                             [2, 1], [2, 2], [2, 3],\n",
    "                                                             [3, 1], [3, 2], [3, 3]]\n",
    "\n",
    "assert [[1, 2, 3], [\"a\", \"b\", \"c\"], [101, 102, 103]].zip(lambda x, y, z: [x, y, z]) == [\n",
    "    [1, \"a\", 101], [2, \"b\", 102], [3, \"c\", 103]]"
   ]
  },
  {
   "cell_type": "markdown",
   "metadata": {},
   "source": [
    "# Some functionals to play with\n",
    "\n",
    "The `list` data type now has 13 new methods:\n",
    "\n",
    "   * `[1, 2, 3, 4, 5].size` returns the size of the list, `5` (for convenience, not actually a functional because it takes no arguments and returns a number).   \n",
    "   * `[1, 2, 3, 4, 5].take(3)` returns the first three elements, `[1, 2, 3]` (for convenience, not actually a functional because it takes a number and returns a list).\n",
    "   * `[1, 2, 3, 4, 5].map(lambda x: x**2)` is the first functional: it applies the function `lambda x: x**2` to each element and makes a new list `[1, 4, 9, 16, 25]`.\n",
    "   \n",
    "You're probably familiar with the `def` syntax for making Python functions; if you haven't seen `lambda` before, it's a short-hand for making a function without the formality of naming it or using multiple lines. Try it out in the following cell."
   ]
  },
  {
   "cell_type": "code",
   "execution_count": 5,
   "metadata": {
    "collapsed": false
   },
   "outputs": [
    {
     "name": "stdout",
     "output_type": "stream",
     "text": [
      "[1, 4, 9, 16, 25]\n",
      "[1, 4, 9, 16, 25]\n"
     ]
    }
   ],
   "source": [
    "def square(x):\n",
    "    return x**2\n",
    "\n",
    "print [1, 2, 3, 4, 5].map(square)\n",
    "\n",
    "print [1, 2, 3, 4, 5].map(lambda x: x**2)"
   ]
  },
  {
   "cell_type": "markdown",
   "metadata": {},
   "source": [
    "Here are some more.\n",
    "\n",
    "   * `[1, 2, 3, 4, 5].filter(lambda x: x > 2)` applies a cut on the list, returning `[3, 4, 5]`. This is a very important functional, but doesn't require much explanation.\n",
    "   * `[[1, 2], [3, 4, 5]].flatten` removes a layer of structure from a list, in this case returning `[1, 2, 3, 4, 5]`. That can be useful if you're turning a collection of events (containing many particles) into a \"flattened\" collection of particles (without regard for event boundaries). It's not really a functional (takes no arguments; returns a list), but it's useful for understanding what the next functional does...\n",
    "   * `[1, 2, 3, 4, 5].flatmap(lambda x: [x, x + 100])` does `.map(...).flatten` in one step, producing `[1, 101, 2, 102, 3, 103, 4, 104, 5, 105]`. You'll find that this is surprisingly useful. For instance,\n",
    "   \n",
    "```\n",
    "def dimuon(event):\n",
    "    if event.muons.size < 2:\n",
    "        return []\n",
    "    else:\n",
    "        mu1, mu2 = event.muons[:2]\n",
    "        return [(mu1 + mu2).mass]\n",
    "\n",
    "events.flatmap(dimuon)\n",
    "```\n",
    "\n",
    "computes dimuon masses from each event that has at least two muons and nothing from the rest. Returning either a singleton list with your answer or an empty list allows you to `filter` and `map` at the same time. (If you're interested in theory, `flatmap` is of foundational importance as the \"bind\" operation of a [monad](https://en.wikipedia.org/wiki/Monad_%28functional_programming%29)).\n",
    "\n",
    "The next four functionals are tightly related: they're all ways of turning a list of data into a single datum. Histogramming is an example of that: you take a zillion events and turn it into a fixed-size data structure, maybe a 100-bin histogram. Histogrammar is really just a collection of fancy `aggregate` methods.\n",
    "\n",
    "   * `[1, 2, 3, 4, 5].reduce(lambda x, y: x + y)` applies the given function to pairs of data iteratively, like this:\n",
    "\n",
    "```\n",
    "          f(f(f(f(1, 2), 3), 4), 5)\n",
    "```\n",
    "\n",
    "In this case, the operation `f` is to add pairs, and so the result is `15`.\n",
    "\n",
    "   * `[1, 2, 3, 4, 5].reduceright(f)` does `f(1, f(2, f(3, f(4, 5))))`, which only matters if `f` is not associative (a bad idea; I hope we get a chance to see why) or the dataset is infinite.\n",
    "\n",
    "The `aggregate` methods take an extra parameter, `zero`, which removes a subtlety from `reduce`: did you notice that the first time it was called on two elements of the list, `f(1, 2)` and every subsequent time it was called on a subtally and an element from the list, `f(f(1, 2), 3)`? That can make it awkward to write the function `f`, having to handle the two cases. The arguments to a function given to `aggregate` always take the same types.\n",
    "\n",
    "For instance, consider this cheezy histogram-filler:"
   ]
  },
  {
   "cell_type": "code",
   "execution_count": 6,
   "metadata": {
    "collapsed": false
   },
   "outputs": [
    {
     "name": "stdout",
     "output_type": "stream",
     "text": [
      "[3, 8, 10, 8, 6]\n"
     ]
    }
   ],
   "source": [
    "def fill(histogram, number):\n",
    "    if 0 <= number < len(histogram):\n",
    "        return histogram[:number] + [histogram[number] + 1] + histogram[number + 1:]\n",
    "    else:\n",
    "        return histogram\n",
    "\n",
    "data = [3, 2, 4, 1, 2, 3, 1, 4, 1, 2, 3, 1, 2, 3, 0, 2, 3, 0, 1, 2, 4, 3, 2, 4, 1, 2, \\\n",
    "        3, 1, 0, 1, 2, 4, 3, 2, 4]\n",
    "\n",
    "filled = data.aggregate(fill, zero=[0, 0, 0, 0, 0])\n",
    "\n",
    "print filled"
   ]
  },
  {
   "cell_type": "markdown",
   "metadata": {},
   "source": [
    "Here, the `zero` is an empty histogram; the function `fill` takes a partially filled histogram and a number from the dataset to fill it. If we had tried to do this with `reduce`, we'd have to handle the case in which `fill` is passed two numbers as arguments, rather than a histogram and a number.\n",
    "\n",
    "The last three functionals emulate loops. In this functional environment, we won't be writing any loops ourselves.\n",
    "\n",
    "   * `[1, 2, 3, 4, 5].pairs(lambda x, y: 100*x + y)` loops over pairs of elements from `[1, 2, 3, 4, 5]` without repetitions and applies the function to each pair: that is, `[f(1, 2), f(1, 3), f(1, 4), f(1, 5), f(2, 3), f(2, 4), f(2, 5), f(3, 4), f(3, 5), f(4, 5)]`. This is equivalent to the nested `for` loop\n",
    "\n",
    "```\n",
    "lst = [1, 2, 3, 4, 5]\n",
    "for i in range(len(lst)):\n",
    "    for j in range(i + 1, len(lst)):    # j is always larger than i\n",
    "        f(lst[i], lst[j])               # in this case, f(lst[i], lst[j]) is 100*lst[i] + lst[j]\n",
    "```\n",
    "\n",
    "so the result of the calculation above is `[102, 103, 104, 105, 203, 204, 205, 304, 305, 405]`.\n",
    "\n",
    "   * `[[1, 2, 3], [4, 5]].table(lambda x, y: 100*x + y)` loops over two lists, `[1, 2, 3]` and `[4, 5]`. Actually, you could use as many lists as you like, but the function must take as many arguments as lists, since each argument will be filled with an element from each: that is, `[f(1, 4), f(1, 5), f(2, 4), f(2, 5), f(3, 4), f(3, 5)]`. It is equivalent to the nested `for` loop\n",
    "\n",
    "```\n",
    "for x in [1, 2, 3]:\n",
    "    for y in [4, 5]:\n",
    "        f(x, y)                         # in this case, f(x, y) is 100*x + y\n",
    "```\n",
    "\n",
    "so the result of the calculation above is `[104, 105, 204, 205, 304, 305]`.\n",
    "\n",
    "   * `[[1, 2, 3], [4, 5, 6]].zip(lambda x, y: 100*x + y)` also loops over a collection of lists, `[1, 2, 3]` and `[4, 5, 6]`. Now they have to have the same number of elements because they'll be iterated over like `[f(1, 4), f(2, 5), f(3, 6)]`, equivalent to the following `for` loop\n",
    "\n",
    "```\n",
    "x = [1, 2, 3]\n",
    "y = [4, 5, 6]\n",
    "for i in range(min(len(x), len(y))):\n",
    "    f(x[i], y[i])                       # in this case, f(x[i], y[i]) is 100*x[i] + y[j]\n",
    "```\n",
    "\n",
    "so the result of the calculation above is `[104, 205, 306]`.\n",
    "\n",
    "\n",
    "# Playtime\n",
    "\n",
    "Now it's time to play! Let's get some CMS (public) data. And just to make sure that the fun never ends, let's get an infinite (unending) stream of them."
   ]
  },
  {
   "cell_type": "code",
   "execution_count": 7,
   "metadata": {
    "collapsed": false
   },
   "outputs": [],
   "source": [
    "from histogrammar import *\n",
    "from histogrammar.tutorial import cmsdata\n",
    "\n",
    "def InfiniteEvents():\n",
    "    while True:\n",
    "        for event in cmsdata.EventIterator():\n",
    "            yield event                         # \"yield\" is how you make a function into a generator in Python\n",
    "\n",
    "events = InfiniteEvents()"
   ]
  },
  {
   "cell_type": "markdown",
   "metadata": {},
   "source": [
    "This lazy stream of events is a `generator` type, rather than a `list`, so we have to attach our functional methods to this as well. I'm only going to attach the ones that won't cause your interpreter to go into an infinite loop.\n",
    "\n",
    "You might think that `mapping` over an infinite collection would cause an infinite loop, but not when it's lazy. `generator.map(f)` doesn't compute anything, doesn't evaluate `f`— it just creates another generator that _would_ map `f` over the input on demand."
   ]
  },
  {
   "cell_type": "code",
   "execution_count": 8,
   "metadata": {
    "collapsed": false
   },
   "outputs": [
    {
     "data": {
      "text/plain": [
       "True"
      ]
     },
     "execution_count": 8,
     "metadata": {},
     "output_type": "execute_result"
    }
   ],
   "source": [
    "proxy_builtin(type(events))[\"take\"] = property(taker);                     hasattr(events, \"take\")\n",
    "proxy_builtin(type(events))[\"map\"] = property(mapper);                     hasattr(events, \"map\")\n",
    "proxy_builtin(type(events))[\"flatten\"] = property(flattener);              hasattr(events, \"flatten\")\n",
    "proxy_builtin(type(events))[\"flatmap\"] = property(flatmapper);             hasattr(events, \"flatmap\")\n",
    "proxy_builtin(type(events))[\"filter\"] = property(filterer);                hasattr(events, \"filter\")"
   ]
  },
  {
   "cell_type": "markdown",
   "metadata": {},
   "source": [
    "Now let's try some things. First, just take 3 from the infinite stream to look at them."
   ]
  },
  {
   "cell_type": "code",
   "execution_count": 9,
   "metadata": {
    "collapsed": false
   },
   "outputs": [
    {
     "data": {
      "text/plain": [
       "[Event([], [Muon(4.85949611664, -30.2398738861, 137.776489258, 141.139785767, -1, 0.0)], [], [], MET(-8.67440891266, 21.8987998962), 7),\n",
       " Event([], [Muon(-23.3766021729, -21.3244667053, -21.4867858887, 38.2477645874, 1, 0.518906891346)], [], [], MET(26.8287220001, 29.009141922), 7),\n",
       " Event([], [], [], [], MET(-14.2947301865, 8.71030712128), 2)]"
      ]
     },
     "execution_count": 9,
     "metadata": {},
     "output_type": "execute_result"
    }
   ],
   "source": [
    "events.take(3)"
   ]
  },
  {
   "cell_type": "markdown",
   "metadata": {},
   "source": [
    "Okay. What kinds of methods do I have on these events? If we pull only one event off the stream, we get a list of one of them: `[event]`. So we have to use `[0]` to get the `event` itself."
   ]
  },
  {
   "cell_type": "code",
   "execution_count": 10,
   "metadata": {
    "collapsed": false
   },
   "outputs": [
    {
     "data": {
      "text/plain": [
       "['__class__',\n",
       " '__delattr__',\n",
       " '__dict__',\n",
       " '__doc__',\n",
       " '__format__',\n",
       " '__getattribute__',\n",
       " '__hash__',\n",
       " '__init__',\n",
       " '__module__',\n",
       " '__new__',\n",
       " '__reduce__',\n",
       " '__reduce_ex__',\n",
       " '__repr__',\n",
       " '__setattr__',\n",
       " '__sizeof__',\n",
       " '__str__',\n",
       " '__subclasshook__',\n",
       " '__weakref__',\n",
       " 'electrons',\n",
       " 'fromJson',\n",
       " 'jets',\n",
       " 'met',\n",
       " 'muons',\n",
       " 'numPrimaryVertices',\n",
       " 'photons']"
      ]
     },
     "execution_count": 10,
     "metadata": {},
     "output_type": "execute_result"
    }
   ],
   "source": [
    "dir(events.take(1)[0])"
   ]
  },
  {
   "cell_type": "markdown",
   "metadata": {},
   "source": [
    "Okay. It has `electrons`, `jets`, `met`, `muons`, `numPrimaryVertices`, and `photons`. The rest is Python gunk. Let's try applying a function to pull out the muons."
   ]
  },
  {
   "cell_type": "code",
   "execution_count": 11,
   "metadata": {
    "collapsed": false
   },
   "outputs": [
    {
     "data": {
      "text/plain": [
       "[[Muon(21.0245990753, 15.2924814224, 38.0825500488, 46.1105804443, 1, 0.0)],\n",
       " [Muon(7.49188518524, -39.8153266907, 19.95195961, 45.1606063843, -1, 4.2009472847)],\n",
       " [Muon(-4.77304172516, 36.630443573, -77.6554260254, 85.9938812256, -1, 1.50938034058)],\n",
       " [Muon(-11.5234136581, -21.5348072052, 3.72992348671, 24.7074985504, 1, 1.42479777336)],\n",
       " [],\n",
       " [],\n",
       " [Muon(-11.4520206451, 38.0730438232, -113.592842102, 120.349700928, -1, 1.3328255415)],\n",
       " [],\n",
       " [],\n",
       " []]"
      ]
     },
     "execution_count": 11,
     "metadata": {},
     "output_type": "execute_result"
    }
   ],
   "source": [
    "events.map(lambda ev: ev.muons).take(10)"
   ]
  },
  {
   "cell_type": "markdown",
   "metadata": {},
   "source": [
    "Most of these events have muons, some don't. (It was a [muon-triggered sample from 2010](http://opendata.cern.ch/record/203). CMS public data.) They probably have some jets, too."
   ]
  },
  {
   "cell_type": "code",
   "execution_count": 12,
   "metadata": {
    "collapsed": false
   },
   "outputs": [
    {
     "data": {
      "text/plain": [
       "[[],\n",
       " [Jet(43.5943870544, -9.99415206909, 12.8462200165, 48.4479789734, -1.0),\n",
       "  Jet(-13.8009996414, -29.7404193878, -12.8268785477, 35.4576072693, -1.0)],\n",
       " [],\n",
       " [],\n",
       " [Jet(-36.5394935608, -14.4588289261, -81.9849014282, 91.1192779541, -1.0)],\n",
       " [],\n",
       " [Jet(64.2288131714, 68.38697052, 371.880096436, 383.637115479, -1.0)],\n",
       " [],\n",
       " [],\n",
       " [],\n",
       " [Jet(39.9841346741, 44.048625946, 119.080718994, 133.31010437, -1.0),\n",
       "  Jet(5.11166572571, -33.7828712463, -10.4385795593, 36.2952728271, -1.0),\n",
       "  Jet(-33.1167907715, 3.72817444801, -130.43447876, 134.736083984, -1.0)],\n",
       " [Jet(10.7069778442, 32.4821891785, -53.2544746399, 63.611289978, -1.0)],\n",
       " [],\n",
       " [],\n",
       " [],\n",
       " [],\n",
       " [],\n",
       " [],\n",
       " [],\n",
       " []]"
      ]
     },
     "execution_count": 12,
     "metadata": {},
     "output_type": "execute_result"
    }
   ],
   "source": [
    "events.map(lambda ev: ev.jets).take(20)"
   ]
  },
  {
   "cell_type": "markdown",
   "metadata": {},
   "source": [
    "Oh. Not many events have jets. Let's try filtering for events with at least one jet."
   ]
  },
  {
   "cell_type": "code",
   "execution_count": 13,
   "metadata": {
    "collapsed": false
   },
   "outputs": [
    {
     "data": {
      "text/plain": [
       "2"
      ]
     },
     "execution_count": 13,
     "metadata": {},
     "output_type": "execute_result"
    }
   ],
   "source": [
    "events.take(20).filter(lambda ev: ev.jets.size >= 1).size"
   ]
  },
  {
   "cell_type": "markdown",
   "metadata": {},
   "source": [
    "Notice that if I put the `take(20)` _after_ the `filter`, rather than _before_ it, I get 20 results. Explain to yourself why that is."
   ]
  },
  {
   "cell_type": "code",
   "execution_count": 14,
   "metadata": {
    "collapsed": false
   },
   "outputs": [
    {
     "data": {
      "text/plain": [
       "20"
      ]
     },
     "execution_count": 14,
     "metadata": {},
     "output_type": "execute_result"
    }
   ],
   "source": [
    "events.filter(lambda ev: ev.jets.size >= 1).take(20).size"
   ]
  },
  {
   "cell_type": "markdown",
   "metadata": {},
   "source": [
    "Now let me show you the glory of `flatmap`. By `flatmapping` over jets, rather than `mapping`, we get a stream of jets, rather than a stream of events. We've lost information: which jets belong to which events. However, this is exactly what you want to do if you're doing a jet study, rather than a physics analysis. Similarly, alignment and calibration care about tracks and showers instead of events."
   ]
  },
  {
   "cell_type": "code",
   "execution_count": 15,
   "metadata": {
    "collapsed": false
   },
   "outputs": [
    {
     "data": {
      "text/plain": [
       "[Jet(-32.8055610657, -1.9215439558, -18.3760948181, 38.1614227295, -1.0),\n",
       " Jet(-35.7217674255, 40.3134269714, 202.36517334, 209.550003052, -1.0),\n",
       " Jet(-26.537481308, -43.619392395, 37.9836845398, 64.6566925049, -1.0),\n",
       " Jet(7.81694459915, 45.3634414673, -62.6137695312, 78.7132873535, -1.0),\n",
       " Jet(36.1999282837, 88.4749832153, 42.1356697083, 105.94695282, -1.0),\n",
       " Jet(-26.4425582886, 19.4879741669, 186.818405151, 189.8309021, -1.0),\n",
       " Jet(26.9815826416, 31.5266056061, -69.2858352661, 81.3827896118, -1.0),\n",
       " Jet(25.1152648926, -23.2613735199, 39.2988433838, 52.379611969, -1.0),\n",
       " Jet(4.15257835388, -41.388469696, -157.774581909, 163.271347046, -1.0),\n",
       " Jet(52.2988166809, 11.0969152451, -29.3882198334, 61.367023468, -1.0),\n",
       " Jet(42.3602790833, -12.7046165466, 51.7379150391, 68.2978744507, -1.0),\n",
       " Jet(-43.6951522827, 26.9825553894, -2.14704680443, 51.6978607178, -1.0),\n",
       " Jet(3.03745126724, -41.6156463623, 33.8255195618, 54.2581520081, -1.0),\n",
       " Jet(-31.2498207092, 16.7006816864, 77.4445648193, 85.2822189331, -1.0),\n",
       " Jet(52.6190376282, 5.67761468887, -52.9407310486, 75.4482269287, -1.0),\n",
       " Jet(-40.4581451416, 5.3843588829, -14.6769962311, 43.8815574646, -1.0),\n",
       " Jet(36.6118545532, 2.00147104263, 68.0097427368, 78.1060638428, -1.0),\n",
       " Jet(-15.4390354156, 36.7674407959, -72.252784729, 82.6926727295, 2.45140838623),\n",
       " Jet(-4.90845108032, -37.2385482788, -30.0387039185, 49.4453086853, -1.0),\n",
       " Jet(-30.2342128754, -50.0840911865, -53.8068351746, 80.3661270142, -1.0)]"
      ]
     },
     "execution_count": 15,
     "metadata": {},
     "output_type": "execute_result"
    }
   ],
   "source": [
    "events.flatmap(lambda ev: ev.jets).take(20)"
   ]
  },
  {
   "cell_type": "markdown",
   "metadata": {},
   "source": [
    "But now let's do some physics. Let's see what methods are available to us on the particle objects."
   ]
  },
  {
   "cell_type": "code",
   "execution_count": 16,
   "metadata": {
    "collapsed": false
   },
   "outputs": [
    {
     "data": {
      "text/plain": [
       "['E',\n",
       " '__add__',\n",
       " '__class__',\n",
       " '__delattr__',\n",
       " '__dict__',\n",
       " '__doc__',\n",
       " '__format__',\n",
       " '__getattribute__',\n",
       " '__hash__',\n",
       " '__init__',\n",
       " '__module__',\n",
       " '__new__',\n",
       " '__reduce__',\n",
       " '__reduce_ex__',\n",
       " '__repr__',\n",
       " '__setattr__',\n",
       " '__sizeof__',\n",
       " '__str__',\n",
       " '__subclasshook__',\n",
       " '__weakref__',\n",
       " 'eta',\n",
       " 'fromJson',\n",
       " 'iso',\n",
       " 'mass',\n",
       " 'p',\n",
       " 'phi',\n",
       " 'pt',\n",
       " 'px',\n",
       " 'py',\n",
       " 'pz',\n",
       " 'q']"
      ]
     },
     "execution_count": 16,
     "metadata": {},
     "output_type": "execute_result"
    }
   ],
   "source": [
    "dir(events.flatmap(lambda ev: ev.muons).take(1)[0])"
   ]
  },
  {
   "cell_type": "markdown",
   "metadata": {},
   "source": [
    "There's `E` (energy), `eta` (pseudorapidity), `iso` (isolation), `mass` (mass), `p` (momentum), `phi` (azimuthal angle), `pt` (transverse momentum), `px`, `py`, `pz` (Cartesian components), and `q` (charge), and then some Python junk.\n",
    "\n",
    "But don't ignore the `__add__` method, which knows about 4-momentum kinematics."
   ]
  },
  {
   "cell_type": "code",
   "execution_count": 17,
   "metadata": {
    "collapsed": false
   },
   "outputs": [
    {
     "name": "stdout",
     "output_type": "stream",
     "text": [
      "LorentzVector(20.4720554352, 49.0557975769, 97.6934432983, 133.248703003)\n",
      "73.3868629853\n"
     ]
    }
   ],
   "source": [
    "mu1, mu2 = events.flatmap(lambda ev: ev.muons).take(2)\n",
    "\n",
    "print mu1 + mu2\n",
    "print (mu1 + mu2).mass"
   ]
  },
  {
   "cell_type": "markdown",
   "metadata": {},
   "source": [
    "Great! Then we can look for the Z boson. This function will require two lines, so we define it longhand."
   ]
  },
  {
   "cell_type": "code",
   "execution_count": 18,
   "metadata": {
    "collapsed": false
   },
   "outputs": [
    {
     "data": {
      "text/plain": [
       "[90.59405647767977,\n",
       " 99.54980031423942,\n",
       " 90.16057143550684,\n",
       " 93.47173495498177,\n",
       " 3.953625857643265,\n",
       " 3.934012322364818,\n",
       " 45.08225898569615,\n",
       " 79.15001349842068,\n",
       " 84.05077693770595,\n",
       " 93.45965877179938,\n",
       " 91.31698863152324,\n",
       " 91.19897690101983,\n",
       " 93.86448335113091,\n",
       " 86.60525038219909,\n",
       " 91.10639148544332,\n",
       " 89.54668504763143,\n",
       " 110.40644207615776,\n",
       " 90.72280640958388,\n",
       " 91.03991798978788,\n",
       " 35.77450376728666]"
      ]
     },
     "execution_count": 18,
     "metadata": {},
     "output_type": "execute_result"
    }
   ],
   "source": [
    "def dimuon(event):\n",
    "    mu1, mu2 = event.muons[:2]\n",
    "    return (mu1 + mu2).mass\n",
    "\n",
    "events.filter(lambda ev: ev.muons.size >= 2).map(dimuon).take(20)"
   ]
  },
  {
   "cell_type": "markdown",
   "metadata": {},
   "source": [
    "Looks like a lot of dimuons have a mass around 90 GeV. What's the average?"
   ]
  },
  {
   "cell_type": "code",
   "execution_count": 19,
   "metadata": {
    "collapsed": false
   },
   "outputs": [
    {
     "data": {
      "text/plain": [
       "86.69101301194657"
      ]
     },
     "execution_count": 19,
     "metadata": {},
     "output_type": "execute_result"
    }
   ],
   "source": [
    "events.filter(lambda ev: ev.muons.size >= 2).map(dimuon).take(100).reduce(lambda x, y: x + y) / 100.0"
   ]
  },
  {
   "cell_type": "markdown",
   "metadata": {},
   "source": [
    "A little low for the Z mass, but that's because Drell-Yan and heavy flavor muons are pulling the average down. To analyze the shape, we'd need a plot. Time to bring in Histogrammar.\n",
    "\n",
    "In keeping with these functional chains, let's make all the Histogrammar aggregators into methods on `list`. Remember that they're all just fancy kinds of `reduce`/`aggregate` methods."
   ]
  },
  {
   "cell_type": "code",
   "execution_count": 20,
   "metadata": {
    "collapsed": false
   },
   "outputs": [
    {
     "data": {
      "text/plain": [
       "True"
      ]
     },
     "execution_count": 20,
     "metadata": {},
     "output_type": "execute_result"
    }
   ],
   "source": [
    "def histogrammarMethod(cls):\n",
    "    def generatorProperty(lst):\n",
    "        def hargs(*args, **kwds):\n",
    "            h = cls(*args, **kwds)\n",
    "            for x in lst:\n",
    "                h.fill(x)\n",
    "            return h\n",
    "        return hargs\n",
    "    return generatorProperty\n",
    "\n",
    "# rename UntypedLabel as \"Bundle\" because that's what it will be in Histogrammar specification 2.0\n",
    "Bundle = UntypedLabel\n",
    "\n",
    "proxy_builtin(list)[\"Average\"] = property(histogrammarMethod(Average));                hasattr(list, \"Average\")\n",
    "proxy_builtin(list)[\"Bin\"] = property(histogrammarMethod(Bin));                        hasattr(list, \"Bin\")\n",
    "proxy_builtin(list)[\"Categorize\"] = property(histogrammarMethod(Categorize));          hasattr(list, \"Categorize\")\n",
    "proxy_builtin(list)[\"CentrallyBin\"] = property(histogrammarMethod(CentrallyBin));      hasattr(list, \"CentrallyBin\")\n",
    "proxy_builtin(list)[\"Label\"] = property(histogrammarMethod(Label));                    hasattr(list, \"Label\")\n",
    "proxy_builtin(list)[\"Bundle\"] = property(histogrammarMethod(Bundle));                  hasattr(list, \"Bundle\")\n",
    "proxy_builtin(list)[\"Index\"] = property(histogrammarMethod(Index));                    hasattr(list, \"Index\")\n",
    "proxy_builtin(list)[\"Branch\"] = property(histogrammarMethod(Branch));                  hasattr(list, \"Branch\")\n",
    "proxy_builtin(list)[\"Count\"] = property(histogrammarMethod(Count));                    hasattr(list, \"Count\")\n",
    "proxy_builtin(list)[\"Deviate\"] = property(histogrammarMethod(Deviate));                hasattr(list, \"Deviate\")\n",
    "proxy_builtin(list)[\"Fraction\"] = property(histogrammarMethod(Fraction));              hasattr(list, \"Fraction\")\n",
    "proxy_builtin(list)[\"IrregularlyBin\"] = property(histogrammarMethod(IrregularlyBin));  hasattr(list, \"IrregularlyBin\")\n",
    "proxy_builtin(list)[\"Minimize\"] = property(histogrammarMethod(Minimize));              hasattr(list, \"Minimize\")\n",
    "proxy_builtin(list)[\"Maximize\"] = property(histogrammarMethod(Maximize));              hasattr(list, \"Maximize\")\n",
    "proxy_builtin(list)[\"Select\"] = property(histogrammarMethod(Select));                  hasattr(list, \"Select\")\n",
    "proxy_builtin(list)[\"SparselyBin\"] = property(histogrammarMethod(SparselyBin));        hasattr(list, \"SparselyBin\")\n",
    "proxy_builtin(list)[\"Stack\"] = property(histogrammarMethod(Stack));                    hasattr(list, \"Stack\")\n",
    "proxy_builtin(list)[\"Sum\"] = property(histogrammarMethod(Sum));                        hasattr(list, \"Sum\")"
   ]
  },
  {
   "cell_type": "markdown",
   "metadata": {},
   "source": [
    "When we put a `Bin` aggregator at the end of this chain of functionals, we give it the same `dimuon` function we gave `map`. It should be getting more clear why Histogrammar uses fill rules, rather than relying on being called the appropriate way in a `for` loop."
   ]
  },
  {
   "cell_type": "code",
   "execution_count": 21,
   "metadata": {
    "collapsed": false
   },
   "outputs": [
    {
     "data": {
      "text/plain": [
       "<matplotlib.axes._subplots.AxesSubplot at 0x7064cb3bc950>"
      ]
     },
     "execution_count": 21,
     "metadata": {},
     "output_type": "execute_result"
    },
    {
     "data": {
      "image/png": "[encoded data removed]",
      "text/plain": [
       "<matplotlib.figure.Figure at 0x7064cd932f90>"
      ]
     },
     "metadata": {},
     "output_type": "display_data"
    }
   ],
   "source": [
    "events.filter(lambda ev: ev.muons.size >= 2).take(100).Bin(120, 0, 120, dimuon) \\\n",
    "      .plot.matplotlib(\"dimuon mass [GeV]\")"
   ]
  },
  {
   "cell_type": "markdown",
   "metadata": {
    "collapsed": false
   },
   "source": [
    "That's more like it. We win the 1984 Nobel prize!"
   ]
  },
  {
   "cell_type": "markdown",
   "metadata": {
    "collapsed": true
   },
   "source": [
    "# Histogrammar for functional programming\n",
    "\n",
    "All of the Histogrammar aggregators (except `Count`) take a function as an argument, to pick the thing to aggregate out of the event.\n",
    "\n",
    "For a complete reference on what each aggregator does, see [the specification](http://histogrammar.org/docs/specification/1.0/). Below, I'll give some illustrative examples."
   ]
  },
  {
   "cell_type": "code",
   "execution_count": 22,
   "metadata": {
    "collapsed": false
   },
   "outputs": [
    {
     "name": "stdout",
     "output_type": "stream",
     "text": [
      "<Count 100.0>\n",
      "<Sum sum=8453.62036182>\n",
      "<Average mean=84.5362036182>\n",
      "<Deviate mean=84.5362036182 variance=361.330576409>\n",
      "<Minimize min=3.58367284228>\n",
      "<Maximize max=108.901247957>\n"
     ]
    }
   ],
   "source": [
    "muonpairs = events.filter(lambda ev: ev.muons.size >= 2).map(lambda ev: ev.muons[:2]).take(100)\n",
    "\n",
    "def tomass(muons):\n",
    "    mu1, mu2 = muons\n",
    "    return (mu1 + mu2).mass\n",
    "\n",
    "print muonpairs.Count()\n",
    "print muonpairs.Sum(tomass)\n",
    "print muonpairs.Average(tomass)\n",
    "print muonpairs.Deviate(tomass)\n",
    "print muonpairs.Minimize(tomass)\n",
    "print muonpairs.Maximize(tomass)"
   ]
  },
  {
   "cell_type": "code",
   "execution_count": 23,
   "metadata": {
    "collapsed": false
   },
   "outputs": [
    {
     "data": {
      "text/plain": [
       "<matplotlib.axes._subplots.AxesSubplot at 0x7064cab701d0>"
      ]
     },
     "execution_count": 23,
     "metadata": {},
     "output_type": "execute_result"
    },
    {
     "data": {
      "image/png": "[encoded data removed]",
      "text/plain": [
       "<matplotlib.figure.Figure at 0x7064caf585d0>"
      ]
     },
     "metadata": {},
     "output_type": "display_data"
    }
   ],
   "source": [
    "# standard binning\n",
    "muonpairs.Bin(120, 0, 120, tomass).plot.matplotlib()"
   ]
  },
  {
   "cell_type": "code",
   "execution_count": 24,
   "metadata": {
    "collapsed": false
   },
   "outputs": [
    {
     "data": {
      "text/plain": [
       "<matplotlib.axes._subplots.AxesSubplot at 0x7064ca86d890>"
      ]
     },
     "execution_count": 24,
     "metadata": {},
     "output_type": "execute_result"
    },
    {
     "data": {
      "image/png": "[encoded data removed]",
      "text/plain": [
       "<matplotlib.figure.Figure at 0x7064caf58210>"
      ]
     },
     "metadata": {},
     "output_type": "display_data"
    }
   ],
   "source": [
    "# only specify a bin width (5 GeV): bins will only be created if nonzero\n",
    "muonpairs.SparselyBin(5, tomass).plot.matplotlib()"
   ]
  },
  {
   "cell_type": "markdown",
   "metadata": {},
   "source": [
    "For the next few features, I want to look at muon isolation. We'll start without plotting because I have no idea how this isolation variable is scaled."
   ]
  },
  {
   "cell_type": "code",
   "execution_count": 25,
   "metadata": {
    "collapsed": false
   },
   "outputs": [
    {
     "data": {
      "text/plain": [
       "[3.1873316764831543,\n",
       " 0.0,\n",
       " 2.2858545780181885,\n",
       " 0.8116026520729065,\n",
       " 0.5737981796264648,\n",
       " 1.2585299015045166,\n",
       " 2.690613031387329,\n",
       " 1.2594029903411865,\n",
       " 0.8264614343643188,\n",
       " 1.85421884059906]"
      ]
     },
     "execution_count": 25,
     "metadata": {},
     "output_type": "execute_result"
    }
   ],
   "source": [
    "thousandmuons = events.flatmap(lambda ev: ev.muons).take(1000)\n",
    "\n",
    "thousandmuons.map(lambda muon: muon.iso).take(10)"
   ]
  },
  {
   "cell_type": "markdown",
   "metadata": {},
   "source": [
    "Okay, zero to five ought to do it."
   ]
  },
  {
   "cell_type": "code",
   "execution_count": 26,
   "metadata": {
    "collapsed": false
   },
   "outputs": [
    {
     "data": {
      "text/plain": [
       "<matplotlib.axes._subplots.AxesSubplot at 0x7064ca706310>"
      ]
     },
     "execution_count": 26,
     "metadata": {},
     "output_type": "execute_result"
    },
    {
     "data": {
      "image/png": "[encoded data removed]",
      "text/plain": [
       "<matplotlib.figure.Figure at 0x7064cae932d0>"
      ]
     },
     "metadata": {},
     "output_type": "display_data"
    }
   ],
   "source": [
    "thousandmuons.Bin(100, 0, 5, lambda muon: muon.iso).plot.matplotlib(\"muon isolation variable\")"
   ]
  },
  {
   "cell_type": "code",
   "execution_count": 27,
   "metadata": {
    "collapsed": false
   },
   "outputs": [
    {
     "data": {
      "text/plain": [
       "<matplotlib.axes._subplots.AxesSubplot at 0x7064ca3f8390>"
      ]
     },
     "execution_count": 27,
     "metadata": {},
     "output_type": "execute_result"
    },
    {
     "data": {
      "image/png": "[encoded data removed]",
      "text/plain": [
       "<matplotlib.figure.Figure at 0x7064ca78a0d0>"
      ]
     },
     "metadata": {},
     "output_type": "display_data"
    }
   ],
   "source": [
    "# Select applies a cut at the Histogrammar level; it differs from \"filter\" only in that other\n",
    "# Histogrammar primitives are nested within it, rather than chained after it. That will be important in a moment.\n",
    "\n",
    "thousandmuons.Select(lambda muon: muon.iso > 1.0, Bin(100, 0, 100, lambda muon: muon.pt)) \\\n",
    "             .plot.matplotlib(\"muon pT with iso > 1.0\")"
   ]
  },
  {
   "cell_type": "code",
   "execution_count": 28,
   "metadata": {
    "collapsed": false
   },
   "outputs": [
    {
     "data": {
      "text/plain": [
       "<matplotlib.axes._subplots.AxesSubplot at 0x7064ca0f1f50>"
      ]
     },
     "execution_count": 28,
     "metadata": {},
     "output_type": "execute_result"
    },
    {
     "data": {
      "image/png": "[encoded data removed]",
      "text/plain": [
       "<matplotlib.figure.Figure at 0x7064caf58f90>"
      ]
     },
     "metadata": {},
     "output_type": "display_data"
    }
   ],
   "source": [
    "thousandmuons.Bin(100, 0, 100, lambda muon: muon.pt).plot.matplotlib(\"muon pT without cut\")"
   ]
  },
  {
   "cell_type": "code",
   "execution_count": 29,
   "metadata": {
    "collapsed": false
   },
   "outputs": [
    {
     "data": {
      "image/png": "[encoded data removed]",
      "text/plain": [
       "<IPython.core.display.Image object>"
      ]
     },
     "metadata": {},
     "output_type": "display_data"
    }
   ],
   "source": [
    "# Fraction is a relative of Select that makes two histograms and divides them\n",
    "# I'm using ROOT to plot this one, rather than Matplotlib, because of a bug in this version handling\n",
    "# bins with zero entries.\n",
    "\n",
    "tefficiency = thousandmuons.Fraction(lambda muon: muon.iso > 1.0, Bin(100, 0, 100, lambda muon: muon.pt)).plot.root(\"TEfficiency\", \"Cut efficiency versus pT\")\n",
    "tefficiency.Draw()\n",
    "tcanvas.Draw()"
   ]
  },
  {
   "cell_type": "markdown",
   "metadata": {},
   "source": [
    "# Nesting Histogrammar aggregators\n",
    "\n",
    "In the last two examples, we put a `Bin` inside a `Select` or a `Fraction`. This is what makes Histogrammar extensible. Some aggregators take other aggregators as arguments, and you can use that to make infinitely many histogram types. Let's start with some simple ones.\n",
    "\n",
    "Did you notice that there aren't any \"profile\" or \"two-dimensional\" aggregators? That's because we can make them."
   ]
  },
  {
   "cell_type": "code",
   "execution_count": 30,
   "metadata": {
    "collapsed": false
   },
   "outputs": [
    {
     "data": {
      "text/plain": [
       "<matplotlib.axes._subplots.AxesSubplot at 0x7064c9d890d0>"
      ]
     },
     "execution_count": 30,
     "metadata": {},
     "output_type": "execute_result"
    },
    {
     "data": {
      "image/png": "[encoded data removed]",
      "text/plain": [
       "<matplotlib.figure.Figure at 0x7064ca77ea10>"
      ]
     },
     "metadata": {},
     "output_type": "display_data"
    }
   ],
   "source": [
    "import math\n",
    "\n",
    "thousandmuons.Bin(100, -math.pi, math.pi, lambda muon: muon.phi, Deviate(lambda muon: muon.pt)).plot.matplotlib(\"profile of pT versus phi, check for asymmetry\")"
   ]
  },
  {
   "cell_type": "code",
   "execution_count": 31,
   "metadata": {
    "collapsed": false
   },
   "outputs": [
    {
     "data": {
      "text/plain": [
       "<matplotlib.axes._subplots.AxesSubplot at 0x7064c8260c50>"
      ]
     },
     "execution_count": 31,
     "metadata": {},
     "output_type": "execute_result"
    },
    {
     "data": {
      "image/png": "[encoded data removed]",
      "text/plain": [
       "<matplotlib.figure.Figure at 0x7064c81e9110>"
      ]
     },
     "metadata": {},
     "output_type": "display_data"
    }
   ],
   "source": [
    "# make two-dimensional histograms by nesting a Bin within a Bin\n",
    "thousandmuons.Bin(20, -100, 100, lambda muon: muon.px, Bin(20, -100, 100, lambda muon: muon.py)).plot.matplotlib(\"muon py versus px\")"
   ]
  },
  {
   "cell_type": "code",
   "execution_count": 32,
   "metadata": {
    "collapsed": false
   },
   "outputs": [
    {
     "data": {
      "image/png": "[encoded data removed]",
      "text/plain": [
       "<IPython.core.display.Image object>"
      ]
     },
     "metadata": {},
     "output_type": "display_data"
    }
   ],
   "source": [
    "# you can do this in ROOT, too\n",
    "root2d = thousandmuons.Bin(20, -100, 100, lambda muon: muon.px, Bin(20, -100, 100, lambda muon: muon.py)).plot.root(\"TH2\", \"muon eta versus phi\")\n",
    "root2d.Draw(\"colz\")\n",
    "tcanvas.Draw()"
   ]
  },
  {
   "cell_type": "markdown",
   "metadata": {},
   "source": [
    "# Bundles of histograms\n",
    "\n",
    "The best nesting function of all is `Bundle` (called `UntypedLabel` in Histogrammar 1.0; I'm going to use the future name everywhere).\n",
    "\n",
    "It works like ROOT's directories of histograms: it's how you label them with names and organize them. It also lets you fill multiple histograms in one pass over the data."
   ]
  },
  {
   "cell_type": "code",
   "execution_count": 33,
   "metadata": {
    "collapsed": false
   },
   "outputs": [
    {
     "data": {
      "text/plain": [
       "<matplotlib.axes._subplots.AxesSubplot at 0x7064c8017cd0>"
      ]
     },
     "execution_count": 33,
     "metadata": {},
     "output_type": "execute_result"
    },
    {
     "data": {
      "image/png": "[encoded data removed]",
      "text/plain": [
       "<matplotlib.figure.Figure at 0x7064c804b2d0>"
      ]
     },
     "metadata": {},
     "output_type": "display_data"
    }
   ],
   "source": [
    "# fill all three histograms\n",
    "allhists = thousandmuons.Bundle(\n",
    "    withcut    = Select(lambda muon: muon.iso > 1.0, Bin(100, 0, 100, lambda muon: muon.pt)),\n",
    "    withoutcut =                                     Bin(100, 0, 100, lambda muon: muon.pt),\n",
    "    iso        =                                     Bin(100, 0, 5, lambda muon: muon.iso))\n",
    "\n",
    "allhists.get(\"withcut\").plot.matplotlib()"
   ]
  },
  {
   "cell_type": "markdown",
   "metadata": {},
   "source": [
    "Now the value of `Select`, a nestable `filter`, should be clear. You can apply it to some histograms in a `Bundle` and not others. You can build up a whole packet-of-plots as one big Histogrammar tree."
   ]
  },
  {
   "cell_type": "markdown",
   "metadata": {},
   "source": [
    "# Unplottable aggregations\n",
    "\n",
    "You can combine these aggregators in infinitely many ways, but there aren't infinitely many plotting routines in every plotting package, so many of these combinations don't have a visualization. You'll get some error message like \"no method found.\"\n",
    "\n",
    "However, don't let that stop you from making them. Filled aggregators are useful for many things other than immediately plotting them, and I think you'll find that many of the mechanations and work-arounds you do with `TH3` and relatives can be expressed more naturally in aggregators.\n",
    "\n",
    "Here's an example of gathering useful information about a distribution, even though we can't plot it."
   ]
  },
  {
   "cell_type": "code",
   "execution_count": 34,
   "metadata": {
    "collapsed": true
   },
   "outputs": [],
   "source": [
    "mu_iso_ranges_by_pt_and_q = thousandmuons. \\\n",
    "    SparselyBin(1, lambda muon: muon.q,                                              # in bins of charge\n",
    "                Bin(20, 0, 100, lambda muon: muon.pt,                                # in bins of pT\n",
    "                    Bundle(nonzero = Fraction(lambda muon: muon.iso > 0, Count()),   # how many isos are nonzero?\n",
    "                           average = Average(lambda muon: muon.iso),                 # what's the average?\n",
    "                           maximum = Maximize(lambda muon: muon.iso))))              # what's the maximum?"
   ]
  },
  {
   "cell_type": "markdown",
   "metadata": {},
   "source": [
    "Before attempting to navigate this structure, let's just print it all out."
   ]
  },
  {
   "cell_type": "code",
   "execution_count": 35,
   "metadata": {
    "collapsed": false
   },
   "outputs": [
    {
     "data": {
      "text/plain": [
       "{'data': {'binWidth': 1,\n",
       "  'bins': {'-1': {'entries': 430.0,\n",
       "    'high': 100.0,\n",
       "    'low': 0.0,\n",
       "    'nanflow': 0.0,\n",
       "    'nanflow:type': 'Count',\n",
       "    'overflow': 5.0,\n",
       "    'overflow:type': 'Count',\n",
       "    'underflow': 0.0,\n",
       "    'underflow:type': 'Count',\n",
       "    'values': [{'data': {'average': {'data': {'entries': 0.0, 'mean': 'nan'},\n",
       "        'type': 'Average'},\n",
       "       'maximum': {'data': {'entries': 0.0, 'max': 'nan'}, 'type': 'Maximize'},\n",
       "       'nonzero': {'data': {'denominator': 0.0,\n",
       "         'entries': 0.0,\n",
       "         'numerator': 0.0,\n",
       "         'sub:type': 'Count'},\n",
       "        'type': 'Fraction'}},\n",
       "      'entries': 0.0},\n",
       "     {'data': {'average': {'data': {'entries': 0.0, 'mean': 'nan'},\n",
       "        'type': 'Average'},\n",
       "       'maximum': {'data': {'entries': 0.0, 'max': 'nan'}, 'type': 'Maximize'},\n",
       "       'nonzero': {'data': {'denominator': 0.0,\n",
       "         'entries': 0.0,\n",
       "         'numerator': 0.0,\n",
       "         'sub:type': 'Count'},\n",
       "        'type': 'Fraction'}},\n",
       "      'entries': 0.0},\n",
       "     {'data': {'average': {'data': {'entries': 3.0,\n",
       "         'mean': 1.0633852084477742},\n",
       "        'type': 'Average'},\n",
       "       'maximum': {'data': {'entries': 3.0, 'max': 1.4586336612701416},\n",
       "        'type': 'Maximize'},\n",
       "       'nonzero': {'data': {'denominator': 3.0,\n",
       "         'entries': 3.0,\n",
       "         'numerator': 3.0,\n",
       "         'sub:type': 'Count'},\n",
       "        'type': 'Fraction'}},\n",
       "      'entries': 3.0},\n",
       "     {'data': {'average': {'data': {'entries': 3.0, 'mean': 1.884833852450053},\n",
       "        'type': 'Average'},\n",
       "       'maximum': {'data': {'entries': 3.0, 'max': 2.338107109069824},\n",
       "        'type': 'Maximize'},\n",
       "       'nonzero': {'data': {'denominator': 3.0,\n",
       "         'entries': 3.0,\n",
       "         'numerator': 3.0,\n",
       "         'sub:type': 'Count'},\n",
       "        'type': 'Fraction'}},\n",
       "      'entries': 3.0},\n",
       "     {'data': {'average': {'data': {'entries': 20.0,\n",
       "         'mean': 0.9519175440073013},\n",
       "        'type': 'Average'},\n",
       "       'maximum': {'data': {'entries': 20.0, 'max': 3.1491594314575195},\n",
       "        'type': 'Maximize'},\n",
       "       'nonzero': {'data': {'denominator': 20.0,\n",
       "         'entries': 20.0,\n",
       "         'numerator': 13.0,\n",
       "         'sub:type': 'Count'},\n",
       "        'type': 'Fraction'}},\n",
       "      'entries': 20.0},\n",
       "     {'data': {'average': {'data': {'entries': 75.0,\n",
       "         'mean': 1.2192476596434914},\n",
       "        'type': 'Average'},\n",
       "       'maximum': {'data': {'entries': 75.0, 'max': 3.9119420051574707},\n",
       "        'type': 'Maximize'},\n",
       "       'nonzero': {'data': {'denominator': 75.0,\n",
       "         'entries': 75.0,\n",
       "         'numerator': 57.0,\n",
       "         'sub:type': 'Count'},\n",
       "        'type': 'Fraction'}},\n",
       "      'entries': 75.0},\n",
       "     {'data': {'average': {'data': {'entries': 83.0,\n",
       "         'mean': 0.9017121362757969},\n",
       "        'type': 'Average'},\n",
       "       'maximum': {'data': {'entries': 83.0, 'max': 4.283866882324219},\n",
       "        'type': 'Maximize'},\n",
       "       'nonzero': {'data': {'denominator': 83.0,\n",
       "         'entries': 83.0,\n",
       "         'numerator': 55.0,\n",
       "         'sub:type': 'Count'},\n",
       "        'type': 'Fraction'}},\n",
       "      'entries': 83.0},\n",
       "     {'data': {'average': {'data': {'entries': 96.0,\n",
       "         'mean': 1.1976483468897638},\n",
       "        'type': 'Average'},\n",
       "       'maximum': {'data': {'entries': 96.0, 'max': 4.726378917694092},\n",
       "        'type': 'Maximize'},\n",
       "       'nonzero': {'data': {'denominator': 96.0,\n",
       "         'entries': 96.0,\n",
       "         'numerator': 67.0,\n",
       "         'sub:type': 'Count'},\n",
       "        'type': 'Fraction'}},\n",
       "      'entries': 96.0},\n",
       "     {'data': {'average': {'data': {'entries': 75.0,\n",
       "         'mean': 1.2903975373506542},\n",
       "        'type': 'Average'},\n",
       "       'maximum': {'data': {'entries': 75.0, 'max': 5.948550224304199},\n",
       "        'type': 'Maximize'},\n",
       "       'nonzero': {'data': {'denominator': 75.0,\n",
       "         'entries': 75.0,\n",
       "         'numerator': 45.0,\n",
       "         'sub:type': 'Count'},\n",
       "        'type': 'Fraction'}},\n",
       "      'entries': 75.0},\n",
       "     {'data': {'average': {'data': {'entries': 27.0,\n",
       "         'mean': 0.5653901641015652},\n",
       "        'type': 'Average'},\n",
       "       'maximum': {'data': {'entries': 27.0, 'max': 2.790868043899536},\n",
       "        'type': 'Maximize'},\n",
       "       'nonzero': {'data': {'denominator': 27.0,\n",
       "         'entries': 27.0,\n",
       "         'numerator': 14.0,\n",
       "         'sub:type': 'Count'},\n",
       "        'type': 'Fraction'}},\n",
       "      'entries': 27.0},\n",
       "     {'data': {'average': {'data': {'entries': 18.0,\n",
       "         'mean': 0.9260577989949119},\n",
       "        'type': 'Average'},\n",
       "       'maximum': {'data': {'entries': 18.0, 'max': 2.4114537239074707},\n",
       "        'type': 'Maximize'},\n",
       "       'nonzero': {'data': {'denominator': 18.0,\n",
       "         'entries': 18.0,\n",
       "         'numerator': 12.0,\n",
       "         'sub:type': 'Count'},\n",
       "        'type': 'Fraction'}},\n",
       "      'entries': 18.0},\n",
       "     {'data': {'average': {'data': {'entries': 7.0,\n",
       "         'mean': 2.1699225306510925},\n",
       "        'type': 'Average'},\n",
       "       'maximum': {'data': {'entries': 7.0, 'max': 5.74025821685791},\n",
       "        'type': 'Maximize'},\n",
       "       'nonzero': {'data': {'denominator': 7.0,\n",
       "         'entries': 7.0,\n",
       "         'numerator': 6.0,\n",
       "         'sub:type': 'Count'},\n",
       "        'type': 'Fraction'}},\n",
       "      'entries': 7.0},\n",
       "     {'data': {'average': {'data': {'entries': 3.0,\n",
       "         'mean': 1.2474487622578938},\n",
       "        'type': 'Average'},\n",
       "       'maximum': {'data': {'entries': 3.0, 'max': 3.7423462867736816},\n",
       "        'type': 'Maximize'},\n",
       "       'nonzero': {'data': {'denominator': 3.0,\n",
       "         'entries': 3.0,\n",
       "         'numerator': 1.0,\n",
       "         'sub:type': 'Count'},\n",
       "        'type': 'Fraction'}},\n",
       "      'entries': 3.0},\n",
       "     {'data': {'average': {'data': {'entries': 6.0,\n",
       "         'mean': 2.3051682909329734},\n",
       "        'type': 'Average'},\n",
       "       'maximum': {'data': {'entries': 6.0, 'max': 8.447423934936523},\n",
       "        'type': 'Maximize'},\n",
       "       'nonzero': {'data': {'denominator': 6.0,\n",
       "         'entries': 6.0,\n",
       "         'numerator': 5.0,\n",
       "         'sub:type': 'Count'},\n",
       "        'type': 'Fraction'}},\n",
       "      'entries': 6.0},\n",
       "     {'data': {'average': {'data': {'entries': 3.0,\n",
       "         'mean': 0.2382325530052185},\n",
       "        'type': 'Average'},\n",
       "       'maximum': {'data': {'entries': 3.0, 'max': 0.7146976590156555},\n",
       "        'type': 'Maximize'},\n",
       "       'nonzero': {'data': {'denominator': 3.0,\n",
       "         'entries': 3.0,\n",
       "         'numerator': 1.0,\n",
       "         'sub:type': 'Count'},\n",
       "        'type': 'Fraction'}},\n",
       "      'entries': 3.0},\n",
       "     {'data': {'average': {'data': {'entries': 2.0,\n",
       "         'mean': 1.1641369760036469},\n",
       "        'type': 'Average'},\n",
       "       'maximum': {'data': {'entries': 2.0, 'max': 1.4011414051055908},\n",
       "        'type': 'Maximize'},\n",
       "       'nonzero': {'data': {'denominator': 2.0,\n",
       "         'entries': 2.0,\n",
       "         'numerator': 2.0,\n",
       "         'sub:type': 'Count'},\n",
       "        'type': 'Fraction'}},\n",
       "      'entries': 2.0},\n",
       "     {'data': {'average': {'data': {'entries': 2.0,\n",
       "         'mean': 1.7607672810554504},\n",
       "        'type': 'Average'},\n",
       "       'maximum': {'data': {'entries': 2.0, 'max': 2.102666139602661},\n",
       "        'type': 'Maximize'},\n",
       "       'nonzero': {'data': {'denominator': 2.0,\n",
       "         'entries': 2.0,\n",
       "         'numerator': 2.0,\n",
       "         'sub:type': 'Count'},\n",
       "        'type': 'Fraction'}},\n",
       "      'entries': 2.0},\n",
       "     {'data': {'average': {'data': {'entries': 1.0,\n",
       "         'mean': 1.5181269645690918},\n",
       "        'type': 'Average'},\n",
       "       'maximum': {'data': {'entries': 1.0, 'max': 1.5181269645690918},\n",
       "        'type': 'Maximize'},\n",
       "       'nonzero': {'data': {'denominator': 1.0,\n",
       "         'entries': 1.0,\n",
       "         'numerator': 1.0,\n",
       "         'sub:type': 'Count'},\n",
       "        'type': 'Fraction'}},\n",
       "      'entries': 1.0},\n",
       "     {'data': {'average': {'data': {'entries': 0.0, 'mean': 'nan'},\n",
       "        'type': 'Average'},\n",
       "       'maximum': {'data': {'entries': 0.0, 'max': 'nan'}, 'type': 'Maximize'},\n",
       "       'nonzero': {'data': {'denominator': 0.0,\n",
       "         'entries': 0.0,\n",
       "         'numerator': 0.0,\n",
       "         'sub:type': 'Count'},\n",
       "        'type': 'Fraction'}},\n",
       "      'entries': 0.0},\n",
       "     {'data': {'average': {'data': {'entries': 1.0, 'mean': 0.665328860282898},\n",
       "        'type': 'Average'},\n",
       "       'maximum': {'data': {'entries': 1.0, 'max': 0.665328860282898},\n",
       "        'type': 'Maximize'},\n",
       "       'nonzero': {'data': {'denominator': 1.0,\n",
       "         'entries': 1.0,\n",
       "         'numerator': 1.0,\n",
       "         'sub:type': 'Count'},\n",
       "        'type': 'Fraction'}},\n",
       "      'entries': 1.0}],\n",
       "    'values:type': 'UntypedLabel'},\n",
       "   '1': {'entries': 570.0,\n",
       "    'high': 100.0,\n",
       "    'low': 0.0,\n",
       "    'nanflow': 0.0,\n",
       "    'nanflow:type': 'Count',\n",
       "    'overflow': 3.0,\n",
       "    'overflow:type': 'Count',\n",
       "    'underflow': 0.0,\n",
       "    'underflow:type': 'Count',\n",
       "    'values': [{'data': {'average': {'data': {'entries': 0.0, 'mean': 'nan'},\n",
       "        'type': 'Average'},\n",
       "       'maximum': {'data': {'entries': 0.0, 'max': 'nan'}, 'type': 'Maximize'},\n",
       "       'nonzero': {'data': {'denominator': 0.0,\n",
       "         'entries': 0.0,\n",
       "         'numerator': 0.0,\n",
       "         'sub:type': 'Count'},\n",
       "        'type': 'Fraction'}},\n",
       "      'entries': 0.0},\n",
       "     {'data': {'average': {'data': {'entries': 0.0, 'mean': 'nan'},\n",
       "        'type': 'Average'},\n",
       "       'maximum': {'data': {'entries': 0.0, 'max': 'nan'}, 'type': 'Maximize'},\n",
       "       'nonzero': {'data': {'denominator': 0.0,\n",
       "         'entries': 0.0,\n",
       "         'numerator': 0.0,\n",
       "         'sub:type': 'Count'},\n",
       "        'type': 'Fraction'}},\n",
       "      'entries': 0.0},\n",
       "     {'data': {'average': {'data': {'entries': 4.0,\n",
       "         'mean': 0.47939007729291916},\n",
       "        'type': 'Average'},\n",
       "       'maximum': {'data': {'entries': 4.0, 'max': 1.5896015167236328},\n",
       "        'type': 'Maximize'},\n",
       "       'nonzero': {'data': {'denominator': 4.0,\n",
       "         'entries': 4.0,\n",
       "         'numerator': 2.0,\n",
       "         'sub:type': 'Count'},\n",
       "        'type': 'Fraction'}},\n",
       "      'entries': 4.0},\n",
       "     {'data': {'average': {'data': {'entries': 2.0,\n",
       "         'mean': 1.0834819674491882},\n",
       "        'type': 'Average'},\n",
       "       'maximum': {'data': {'entries': 2.0, 'max': 1.5713263750076294},\n",
       "        'type': 'Maximize'},\n",
       "       'nonzero': {'data': {'denominator': 2.0,\n",
       "         'entries': 2.0,\n",
       "         'numerator': 2.0,\n",
       "         'sub:type': 'Count'},\n",
       "        'type': 'Fraction'}},\n",
       "      'entries': 2.0},\n",
       "     {'data': {'average': {'data': {'entries': 31.0,\n",
       "         'mean': 0.8581808565124389},\n",
       "        'type': 'Average'},\n",
       "       'maximum': {'data': {'entries': 31.0, 'max': 3.10941219329834},\n",
       "        'type': 'Maximize'},\n",
       "       'nonzero': {'data': {'denominator': 31.0,\n",
       "         'entries': 31.0,\n",
       "         'numerator': 21.0,\n",
       "         'sub:type': 'Count'},\n",
       "        'type': 'Fraction'}},\n",
       "      'entries': 31.0},\n",
       "     {'data': {'average': {'data': {'entries': 113.0,\n",
       "         'mean': 1.014395238683287},\n",
       "        'type': 'Average'},\n",
       "       'maximum': {'data': {'entries': 113.0, 'max': 4.048116207122803},\n",
       "        'type': 'Maximize'},\n",
       "       'nonzero': {'data': {'denominator': 113.0,\n",
       "         'entries': 113.0,\n",
       "         'numerator': 81.0,\n",
       "         'sub:type': 'Count'},\n",
       "        'type': 'Fraction'}},\n",
       "      'entries': 113.0},\n",
       "     {'data': {'average': {'data': {'entries': 141.0,\n",
       "         'mean': 1.0847400779842482},\n",
       "        'type': 'Average'},\n",
       "       'maximum': {'data': {'entries': 141.0, 'max': 4.58071756362915},\n",
       "        'type': 'Maximize'},\n",
       "       'nonzero': {'data': {'denominator': 141.0,\n",
       "         'entries': 141.0,\n",
       "         'numerator': 103.0,\n",
       "         'sub:type': 'Count'},\n",
       "        'type': 'Fraction'}},\n",
       "      'entries': 141.0},\n",
       "     {'data': {'average': {'data': {'entries': 117.0,\n",
       "         'mean': 0.9991265218227335},\n",
       "        'type': 'Average'},\n",
       "       'maximum': {'data': {'entries': 117.0, 'max': 4.870840072631836},\n",
       "        'type': 'Maximize'},\n",
       "       'nonzero': {'data': {'denominator': 117.0,\n",
       "         'entries': 117.0,\n",
       "         'numerator': 80.0,\n",
       "         'sub:type': 'Count'},\n",
       "        'type': 'Fraction'}},\n",
       "      'entries': 117.0},\n",
       "     {'data': {'average': {'data': {'entries': 85.0,\n",
       "         'mean': 1.174998954815023},\n",
       "        'type': 'Average'},\n",
       "       'maximum': {'data': {'entries': 85.0, 'max': 5.717289924621582},\n",
       "        'type': 'Maximize'},\n",
       "       'nonzero': {'data': {'denominator': 85.0,\n",
       "         'entries': 85.0,\n",
       "         'numerator': 65.0,\n",
       "         'sub:type': 'Count'},\n",
       "        'type': 'Fraction'}},\n",
       "      'entries': 85.0},\n",
       "     {'data': {'average': {'data': {'entries': 35.0,\n",
       "         'mean': 1.1187172459704535},\n",
       "        'type': 'Average'},\n",
       "       'maximum': {'data': {'entries': 35.0, 'max': 3.4658801555633545},\n",
       "        'type': 'Maximize'},\n",
       "       'nonzero': {'data': {'denominator': 35.0,\n",
       "         'entries': 35.0,\n",
       "         'numerator': 29.0,\n",
       "         'sub:type': 'Count'},\n",
       "        'type': 'Fraction'}},\n",
       "      'entries': 35.0},\n",
       "     {'data': {'average': {'data': {'entries': 16.0,\n",
       "         'mean': 1.0207628067582846},\n",
       "        'type': 'Average'},\n",
       "       'maximum': {'data': {'entries': 16.0, 'max': 3.707448959350586},\n",
       "        'type': 'Maximize'},\n",
       "       'nonzero': {'data': {'denominator': 16.0,\n",
       "         'entries': 16.0,\n",
       "         'numerator': 10.0,\n",
       "         'sub:type': 'Count'},\n",
       "        'type': 'Fraction'}},\n",
       "      'entries': 16.0},\n",
       "     {'data': {'average': {'data': {'entries': 6.0, 'mean': 1.866438021262487},\n",
       "        'type': 'Average'},\n",
       "       'maximum': {'data': {'entries': 6.0, 'max': 5.043965816497803},\n",
       "        'type': 'Maximize'},\n",
       "       'nonzero': {'data': {'denominator': 6.0,\n",
       "         'entries': 6.0,\n",
       "         'numerator': 5.0,\n",
       "         'sub:type': 'Count'},\n",
       "        'type': 'Fraction'}},\n",
       "      'entries': 6.0},\n",
       "     {'data': {'average': {'data': {'entries': 5.0,\n",
       "         'mean': 0.4083993434906006},\n",
       "        'type': 'Average'},\n",
       "       'maximum': {'data': {'entries': 5.0, 'max': 1.3096346855163574},\n",
       "        'type': 'Maximize'},\n",
       "       'nonzero': {'data': {'denominator': 5.0,\n",
       "         'entries': 5.0,\n",
       "         'numerator': 3.0,\n",
       "         'sub:type': 'Count'},\n",
       "        'type': 'Fraction'}},\n",
       "      'entries': 5.0},\n",
       "     {'data': {'average': {'data': {'entries': 4.0,\n",
       "         'mean': 2.0759572982788086},\n",
       "        'type': 'Average'},\n",
       "       'maximum': {'data': {'entries': 4.0, 'max': 4.80058479309082},\n",
       "        'type': 'Maximize'},\n",
       "       'nonzero': {'data': {'denominator': 4.0,\n",
       "         'entries': 4.0,\n",
       "         'numerator': 4.0,\n",
       "         'sub:type': 'Count'},\n",
       "        'type': 'Fraction'}},\n",
       "      'entries': 4.0},\n",
       "     {'data': {'average': {'data': {'entries': 1.0,\n",
       "         'mean': 0.5073249340057373},\n",
       "        'type': 'Average'},\n",
       "       'maximum': {'data': {'entries': 1.0, 'max': 0.5073249340057373},\n",
       "        'type': 'Maximize'},\n",
       "       'nonzero': {'data': {'denominator': 1.0,\n",
       "         'entries': 1.0,\n",
       "         'numerator': 1.0,\n",
       "         'sub:type': 'Count'},\n",
       "        'type': 'Fraction'}},\n",
       "      'entries': 1.0},\n",
       "     {'data': {'average': {'data': {'entries': 3.0,\n",
       "         'mean': 1.4512977600097656},\n",
       "        'type': 'Average'},\n",
       "       'maximum': {'data': {'entries': 3.0, 'max': 2.4641592502593994},\n",
       "        'type': 'Maximize'},\n",
       "       'nonzero': {'data': {'denominator': 3.0,\n",
       "         'entries': 3.0,\n",
       "         'numerator': 2.0,\n",
       "         'sub:type': 'Count'},\n",
       "        'type': 'Fraction'}},\n",
       "      'entries': 3.0},\n",
       "     {'data': {'average': {'data': {'entries': 2.0,\n",
       "         'mean': 1.0894760489463806},\n",
       "        'type': 'Average'},\n",
       "       'maximum': {'data': {'entries': 2.0, 'max': 1.1501537561416626},\n",
       "        'type': 'Maximize'},\n",
       "       'nonzero': {'data': {'denominator': 2.0,\n",
       "         'entries': 2.0,\n",
       "         'numerator': 2.0,\n",
       "         'sub:type': 'Count'},\n",
       "        'type': 'Fraction'}},\n",
       "      'entries': 2.0},\n",
       "     {'data': {'average': {'data': {'entries': 2.0,\n",
       "         'mean': 0.34432387351989746},\n",
       "        'type': 'Average'},\n",
       "       'maximum': {'data': {'entries': 2.0, 'max': 0.6886477470397949},\n",
       "        'type': 'Maximize'},\n",
       "       'nonzero': {'data': {'denominator': 2.0,\n",
       "         'entries': 2.0,\n",
       "         'numerator': 1.0,\n",
       "         'sub:type': 'Count'},\n",
       "        'type': 'Fraction'}},\n",
       "      'entries': 2.0},\n",
       "     {'data': {'average': {'data': {'entries': 0.0, 'mean': 'nan'},\n",
       "        'type': 'Average'},\n",
       "       'maximum': {'data': {'entries': 0.0, 'max': 'nan'}, 'type': 'Maximize'},\n",
       "       'nonzero': {'data': {'denominator': 0.0,\n",
       "         'entries': 0.0,\n",
       "         'numerator': 0.0,\n",
       "         'sub:type': 'Count'},\n",
       "        'type': 'Fraction'}},\n",
       "      'entries': 0.0},\n",
       "     {'data': {'average': {'data': {'entries': 0.0, 'mean': 'nan'},\n",
       "        'type': 'Average'},\n",
       "       'maximum': {'data': {'entries': 0.0, 'max': 'nan'}, 'type': 'Maximize'},\n",
       "       'nonzero': {'data': {'denominator': 0.0,\n",
       "         'entries': 0.0,\n",
       "         'numerator': 0.0,\n",
       "         'sub:type': 'Count'},\n",
       "        'type': 'Fraction'}},\n",
       "      'entries': 0.0}],\n",
       "    'values:type': 'UntypedLabel'}},\n",
       "  'bins:type': 'Bin',\n",
       "  'entries': 1000.0,\n",
       "  'nanflow': 0.0,\n",
       "  'nanflow:type': 'Count',\n",
       "  'origin': 0.0},\n",
       " 'type': 'SparselyBin',\n",
       " 'version': '1.0'}"
      ]
     },
     "execution_count": 35,
     "metadata": {},
     "output_type": "execute_result"
    }
   ],
   "source": [
    "mu_iso_ranges_by_pt_and_q.toJson()"
   ]
  },
  {
   "cell_type": "markdown",
   "metadata": {},
   "source": [
    "There's a lot of information in there. The JSON representation is intended for transmitting the data over a network, but it's human readable and can help you get started finding the data that you want. You might even iterate over the JSON structure, rather than using the methods built into the Python objects that I'll show below. Up to you."
   ]
  },
  {
   "cell_type": "code",
   "execution_count": 36,
   "metadata": {
    "collapsed": false
   },
   "outputs": [
    {
     "data": {
      "text/plain": [
       "<SparselyBin binWidth=1 bins=Bin nanflow=Count>"
      ]
     },
     "execution_count": 36,
     "metadata": {},
     "output_type": "execute_result"
    }
   ],
   "source": [
    "# top level is a SparselyBin\n",
    "mu_iso_ranges_by_pt_and_q"
   ]
  },
  {
   "cell_type": "code",
   "execution_count": 37,
   "metadata": {
    "collapsed": false
   },
   "outputs": [
    {
     "data": {
      "text/plain": [
       "{-1: <Bin num=20 low=0.0 high=100.0 values=UntypedLabel underflow=Count overflow=Count nanflow=Count>,\n",
       " 1: <Bin num=20 low=0.0 high=100.0 values=UntypedLabel underflow=Count overflow=Count nanflow=Count>}"
      ]
     },
     "execution_count": 37,
     "metadata": {},
     "output_type": "execute_result"
    }
   ],
   "source": [
    "# it found two bins of charge, -1 and 1 (unsurprisingly, but I did it with a SparselyBin, rather than Bin,\n",
    "# because I didn't know if it would be 0 and 1 or something)\n",
    "mu_iso_ranges_by_pt_and_q.bins"
   ]
  },
  {
   "cell_type": "code",
   "execution_count": 38,
   "metadata": {
    "collapsed": false
   },
   "outputs": [
    {
     "data": {
      "text/plain": [
       "[<UntypedLabel size=3>,\n",
       " <UntypedLabel size=3>,\n",
       " <UntypedLabel size=3>,\n",
       " <UntypedLabel size=3>,\n",
       " <UntypedLabel size=3>,\n",
       " <UntypedLabel size=3>,\n",
       " <UntypedLabel size=3>,\n",
       " <UntypedLabel size=3>,\n",
       " <UntypedLabel size=3>,\n",
       " <UntypedLabel size=3>,\n",
       " <UntypedLabel size=3>,\n",
       " <UntypedLabel size=3>,\n",
       " <UntypedLabel size=3>,\n",
       " <UntypedLabel size=3>,\n",
       " <UntypedLabel size=3>,\n",
       " <UntypedLabel size=3>,\n",
       " <UntypedLabel size=3>,\n",
       " <UntypedLabel size=3>,\n",
       " <UntypedLabel size=3>,\n",
       " <UntypedLabel size=3>]"
      ]
     },
     "execution_count": 38,
     "metadata": {},
     "output_type": "execute_result"
    }
   ],
   "source": [
    "# the next level is a Bin (see above), and this has 20 values; each is an UntypedLabel (Bundle)\n",
    "mu_iso_ranges_by_pt_and_q.bins[-1].values"
   ]
  },
  {
   "cell_type": "code",
   "execution_count": 39,
   "metadata": {
    "collapsed": false
   },
   "outputs": [
    {
     "data": {
      "text/plain": [
       "{'average': <Average mean=1.21924765964>,\n",
       " 'maximum': <Maximize max=3.91194200516>,\n",
       " 'nonzero': <Fraction values=Count>}"
      ]
     },
     "execution_count": 39,
     "metadata": {},
     "output_type": "execute_result"
    }
   ],
   "source": [
    "# if you remember, we put three things into each of these Bundles\n",
    "mu_iso_ranges_by_pt_and_q.bins[-1].values[5].pairs"
   ]
  },
  {
   "cell_type": "code",
   "execution_count": 40,
   "metadata": {
    "collapsed": false
   },
   "outputs": [
    {
     "name": "stdout",
     "output_type": "stream",
     "text": [
      "<Count 57.0>\n",
      "<Count 75.0>\n"
     ]
    }
   ],
   "source": [
    "# the Average and Maximize show you the values in their printable representation; for Fraction we have to dig\n",
    "print mu_iso_ranges_by_pt_and_q.bins[-1].values[5].get(\"nonzero\").numerator\n",
    "print mu_iso_ranges_by_pt_and_q.bins[-1].values[5].get(\"nonzero\").denominator"
   ]
  },
  {
   "cell_type": "code",
   "execution_count": 41,
   "metadata": {
    "collapsed": false
   },
   "outputs": [
    {
     "name": "stdout",
     "output_type": "stream",
     "text": [
      "Charge 1:\n",
      "    pT 0.0-5.0: nonzero 0.0/0.0 = nan average nan maximum nan\n",
      "    pT 5.0-10.0: nonzero 0.0/0.0 = nan average nan maximum nan\n",
      "    pT 10.0-15.0: nonzero 2.0/4.0 = 0.5 average 0.479390077293 maximum 1.58960151672\n",
      "    pT 15.0-20.0: nonzero 2.0/2.0 = 1.0 average 1.08348196745 maximum 1.57132637501\n",
      "    pT 20.0-25.0: nonzero 21.0/31.0 = 0.677419354839 average 0.858180856512 maximum 3.1094121933\n",
      "    pT 25.0-30.0: nonzero 81.0/113.0 = 0.716814159292 average 1.01439523868 maximum 4.04811620712\n",
      "    pT 30.0-35.0: nonzero 103.0/141.0 = 0.730496453901 average 1.08474007798 maximum 4.58071756363\n",
      "    pT 35.0-40.0: nonzero 80.0/117.0 = 0.683760683761 average 0.999126521823 maximum 4.87084007263\n",
      "    pT 40.0-45.0: nonzero 65.0/85.0 = 0.764705882353 average 1.17499895482 maximum 5.71728992462\n",
      "    pT 45.0-50.0: nonzero 29.0/35.0 = 0.828571428571 average 1.11871724597 maximum 3.46588015556\n",
      "    pT 50.0-55.0: nonzero 10.0/16.0 = 0.625 average 1.02076280676 maximum 3.70744895935\n",
      "    pT 55.0-60.0: nonzero 5.0/6.0 = 0.833333333333 average 1.86643802126 maximum 5.0439658165\n",
      "    pT 60.0-65.0: nonzero 3.0/5.0 = 0.6 average 0.408399343491 maximum 1.30963468552\n",
      "    pT 65.0-70.0: nonzero 4.0/4.0 = 1.0 average 2.07595729828 maximum 4.80058479309\n",
      "    pT 70.0-75.0: nonzero 1.0/1.0 = 1.0 average 0.507324934006 maximum 0.507324934006\n",
      "    pT 75.0-80.0: nonzero 2.0/3.0 = 0.666666666667 average 1.45129776001 maximum 2.46415925026\n",
      "    pT 80.0-85.0: nonzero 2.0/2.0 = 1.0 average 1.08947604895 maximum 1.15015375614\n",
      "    pT 85.0-90.0: nonzero 1.0/2.0 = 0.5 average 0.34432387352 maximum 0.68864774704\n",
      "    pT 90.0-95.0: nonzero 0.0/0.0 = nan average nan maximum nan\n",
      "    pT 95.0-100.0: nonzero 0.0/0.0 = nan average nan maximum nan\n",
      "Charge -1:\n",
      "    pT 0.0-5.0: nonzero 0.0/0.0 = nan average nan maximum nan\n",
      "    pT 5.0-10.0: nonzero 0.0/0.0 = nan average nan maximum nan\n",
      "    pT 10.0-15.0: nonzero 3.0/3.0 = 1.0 average 1.06338520845 maximum 1.45863366127\n",
      "    pT 15.0-20.0: nonzero 3.0/3.0 = 1.0 average 1.88483385245 maximum 2.33810710907\n",
      "    pT 20.0-25.0: nonzero 13.0/20.0 = 0.65 average 0.951917544007 maximum 3.14915943146\n",
      "    pT 25.0-30.0: nonzero 57.0/75.0 = 0.76 average 1.21924765964 maximum 3.91194200516\n",
      "    pT 30.0-35.0: nonzero 55.0/83.0 = 0.66265060241 average 0.901712136276 maximum 4.28386688232\n",
      "    pT 35.0-40.0: nonzero 67.0/96.0 = 0.697916666667 average 1.19764834689 maximum 4.72637891769\n",
      "    pT 40.0-45.0: nonzero 45.0/75.0 = 0.6 average 1.29039753735 maximum 5.9485502243\n",
      "    pT 45.0-50.0: nonzero 14.0/27.0 = 0.518518518519 average 0.565390164102 maximum 2.7908680439\n",
      "    pT 50.0-55.0: nonzero 12.0/18.0 = 0.666666666667 average 0.926057798995 maximum 2.41145372391\n",
      "    pT 55.0-60.0: nonzero 6.0/7.0 = 0.857142857143 average 2.16992253065 maximum 5.74025821686\n",
      "    pT 60.0-65.0: nonzero 1.0/3.0 = 0.333333333333 average 1.24744876226 maximum 3.74234628677\n",
      "    pT 65.0-70.0: nonzero 5.0/6.0 = 0.833333333333 average 2.30516829093 maximum 8.44742393494\n",
      "    pT 70.0-75.0: nonzero 1.0/3.0 = 0.333333333333 average 0.238232553005 maximum 0.714697659016\n",
      "    pT 75.0-80.0: nonzero 2.0/2.0 = 1.0 average 1.164136976 maximum 1.40114140511\n",
      "    pT 80.0-85.0: nonzero 2.0/2.0 = 1.0 average 1.76076728106 maximum 2.1026661396\n",
      "    pT 85.0-90.0: nonzero 1.0/1.0 = 1.0 average 1.51812696457 maximum 1.51812696457\n",
      "    pT 90.0-95.0: nonzero 0.0/0.0 = nan average nan maximum nan\n",
      "    pT 95.0-100.0: nonzero 1.0/1.0 = 1.0 average 0.665328860283 maximum 0.665328860283\n"
     ]
    }
   ],
   "source": [
    "# okay, so now iterating over pt and q...\n",
    "for q, pts in mu_iso_ranges_by_pt_and_q.bins.items():\n",
    "    print \"Charge {0}:\".format(q)\n",
    "    for index, bundle in enumerate(pts.values):\n",
    "        print \"    pT {0}-{1}:\".format(*pts.range(index)),\n",
    "        numer = bundle.get(\"nonzero\").numerator.entries\n",
    "        denom = bundle.get(\"nonzero\").denominator.entries\n",
    "        print \"nonzero {0}/{1} = {2} average {3} maximum {4}\".format(\n",
    "            numer, denom, numer / denom if denom != 0 else \"nan\",\n",
    "            bundle.get(\"average\").mean, bundle.get(\"maximum\").max)"
   ]
  },
  {
   "cell_type": "markdown",
   "metadata": {},
   "source": [
    "You can use this information however you like. Notice that building the aggregator and applying it to a data stream was easy. If anything was hard, it was figuring out how to dig through it and find what we've collected.\n",
    "\n",
    "That's where you use \"`dir`\" on the Python command line. It's just a matter of tinkering."
   ]
  },
  {
   "cell_type": "markdown",
   "metadata": {},
   "source": [
    "# Composability\n",
    "\n",
    "Now here comes the best part: all of these aggregators share a mathematical property— they are perfectly composable. For instance, you can get averages from two different data runs and combine them to get the average of the whole dataset (not an average of averages).\n",
    "\n",
    "For instance,"
   ]
  },
  {
   "cell_type": "code",
   "execution_count": 52,
   "metadata": {
    "collapsed": false
   },
   "outputs": [
    {
     "name": "stdout",
     "output_type": "stream",
     "text": [
      "<Average mean=1.05491231084> <Average mean=0.880300368369>\n"
     ]
    }
   ],
   "source": [
    "# these datasets don't overlap: the 20 muons in data2 come AFTER the 10 muons in data1\n",
    "data1 = events.flatmap(lambda ev: ev.muons).take(10)\n",
    "data2 = events.flatmap(lambda ev: ev.muons).take(20)\n",
    "\n",
    "average1 = data1.Average(lambda muon: muon.iso)\n",
    "average2 = data2.Average(lambda muon: muon.iso)\n",
    "\n",
    "print average1, average2"
   ]
  },
  {
   "cell_type": "code",
   "execution_count": 53,
   "metadata": {
    "collapsed": false
   },
   "outputs": [
    {
     "name": "stdout",
     "output_type": "stream",
     "text": [
      "The combined average is 0.938504349192\n",
      "Which is not the same as the average of averages 0.967606339604\n",
      "It is, however, the same as the weighted average of averages 0.938504349192\n"
     ]
    }
   ],
   "source": [
    "print \"The combined average is\", (average1 + average2).mean\n",
    "\n",
    "print \"Which is not the same as the average of averages\", (average1.mean + average2.mean) / 2.0\n",
    "\n",
    "print \"It is, however, the same as the weighted average of averages\", \\\n",
    "    (average1.mean * average1.entries + average2.mean * average2.entries) / (average1.entries + average2.entries)"
   ]
  },
  {
   "cell_type": "code",
   "execution_count": 54,
   "metadata": {
    "collapsed": false
   },
   "outputs": [
    {
     "name": "stdout",
     "output_type": "stream",
     "text": [
      "You can also see this by running all the data through one aggregator:\n",
      "<Average mean=0.938504349192>\n"
     ]
    }
   ],
   "source": [
    "print \"You can also see this by running all the data through one aggregator:\"\n",
    "print (data1 + data2).Average(lambda muon: muon.iso)"
   ]
  },
  {
   "cell_type": "markdown",
   "metadata": {},
   "source": [
    "(Check all the digits on the above examples; it can be a small difference.)\n",
    "\n",
    "You can do this on more complex aggregators, such as histograms, so that the \"+\" operator becomes Histogrammar's equivalent of ROOT's `hadd`. Just to make a point, I'm going to do the ridiculously complex aggregator again over two datasets and then combine them with \"+\"."
   ]
  },
  {
   "cell_type": "code",
   "execution_count": 55,
   "metadata": {
    "collapsed": false
   },
   "outputs": [
    {
     "data": {
      "text/plain": [
       "True"
      ]
     },
     "execution_count": 55,
     "metadata": {},
     "output_type": "execute_result"
    }
   ],
   "source": [
    "one_thousandmuons = events.flatmap(lambda ev: ev.muons).take(1000)\n",
    "another_thousandmuons = events.flatmap(lambda ev: ev.muons).take(1000)\n",
    "\n",
    "def complex_aggregator(data):\n",
    "    return data. \\\n",
    "    SparselyBin(1, lambda muon: muon.q,                                              # in bins of charge\n",
    "                Bin(20, 0, 100, lambda muon: muon.pt,                                # in bins of pT\n",
    "                    Bundle(nonzero = Fraction(lambda muon: muon.iso > 0, Count()),   # how many isos are nonzero?\n",
    "                           average = Average(lambda muon: muon.iso),                 # what's the average?\n",
    "                           maximum = Maximize(lambda muon: muon.iso))))              # what's the maximum?\n",
    "\n",
    "one_aggregation = complex_aggregator(one_thousandmuons)\n",
    "another_aggregation = complex_aggregator(another_thousandmuons)\n",
    "combined_aggregation = complex_aggregator(one_thousandmuons + another_thousandmuons)\n",
    "\n",
    "import histogrammar.util\n",
    "histogrammar.util.relativeTolerance = 1e-12   # allow for some round-off error\n",
    "histogrammar.util.absoluteTolerance = 1e-12\n",
    "\n",
    "one_aggregation + another_aggregation == combined_aggregation"
   ]
  },
  {
   "cell_type": "markdown",
   "metadata": {},
   "source": [
    "This innocent-looking \"+\" sign recursively navigated that complex structure and combined all the partial aggregations in a statistically correct way for non-overlapping datasets.\n",
    "\n",
    "The suite of aggregators have been specially designed so that the combine operation is always exact (modulo floating point round-off error). Your aggregation can therefore be split up into arbitrarily many pieces, aggregated in parallel on remote machines, and recombined when pulling them back. \n",
    "\n",
    "![parallelization](parallelization.png)\n",
    "\n",
    "This is the mode of operation Histogrammar was designed for, and you'll be using it that way more and more as tools like Apache Spark become more common."
   ]
  },
  {
   "cell_type": "code",
   "execution_count": null,
   "metadata": {
    "collapsed": true
   },
   "outputs": [],
   "source": []
  }
 ],
 "metadata": {
  "kernelspec": {
   "display_name": "Python 2",
   "language": "python",
   "name": "python2"
  },
  "language_info": {
   "codemirror_mode": {
    "name": "ipython",
    "version": 2
   },
   "file_extension": ".py",
   "mimetype": "text/x-python",
   "name": "python",
   "nbconvert_exporter": "python",
   "pygments_lexer": "ipython2",
   "version": "2.7.6"
  }
 },
 "nbformat": 4,
 "nbformat_minor": 1
}
