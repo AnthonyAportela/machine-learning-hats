{
 "cells": [
  {
   "cell_type": "markdown",
   "metadata": {},
   "source": [
    "# Scientific Python Ecosystem\n",
    "\n",
    "In the past 5 years or so, Python has become a popular way to do science. The language had always been regarded as slow, and therefore unfit for large-scale numerical work, but extensions written in C++ soften that issue.\n",
    "\n",
    "The key component underlying this ecosystem is the Numpy array, which defines a standard way to work with raw numerical arrays. SciPy (scientific algorithms), Matplotlib (plotting), Pandas (dataframe-style interaction), and Scikit-Learn (machine learning) are all built on top of this format. Numpy is as pervasive in the scientific Python ecosystem as ROOT is in HEP.\n",
    "\n",
    "Here are a few Google Trends plots showing the rise of scientific Python:\n",
    "\n",
    "**\"Python\" has always been popular but \"Python for science\" is new.**\n",
    "\n",
    "<img src=\"searchterm-python.png\" style=\"width: 453px; display: inline-block;\"><img src=\"searchterm-python-for-science.png\" style=\"width: 453px; margin-left: 10px; display: inline-block;\">\n",
    "\n",
    "**\"Data science\" is new but \"Python for data science\" has grown more quickly.**\n",
    "\n",
    "<img src=\"searchterm-data-science.png\" style=\"width: 453px; display: inline-block;\"><img src=\"searchterm-python-for-data-science.png\" style=\"width: 453px; margin-left: 10px; display: inline-block;\">\n",
    "\n",
    "**\"Machine learning\" is new but \"Python for machine learning\" has grown more quickly.**\n",
    "\n",
    "<img src=\"searchterm-machine-learning.png\" style=\"width: 453px; display: inline-block;\"><img src=\"searchterm-python-for-machine-learning.png\" style=\"width: 453px; margin-left: 10px; display: inline-block;\">\n",
    "\n",
    "**R, a language designed specifically for data analysis, is facing stiff competition from Python.**\n",
    "\n",
    "Try Googling \"Python versus R.\" I got 8 million hits."
   ]
  },
  {
   "cell_type": "markdown",
   "metadata": {
    "collapsed": true
   },
   "source": [
    "# How to access these packages\n",
    "\n",
    "Scientific Python packages are not a part of the standard Python library— not even plotting. I don't recommend installing them manually or even using your OS distribution's package manager (such as yum or apt-get). Use one of these specialized package managers.\n",
    "\n",
    "   * **pip:** Usually, you would install Python packages with pip, and many of these packages are installable that way. However, pip only tracks Python dependencies, and most of these packages depend on non-Python libraries.\n",
    "   \n",
    "   \n",
    "   \n",
    "   * **conda:** The `conda` package manager was invented for this problem: it tracks dependencies from any language (a conda package need not be Python: [ROOT is a conda package](https://nlesc.gitbooks.io/cern-root-conda-recipes/content/index.html)), and it keeps track of hardware architecture so that compilations will succeed. The [Anaconda distribution](https://www.continuum.io/downloads) could be used as an unambiguous definition of what is \"scientific Python\" and what is not. [Miniconda](https://conda.io/miniconda.html) is a way to conda-install things without the whole ecosystem.\n",
    "   \n",
    "   (\"Continuum Analytics,\" a name that pops up a lot on Anaconda/Miniconda, is a company built up around Numpy, founded by Numpy's developer. The nonprofit organization associated with this stuff is called [PyData](https://pydata.org/).)\n",
    "   \n",
    "   \n",
    "   \n",
    "   * **CMSSW:** Surprisingly, CMSSW already contains many of these. Since you're CMS members, this might be the easiest way to get access to these packages. I'm only going to show packages from within CMSSW because that way, we don't have to install anything to get started.\n",
    "\n",
    "\n",
    "# Python packages in CMSSW\n",
    "\n",
    "This is a list of Python packages bundled with CMSSW as of 2017-03-21 (thanks, David Lange!). I've roughly grouped them by category.\n",
    "\n",
    "### Directly relevant for data analysis\n",
    "\n",
    "   * [cycler](https://pypi.python.org/pypi/cycler): Composable style cycles (Matplotlib)\n",
    "   * [dablooms](https://github.com/bitly/dablooms): scaling, counting, bloom filter library\n",
    "   * [deepdish](https://pypi.python.org/pypi/deepdish): Deep Learning experiments from University of Chicago.\n",
    "   * [Keras](https://pypi.python.org/pypi/Keras): Deep Learning for Python\n",
    "   * [Matplotlib](https://pypi.python.org/pypi/Matplotlib): Python plotting package\n",
    "   * [mpmath](https://pypi.python.org/pypi/mpmath): Python library for arbitrary-precision floating-point arithmetic\n",
    "   * [networkx](https://pypi.python.org/pypi/networkx): Python package for creating and manipulating graphs and networks\n",
    "   * [numexpr](https://pypi.python.org/pypi/numexpr): Fast numerical expression evaluator for NumPy\n",
    "   * [Numpy](https://pypi.python.org/pypi/Numpy): NumPy: array processing for numbers, strings, records, and objects.\n",
    "   * [Pandas](https://pypi.python.org/pypi/Pandas): Powerful data structures for data analysis, time series,and statistics\n",
    "   * [root_numpy](https://pypi.python.org/pypi/root_numpy): The interface between ROOT and NumPy\n",
    "   * [rootpy](https://pypi.python.org/pypi/rootpy): A pythonic layer on top of the ROOT framework's PyROOT bindings.\n",
    "   * [Scikit-Learn](https://pypi.python.org/pypi/Scikit-Learn): A set of python modules for machine learning and data mining\n",
    "   * [SciPy](https://pypi.python.org/pypi/SciPy): SciPy: Scientific Library for Python\n",
    "   * [SymPy](https://pypi.python.org/pypi/SymPy): Computer algebra system (CAS) in Python\n",
    "   * [TensorFlow](https://pypi.python.org/pypi/TensorFlow) (not working yet and will be only slc7+): TensorFlow helps the tensors flow\n",
    "   * [Theano](https://pypi.python.org/pypi/Theano): Optimizing compiler for evaluating mathematical expressions on CPUs and GPUs.\n",
    "\n",
    "### Data formats, database access, and utilities\n",
    "\n",
    "   * [dxr-cmd](https://pypi.python.org/pypi/dxr-cmd): Command-line tool for querying DXR.\n",
    "   * [h5py](https://pypi.python.org/pypi/h5py): Read and write HDF5 files from Python\n",
    "   * [pickleshare](https://pypi.python.org/pypi/pickleshare): Tiny 'shelve'-like database with concurrency support\n",
    "   * [prettytable](https://pypi.python.org/pypi/prettytable): A simple Python library for easily displaying tabular data in a visually appealing ASCII table format.\n",
    "   * [protobuf](https://pypi.python.org/pypi/protobuf): Protocol Buffers\n",
    "   * [psutil](https://pypi.python.org/pypi/psutil): psutil is a cross-platform library for retrieving information onrunning processes and system utilization (CPU, memory, disks, network)in Python.\n",
    "   * [pycurl](https://pypi.python.org/pypi/pycurl): PycURL -- A Python Interface To The cURL library\n",
    "   * [pygithub](https://pypi.python.org/pypi/pygithub): Use the full Github API v3\n",
    "   * [pysqlite](https://pypi.python.org/pypi/pysqlite): DB-API 2.0 interface for SQLite 3.x\n",
    "   * [sqlalchemy](https://pypi.python.org/pypi/sqlalchemy): Database Abstraction Library\n",
    "   * [tables](https://pypi.python.org/pypi/tables): Hierarchical datasets for Python\n",
    "\n",
    "### Parsers of data and configuration files\n",
    "\n",
    "   * [argparse](https://pypi.python.org/pypi/argparse): Python command-line parsing library\n",
    "   * [configparser](https://pypi.python.org/pypi/configparser): This library brings the updated configparser from Python 3.5 to Python 2.6-3.5.\n",
    "   * [docopt](https://pypi.python.org/pypi/docopt): Pythonic argument parser, that will make you smile\n",
    "   * [mistune](https://pypi.python.org/pypi/mistune): The fastest markdown parser in pure Python\n",
    "   * [parsimonious](https://pypi.python.org/pypi/parsimonious): (Soon to be) the fastest pure-Python PEG parser I could muster\n",
    "   * [pyparsing](https://pypi.python.org/pypi/pyparsing): Python parsing module\n",
    "   * [python-cjson](https://pypi.python.org/pypi/python-cjson): Fast JSON encoder/decoder for Python\n",
    "   * [PyYAML](https://pypi.python.org/pypi/PyYAML): YAML parser and emitter for Python\n",
    "\n",
    "### Tools for building scripts\n",
    "\n",
    "   * [appdirs](https://pypi.python.org/pypi/appdirs): A small Python module for determining appropriate platform-specific dirs, e.g. a \"user data dir\".\n",
    "   * [backports.shutil_get_terminal_size](https://pypi.python.org/pypi/backports.shutil_get_terminal_size): A backport of the get_terminal_size function from Python 3.3's shutil.\n",
    "   * [pathlib2](https://pypi.python.org/pypi/pathlib2): Object-oriented filesystem paths\n",
    "   * [pexpect](https://pypi.python.org/pypi/pexpect): Pexpect allows easy control of interactive console applications.\n",
    "   * [prompt_toolkit](https://pypi.python.org/pypi/prompt_toolkit): Library for building powerful interactive command lines in Python\n",
    "   * [ptyprocess](https://pypi.python.org/pypi/ptyprocess): Run a subprocess in a pseudo terminal\n",
    "   * [pytz](https://pypi.python.org/pypi/pytz): World timezone definitions, modern and historical\n",
    "   * [wcwidth](https://pypi.python.org/pypi/wcwidth): Measures number of Terminal column cells of wide-character codes\n",
    "\n",
    "### Tools for working with Jupyter\n",
    "\n",
    "   * [ipykernel](https://pypi.python.org/pypi/ipykernel): IPython Kernel for Jupyter\n",
    "   * [ipython_genutils](https://pypi.python.org/pypi/ipython_genutils): Vestigial utilities from IPython\n",
    "   * [ipython](https://pypi.python.org/pypi/ipython): IPython: Productive Interactive Computing\n",
    "   * [ipywidgets](https://pypi.python.org/pypi/ipywidgets): IPython HTML widgets for Jupyter\n",
    "   * [jupyter_client](https://pypi.python.org/pypi/jupyter_client): Jupyter protocol implementation and client libraries\n",
    "   * [jupyter_console](https://pypi.python.org/pypi/jupyter_console): Jupyter terminal console\n",
    "   * [jupyter_core](https://pypi.python.org/pypi/jupyter_core): Jupyter core package. A base package on which Jupyter projects rely.\n",
    "   * [jupyter](https://pypi.python.org/pypi/jupyter): Jupyter metapackage. Install all the Jupyter components in one go.\n",
    "   * [nbconvert](https://pypi.python.org/pypi/nbconvert): Converting Jupyter Notebooks\n",
    "   * [nbformat](https://pypi.python.org/pypi/nbformat): The Jupyter Notebook format\n",
    "   * [notebook](https://pypi.python.org/pypi/notebook): A web-based notebook environment for interactive computing\n",
    "   * [qtconsole](https://pypi.python.org/pypi/qtconsole): Jupyter Qt console\n",
    "   * [widgetsnbextension](https://pypi.python.org/pypi/widgetsnbextension): IPython HTML widgets for Jupyter\n",
    "\n",
    "### HTML tools for making websites\n",
    "\n",
    "   * [bleach](https://pypi.python.org/pypi/bleach): An easy safelist-based HTML-sanitizing tool.\n",
    "   * [certifi](https://pypi.python.org/pypi/certifi): Python package for providing Mozilla's CA Bundle.\n",
    "   * [html5lib](https://pypi.python.org/pypi/html5lib): HTML parser based on the WHATWG HTML specifcation\n",
    "   * [Jinja2](https://pypi.python.org/pypi/Jinja2): A small but fast and easy to use stand-alone template engine written in pure python.\n",
    "   * [Jinja](https://pypi.python.org/pypi/Jinja): A small but fast and easy to use stand-alone template engine written in pure python.\n",
    "   * [jsonschema](https://pypi.python.org/pypi/jsonschema): An implementation of JSON Schema validation for Python\n",
    "   * [lint](https://pypi.python.org/pypi/lint): Python script to automatically lint new reviews to gerrit. Designed to be run from within Jenkins via the Gerrit Trigger plugin\n",
    "   * [MarkupSafe](https://pypi.python.org/pypi/MarkupSafe): Implements a XML/HTML/XHTML Markup safe string for Python\n",
    "   * [pandocfilters](https://pypi.python.org/pypi/pandocfilters): Utilities for writing pandoc filters in python\n",
    "   * [Pygments](https://pypi.python.org/pypi/Pygments): Pygments is a syntax highlighting package written in Python.\n",
    "   * [pyzmq](https://pypi.python.org/pypi/pyzmq): Python bindings for 0MQ\n",
    "   * [requests](https://pypi.python.org/pypi/requests): Python HTTP for Humans.\n",
    "   * [schema](https://pypi.python.org/pypi/schema): Simple data validation library\n",
    "   * [terminado](https://pypi.python.org/pypi/terminado): Terminals served to term.js using Tornado websockets\n",
    "   * [tornado](https://pypi.python.org/pypi/tornado): Tornado is a Python web framework and asynchronous networking library, originally developed at FriendFeed.\n",
    "   * [webencodings](https://pypi.python.org/pypi/webencodings): Character encoding aliases for legacy web content\n",
    "\n",
    "### Python language enhancements\n",
    "\n",
    "   * [backports_abc](https://pypi.python.org/pypi/backports_abc): A backport of recent additions to the 'collections.abc' module.\n",
    "   * [backports.ssl-match-hostname](https://pypi.python.org/pypi/backports.ssl-match-hostname): The ssl.match_hostname() function from Python 3.5\n",
    "   * [decorator](https://pypi.python.org/pypi/decorator): Better living through Python with decorators\n",
    "   * [enum34](https://pypi.python.org/pypi/enum34): Python 3.4 Enum backported to 3.3, 3.2, 3.1, 2.7, 2.6, 2.5, and 2.4\n",
    "   * [functools32](https://pypi.python.org/pypi/functools32): Fast tools for functional programming\n",
    "   * [futures](https://pypi.python.org/pypi/futures): Backport of the concurrent.futures package from Python 3.2\n",
    "   * [ordereddict](https://pypi.python.org/pypi/ordereddict): A drop-in substitute for Py2.7's new collections.OrderedDict that works in Python 2.4-2.6.\n",
    "   * [repoze.lru](https://pypi.python.org/pypi/repoze.lru): A tiny LRU cache implementation and decorator\n",
    "   * [scandir](https://pypi.python.org/pypi/scandir): scandir, a better directory iterator and faster os.walk()\n",
    "   * [simplegeneric](https://pypi.python.org/pypi/simplegeneric): Simple generic functions (similar to Python's own len(), pickle.dump(), etc.)\n",
    "   * [singledispatch](https://pypi.python.org/pypi/singledispatch): This library brings functools.singledispatch from Python 3.4 to Python 2.6-3.3.\n",
    "   * [six](https://pypi.python.org/pypi/six): Python 2 and 3 compatibility utilities\n",
    "\n",
    "### Python package and project managment tools\n",
    "\n",
    "   * [entrypoints](https://pypi.python.org/pypi/entrypoints): Discover and load entry points from installed packages.\n",
    "   * [mock](https://pypi.python.org/pypi/mock): Rolling backport of unittest.mock for all Pythons\n",
    "   * [packaging](https://pypi.python.org/pypi/packaging): Core utilities for Python packages\n",
    "   * [pbr](https://pypi.python.org/pypi/pbr): Python Build Reasonableness\n",
    "   * [python](https://pypi.python.org/pypi/python): A high-level object-oriented programming language\n",
    "   * [setuptools](https://pypi.python.org/pypi/setuptools): Easily download, build, install, upgrade, and uninstall Python packages\n",
    "   * [testpath](https://pypi.python.org/pypi/testpath): Test utilities for code working with files and commands\n",
    "   * [traitlets](https://pypi.python.org/pypi/traitlets): Traitlets Python config system"
   ]
  },
  {
   "cell_type": "markdown",
   "metadata": {},
   "source": [
    "# Whirlwind tour of Scientific Python packages\n",
    "\n",
    "The purpose of this tutorial is to\n",
    "\n",
    "   * introduce you _to the existence_ of many packages; maybe one of them will be useful to you,\n",
    "   * show you a \"hello world\" in each, to provide enough familiarity that you'll be able to follow up and do something useful.\n",
    "   \n",
    "Some of the first few are more fully covered than the later ones, only because I think they're more likely to be useful in your work."
   ]
  },
  {
   "cell_type": "markdown",
   "metadata": {},
   "source": [
    "# [Numpy](https://pypi.python.org/pypi/Numpy)\n",
    "\n",
    "**NumPy: array processing for numbers, strings, records, and objects.**\n",
    "\n",
    "\n"
   ]
  },
  {
   "cell_type": "markdown",
   "metadata": {},
   "source": [
    "# [root_numpy](https://pypi.python.org/pypi/root_numpy)\n",
    "\n",
    "**The interface between ROOT and NumPy**\n",
    "\n",
    "\n"
   ]
  },
  {
   "cell_type": "markdown",
   "metadata": {},
   "source": [
    "# [numexpr](https://pypi.python.org/pypi/numexpr)\n",
    "\n",
    "**Fast numerical expression evaluator for NumPy**\n",
    "\n",
    "\n",
    "\n"
   ]
  },
  {
   "cell_type": "markdown",
   "metadata": {},
   "source": [
    "# [Pandas](https://pypi.python.org/pypi/Pandas)\n",
    "\n",
    "**Powerful data structures for data analysis, time series,and statistics**\n",
    "\n",
    "\n"
   ]
  },
  {
   "cell_type": "markdown",
   "metadata": {},
   "source": [
    "# [Matplotlib](https://pypi.python.org/pypi/Matplotlib)\n",
    "\n",
    "**Python plotting package**\n",
    "\n",
    "\n"
   ]
  },
  {
   "cell_type": "markdown",
   "metadata": {},
   "source": [
    "# [SciPy](https://pypi.python.org/pypi/SciPy)\n",
    "\n",
    "**SciPy: Scientific Library for Python**\n",
    "\n",
    "\n"
   ]
  },
  {
   "cell_type": "markdown",
   "metadata": {},
   "source": [
    "# [SymPy](https://pypi.python.org/pypi/SymPy)\n",
    "\n",
    "**Computer algebra system (CAS) in Python**\n",
    "\n",
    "\n",
    "\n"
   ]
  },
  {
   "cell_type": "markdown",
   "metadata": {},
   "source": [
    "# [Scikit-Learn](https://pypi.python.org/pypi/Scikit-Learn)\n",
    "\n",
    "**A set of python modules for machine learning and data mining**\n",
    "\n",
    "\n",
    "\n"
   ]
  },
  {
   "cell_type": "markdown",
   "metadata": {},
   "source": [
    "# [Keras](https://pypi.python.org/pypi/Keras)\n",
    "\n",
    "**Deep Learning for Python**\n",
    "\n",
    "\n"
   ]
  },
  {
   "cell_type": "markdown",
   "metadata": {},
   "source": [
    "# [Theano](https://pypi.python.org/pypi/Theano)\n",
    "\n",
    "**Optimizing compiler for evaluating mathematical expressions on CPUs and GPUs.**\n",
    "\n",
    "\n",
    "\n"
   ]
  }
 ],
 "metadata": {
  "kernelspec": {
   "display_name": "Python 2",
   "language": "python",
   "name": "python2"
  },
  "language_info": {
   "codemirror_mode": {
    "name": "ipython",
    "version": 2
   },
   "file_extension": ".py",
   "mimetype": "text/x-python",
   "name": "python",
   "nbconvert_exporter": "python",
   "pygments_lexer": "ipython2",
   "version": "2.7.11"
  }
 },
 "nbformat": 4,
 "nbformat_minor": 1
}
